{
 "cells": [
  {
   "cell_type": "code",
   "execution_count": null,
   "id": "8f0d19e0-f11b-42d8-91e2-a04941384866",
   "metadata": {},
   "outputs": [],
   "source": [
    "mask_female = (df_small.sex=='F')\n",
    "mask_male = (df_small.sex=='M')\n",
    "percentiles = np.percentile(data_posterior_normal.posterior_predictive.mortality,\\\n",
    "               [2.5,97.5],axis=[0,1])\n",
    "\n",
    "plt.style.use('seaborn-dark-palette')\n",
    "NUM_COLORS = 24\n",
    "\n",
    "cm = plt.get_cmap('tab20b') \n",
    "cNorm  = colors.Normalize(vmin=0, vmax=NUM_COLORS-1)\n",
    "scalarMap = mplcm.ScalarMappable(norm=cNorm, cmap=cm)\n",
    "mpl.rcParams['axes.prop_cycle'] = mpl.cycler(color=([scalarMap.to_rgba(i)\\\n",
    "                                for i in range(NUM_COLORS)]))\n",
    "fig, (ax1, ax2) = plt.subplots(1, 2, sharey=True, sharex=True,figsize=(13,5))\n",
    "\n",
    "for country in df_small.country.unique():\n",
    "    mask = (df_small.country == country)\n",
    "    ax1.vlines(gdp[mask_female&mask],percentiles[0,:][mask_female&mask],percentiles[1,:]\\\n",
    "           [mask_female&mask], color = next(ax1._get_lines.prop_cycler)['color'],alpha=0.3)\n",
    "    ax1.scatter(gdp[mask&(df_small.sex=='F')], log_mortality[mask&(df_small.sex=='F')],\\\n",
    "           label = country)\n",
    "    ax2.vlines(gdp[mask_male&mask],percentiles[0,:][mask_male&mask],percentiles[1,:]\\\n",
    "           [mask_male&mask], color = next(ax2._get_lines.prop_cycler)['color'],alpha=0.3)\n",
    "    ax2.scatter(gdp[mask&(df_small.sex=='M')], log_mortality[mask&(df_small.sex=='M')],\\\n",
    "           label = country)\n",
    "    \n",
    "ax1.set_xlabel('Log GDP per capita (standardized)')\n",
    "ax2.set_xlabel('Log GDP per capita (standardized)')\n",
    "ax1.set_ylabel('Log treatable mortality (standardized)')\n",
    "ax1.set_title('Female')\n",
    "ax2.set_title('Male')\n",
    "plt.tight_layout()\n",
    "plt.legend(bbox_to_anchor=(1.05, 1), loc='upper left', borderaxespad=0.);\n",
    "\n"
   ]
  }
 ],
 "metadata": {
  "kernelspec": {
   "display_name": "Python 3 (ipykernel)",
   "language": "python",
   "name": "python3"
  },
  "language_info": {
   "codemirror_mode": {
    "name": "ipython",
    "version": 3
   },
   "file_extension": ".py",
   "mimetype": "text/x-python",
   "name": "python",
   "nbconvert_exporter": "python",
   "pygments_lexer": "ipython3",
   "version": "3.9.7"
  }
 },
 "nbformat": 4,
 "nbformat_minor": 5
}
