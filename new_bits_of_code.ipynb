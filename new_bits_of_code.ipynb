{
 "cells": [
  {
   "cell_type": "markdown",
   "id": "0223014d-8f37-4657-a882-aa1b64c5429f",
   "metadata": {},
   "source": [
    "# Final Assignment\n",
    "\n",
    "[link to website](https://janboone.github.io/msc_datascience/#org68bd10a)\n",
    "\n",
    "- fill in the google form after you submitted the assignment on github: link on website\n",
    "\n",
    "\n",
    "+ show us what you have learned during this course; hence use a *number* of topics we discussed in your final assignment, for example:\n",
    "  + simulate data to verify the estimation techniques that you use\n",
    "  + download your data in the notebook using a python API\n",
    "  + use pandas to merge different datasets, clean your data, create new variables\n",
    "  + explain clearly what the causal relations are in your analysis\n",
    "  + use methods like: ridge and lasso regressions, neural network, Bayesian analysis\n",
    "    + explain why you use these methods to answer your research question (what are pros and cons of the methods)\n",
    "    + explain the choices that you make within a method (think of the number of layers and epochs in a neural network)\n",
    "    + use more than one method and compare the results:\n",
    "      + discuss what is different and why\n",
    "  + simply downloading an existing dataset and estimating a neural network on this will not be enough to get a passing grade\n"
   ]
  },
  {
   "cell_type": "markdown",
   "id": "48a87e96-371a-451f-99ea-926788946ddd",
   "metadata": {},
   "source": [
    "# interactive graph"
   ]
  },
  {
   "cell_type": "code",
   "execution_count": null,
   "id": "c00b3083-05d2-4ddf-98f2-47db91165cda",
   "metadata": {},
   "outputs": [],
   "source": [
    "df = pd.read_csv('./data/health_data.csv')\n",
    "df.rename({'year_x':'year'},inplace=True,axis=1)\n",
    "\n",
    "select_year = alt.selection_single(\n",
    "    name='Select', fields=['year'], init={'year': 2011},\n",
    "    bind=alt.binding_range(min=2011, max=2017, step=1)\n",
    ")\n",
    "\n",
    "df['log gdp'] = np.log(df['GDP per capita'])\n",
    "df['log mortality'] = np.log(df['Treatable mortality'])\n",
    "df['Gender'] = df['sex'].replace({'F':'Female','M':'Male'})\n",
    "\n",
    "figure = alt.Chart(df).mark_point(filled=True,size=50).encode(\n",
    "    alt.X('log gdp',title='GDP per captita(in logs)',scale=alt.Scale(domain=[9,12])),\n",
    "    alt.Y('log mortality',title='Treatable mortality (in logs)',scale=alt.Scale(domain=[4,6])),\n",
    "    color='country',\n",
    "    column='Gender',\n",
    "    tooltip=['country']\n",
    ").configure_axis(\n",
    "    grid=False\n",
    ").configure_view(\n",
    "    strokeWidth=0\n",
    ").add_selection(select_year).transform_filter(select_year).interactive()\n",
    "\n",
    "\n",
    "\n",
    "figure.save('./figures/gdp_mortality.html')\n"
   ]
  },
  {
   "cell_type": "code",
   "execution_count": null,
   "id": "18995e3f-9eec-404e-8e99-fe14fe7e7b7c",
   "metadata": {},
   "outputs": [],
   "source": []
  }
 ],
 "metadata": {
  "kernelspec": {
   "display_name": "Python 3 (ipykernel)",
   "language": "python",
   "name": "python3"
  },
  "language_info": {
   "codemirror_mode": {
    "name": "ipython",
    "version": 3
   },
   "file_extension": ".py",
   "mimetype": "text/x-python",
   "name": "python",
   "nbconvert_exporter": "python",
   "pygments_lexer": "ipython3",
   "version": "3.9.7"
  }
 },
 "nbformat": 4,
 "nbformat_minor": 5
}
