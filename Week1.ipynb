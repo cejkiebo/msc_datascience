{
 "cells": [
  {
   "cell_type": "markdown",
   "id": "24053449-f6aa-407c-b308-ec8c01a50934",
   "metadata": {},
   "source": [
    "# Week 1\n",
    "\n",
    "- website: https://janboone.github.io/msc_datascience/index.html\n",
    "- github issues: https://github.com/janboone/msc_datascience/issues\n",
    "- website screencasts: https://janboone.github.io/msc_datascience/pagescreencasts.html\n",
    "- first lecture: https://janboone.github.io/msc_datascience/img/Introduction_Lecture.html#introduction\n",
    "- assignment 1\n",
    "  - github account\n",
    "  - jupyterlab: clone repository with notebook\n",
    "  - final assignment\n",
    "- suggested workflow:\n",
    "  - do the datacamp course in the schedule\n",
    "  - do the relevant parts of the notebook =Statistical Hacking for Economists=\n",
    "  - post questions that you have on github issues; we will address these in the lectures\n"
   ]
  },
  {
   "cell_type": "markdown",
   "id": "07534eb2-e038-47fc-a9f2-530922d26a42",
   "metadata": {},
   "source": [
    "## packages we will use"
   ]
  },
  {
   "cell_type": "code",
   "execution_count": 5,
   "id": "37a3e263-a5e2-425d-a7bb-1e9b2b5ce343",
   "metadata": {},
   "outputs": [],
   "source": [
    "from __future__ import absolute_import, division, print_function, unicode_literals\n",
    "\n",
    "import numpy as np\n",
    "import pandas as pd\n",
    "import seaborn as sn\n",
    "from scipy import optimize\n",
    "import pymc3 as pm\n",
    "import statsmodels.api as sm # check the error that cannot import name 'factorial' in from scipy.misc import factorial\n",
    "import statsmodels.formula.api as smf\n",
    "import matplotlib.pyplot as plt\n",
    "import tensorflow as tf\n",
    "import altair as alt\n",
    "# from linearmodels.iv import IV2SLS\n",
    "from tensorflow.keras import datasets, layers, models\n",
    "from tensorflow import keras\n",
    "import arviz as az\n",
    "\n",
    "import theano\n",
    "import covid19pandas as cod\n",
    "from country_codes import eurostat_dictionary\n",
    "import eurostat\n",
    "from warnings import filterwarnings\n",
    "filterwarnings('ignore')\n",
    "from sklearn import datasets\n",
    "from sklearn.preprocessing import scale\n",
    "from sklearn.model_selection import train_test_split\n",
    "from sklearn.datasets import make_moons\n"
   ]
  },
  {
   "cell_type": "code",
   "execution_count": null,
   "id": "a7458ec1-9094-4361-b89a-47b9501ee13b",
   "metadata": {},
   "outputs": [],
   "source": []
  }
 ],
 "metadata": {
  "kernelspec": {
   "display_name": "Python 3 (ipykernel)",
   "language": "python",
   "name": "python3"
  },
  "language_info": {
   "codemirror_mode": {
    "name": "ipython",
    "version": 3
   },
   "file_extension": ".py",
   "mimetype": "text/x-python",
   "name": "python",
   "nbconvert_exporter": "python",
   "pygments_lexer": "ipython3",
   "version": "3.10.13"
  }
 },
 "nbformat": 4,
 "nbformat_minor": 5
}
