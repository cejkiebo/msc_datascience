{
 "cells": [
  {
   "cell_type": "markdown",
   "metadata": {
    "colab_type": "text",
    "id": "view-in-github"
   },
   "source": [
    "<a href=\"https://colab.research.google.com/github/janboone/datascience_course/blob/master/Statistical_Hacking.ipynb\" target=\"_parent\"><img src=\"https://colab.research.google.com/assets/colab-badge.svg\" alt=\"Open In Colab\"/></a>"
   ]
  },
  {
   "cell_type": "markdown",
   "metadata": {
    "colab_type": "text",
    "id": "9VDI4r3BYfGH"
   },
   "source": [
    "# Why statistical hacking?\n",
    "\n",
    "In order to get started on the \"big data\" part of this course, it is important that you have a good intuition about a number of statistical results that you have seen before in your statistics and econometrics courses. We go over these concepts by simulating our own data. This serves two goals:\n",
    "\n",
    "* you fully understand where the data comes from (you generated it yourself)\n",
    "* we train your programming skills in generating the data.\n",
    "\n",
    "Being able to generate your data using python simulations is a first step in understanding how to deal with \"real\" data. \n",
    "\n",
    "Based on [this lecture](https://www.youtube.com/watch?v=Iq9DzN6mvYA) and [this one.](https://www.youtube.com/watch?v=VR52vSbHBAk)\n",
    "\n",
    "If you like, there is also [free book](https://greenteapress.com/wp/think-stats-2e/) on this topic using python.\n",
    "\n",
    "We are going to discuss the following topics. First, as you probably know, estimated parameters have a distribution. To illustrate, you may recall that some statistics have a t-distribution. When you move into machine learning, the models get so complicated that there are no analytical results on the distributions of estimated coefficients. So how do you get a sense of uncertainty in that case? You simulate the distribution. Below we show this with examples where you actually know (or should know) what the relevant distributions are.\n",
    "\n",
    "Sometimes you only have a sample and no knowledge about the underlying model. Then you cannot simulate the distribution. But you can use the sample to learn something about the uncertainty underlying your parameters. This is called bootstrapping.\n",
    "\n",
    "In Economics we are not only interested in predicting variables (like economic growth or stock prices) but we also want to influence them through policy interventions. For this we need to know causal links between variables; not just correlations. Although many people have the intuition that it is better to control for more variables in  a regression, this intuition is actually not correct. By controlling for some variables, you actually mess up your interpretation of an effect in a regression.\n",
    "\n",
    "Finally, with \"big data\" it is very tempting to use a lot of variables in your models. You have got all these variables in your \"big data set\" so why not use them? This brings us to the concepts of over- and underfitting."
   ]
  },
  {
   "cell_type": "markdown",
   "metadata": {},
   "source": [
    "## Datacamp courses:\n",
    "\n",
    "https://www.datacamp.com/courses/statistical-simulation-in-python\n",
    "\n",
    "(https://www.datacamp.com/courses/deep-learning-with-keras-in-python)\n",
    "\n",
    "https://www.datacamp.com/courses/introduction-to-tensorflow-in-python\n",
    "\n"
   ]
  },
  {
   "cell_type": "markdown",
   "metadata": {
    "colab_type": "text",
    "id": "9VDI4r3BYfGH"
   },
   "source": [
    "# Loading packages\n",
    "\n",
    "To generate the data, we are going to use [tensorflow](https://www.tensorflow.org/). If you are running this in colab, install `tensorflow` and `linearmodels` by un-commenting the next cell.\n",
    "\n",
    "Run the other cell to import all the packages that we need."
   ]
  },
  {
   "cell_type": "code",
   "execution_count": 1,
   "metadata": {
    "colab": {
     "base_uri": "https://localhost:8080/",
     "height": 853
    },
    "colab_type": "code",
    "executionInfo": {
     "elapsed": 44376,
     "status": "ok",
     "timestamp": 1558779208617,
     "user": {
      "displayName": "Jan Boone",
      "photoUrl": "",
      "userId": "01680203205582182827"
     },
     "user_tz": -120
    },
    "id": "mx-GwyO5avzp",
    "outputId": "2291d5d8-d323-41b1-926b-132c8c511cec"
   },
   "outputs": [],
   "source": [
    "#!pip install tensorflow==2.0.0-alpha0\n",
    "#!pip install linearmodels"
   ]
  },
  {
   "cell_type": "code",
   "execution_count": 63,
   "metadata": {
    "colab": {},
    "colab_type": "code",
    "id": "jEGgjmMeX6U3"
   },
   "outputs": [],
   "source": [
    "from __future__ import absolute_import, division, print_function, unicode_literals\n",
    "\n",
    "import numpy as np\n",
    "import pandas as pd\n",
    "from scipy import optimize\n",
    "import statsmodels.api as sm # check the error that cannot import name 'factorial' in from scipy.misc import factorial\n",
    "import statsmodels.formula.api as smf\n",
    "import matplotlib.pyplot as plt\n",
    "import tensorflow as tf\n",
    "import altair as alt\n",
    "from linearmodels.iv import IV2SLS\n",
    "from tensorflow.keras import datasets, layers, models\n",
    "from tensorflow import keras\n",
    "\n",
    "#alt.renderers.enable('notebook')"
   ]
  },
  {
   "cell_type": "markdown",
   "metadata": {
    "colab_type": "text",
    "id": "rQO97pjfeQOK"
   },
   "source": [
    "# Distributions of an estimator\n",
    "\n",
    "Let's start simple and consider a uniform distribution on $[0,1]$. We take a sample of size `sample_size` and calculate the mean $m$ of this sample. This variable $m$ is a sample statistic. We want to understand the properties of this sample statistic.\n",
    "\n",
    "In most courses that you have done, you will have used statistical theory here. E.g. what is the distribution of $m$?\n",
    "\n",
    "For simple models, like calculating the mean of a sample or doing an OLS regression, there is theory that describes what the distributions are of the mean or an estimated slope parameter. However, with big data techniques, you are going to use models where such theoretical results do not exist. So how do you figure out then what is happening?\n",
    "\n",
    "This is where the hacking comes in. The simple idea is: we program the statistical problem and then run it \"lots of times\", say 10,000 times. This gives us a distribution.\n",
    "\n",
    "## distribution of a sample average and sample standard deviation\n",
    "\n",
    "For the example of $m$, we do this in the next code cell.\n",
    "\n",
    "We draw `N_simulations` times a sample of `sample_size` and put this in a matrix (tensor) of size `N_simulations` by `sample_size`. Then we take the mean within a sample. Put differently, we take the mean over the second dimension (\"columns\") of the matrix. As python starts counting from 0, this means we take the mean over `axis=1`."
   ]
  },
  {
   "cell_type": "code",
   "execution_count": 5,
   "metadata": {
    "colab": {},
    "colab_type": "code",
    "collapsed": true,
    "id": "6palYMJded3Z"
   },
   "outputs": [],
   "source": [
    "N_simulations = 10000\n",
    "sample_size = 10\n",
    "simulated_data = np.mean(tf.random.uniform([N_simulations,sample_size],0,1),axis=1)"
   ]
  },
  {
   "cell_type": "markdown",
   "metadata": {
    "colab_type": "text",
    "id": "bHe1np30bARr"
   },
   "source": [
    "The code above calculated `N_simulations` averages (of samples of size `sample_size`). \n",
    "\n",
    "**Question** Plot a histogram of `simulated_data` using `matplotlib`.\n",
    "\n",
    "**Question** When considering this distribution, which \"theorem\" is at work here?\n",
    "\n",
    "**Exercise** Play around with `sample_size` to see what the effect is of different values for this variable.\n",
    "\n",
    "**Exercise** Calculate the standard deviation of $m$; how does this depend on `sample_size`? Can you plot the standard deviation of $m$ against sample size? Which functional form is this?"
   ]
  },
  {
   "cell_type": "code",
   "execution_count": 20,
   "metadata": {
    "colab": {
     "base_uri": "https://localhost:8080/",
     "height": 376
    },
    "colab_type": "code",
    "executionInfo": {
     "elapsed": 1275,
     "status": "ok",
     "timestamp": 1556181123319,
     "user": {
      "displayName": "Jan Boone",
      "photoUrl": "",
      "userId": "01680203205582182827"
     },
     "user_tz": -120
    },
    "id": "oFLg0pyRf-rt",
    "nbgrader": {
     "grade": true,
     "grade_id": "cell-c35a8216d1291f17",
     "locked": false,
     "points": 1,
     "schema_version": 1,
     "solution": true
    },
    "outputId": "7173ccdc-8f1c-415b-b61d-b0bbe1d68dea"
   },
   "outputs": [
    {
     "data": {
      "image/png": "[encoded data removed]",
      "text/plain": [
       "<Figure size 432x288 with 1 Axes>"
      ]
     },
     "metadata": {
      "needs_background": "light"
     },
     "output_type": "display_data"
    }
   ],
   "source": [
    "plt.hist(simulated_data,density=True)\n",
    "plt.title('Distribution of sample average $m$')\n",
    "plt.show()"
   ]
  },
  {
   "cell_type": "markdown",
   "metadata": {
    "nbgrader": {
     "grade": true,
     "grade_id": "cell-2288157c46091176",
     "locked": false,
     "points": 1,
     "schema_version": 1,
     "solution": true
    }
   },
   "source": [
    "This is the central limit theorem: sum (average) of uniformly distributed variable tends to a normal distribution.\n",
    "\n",
    "As the next graph shows, the functional form is $\\sigma/\\sqrt{n}$.\n",
    "\n",
    "We draw from a uniform distribution on [0,1] which has variance 1/12 [according to wikipedia](https://en.wikipedia.org/wiki/Uniform_distribution_(continuous)) and hence standard deviation $1/\\sqrt{12}$.\n",
    "\n"
   ]
  },
  {
   "cell_type": "code",
   "execution_count": 16,
   "metadata": {
    "nbgrader": {
     "grade": true,
     "grade_id": "cell-dcce96dcaeb0093f",
     "locked": false,
     "points": 1,
     "schema_version": 1,
     "solution": true
    }
   },
   "outputs": [
    {
     "data": {
      "image/png": "[encoded data removed]",
      "text/plain": [
       "<Figure size 432x288 with 1 Axes>"
      ]
     },
     "metadata": {
      "needs_background": "light"
     },
     "output_type": "display_data"
    }
   ],
   "source": [
    "vector_std = []\n",
    "for sample_size in np.arange(10,210,10):\n",
    "    simulated_data = np.mean(tf.random.uniform([N_simulations,sample_size],0,1),axis=1)\n",
    "    vector_std.append(np.std(simulated_data))\n",
    "\n",
    "plt.scatter(np.arange(10,210,10), vector_std,label='from data')\n",
    "plt.plot(np.arange(10,210,10),[1/np.sqrt(12*x) for x in np.arange(10,210,10)],c='r',label='$\\sigma/\\sqrt{n}$')\n",
    "plt.legend()\n",
    "plt.xlabel('sample size')\n",
    "plt.ylabel('$\\sigma_m$')\n",
    "plt.show()"
   ]
  },
  {
   "cell_type": "markdown",
   "metadata": {},
   "source": [
    "Above we considered the distribution of the sample mean $m$. But any parameter has a distribution; e.g. also the standard deviation of the sample $s$ has a distribution. Note that the standard deviation of the sample $s$ is **not** the same as the standard error $\\sigma/\\sqrt{n}$ which is the standard deviation of $m$'s distribution. Do not worry if you find the last sentence confusing in the beginning...\n",
    "\n",
    "**Question** Plot the distribution of $s$. What is the probability that $s<0.28$?"
   ]
  },
  {
   "cell_type": "code",
   "execution_count": 31,
   "metadata": {
    "nbgrader": {
     "grade": true,
     "grade_id": "cell-bbd11ce0c350942c",
     "locked": false,
     "points": 1,
     "schema_version": 1,
     "solution": true
    }
   },
   "outputs": [
    {
     "data": {
      "image/png": "[encoded data removed]",
      "text/plain": [
       "<Figure size 432x288 with 1 Axes>"
      ]
     },
     "metadata": {
      "needs_background": "light"
     },
     "output_type": "display_data"
    },
    {
     "name": "stdout",
     "output_type": "stream",
     "text": [
      "prob. that s < 0.28 equals: 0.1946\n"
     ]
    }
   ],
   "source": [
    "simulated_std = np.std(tf.random.uniform([N_simulations,sample_size],0,1),axis=1)\n",
    "plt.hist(simulated_std,density=True)\n",
    "plt.title('Distribution of sample standard deviation $s$')\n",
    "plt.show()\n",
    "print('prob. that s < 0.28 equals: {0}'.format(np.sum(simulated_std<0.28)/len(simulated_std)))"
   ]
  },
  {
   "cell_type": "markdown",
   "metadata": {
    "colab_type": "text",
    "id": "B1yOkLQ-ojtC"
   },
   "source": [
    "## distribution of a slope\n",
    "\n",
    "If we run a simple OLS (ordinary least squares) linear regression, we find the constant and the slope of this line. These parameters have also distributions! We can plot these distributions as well.\n",
    "\n",
    "We first generate the data with which we want to estimate a regression line.\n",
    "\n",
    "**Question** Explain the code below."
   ]
  },
  {
   "cell_type": "code",
   "execution_count": 2,
   "metadata": {
    "colab": {},
    "colab_type": "code",
    "collapsed": true,
    "id": "Dbanu7HXcD9q"
   },
   "outputs": [],
   "source": [
    "N_simulations = 10000\n",
    "sample_size = 20\n",
    "slope = 0.5\n",
    "constant = 1.0\n",
    "noise = 0.1\n",
    "simulated_x = tf.random.normal([N_simulations,sample_size])\n",
    "simulated_y = constant + slope * simulated_x + noise*tf.random.normal([N_simulations,sample_size])"
   ]
  },
  {
   "cell_type": "markdown",
   "metadata": {},
   "source": [
    "We create a vector `constants` and a vector `slopes`. For each of our simulations we add the resulting constant and slope to their resp. vectors.\n",
    "\n",
    "Note that the method `.numpy()` turns the tensorflow tensors into numpy arrays which are easier to work with."
   ]
  },
  {
   "cell_type": "code",
   "execution_count": 3,
   "metadata": {
    "colab": {},
    "colab_type": "code",
    "collapsed": true,
    "id": "wmNG9Mw8fwWT"
   },
   "outputs": [],
   "source": [
    "constants = []\n",
    "slopes = []\n",
    "\n",
    "for i in range(N_simulations):\n",
    "    model = sm.OLS(simulated_y[i,:].numpy(), sm.add_constant(simulated_x[i,:].numpy()))\n",
    "    results = model.fit().params\n",
    "    constants.append(results[0])\n",
    "    slopes.append(results[1])"
   ]
  },
  {
   "cell_type": "markdown",
   "metadata": {
    "colab_type": "text",
    "id": "NbuZpg9Z1MMp"
   },
   "source": [
    "**Question** Plot the distribution of slopes and the distribution of constants."
   ]
  },
  {
   "cell_type": "code",
   "execution_count": 4,
   "metadata": {
    "colab": {
     "base_uri": "https://localhost:8080/",
     "height": 269
    },
    "colab_type": "code",
    "executionInfo": {
     "elapsed": 6835,
     "status": "ok",
     "timestamp": 1556181140121,
     "user": {
      "displayName": "Jan Boone",
      "photoUrl": "",
      "userId": "01680203205582182827"
     },
     "user_tz": -120
    },
    "id": "GYgc5gxZgAmx",
    "nbgrader": {
     "grade": true,
     "grade_id": "cell-32124b40f04fcbbb",
     "locked": false,
     "points": 1,
     "schema_version": 1,
     "solution": true
    },
    "outputId": "9f74c1ad-2b14-473e-b842-d434c69aae57"
   },
   "outputs": [
    {
     "data": {
      "image/png": "[encoded data removed]",
      "text/plain": [
       "<Figure size 432x288 with 1 Axes>"
      ]
     },
     "metadata": {
      "needs_background": "light"
     },
     "output_type": "display_data"
    }
   ],
   "source": [
    "plt.hist(slopes,bins=20,density=True)\n",
    "plt.title('Distribution of slopes')\n",
    "plt.show()"
   ]
  },
  {
   "cell_type": "code",
   "execution_count": 5,
   "metadata": {
    "colab": {
     "base_uri": "https://localhost:8080/",
     "height": 269
    },
    "colab_type": "code",
    "executionInfo": {
     "elapsed": 724,
     "status": "ok",
     "timestamp": 1556181152549,
     "user": {
      "displayName": "Jan Boone",
      "photoUrl": "",
      "userId": "01680203205582182827"
     },
     "user_tz": -120
    },
    "id": "vrCBf-h5hX9D",
    "nbgrader": {
     "grade": true,
     "grade_id": "cell-a15ff0e5de2ccdec",
     "locked": false,
     "points": 1,
     "schema_version": 1,
     "solution": true
    },
    "outputId": "fe6ec456-0d47-40e7-d5c1-6e096afdc288"
   },
   "outputs": [
    {
     "data": {
      "image/png": "[encoded data removed]",
      "text/plain": [
       "<Figure size 432x288 with 1 Axes>"
      ]
     },
     "metadata": {
      "needs_background": "light"
     },
     "output_type": "display_data"
    }
   ],
   "source": [
    "plt.hist(constants,bins=20,density=True)\n",
    "plt.title('Distribution of constants')\n",
    "plt.show()"
   ]
  },
  {
   "cell_type": "markdown",
   "metadata": {
    "colab_type": "text",
    "id": "TXZHvqN71Y1k"
   },
   "source": [
    "Instead of plotting the slopes and constants separately, we can plot the lines that are induced by these distributions of the constant and the slope.\n",
    "\n",
    "**Quenstion** Plot in $(x,y)$ space, the distribution of lines that follow from these distributions of slopes and constants.\n",
    "\n",
    "**Question** For which values of $x$ is the uncertainty about $y$ the biggest?"
   ]
  },
  {
   "cell_type": "code",
   "execution_count": 6,
   "metadata": {
    "colab": {
     "base_uri": "https://localhost:8080/",
     "height": 283
    },
    "colab_type": "code",
    "executionInfo": {
     "elapsed": 4074,
     "status": "ok",
     "timestamp": 1556181164969,
     "user": {
      "displayName": "Jan Boone",
      "photoUrl": "",
      "userId": "01680203205582182827"
     },
     "user_tz": -120
    },
    "id": "roQh2rG0ihye",
    "nbgrader": {
     "grade": true,
     "grade_id": "cell-b9682c658983df70",
     "locked": false,
     "points": 1,
     "schema_version": 1,
     "solution": true
    },
    "outputId": "6731be15-f494-4423-f7b6-8781c530a827"
   },
   "outputs": [
    {
     "data": {
      "image/png": "[encoded data removed]",
      "text/plain": [
       "<Figure size 432x288 with 1 Axes>"
      ]
     },
     "metadata": {
      "needs_background": "light"
     },
     "output_type": "display_data"
    }
   ],
   "source": [
    "for i in range(1000):\n",
    "  plt.plot([-2,2],[constants[i]+slopes[i]*(-2),constants[i]+slopes[i]*(2)])\n",
    "  \n",
    "plt.xlabel('$x$')\n",
    "plt.ylabel('$y$')\n",
    "plt.show()"
   ]
  },
  {
   "cell_type": "markdown",
   "metadata": {
    "colab_type": "text",
    "id": "wWAjo1Clo1Hi"
   },
   "source": [
    "# Bootstrapping\n",
    "\n",
    "Sometimes we do not know what the underlying model is that generated the data. We only have the sample that we observed.  How do we proceed in this case if we want to test properties of the data? Here we can use bootstrapping.\n",
    "\n",
    "\n",
    "\n",
    "Suppose that we have two populations (e.g. men vs women; or in the test of a new drug: patients that got the treatment and patients that received the placebo). Denote these two samples by $A$ and $B$. \n",
    "\n"
   ]
  },
  {
   "cell_type": "code",
   "execution_count": 7,
   "metadata": {
    "colab": {
     "base_uri": "https://localhost:8080/",
     "height": 287
    },
    "colab_type": "code",
    "executionInfo": {
     "elapsed": 683,
     "status": "ok",
     "timestamp": 1556181181292,
     "user": {
      "displayName": "Jan Boone",
      "photoUrl": "",
      "userId": "01680203205582182827"
     },
     "user_tz": -120
    },
    "id": "L5dfK9IXsRb7",
    "outputId": "c91dba2c-ab20-4b93-e9c2-b026c009f2eb"
   },
   "outputs": [
    {
     "data": {
      "text/plain": [
       "<matplotlib.legend.Legend at 0x1c3a21fda0>"
      ]
     },
     "execution_count": 7,
     "metadata": {},
     "output_type": "execute_result"
    },
    {
     "data": {
      "image/png": "[encoded data removed]",
      "text/plain": [
       "<Figure size 432x288 with 1 Axes>"
      ]
     },
     "metadata": {
      "needs_background": "light"
     },
     "output_type": "display_data"
    }
   ],
   "source": [
    "sample_size = 50\n",
    "delta = 0.95\n",
    "A = 10+tf.random.normal([sample_size])\n",
    "B = A*delta\n",
    "plt.hist(A,label='sample A')\n",
    "plt.hist(B,alpha=0.3,label='sample B')\n",
    "plt.legend()"
   ]
  },
  {
   "cell_type": "markdown",
   "metadata": {
    "colab_type": "text",
    "id": "rrA6njSSteju"
   },
   "source": [
    "**Question** Show that the average of $A$ is higher than the average of $B$.\n"
   ]
  },
  {
   "cell_type": "code",
   "execution_count": 8,
   "metadata": {
    "colab": {
     "base_uri": "https://localhost:8080/",
     "height": 35
    },
    "colab_type": "code",
    "executionInfo": {
     "elapsed": 430,
     "status": "ok",
     "timestamp": 1556181184976,
     "user": {
      "displayName": "Jan Boone",
      "photoUrl": "",
      "userId": "01680203205582182827"
     },
     "user_tz": -120
    },
    "id": "K9B8sNaltB1D",
    "nbgrader": {
     "grade": true,
     "grade_id": "cell-d72270b078e90ff6",
     "locked": false,
     "points": 1,
     "schema_version": 1,
     "solution": true
    },
    "outputId": "cac9ed0b-b430-4b9e-f16c-d0945a137086"
   },
   "outputs": [
    {
     "name": "stdout",
     "output_type": "stream",
     "text": [
      "0.4978161\n"
     ]
    }
   ],
   "source": [
    "observed_difference = np.mean(A)-np.mean(B)\n",
    "print(observed_difference)"
   ]
  },
  {
   "cell_type": "markdown",
   "metadata": {
    "colab_type": "text",
    "id": "BJKjGsGit0x_"
   },
   "source": [
    "But is this difference in means a significant effect (forget for a second that you saw the code generating the data)?\n",
    "\n",
    "In your statistics class you have seen a [t-test](https://en.wikipedia.org/wiki/Student%27s_t-test) to figure out whether this difference is significant or not. But we are going to use simulations to establish this.\n",
    "\n",
    "The null hypothesis that we want to test is: samples $A$ and $B$ are drawn from the same distribution.\n",
    "\n",
    "If this is true, than we can simply combine the $A$ and $B$ observations, reshuffle them and calculate the difference. We do this 10,000 times and get a distribution of the difference."
   ]
  },
  {
   "cell_type": "code",
   "execution_count": 9,
   "metadata": {
    "colab": {},
    "colab_type": "code",
    "collapsed": true,
    "id": "h27aRxCOwPYu"
   },
   "outputs": [],
   "source": [
    "AB = tf.concat([A,B],axis=0).numpy()"
   ]
  },
  {
   "cell_type": "markdown",
   "metadata": {},
   "source": [
    "**Question** Draw samples of 50 $A$ and 50 $B$ observations out of $AB$. Calculate the difference of the means for these two samples. Then repeat this 10000 times.\n",
    "\n",
    "[hint: start by creating an empty list `differences`, this list will be filled with 10000 elements]"
   ]
  },
  {
   "cell_type": "code",
   "execution_count": 10,
   "metadata": {
    "colab": {},
    "colab_type": "code",
    "collapsed": true,
    "id": "4MBw5Li8w13q",
    "nbgrader": {
     "grade": true,
     "grade_id": "cell-59e539b1b17574d3",
     "locked": false,
     "points": 1,
     "schema_version": 1,
     "solution": true
    }
   },
   "outputs": [],
   "source": [
    "differences = []\n",
    "\n",
    "for i in range(10000):\n",
    "    np.random.shuffle(AB)\n",
    "    differences.append(np.mean(AB[:sample_size])-np.mean(AB[sample_size:]))\n",
    "                             \n",
    "                      "
   ]
  },
  {
   "cell_type": "markdown",
   "metadata": {},
   "source": [
    "**Question** Plot the histogram of the differences."
   ]
  },
  {
   "cell_type": "code",
   "execution_count": 11,
   "metadata": {
    "colab": {
     "base_uri": "https://localhost:8080/",
     "height": 269
    },
    "colab_type": "code",
    "executionInfo": {
     "elapsed": 943,
     "status": "ok",
     "timestamp": 1556181222069,
     "user": {
      "displayName": "Jan Boone",
      "photoUrl": "",
      "userId": "01680203205582182827"
     },
     "user_tz": -120
    },
    "id": "dIBLGlk_yeJ0",
    "outputId": "bfabd576-107c-48c3-a931-eae934149850"
   },
   "outputs": [
    {
     "data": {
      "image/png": "[encoded data removed]",
      "text/plain": [
       "<Figure size 432x288 with 1 Axes>"
      ]
     },
     "metadata": {
      "needs_background": "light"
     },
     "output_type": "display_data"
    }
   ],
   "source": [
    "plt.hist(differences)\n",
    "plt.show()"
   ]
  },
  {
   "cell_type": "markdown",
   "metadata": {},
   "source": [
    "**Question** Calculate the fraction of the 10000 differences where this difference exceeds `observed_difference`. Is the observed difference significant?"
   ]
  },
  {
   "cell_type": "code",
   "execution_count": 12,
   "metadata": {
    "colab": {
     "base_uri": "https://localhost:8080/",
     "height": 35
    },
    "colab_type": "code",
    "executionInfo": {
     "elapsed": 503,
     "status": "ok",
     "timestamp": 1556181232398,
     "user": {
      "displayName": "Jan Boone",
      "photoUrl": "",
      "userId": "01680203205582182827"
     },
     "user_tz": -120
    },
    "id": "NqBohKU1ygyI",
    "nbgrader": {
     "grade": true,
     "grade_id": "cell-3e37bbf784ead353",
     "locked": false,
     "points": 1,
     "schema_version": 1,
     "solution": true
    },
    "outputId": "d122f36a-320c-473f-f9f1-7aac4d58941a"
   },
   "outputs": [
    {
     "data": {
      "text/plain": [
       "0.0026"
      ]
     },
     "execution_count": 12,
     "metadata": {},
     "output_type": "execute_result"
    }
   ],
   "source": [
    "sum(differences>observed_difference)/len(differences)"
   ]
  },
  {
   "cell_type": "markdown",
   "metadata": {},
   "source": [
    "**Exercise** In terms of the steps that you just programmed, formulate what a significant difference means."
   ]
  },
  {
   "cell_type": "markdown",
   "metadata": {
    "nbgrader": {
     "grade": true,
     "grade_id": "cell-b7d9daee78d52788",
     "locked": false,
     "points": 1,
     "schema_version": 1,
     "solution": true
    }
   },
   "source": [
    "Given the null hypothesis that $A$ and $B$ are drawn from the same distribution, how likely am I to observe a difference of `observed_difference` or larger."
   ]
  },
  {
   "cell_type": "markdown",
   "metadata": {
    "colab_type": "text",
    "id": "yWPW6HI2HcVm"
   },
   "source": [
    "# Doing your own OLS\n",
    "\n",
    "There exist many packages that can do OLS for you. But it is illustrative, to program your own OLS estimator, because then you can see what it does.\n",
    "\n",
    "We start really simple and then add some things to the estimator. This method of programming our own estimator we will use below again for estimators that you may not know yet.\n",
    "\n",
    "For OLS, we could just substitute the solution using matrix algebra: $\\beta = (x^Tx)^{-1}x^Ty$. But we want to use the optimization problem itself so that we can add things to it later on.\n",
    "\n",
    "First, we are going to generate our own data.\n",
    "\n",
    "Then we define a loss function (mean squared error) and minimize the loss by choosing a constant (`w[0]`) and slopes (`w[1],w[2]`)."
   ]
  },
  {
   "cell_type": "code",
   "execution_count": 5,
   "metadata": {},
   "outputs": [],
   "source": [
    "sample_size = 500\n",
    "slope1 = -3.0\n",
    "constant = 1.0\n",
    "x1 = tf.random.normal([sample_size])\n",
    "x2 = tf.random.normal([sample_size])\n",
    "y = slope1*x1+constant+3*tf.random.normal([sample_size])"
   ]
  },
  {
   "cell_type": "markdown",
   "metadata": {},
   "source": [
    "**Question** Define a function `loss` which takes as its argument the vector $w$. The first element of $w$ is the constant, the second element is the slope of our regression w.r.t. `x1`, the third element the slope w.r.t. `x2`. \n",
    "\n",
    "The function `loss` returns \n",
    "\n",
    "$$\n",
    "\\frac{1}{n} \\sum_{i=1}^n (w_0+w_1 x_{1i} + w_2 x_{2i} - y_i)^2\n",
    "$$\n",
    "\n",
    "where $n$ denotes the sample size.\n",
    "\n",
    "**Question** Minimize the loss function. What values do you find for $w_0,w_1,w_2$?"
   ]
  },
  {
   "cell_type": "code",
   "execution_count": 6,
   "metadata": {
    "colab": {
     "base_uri": "https://localhost:8080/",
     "height": 106
    },
    "colab_type": "code",
    "executionInfo": {
     "elapsed": 451,
     "status": "ok",
     "timestamp": 1556358574664,
     "user": {
      "displayName": "Jan Boone",
      "photoUrl": "",
      "userId": "01680203205582182827"
     },
     "user_tz": -120
    },
    "id": "BWhR_jcFhmbe",
    "nbgrader": {
     "grade": true,
     "grade_id": "cell-e1603011322ed7b4",
     "locked": false,
     "points": 1,
     "schema_version": 1,
     "solution": true
    },
    "outputId": "b55ec367-f27b-4d0c-e5b4-f7f8fa83f502"
   },
   "outputs": [
    {
     "name": "stdout",
     "output_type": "stream",
     "text": [
      "Optimization terminated successfully.\n",
      "         Current function value: 9.116178\n",
      "         Iterations: 128\n",
      "         Function evaluations: 249\n"
     ]
    },
    {
     "data": {
      "text/plain": [
       "array([ 0.97302773, -2.86659381,  0.06669922])"
      ]
     },
     "execution_count": 6,
     "metadata": {},
     "output_type": "execute_result"
    }
   ],
   "source": [
    "def loss(w):\n",
    "    return np.sum((w[0]+w[1]*x1+w[2]*x2-y)**2)/len(y)\n",
    "\n",
    "optimize.fmin(loss, [0,0,0])"
   ]
  },
  {
   "cell_type": "markdown",
   "metadata": {},
   "source": [
    "## What are ridge and lasso regressions?\n",
    "\n",
    "In machine learning, the focus is not so much on significance of estimated parameters (which we usually worry about) but on \"overfitting\". Overfitting is the problem where you seem to find a pattern in the data that is actually not there. It is related to the 5% significance that we worry about.\n",
    "\n",
    "![significant](https://imgs.xkcd.com/comics/significant.png)\n",
    "\n",
    "In case you need [an explanation](https://www.explainxkcd.com/wiki/index.php/882:_Significant).\n",
    "\n",
    "We will look more formally at overfitting below. The simple idea of ridge and lasso regressions is the following. We do not want the coefficients to be different from zero when, in fact, there is no relationship between the $x$ variable and $y$. This is sometimes referred to as \"we do not want the model to become too excited\".\n",
    "\n",
    "To avoid the model becoming too excited, we introduce a \"penalty\" on coefficients that are different from zero. The difference between ridge and lasso is the penalty function that is used.\n",
    "\n",
    "With ridge the penalty function is $\\sum_{i=1}^p w_i^2$ and with lasso it is $\\sum_{i=1}^p |w_i|$. The penalty function is multiplied by \"hyperparameter\" $\\lambda>0$ and added to the loss function that we used below.\n",
    "\n",
    "Note that this procedure only makes sense if the variables are normalized. The $x$ variables are generally standardized (mean 0, standard deviation equal to 1; as they are in our case). The $y$ variable is centered: mean 0.\n",
    "\n"
   ]
  },
  {
   "cell_type": "markdown",
   "metadata": {},
   "source": [
    "**Question** Create a variable `y_centered` which has mean 0."
   ]
  },
  {
   "cell_type": "code",
   "execution_count": 7,
   "metadata": {
    "nbgrader": {
     "grade": true,
     "grade_id": "cell-7e32ae5b497a36e4",
     "locked": false,
     "points": 1,
     "schema_version": 1,
     "solution": true
    }
   },
   "outputs": [
    {
     "data": {
      "text/plain": [
       "-3.8146972e-08"
      ]
     },
     "execution_count": 7,
     "metadata": {},
     "output_type": "execute_result"
    }
   ],
   "source": [
    "y_centered = y - np.mean(y)\n",
    "\n",
    "np.mean(y_centered)"
   ]
  },
  {
   "cell_type": "markdown",
   "metadata": {},
   "source": [
    "**Question** Define a function `loss_ridge` with parameters `w` (vector of coefficients) and $\\lambda$. \n",
    "\n",
    "What coefficiens do you find with $\\lambda =1$?"
   ]
  },
  {
   "cell_type": "code",
   "execution_count": 8,
   "metadata": {
    "nbgrader": {
     "grade": true,
     "grade_id": "cell-b76a71a2f36fe826",
     "locked": false,
     "points": 1,
     "schema_version": 1,
     "solution": true
    }
   },
   "outputs": [
    {
     "name": "stdout",
     "output_type": "stream",
     "text": [
      "Optimization terminated successfully.\n",
      "         Current function value: 13.195548\n",
      "         Iterations: 143\n",
      "         Function evaluations: 267\n"
     ]
    },
    {
     "data": {
      "text/plain": [
       "array([ 0.00801572, -1.42211992,  0.03528838])"
      ]
     },
     "execution_count": 8,
     "metadata": {},
     "output_type": "execute_result"
    }
   ],
   "source": [
    "def loss_ridge(w,λ):\n",
    "    return np.sum((w[0]+w[1]*x1+w[2]*x2-y_centered)**2)/len(y_centered)+λ*(w[0]**2+w[1]**2+w[2]**2)\n",
    "\n",
    "optimize.fmin(lambda w: loss_ridge(w,1), [0,0,0])\n",
    "\n",
    "## note that coefficients are different from above because we rescaled y"
   ]
  },
  {
   "cell_type": "markdown",
   "metadata": {},
   "source": [
    "**Question** Define a function `loss_lasso` with parameters `w` (vector of coefficients) and $\\lambda$. \n",
    "\n",
    "What coefficiens do you find with $\\lambda =1$?"
   ]
  },
  {
   "cell_type": "code",
   "execution_count": 9,
   "metadata": {
    "nbgrader": {
     "grade": true,
     "grade_id": "cell-a275dbe1060c40bd",
     "locked": false,
     "points": 1,
     "schema_version": 1,
     "solution": true
    }
   },
   "outputs": [
    {
     "name": "stdout",
     "output_type": "stream",
     "text": [
      "Optimization terminated successfully.\n",
      "         Current function value: 11.734688\n",
      "         Iterations: 209\n",
      "         Function evaluations: 378\n"
     ]
    },
    {
     "data": {
      "text/plain": [
       "array([-2.96305870e-07, -2.35877148e+00,  4.41634832e-07])"
      ]
     },
     "execution_count": 9,
     "metadata": {},
     "output_type": "execute_result"
    }
   ],
   "source": [
    "def loss_lasso(w,λ):\n",
    "    return np.sum((w[0]+w[1]*x1+w[2]*x2-y_centered)**2)/len(y)+λ*(np.abs(w[0])+np.abs(w[1])+np.abs(w[2]))\n",
    "\n",
    "optimize.fmin(lambda w: loss_lasso(w,1), [0,0,0])\n",
    "\n",
    "## this works very well: constant = 0 because both x and y variables are rescaled to 0; also w[2] = 0 in this case"
   ]
  },
  {
   "cell_type": "markdown",
   "metadata": {
    "colab_type": "text",
    "id": "Psozyj3XcdA8"
   },
   "source": [
    "# Causality\n",
    "\n",
    "As you know, multiple regression is about correlations, not about causality. However, in economics we do want to know causal effects as well, e.g. when we do policy analysis. If you want to advice the government to do policy $X$ because it will increase $Y$, you need to be sure that there is a causal effect between $X$ and $Y$.\n",
    "\n",
    "Hence, often people try to interpret the outcomes of a regression as causal relationships. When doing this, there are a number of mistakes that you can make. Here we are going to look at three of these mistakes:\n",
    "\n",
    "* the fork\n",
    "* the pipe\n",
    "* the collider\n",
    "\n",
    "Each of these three mistakes will be illustrated by a DAG (\"a figure with variable names and arrows between them\").\n"
   ]
  },
  {
   "cell_type": "markdown",
   "metadata": {
    "colab_type": "text",
    "id": "VTxJRtkedmgi"
   },
   "source": [
    "## The fork\n",
    "\n",
    "This is the situation where there is no relation between the variables $X$ and $Y$. However, both are influenced by a third variable $Z$. \n",
    "\n",
    "\n",
    "\n",
    "![fork](./Fork.png)\n",
    "\n",
    "\n",
    "This is the situation you probably know best. There is a missing variable that is important in the relation between $X$ and $Y$. Running a regression with only $Y$ and $X$ leads to a bias in the coefficient of $X$. In the first case we consider this is extreme in the sense that the effect of $X$ on $Y$ is zero (there is no such effect) and yet you find a significant coefficient.\n",
    "\n",
    "Doing this regression from $X$ on $Y$ seems to suggest a causal effect of $X$ on $Y$. This could misleadingly convince people that a policy that affects $X$ directly will also affect $Y$.\n",
    "\n",
    "However, using both $X$ and $Z$ as explanatory variables in the regression will show that there is no significant effect from $X$ on $Y$ *controlling for* $Z$.\n",
    "\n",
    "Hence, with a fork it is important to think about possible variables $Z$ and include them in your regression.\n",
    "\n",
    "**Question** Generate data for the variables $X,Y,Z$ such that there is a fork\n",
    "\n",
    "**Question** Put this data in a pandas dataframe.\n",
    "\n",
    "With the dataframe, it is easy to run the regressions."
   ]
  },
  {
   "cell_type": "code",
   "execution_count": 10,
   "metadata": {
    "nbgrader": {
     "grade": true,
     "grade_id": "cell-29d4b42333f2e8d8",
     "locked": false,
     "points": 1,
     "schema_version": 1,
     "solution": true
    }
   },
   "outputs": [
    {
     "data": {
      "text/html": [
       "<div>\n",
       "<style scoped>\n",
       "    .dataframe tbody tr th:only-of-type {\n",
       "        vertical-align: middle;\n",
       "    }\n",
       "\n",
       "    .dataframe tbody tr th {\n",
       "        vertical-align: top;\n",
       "    }\n",
       "\n",
       "    .dataframe thead th {\n",
       "        text-align: right;\n",
       "    }\n",
       "</style>\n",
       "<table border=\"1\" class=\"dataframe\">\n",
       "  <thead>\n",
       "    <tr style=\"text-align: right;\">\n",
       "      <th></th>\n",
       "      <th>x</th>\n",
       "      <th>y</th>\n",
       "      <th>z</th>\n",
       "    </tr>\n",
       "  </thead>\n",
       "  <tbody>\n",
       "    <tr>\n",
       "      <th>0</th>\n",
       "      <td>1.305174</td>\n",
       "      <td>0.705205</td>\n",
       "      <td>-0.695902</td>\n",
       "    </tr>\n",
       "    <tr>\n",
       "      <th>1</th>\n",
       "      <td>2.379026</td>\n",
       "      <td>-0.379963</td>\n",
       "      <td>0.379394</td>\n",
       "    </tr>\n",
       "    <tr>\n",
       "      <th>2</th>\n",
       "      <td>2.270561</td>\n",
       "      <td>-0.280797</td>\n",
       "      <td>0.279328</td>\n",
       "    </tr>\n",
       "    <tr>\n",
       "      <th>3</th>\n",
       "      <td>2.339656</td>\n",
       "      <td>-0.328764</td>\n",
       "      <td>0.341544</td>\n",
       "    </tr>\n",
       "    <tr>\n",
       "      <th>4</th>\n",
       "      <td>1.273894</td>\n",
       "      <td>0.713444</td>\n",
       "      <td>-0.722814</td>\n",
       "    </tr>\n",
       "  </tbody>\n",
       "</table>\n",
       "</div>"
      ],
      "text/plain": [
       "          x         y         z\n",
       "0  1.305174  0.705205 -0.695902\n",
       "1  2.379026 -0.379963  0.379394\n",
       "2  2.270561 -0.280797  0.279328\n",
       "3  2.339656 -0.328764  0.341544\n",
       "4  1.273894  0.713444 -0.722814"
      ]
     },
     "execution_count": 10,
     "metadata": {},
     "output_type": "execute_result"
    }
   ],
   "source": [
    "sample_size = 100\n",
    "slope_x = 1\n",
    "constant_x = 2\n",
    "slope_y = -1\n",
    "constant_y = 0\n",
    "z = tf.random.normal([sample_size])\n",
    "x = slope_x * z + constant_x + 0.01* tf.random.normal([sample_size])\n",
    "y = slope_y * z + constant_y + 0.01* tf.random.normal([sample_size])\n",
    "\n",
    "df_fork = pd.DataFrame({'x':x, 'y':y, 'z':z})\n",
    "df_fork.head()"
   ]
  },
  {
   "cell_type": "markdown",
   "metadata": {},
   "source": [
    "Now we use [statsmodels](https://www.statsmodels.org/stable/index.html) to run the regression from `x` on `y`.\n",
    "\n",
    "Note that we just use `statsmodels` here without giving you a full explanation of its syntax. Although the commands are intuitive enough, you may want to check the [statsmodels website](https://www.statsmodels.org/stable/index.html) to understand things. Do not read everything on this website (that would be too time consuming), just browse through it and find the things that you need. \n",
    "\n",
    "This is good practice for later when new packages are developed and you want to quickly start using a new package. A combination of browsing through the documentation and using some \"trial and error\" allows you to quickly learn a package and see whether it is useful for you.\n",
    "\n",
    "As you can see there is a negative correlation between `x` and `y` and the coefficient is \"highly\" significant. However, we generated the data ourselves (above) and we know that there is no direct effect from $x$ on $y$."
   ]
  },
  {
   "cell_type": "code",
   "execution_count": 11,
   "metadata": {},
   "outputs": [
    {
     "data": {
      "text/html": [
       "<table class=\"simpletable\">\n",
       "<caption>OLS Regression Results</caption>\n",
       "<tr>\n",
       "  <th>Dep. Variable:</th>            <td>y</td>        <th>  R-squared:         </th> <td>   1.000</td> \n",
       "</tr>\n",
       "<tr>\n",
       "  <th>Model:</th>                   <td>OLS</td>       <th>  Adj. R-squared:    </th> <td>   1.000</td> \n",
       "</tr>\n",
       "<tr>\n",
       "  <th>Method:</th>             <td>Least Squares</td>  <th>  F-statistic:       </th> <td>5.024e+05</td>\n",
       "</tr>\n",
       "<tr>\n",
       "  <th>Date:</th>             <td>Thu, 11 Jul 2019</td> <th>  Prob (F-statistic):</th> <td>1.31e-183</td>\n",
       "</tr>\n",
       "<tr>\n",
       "  <th>Time:</th>                 <td>10:54:35</td>     <th>  Log-Likelihood:    </th> <td>  281.82</td> \n",
       "</tr>\n",
       "<tr>\n",
       "  <th>No. Observations:</th>      <td>   100</td>      <th>  AIC:               </th> <td>  -559.6</td> \n",
       "</tr>\n",
       "<tr>\n",
       "  <th>Df Residuals:</th>          <td>    98</td>      <th>  BIC:               </th> <td>  -554.4</td> \n",
       "</tr>\n",
       "<tr>\n",
       "  <th>Df Model:</th>              <td>     1</td>      <th>                     </th>     <td> </td>    \n",
       "</tr>\n",
       "<tr>\n",
       "  <th>Covariance Type:</th>      <td>nonrobust</td>    <th>                     </th>     <td> </td>    \n",
       "</tr>\n",
       "</table>\n",
       "<table class=\"simpletable\">\n",
       "<tr>\n",
       "      <td></td>         <th>coef</th>     <th>std err</th>      <th>t</th>      <th>P>|t|</th>  <th>[0.025</th>    <th>0.975]</th>  \n",
       "</tr>\n",
       "<tr>\n",
       "  <th>Intercept</th> <td>    1.9986</td> <td>    0.003</td> <td>  597.483</td> <td> 0.000</td> <td>    1.992</td> <td>    2.005</td>\n",
       "</tr>\n",
       "<tr>\n",
       "  <th>x</th>         <td>   -0.9996</td> <td>    0.001</td> <td> -708.829</td> <td> 0.000</td> <td>   -1.002</td> <td>   -0.997</td>\n",
       "</tr>\n",
       "</table>\n",
       "<table class=\"simpletable\">\n",
       "<tr>\n",
       "  <th>Omnibus:</th>       <td> 1.229</td> <th>  Durbin-Watson:     </th> <td>   2.156</td>\n",
       "</tr>\n",
       "<tr>\n",
       "  <th>Prob(Omnibus):</th> <td> 0.541</td> <th>  Jarque-Bera (JB):  </th> <td>   0.718</td>\n",
       "</tr>\n",
       "<tr>\n",
       "  <th>Skew:</th>          <td> 0.064</td> <th>  Prob(JB):          </th> <td>   0.698</td>\n",
       "</tr>\n",
       "<tr>\n",
       "  <th>Kurtosis:</th>      <td> 3.395</td> <th>  Cond. No.          </th> <td>    6.24</td>\n",
       "</tr>\n",
       "</table><br/><br/>Warnings:<br/>[1] Standard Errors assume that the covariance matrix of the errors is correctly specified."
      ],
      "text/plain": [
       "<class 'statsmodels.iolib.summary.Summary'>\n",
       "\"\"\"\n",
       "                            OLS Regression Results                            \n",
       "==============================================================================\n",
       "Dep. Variable:                      y   R-squared:                       1.000\n",
       "Model:                            OLS   Adj. R-squared:                  1.000\n",
       "Method:                 Least Squares   F-statistic:                 5.024e+05\n",
       "Date:                Thu, 11 Jul 2019   Prob (F-statistic):          1.31e-183\n",
       "Time:                        10:54:35   Log-Likelihood:                 281.82\n",
       "No. Observations:                 100   AIC:                            -559.6\n",
       "Df Residuals:                      98   BIC:                            -554.4\n",
       "Df Model:                           1                                         \n",
       "Covariance Type:            nonrobust                                         \n",
       "==============================================================================\n",
       "                 coef    std err          t      P>|t|      [0.025      0.975]\n",
       "------------------------------------------------------------------------------\n",
       "Intercept      1.9986      0.003    597.483      0.000       1.992       2.005\n",
       "x             -0.9996      0.001   -708.829      0.000      -1.002      -0.997\n",
       "==============================================================================\n",
       "Omnibus:                        1.229   Durbin-Watson:                   2.156\n",
       "Prob(Omnibus):                  0.541   Jarque-Bera (JB):                0.718\n",
       "Skew:                           0.064   Prob(JB):                        0.698\n",
       "Kurtosis:                       3.395   Cond. No.                         6.24\n",
       "==============================================================================\n",
       "\n",
       "Warnings:\n",
       "[1] Standard Errors assume that the covariance matrix of the errors is correctly specified.\n",
       "\"\"\""
      ]
     },
     "execution_count": 11,
     "metadata": {},
     "output_type": "execute_result"
    }
   ],
   "source": [
    "results_fork_incorrect = smf.ols('y ~ x', data=df_fork).fit()\n",
    "results_fork_incorrect.summary()"
   ]
  },
  {
   "cell_type": "markdown",
   "metadata": {},
   "source": [
    "**Question** Run the same regression but now with both `x` and `z` as explanatory variables. What happens to the coefficient of `x`?"
   ]
  },
  {
   "cell_type": "code",
   "execution_count": 12,
   "metadata": {
    "nbgrader": {
     "grade": true,
     "grade_id": "cell-0b93b5501654593e",
     "locked": false,
     "points": 1,
     "schema_version": 1,
     "solution": true
    }
   },
   "outputs": [
    {
     "data": {
      "text/html": [
       "<table class=\"simpletable\">\n",
       "<caption>OLS Regression Results</caption>\n",
       "<tr>\n",
       "  <th>Dep. Variable:</th>            <td>y</td>        <th>  R-squared:         </th> <td>   1.000</td> \n",
       "</tr>\n",
       "<tr>\n",
       "  <th>Model:</th>                   <td>OLS</td>       <th>  Adj. R-squared:    </th> <td>   1.000</td> \n",
       "</tr>\n",
       "<tr>\n",
       "  <th>Method:</th>             <td>Least Squares</td>  <th>  F-statistic:       </th> <td>4.588e+05</td>\n",
       "</tr>\n",
       "<tr>\n",
       "  <th>Date:</th>             <td>Thu, 11 Jul 2019</td> <th>  Prob (F-statistic):</th> <td>1.47e-193</td>\n",
       "</tr>\n",
       "<tr>\n",
       "  <th>Time:</th>                 <td>10:58:42</td>     <th>  Log-Likelihood:    </th> <td>  312.45</td> \n",
       "</tr>\n",
       "<tr>\n",
       "  <th>No. Observations:</th>      <td>   100</td>      <th>  AIC:               </th> <td>  -618.9</td> \n",
       "</tr>\n",
       "<tr>\n",
       "  <th>Df Residuals:</th>          <td>    97</td>      <th>  BIC:               </th> <td>  -611.1</td> \n",
       "</tr>\n",
       "<tr>\n",
       "  <th>Df Model:</th>              <td>     2</td>      <th>                     </th>     <td> </td>    \n",
       "</tr>\n",
       "<tr>\n",
       "  <th>Covariance Type:</th>      <td>nonrobust</td>    <th>                     </th>     <td> </td>    \n",
       "</tr>\n",
       "</table>\n",
       "<table class=\"simpletable\">\n",
       "<tr>\n",
       "      <td></td>         <th>coef</th>     <th>std err</th>      <th>t</th>      <th>P>|t|</th>  <th>[0.025</th>    <th>0.975]</th>  \n",
       "</tr>\n",
       "<tr>\n",
       "  <th>Intercept</th> <td>   -0.1961</td> <td>    0.242</td> <td>   -0.809</td> <td> 0.420</td> <td>   -0.677</td> <td>    0.285</td>\n",
       "</tr>\n",
       "<tr>\n",
       "  <th>x</th>         <td>    0.0978</td> <td>    0.121</td> <td>    0.807</td> <td> 0.422</td> <td>   -0.143</td> <td>    0.338</td>\n",
       "</tr>\n",
       "<tr>\n",
       "  <th>z</th>         <td>   -1.0978</td> <td>    0.121</td> <td>   -9.053</td> <td> 0.000</td> <td>   -1.338</td> <td>   -0.857</td>\n",
       "</tr>\n",
       "</table>\n",
       "<table class=\"simpletable\">\n",
       "<tr>\n",
       "  <th>Omnibus:</th>       <td> 4.458</td> <th>  Durbin-Watson:     </th> <td>   1.727</td>\n",
       "</tr>\n",
       "<tr>\n",
       "  <th>Prob(Omnibus):</th> <td> 0.108</td> <th>  Jarque-Bera (JB):  </th> <td>   3.880</td>\n",
       "</tr>\n",
       "<tr>\n",
       "  <th>Skew:</th>          <td>-0.368</td> <th>  Prob(JB):          </th> <td>   0.144</td>\n",
       "</tr>\n",
       "<tr>\n",
       "  <th>Kurtosis:</th>      <td> 3.624</td> <th>  Cond. No.          </th> <td>    715.</td>\n",
       "</tr>\n",
       "</table><br/><br/>Warnings:<br/>[1] Standard Errors assume that the covariance matrix of the errors is correctly specified."
      ],
      "text/plain": [
       "<class 'statsmodels.iolib.summary.Summary'>\n",
       "\"\"\"\n",
       "                            OLS Regression Results                            \n",
       "==============================================================================\n",
       "Dep. Variable:                      y   R-squared:                       1.000\n",
       "Model:                            OLS   Adj. R-squared:                  1.000\n",
       "Method:                 Least Squares   F-statistic:                 4.588e+05\n",
       "Date:                Thu, 11 Jul 2019   Prob (F-statistic):          1.47e-193\n",
       "Time:                        10:58:42   Log-Likelihood:                 312.45\n",
       "No. Observations:                 100   AIC:                            -618.9\n",
       "Df Residuals:                      97   BIC:                            -611.1\n",
       "Df Model:                           2                                         \n",
       "Covariance Type:            nonrobust                                         \n",
       "==============================================================================\n",
       "                 coef    std err          t      P>|t|      [0.025      0.975]\n",
       "------------------------------------------------------------------------------\n",
       "Intercept     -0.1961      0.242     -0.809      0.420      -0.677       0.285\n",
       "x              0.0978      0.121      0.807      0.422      -0.143       0.338\n",
       "z             -1.0978      0.121     -9.053      0.000      -1.338      -0.857\n",
       "==============================================================================\n",
       "Omnibus:                        4.458   Durbin-Watson:                   1.727\n",
       "Prob(Omnibus):                  0.108   Jarque-Bera (JB):                3.880\n",
       "Skew:                          -0.368   Prob(JB):                        0.144\n",
       "Kurtosis:                       3.624   Cond. No.                         715.\n",
       "==============================================================================\n",
       "\n",
       "Warnings:\n",
       "[1] Standard Errors assume that the covariance matrix of the errors is correctly specified.\n",
       "\"\"\""
      ]
     },
     "execution_count": 12,
     "metadata": {},
     "output_type": "execute_result"
    }
   ],
   "source": [
    "results_fork_correct = smf.ols('y ~ x + z', data=df_fork).fit()\n",
    "results_fork_correct.summary()"
   ]
  },
  {
   "cell_type": "markdown",
   "metadata": {},
   "source": [
    "Above we assumed that the effect of `x` on `y` is zero. Now we consider a generalized version.\n",
    "\n",
    "**Exercise** Assume that the direct effect of `x` on `y` is linear with slope equal to 0.5 (not 0.0 as above). The other effects are the same as above. Generate the data and create a dataframe `df_fork_2`."
   ]
  },
  {
   "cell_type": "code",
   "execution_count": 13,
   "metadata": {
    "nbgrader": {
     "grade": true,
     "grade_id": "cell-65349680f13e58b1",
     "locked": false,
     "points": 1,
     "schema_version": 1,
     "solution": true
    }
   },
   "outputs": [
    {
     "data": {
      "text/html": [
       "<div>\n",
       "<style scoped>\n",
       "    .dataframe tbody tr th:only-of-type {\n",
       "        vertical-align: middle;\n",
       "    }\n",
       "\n",
       "    .dataframe tbody tr th {\n",
       "        vertical-align: top;\n",
       "    }\n",
       "\n",
       "    .dataframe thead th {\n",
       "        text-align: right;\n",
       "    }\n",
       "</style>\n",
       "<table border=\"1\" class=\"dataframe\">\n",
       "  <thead>\n",
       "    <tr style=\"text-align: right;\">\n",
       "      <th></th>\n",
       "      <th>x</th>\n",
       "      <th>y</th>\n",
       "      <th>z</th>\n",
       "    </tr>\n",
       "  </thead>\n",
       "  <tbody>\n",
       "    <tr>\n",
       "      <th>0</th>\n",
       "      <td>1.598706</td>\n",
       "      <td>1.218101</td>\n",
       "      <td>-0.405665</td>\n",
       "    </tr>\n",
       "    <tr>\n",
       "      <th>1</th>\n",
       "      <td>2.151314</td>\n",
       "      <td>0.912455</td>\n",
       "      <td>0.151257</td>\n",
       "    </tr>\n",
       "    <tr>\n",
       "      <th>2</th>\n",
       "      <td>1.759853</td>\n",
       "      <td>1.121293</td>\n",
       "      <td>-0.251362</td>\n",
       "    </tr>\n",
       "    <tr>\n",
       "      <th>3</th>\n",
       "      <td>2.348002</td>\n",
       "      <td>0.828760</td>\n",
       "      <td>0.350880</td>\n",
       "    </tr>\n",
       "    <tr>\n",
       "      <th>4</th>\n",
       "      <td>1.333715</td>\n",
       "      <td>1.334247</td>\n",
       "      <td>-0.670185</td>\n",
       "    </tr>\n",
       "  </tbody>\n",
       "</table>\n",
       "</div>"
      ],
      "text/plain": [
       "          x         y         z\n",
       "0  1.598706  1.218101 -0.405665\n",
       "1  2.151314  0.912455  0.151257\n",
       "2  1.759853  1.121293 -0.251362\n",
       "3  2.348002  0.828760  0.350880\n",
       "4  1.333715  1.334247 -0.670185"
      ]
     },
     "execution_count": 13,
     "metadata": {},
     "output_type": "execute_result"
    }
   ],
   "source": [
    "sample_size = 100\n",
    "slope_x = 1\n",
    "constant_x = 2\n",
    "slope_y = -1\n",
    "constant_y = 0\n",
    "slope_xy = 0.5\n",
    "z = tf.random.normal([sample_size])\n",
    "x = slope_x * z + constant_x + 0.01* tf.random.normal([sample_size])\n",
    "y = slope_y * z + slope_xy * x + constant_y + 0.01* tf.random.normal([sample_size])\n",
    "\n",
    "df_fork_2 = pd.DataFrame({'x':x, 'y':y, 'z':z})\n",
    "df_fork_2.head()"
   ]
  },
  {
   "cell_type": "markdown",
   "metadata": {},
   "source": [
    "**Exercise** Run the same regressions that we did above using `statsmodels`. Discuss the coefficients that you find."
   ]
  },
  {
   "cell_type": "code",
   "execution_count": 14,
   "metadata": {
    "nbgrader": {
     "grade": true,
     "grade_id": "cell-6b9a665e4229ad06",
     "locked": false,
     "points": 1,
     "schema_version": 1,
     "solution": true
    }
   },
   "outputs": [
    {
     "data": {
      "text/html": [
       "<table class=\"simpletable\">\n",
       "<caption>OLS Regression Results</caption>\n",
       "<tr>\n",
       "  <th>Dep. Variable:</th>            <td>y</td>        <th>  R-squared:         </th> <td>   0.999</td> \n",
       "</tr>\n",
       "<tr>\n",
       "  <th>Model:</th>                   <td>OLS</td>       <th>  Adj. R-squared:    </th> <td>   0.999</td> \n",
       "</tr>\n",
       "<tr>\n",
       "  <th>Method:</th>             <td>Least Squares</td>  <th>  F-statistic:       </th> <td>1.245e+05</td>\n",
       "</tr>\n",
       "<tr>\n",
       "  <th>Date:</th>             <td>Thu, 11 Jul 2019</td> <th>  Prob (F-statistic):</th> <td>6.31e-154</td>\n",
       "</tr>\n",
       "<tr>\n",
       "  <th>Time:</th>                 <td>10:59:30</td>     <th>  Log-Likelihood:    </th> <td>  288.91</td> \n",
       "</tr>\n",
       "<tr>\n",
       "  <th>No. Observations:</th>      <td>   100</td>      <th>  AIC:               </th> <td>  -573.8</td> \n",
       "</tr>\n",
       "<tr>\n",
       "  <th>Df Residuals:</th>          <td>    98</td>      <th>  BIC:               </th> <td>  -568.6</td> \n",
       "</tr>\n",
       "<tr>\n",
       "  <th>Df Model:</th>              <td>     1</td>      <th>                     </th>     <td> </td>    \n",
       "</tr>\n",
       "<tr>\n",
       "  <th>Covariance Type:</th>      <td>nonrobust</td>    <th>                     </th>     <td> </td>    \n",
       "</tr>\n",
       "</table>\n",
       "<table class=\"simpletable\">\n",
       "<tr>\n",
       "      <td></td>         <th>coef</th>     <th>std err</th>      <th>t</th>      <th>P>|t|</th>  <th>[0.025</th>    <th>0.975]</th>  \n",
       "</tr>\n",
       "<tr>\n",
       "  <th>Intercept</th> <td>    2.0056</td> <td>    0.003</td> <td>  634.539</td> <td> 0.000</td> <td>    1.999</td> <td>    2.012</td>\n",
       "</tr>\n",
       "<tr>\n",
       "  <th>x</th>         <td>   -0.5026</td> <td>    0.001</td> <td> -352.805</td> <td> 0.000</td> <td>   -0.505</td> <td>   -0.500</td>\n",
       "</tr>\n",
       "</table>\n",
       "<table class=\"simpletable\">\n",
       "<tr>\n",
       "  <th>Omnibus:</th>       <td> 1.434</td> <th>  Durbin-Watson:     </th> <td>   2.113</td>\n",
       "</tr>\n",
       "<tr>\n",
       "  <th>Prob(Omnibus):</th> <td> 0.488</td> <th>  Jarque-Bera (JB):  </th> <td>   1.181</td>\n",
       "</tr>\n",
       "<tr>\n",
       "  <th>Skew:</th>          <td> 0.030</td> <th>  Prob(JB):          </th> <td>   0.554</td>\n",
       "</tr>\n",
       "<tr>\n",
       "  <th>Kurtosis:</th>      <td> 2.471</td> <th>  Cond. No.          </th> <td>    6.04</td>\n",
       "</tr>\n",
       "</table><br/><br/>Warnings:<br/>[1] Standard Errors assume that the covariance matrix of the errors is correctly specified."
      ],
      "text/plain": [
       "<class 'statsmodels.iolib.summary.Summary'>\n",
       "\"\"\"\n",
       "                            OLS Regression Results                            \n",
       "==============================================================================\n",
       "Dep. Variable:                      y   R-squared:                       0.999\n",
       "Model:                            OLS   Adj. R-squared:                  0.999\n",
       "Method:                 Least Squares   F-statistic:                 1.245e+05\n",
       "Date:                Thu, 11 Jul 2019   Prob (F-statistic):          6.31e-154\n",
       "Time:                        10:59:30   Log-Likelihood:                 288.91\n",
       "No. Observations:                 100   AIC:                            -573.8\n",
       "Df Residuals:                      98   BIC:                            -568.6\n",
       "Df Model:                           1                                         \n",
       "Covariance Type:            nonrobust                                         \n",
       "==============================================================================\n",
       "                 coef    std err          t      P>|t|      [0.025      0.975]\n",
       "------------------------------------------------------------------------------\n",
       "Intercept      2.0056      0.003    634.539      0.000       1.999       2.012\n",
       "x             -0.5026      0.001   -352.805      0.000      -0.505      -0.500\n",
       "==============================================================================\n",
       "Omnibus:                        1.434   Durbin-Watson:                   2.113\n",
       "Prob(Omnibus):                  0.488   Jarque-Bera (JB):                1.181\n",
       "Skew:                           0.030   Prob(JB):                        0.554\n",
       "Kurtosis:                       2.471   Cond. No.                         6.04\n",
       "==============================================================================\n",
       "\n",
       "Warnings:\n",
       "[1] Standard Errors assume that the covariance matrix of the errors is correctly specified.\n",
       "\"\"\""
      ]
     },
     "execution_count": 14,
     "metadata": {},
     "output_type": "execute_result"
    }
   ],
   "source": [
    "results_fork_2_incorrect = smf.ols('y ~ x', data=df_fork_2).fit()\n",
    "results_fork_2_incorrect.summary()"
   ]
  },
  {
   "cell_type": "code",
   "execution_count": 15,
   "metadata": {
    "nbgrader": {
     "grade": true,
     "grade_id": "cell-8c771dc780706bfe",
     "locked": false,
     "points": 1,
     "schema_version": 1,
     "solution": true
    }
   },
   "outputs": [
    {
     "data": {
      "text/html": [
       "<table class=\"simpletable\">\n",
       "<caption>OLS Regression Results</caption>\n",
       "<tr>\n",
       "  <th>Dep. Variable:</th>            <td>y</td>        <th>  R-squared:         </th> <td>   1.000</td> \n",
       "</tr>\n",
       "<tr>\n",
       "  <th>Model:</th>                   <td>OLS</td>       <th>  Adj. R-squared:    </th> <td>   1.000</td> \n",
       "</tr>\n",
       "<tr>\n",
       "  <th>Method:</th>             <td>Least Squares</td>  <th>  F-statistic:       </th> <td>1.322e+05</td>\n",
       "</tr>\n",
       "<tr>\n",
       "  <th>Date:</th>             <td>Thu, 11 Jul 2019</td> <th>  Prob (F-statistic):</th> <td>2.32e-167</td>\n",
       "</tr>\n",
       "<tr>\n",
       "  <th>Time:</th>                 <td>10:59:42</td>     <th>  Log-Likelihood:    </th> <td>  327.09</td> \n",
       "</tr>\n",
       "<tr>\n",
       "  <th>No. Observations:</th>      <td>   100</td>      <th>  AIC:               </th> <td>  -648.2</td> \n",
       "</tr>\n",
       "<tr>\n",
       "  <th>Df Residuals:</th>          <td>    97</td>      <th>  BIC:               </th> <td>  -640.4</td> \n",
       "</tr>\n",
       "<tr>\n",
       "  <th>Df Model:</th>              <td>     2</td>      <th>                     </th>     <td> </td>    \n",
       "</tr>\n",
       "<tr>\n",
       "  <th>Covariance Type:</th>      <td>nonrobust</td>    <th>                     </th>     <td> </td>    \n",
       "</tr>\n",
       "</table>\n",
       "<table class=\"simpletable\">\n",
       "<tr>\n",
       "      <td></td>         <th>coef</th>     <th>std err</th>      <th>t</th>      <th>P>|t|</th>  <th>[0.025</th>    <th>0.975]</th>  \n",
       "</tr>\n",
       "<tr>\n",
       "  <th>Intercept</th> <td>   -0.0449</td> <td>    0.195</td> <td>   -0.231</td> <td> 0.818</td> <td>   -0.431</td> <td>    0.341</td>\n",
       "</tr>\n",
       "<tr>\n",
       "  <th>x</th>         <td>    0.5222</td> <td>    0.097</td> <td>    5.372</td> <td> 0.000</td> <td>    0.329</td> <td>    0.715</td>\n",
       "</tr>\n",
       "<tr>\n",
       "  <th>z</th>         <td>   -1.0225</td> <td>    0.097</td> <td>  -10.542</td> <td> 0.000</td> <td>   -1.215</td> <td>   -0.830</td>\n",
       "</tr>\n",
       "</table>\n",
       "<table class=\"simpletable\">\n",
       "<tr>\n",
       "  <th>Omnibus:</th>       <td> 0.317</td> <th>  Durbin-Watson:     </th> <td>   2.207</td>\n",
       "</tr>\n",
       "<tr>\n",
       "  <th>Prob(Omnibus):</th> <td> 0.854</td> <th>  Jarque-Bera (JB):  </th> <td>   0.096</td>\n",
       "</tr>\n",
       "<tr>\n",
       "  <th>Skew:</th>          <td> 0.065</td> <th>  Prob(JB):          </th> <td>   0.953</td>\n",
       "</tr>\n",
       "<tr>\n",
       "  <th>Kurtosis:</th>      <td> 3.077</td> <th>  Cond. No.          </th> <td>    620.</td>\n",
       "</tr>\n",
       "</table><br/><br/>Warnings:<br/>[1] Standard Errors assume that the covariance matrix of the errors is correctly specified."
      ],
      "text/plain": [
       "<class 'statsmodels.iolib.summary.Summary'>\n",
       "\"\"\"\n",
       "                            OLS Regression Results                            \n",
       "==============================================================================\n",
       "Dep. Variable:                      y   R-squared:                       1.000\n",
       "Model:                            OLS   Adj. R-squared:                  1.000\n",
       "Method:                 Least Squares   F-statistic:                 1.322e+05\n",
       "Date:                Thu, 11 Jul 2019   Prob (F-statistic):          2.32e-167\n",
       "Time:                        10:59:42   Log-Likelihood:                 327.09\n",
       "No. Observations:                 100   AIC:                            -648.2\n",
       "Df Residuals:                      97   BIC:                            -640.4\n",
       "Df Model:                           2                                         \n",
       "Covariance Type:            nonrobust                                         \n",
       "==============================================================================\n",
       "                 coef    std err          t      P>|t|      [0.025      0.975]\n",
       "------------------------------------------------------------------------------\n",
       "Intercept     -0.0449      0.195     -0.231      0.818      -0.431       0.341\n",
       "x              0.5222      0.097      5.372      0.000       0.329       0.715\n",
       "z             -1.0225      0.097    -10.542      0.000      -1.215      -0.830\n",
       "==============================================================================\n",
       "Omnibus:                        0.317   Durbin-Watson:                   2.207\n",
       "Prob(Omnibus):                  0.854   Jarque-Bera (JB):                0.096\n",
       "Skew:                           0.065   Prob(JB):                        0.953\n",
       "Kurtosis:                       3.077   Cond. No.                         620.\n",
       "==============================================================================\n",
       "\n",
       "Warnings:\n",
       "[1] Standard Errors assume that the covariance matrix of the errors is correctly specified.\n",
       "\"\"\""
      ]
     },
     "execution_count": 15,
     "metadata": {},
     "output_type": "execute_result"
    }
   ],
   "source": [
    "results_fork_2_correct = smf.ols('y ~ x + z', data=df_fork_2).fit()\n",
    "results_fork_2_correct.summary()"
   ]
  },
  {
   "cell_type": "markdown",
   "metadata": {
    "nbgrader": {
     "grade": true,
     "grade_id": "cell-e18f24cbf2d8775c",
     "locked": false,
     "points": 1,
     "schema_version": 1,
     "solution": true
    }
   },
   "source": [
    "The first regression suggests that `x` has a negative effect on `y`. However, we know that this effect is positive and equal to 0.5 (we generated the data ourselves).\n",
    "\n",
    "The second regression correctly identifies the direct effect of `x` on `y`."
   ]
  },
  {
   "cell_type": "markdown",
   "metadata": {
    "colab_type": "text",
    "id": "qs3nhFBHdnKF"
   },
   "source": [
    "## The pipe\n",
    "\n",
    "We are interested in the causal effect of $X$ on $Y$. In reality this effect is mediated by $Z$.\n",
    "\n",
    "If we condition on $Z$, the regression suggests that there is no causal impact of $X$ on $Y$. It looks as if we just \"solved a fork\". From the data alone we do not know whether there is a fork or pipe. We need a model to separate the two situations.\n",
    "\n",
    "![pipe](./Pipe.png)\n",
    "\n",
    "Let us first look at a data generating process that leads to a pipe. Then we give an economic story of how a pipe can arise.\n",
    "\n",
    "**Question** Copy/paste the code from the fork example above. Adjust the equations for `x,y,z` such that we have a pipe and not a fork. That is, make sure that `x` affects `z` which then affects `y`. Then create a dataframe `df_pipe`.\n"
   ]
  },
  {
   "cell_type": "code",
   "execution_count": 19,
   "metadata": {
    "nbgrader": {
     "grade": true,
     "grade_id": "cell-b4b8112c50bf1b99",
     "locked": false,
     "points": 1,
     "schema_version": 1,
     "solution": true
    }
   },
   "outputs": [
    {
     "data": {
      "text/html": [
       "<div>\n",
       "<style scoped>\n",
       "    .dataframe tbody tr th:only-of-type {\n",
       "        vertical-align: middle;\n",
       "    }\n",
       "\n",
       "    .dataframe tbody tr th {\n",
       "        vertical-align: top;\n",
       "    }\n",
       "\n",
       "    .dataframe thead th {\n",
       "        text-align: right;\n",
       "    }\n",
       "</style>\n",
       "<table border=\"1\" class=\"dataframe\">\n",
       "  <thead>\n",
       "    <tr style=\"text-align: right;\">\n",
       "      <th></th>\n",
       "      <th>x</th>\n",
       "      <th>y</th>\n",
       "      <th>z</th>\n",
       "    </tr>\n",
       "  </thead>\n",
       "  <tbody>\n",
       "    <tr>\n",
       "      <th>0</th>\n",
       "      <td>0.231079</td>\n",
       "      <td>-2.237246</td>\n",
       "      <td>2.241160</td>\n",
       "    </tr>\n",
       "    <tr>\n",
       "      <th>1</th>\n",
       "      <td>1.220882</td>\n",
       "      <td>-3.210805</td>\n",
       "      <td>3.211702</td>\n",
       "    </tr>\n",
       "    <tr>\n",
       "      <th>2</th>\n",
       "      <td>0.714405</td>\n",
       "      <td>-2.709589</td>\n",
       "      <td>2.697337</td>\n",
       "    </tr>\n",
       "    <tr>\n",
       "      <th>3</th>\n",
       "      <td>-0.864044</td>\n",
       "      <td>-1.127718</td>\n",
       "      <td>1.123981</td>\n",
       "    </tr>\n",
       "    <tr>\n",
       "      <th>4</th>\n",
       "      <td>0.761011</td>\n",
       "      <td>-2.735149</td>\n",
       "      <td>2.740401</td>\n",
       "    </tr>\n",
       "  </tbody>\n",
       "</table>\n",
       "</div>"
      ],
      "text/plain": [
       "          x         y         z\n",
       "0  0.231079 -2.237246  2.241160\n",
       "1  1.220882 -3.210805  3.211702\n",
       "2  0.714405 -2.709589  2.697337\n",
       "3 -0.864044 -1.127718  1.123981\n",
       "4  0.761011 -2.735149  2.740401"
      ]
     },
     "execution_count": 19,
     "metadata": {},
     "output_type": "execute_result"
    }
   ],
   "source": [
    "sample_size = 100\n",
    "slope_x = 1\n",
    "constant_x = 2\n",
    "slope_z = -1\n",
    "constant_z = 0\n",
    "x = tf.random.normal([sample_size])\n",
    "z = slope_x * x + constant_x + 0.01* tf.random.normal([sample_size])\n",
    "y = slope_z * z + constant_z + 0.01* tf.random.normal([sample_size])\n",
    "\n",
    "df_pipe = pd.DataFrame({'x':x, 'y':y, 'z':z})\n",
    "df_pipe.head()"
   ]
  },
  {
   "cell_type": "markdown",
   "metadata": {},
   "source": [
    "**Question** Run the regression from `x` on `y` directly and the regression where, in addition to `x`, we also control from `z`. Note that the `incorrect` regression has both `x` and `z` this time."
   ]
  },
  {
   "cell_type": "code",
   "execution_count": 20,
   "metadata": {
    "nbgrader": {
     "grade": true,
     "grade_id": "cell-f1158e36fbed0608",
     "locked": false,
     "points": 1,
     "schema_version": 1,
     "solution": true
    }
   },
   "outputs": [
    {
     "data": {
      "text/html": [
       "<table class=\"simpletable\">\n",
       "<caption>OLS Regression Results</caption>\n",
       "<tr>\n",
       "  <th>Dep. Variable:</th>            <td>y</td>        <th>  R-squared:         </th> <td>   1.000</td> \n",
       "</tr>\n",
       "<tr>\n",
       "  <th>Model:</th>                   <td>OLS</td>       <th>  Adj. R-squared:    </th> <td>   1.000</td> \n",
       "</tr>\n",
       "<tr>\n",
       "  <th>Method:</th>             <td>Least Squares</td>  <th>  F-statistic:       </th> <td>6.169e+05</td>\n",
       "</tr>\n",
       "<tr>\n",
       "  <th>Date:</th>             <td>Thu, 11 Jul 2019</td> <th>  Prob (F-statistic):</th> <td>8.54e-200</td>\n",
       "</tr>\n",
       "<tr>\n",
       "  <th>Time:</th>                 <td>11:04:10</td>     <th>  Log-Likelihood:    </th> <td>  325.39</td> \n",
       "</tr>\n",
       "<tr>\n",
       "  <th>No. Observations:</th>      <td>   100</td>      <th>  AIC:               </th> <td>  -644.8</td> \n",
       "</tr>\n",
       "<tr>\n",
       "  <th>Df Residuals:</th>          <td>    97</td>      <th>  BIC:               </th> <td>  -637.0</td> \n",
       "</tr>\n",
       "<tr>\n",
       "  <th>Df Model:</th>              <td>     2</td>      <th>                     </th>     <td> </td>    \n",
       "</tr>\n",
       "<tr>\n",
       "  <th>Covariance Type:</th>      <td>nonrobust</td>    <th>                     </th>     <td> </td>    \n",
       "</tr>\n",
       "</table>\n",
       "<table class=\"simpletable\">\n",
       "<tr>\n",
       "      <td></td>         <th>coef</th>     <th>std err</th>      <th>t</th>      <th>P>|t|</th>  <th>[0.025</th>    <th>0.975]</th>  \n",
       "</tr>\n",
       "<tr>\n",
       "  <th>Intercept</th> <td>   -0.0173</td> <td>    0.204</td> <td>   -0.085</td> <td> 0.932</td> <td>   -0.421</td> <td>    0.387</td>\n",
       "</tr>\n",
       "<tr>\n",
       "  <th>x</th>         <td>   -0.0099</td> <td>    0.102</td> <td>   -0.097</td> <td> 0.923</td> <td>   -0.212</td> <td>    0.192</td>\n",
       "</tr>\n",
       "<tr>\n",
       "  <th>z</th>         <td>   -0.9907</td> <td>    0.102</td> <td>   -9.733</td> <td> 0.000</td> <td>   -1.193</td> <td>   -0.789</td>\n",
       "</tr>\n",
       "</table>\n",
       "<table class=\"simpletable\">\n",
       "<tr>\n",
       "  <th>Omnibus:</th>       <td> 2.954</td> <th>  Durbin-Watson:     </th> <td>   1.890</td>\n",
       "</tr>\n",
       "<tr>\n",
       "  <th>Prob(Omnibus):</th> <td> 0.228</td> <th>  Jarque-Bera (JB):  </th> <td>   2.094</td>\n",
       "</tr>\n",
       "<tr>\n",
       "  <th>Skew:</th>          <td>-0.172</td> <th>  Prob(JB):          </th> <td>   0.351</td>\n",
       "</tr>\n",
       "<tr>\n",
       "  <th>Kurtosis:</th>      <td> 2.381</td> <th>  Cond. No.          </th> <td>    656.</td>\n",
       "</tr>\n",
       "</table><br/><br/>Warnings:<br/>[1] Standard Errors assume that the covariance matrix of the errors is correctly specified."
      ],
      "text/plain": [
       "<class 'statsmodels.iolib.summary.Summary'>\n",
       "\"\"\"\n",
       "                            OLS Regression Results                            \n",
       "==============================================================================\n",
       "Dep. Variable:                      y   R-squared:                       1.000\n",
       "Model:                            OLS   Adj. R-squared:                  1.000\n",
       "Method:                 Least Squares   F-statistic:                 6.169e+05\n",
       "Date:                Thu, 11 Jul 2019   Prob (F-statistic):          8.54e-200\n",
       "Time:                        11:04:10   Log-Likelihood:                 325.39\n",
       "No. Observations:                 100   AIC:                            -644.8\n",
       "Df Residuals:                      97   BIC:                            -637.0\n",
       "Df Model:                           2                                         \n",
       "Covariance Type:            nonrobust                                         \n",
       "==============================================================================\n",
       "                 coef    std err          t      P>|t|      [0.025      0.975]\n",
       "------------------------------------------------------------------------------\n",
       "Intercept     -0.0173      0.204     -0.085      0.932      -0.421       0.387\n",
       "x             -0.0099      0.102     -0.097      0.923      -0.212       0.192\n",
       "z             -0.9907      0.102     -9.733      0.000      -1.193      -0.789\n",
       "==============================================================================\n",
       "Omnibus:                        2.954   Durbin-Watson:                   1.890\n",
       "Prob(Omnibus):                  0.228   Jarque-Bera (JB):                2.094\n",
       "Skew:                          -0.172   Prob(JB):                        0.351\n",
       "Kurtosis:                       2.381   Cond. No.                         656.\n",
       "==============================================================================\n",
       "\n",
       "Warnings:\n",
       "[1] Standard Errors assume that the covariance matrix of the errors is correctly specified.\n",
       "\"\"\""
      ]
     },
     "execution_count": 20,
     "metadata": {},
     "output_type": "execute_result"
    }
   ],
   "source": [
    "results_pipe_incorrect = smf.ols('y ~ x + z', data=df_pipe).fit()\n",
    "results_pipe_incorrect.summary()"
   ]
  },
  {
   "cell_type": "code",
   "execution_count": 21,
   "metadata": {
    "nbgrader": {
     "grade": true,
     "grade_id": "cell-fd087e63d636fd43",
     "locked": false,
     "points": 1,
     "schema_version": 1,
     "solution": true
    }
   },
   "outputs": [
    {
     "data": {
      "text/html": [
       "<table class=\"simpletable\">\n",
       "<caption>OLS Regression Results</caption>\n",
       "<tr>\n",
       "  <th>Dep. Variable:</th>            <td>y</td>        <th>  R-squared:         </th> <td>   1.000</td> \n",
       "</tr>\n",
       "<tr>\n",
       "  <th>Model:</th>                   <td>OLS</td>       <th>  Adj. R-squared:    </th> <td>   1.000</td> \n",
       "</tr>\n",
       "<tr>\n",
       "  <th>Method:</th>             <td>Least Squares</td>  <th>  F-statistic:       </th> <td>6.306e+05</td>\n",
       "</tr>\n",
       "<tr>\n",
       "  <th>Date:</th>             <td>Thu, 11 Jul 2019</td> <th>  Prob (F-statistic):</th> <td>1.93e-188</td>\n",
       "</tr>\n",
       "<tr>\n",
       "  <th>Time:</th>                 <td>11:04:20</td>     <th>  Log-Likelihood:    </th> <td>  291.32</td> \n",
       "</tr>\n",
       "<tr>\n",
       "  <th>No. Observations:</th>      <td>   100</td>      <th>  AIC:               </th> <td>  -578.6</td> \n",
       "</tr>\n",
       "<tr>\n",
       "  <th>Df Residuals:</th>          <td>    98</td>      <th>  BIC:               </th> <td>  -573.4</td> \n",
       "</tr>\n",
       "<tr>\n",
       "  <th>Df Model:</th>              <td>     1</td>      <th>                     </th>     <td> </td>    \n",
       "</tr>\n",
       "<tr>\n",
       "  <th>Covariance Type:</th>      <td>nonrobust</td>    <th>                     </th>     <td> </td>    \n",
       "</tr>\n",
       "</table>\n",
       "<table class=\"simpletable\">\n",
       "<tr>\n",
       "      <td></td>         <th>coef</th>     <th>std err</th>      <th>t</th>      <th>P>|t|</th>  <th>[0.025</th>    <th>0.975]</th>  \n",
       "</tr>\n",
       "<tr>\n",
       "  <th>Intercept</th> <td>   -1.9981</td> <td>    0.001</td> <td>-1504.988</td> <td> 0.000</td> <td>   -2.001</td> <td>   -1.995</td>\n",
       "</tr>\n",
       "<tr>\n",
       "  <th>x</th>         <td>   -0.9989</td> <td>    0.001</td> <td> -794.090</td> <td> 0.000</td> <td>   -1.001</td> <td>   -0.996</td>\n",
       "</tr>\n",
       "</table>\n",
       "<table class=\"simpletable\">\n",
       "<tr>\n",
       "  <th>Omnibus:</th>       <td> 0.522</td> <th>  Durbin-Watson:     </th> <td>   1.775</td>\n",
       "</tr>\n",
       "<tr>\n",
       "  <th>Prob(Omnibus):</th> <td> 0.770</td> <th>  Jarque-Bera (JB):  </th> <td>   0.647</td>\n",
       "</tr>\n",
       "<tr>\n",
       "  <th>Skew:</th>          <td> 0.018</td> <th>  Prob(JB):          </th> <td>   0.724</td>\n",
       "</tr>\n",
       "<tr>\n",
       "  <th>Kurtosis:</th>      <td> 2.608</td> <th>  Cond. No.          </th> <td>    1.06</td>\n",
       "</tr>\n",
       "</table><br/><br/>Warnings:<br/>[1] Standard Errors assume that the covariance matrix of the errors is correctly specified."
      ],
      "text/plain": [
       "<class 'statsmodels.iolib.summary.Summary'>\n",
       "\"\"\"\n",
       "                            OLS Regression Results                            \n",
       "==============================================================================\n",
       "Dep. Variable:                      y   R-squared:                       1.000\n",
       "Model:                            OLS   Adj. R-squared:                  1.000\n",
       "Method:                 Least Squares   F-statistic:                 6.306e+05\n",
       "Date:                Thu, 11 Jul 2019   Prob (F-statistic):          1.93e-188\n",
       "Time:                        11:04:20   Log-Likelihood:                 291.32\n",
       "No. Observations:                 100   AIC:                            -578.6\n",
       "Df Residuals:                      98   BIC:                            -573.4\n",
       "Df Model:                           1                                         \n",
       "Covariance Type:            nonrobust                                         \n",
       "==============================================================================\n",
       "                 coef    std err          t      P>|t|      [0.025      0.975]\n",
       "------------------------------------------------------------------------------\n",
       "Intercept     -1.9981      0.001  -1504.988      0.000      -2.001      -1.995\n",
       "x             -0.9989      0.001   -794.090      0.000      -1.001      -0.996\n",
       "==============================================================================\n",
       "Omnibus:                        0.522   Durbin-Watson:                   1.775\n",
       "Prob(Omnibus):                  0.770   Jarque-Bera (JB):                0.647\n",
       "Skew:                           0.018   Prob(JB):                        0.724\n",
       "Kurtosis:                       2.608   Cond. No.                         1.06\n",
       "==============================================================================\n",
       "\n",
       "Warnings:\n",
       "[1] Standard Errors assume that the covariance matrix of the errors is correctly specified.\n",
       "\"\"\""
      ]
     },
     "execution_count": 21,
     "metadata": {},
     "output_type": "execute_result"
    }
   ],
   "source": [
    "results_pipe_correct = smf.ols('y ~ x', data=df_pipe).fit()\n",
    "results_pipe_correct.summary()"
   ]
  },
  {
   "cell_type": "markdown",
   "metadata": {},
   "source": [
    "**Question** Discuss the relevant coefficients that you find above."
   ]
  },
  {
   "cell_type": "markdown",
   "metadata": {
    "nbgrader": {
     "grade": true,
     "grade_id": "cell-8b8ecae7063a1ac3",
     "locked": false,
     "points": 1,
     "schema_version": 1,
     "solution": true
    }
   },
   "source": [
    "In the first regression we would --incorrectly-- conclude that there is no (statistically significant) effect of `x` on `y`.\n",
    "\n",
    "However, the second regression shows us that the correct effect is `slope_x * slope_z` $= -1$ from `x` on `y` (through `z`)."
   ]
  },
  {
   "cell_type": "markdown",
   "metadata": {},
   "source": [
    "In economics an example could be the effect of schooling on poverty. Poverty can be reduced by increasing income but also by avoiding mistakes in expenditures (e.g. not taking out loans with absurdly high interest rates). Suppose the former mechanism is the main one. Then looking at the effect of schooling on poverty *controlling* for income would suggest that schooling has hardly an effect on poverty. However, there is a strong causal effect from schooling on poverty and it happens through income.\n",
    "\n",
    "By controlling for income, you \"control away\" the real causal variable which is schooling."
   ]
  },
  {
   "cell_type": "markdown",
   "metadata": {
    "colab_type": "text",
    "id": "42ZPCNqMdm2l"
   },
   "source": [
    "## The collider\n",
    "\n",
    "Many people have the intuition that adding a control variable to a regression (especially when it turns out to be signficant) is a good idea. However, this intuition is wrong if it is applied without thinking. The pipe above is a first example where this reasoning is incorrect. The collider is a second case.\n",
    "\n",
    "We use here the education example by Richard McElreath to illustrate this point (see [Richard McElreath\n",
    "'s lecture 6](https://www.youtube.com/watch?v=l_7yIUqWBmE)). Consider the educational achievements of three generations in one family: the grandparent, the parent and the (grand)child. We are interested in the effect of the grandparent's education on the educational achievement of the grandchild. \n",
    "\n",
    "Let's denote the child's educational achievement by $Y$ (the variable we are interested in) and the grandparent's education $X$. We want to understand the effect of $X$ on $Y$. Clearly there is the following path: more educated grandparent leads to more educated parent ($Z$) which, in turn, leads to more educated grandchild. The thing we are interested in is whether there is a direct effect from the grandparent on the child, *controlling* for the parent's education.\n",
    "\n",
    "![collider](./Collider.png)\n",
    "\n",
    "We know that the parent's education has a positive effect on the child's achievement. A more educated parent will tend to stimulate their children more, can help with homework etc. In the data that we generate below, we assume that $Z = X + ...$ and $Y = Z + ...$. That is, we assume that the parent's education feeds one-to-one into the child's education. \n",
    "\n",
    "Is it the case that on top of this effect there is a separate grandparent effect? E.g. because the grandparent is babysitting and a more educated grandparent reads Hamlet with the 5 year old grandchild. That is fun and can boost the child's educational achievement.\n",
    "\n",
    "Another important component of education is the neighborhood where the child grows up. We denote this variable $U$. In the code we assume that the parent and child grow up in the same neighborhood (have the same $U$ effect).  $U$ is drawn from a standard normal distribution and the effect on education is given through a multiplication by the factor `alpha`.\n",
    "\n",
    "In addition to this, we assume that there is a random component as well which differs between parent and child.\n",
    "\n",
    "![collider](./Collider2.png)\n",
    "\n",
    "The code below, generates this data and a dataframe `df_collider` that stores this data.\n",
    "\n",
    "Look carefully at the code: is there a direct effect from the grandparent to the grandchild's educational achievement?\n",
    "\n",
    "We generate two dataframes: `df_collider` is the one that is observed and used in the analysis by the researcher. \n",
    "\n",
    "We will use `df_collider_2` to illustrate why one can get incorrect results from analyzing `df_collider`. The problem is that the researcher does not have access to `df_collider_2` but we can analyze `df_colldier_2` for \"educational purposes\" to illustrate why problems arise."
   ]
  },
  {
   "cell_type": "code",
   "execution_count": 173,
   "metadata": {
    "colab": {
     "base_uri": "https://localhost:8080/",
     "height": 230
    },
    "colab_type": "code",
    "executionInfo": {
     "elapsed": 420,
     "status": "ok",
     "timestamp": 1556188665098,
     "user": {
      "displayName": "Jan Boone",
      "photoUrl": "",
      "userId": "01680203205582182827"
     },
     "user_tz": -120
    },
    "id": "YbGfWVekX-8G",
    "outputId": "543372db-4639-456d-c1d1-d192de042d09"
   },
   "outputs": [
    {
     "name": "stdout",
     "output_type": "stream",
     "text": [
      "          X         Y         Z\n",
      "0  1.028034  1.063288  0.835722\n",
      "1 -0.970547 -2.506973 -1.579250\n",
      "2  1.115138  1.784768  1.521147\n",
      "3  0.307292 -0.201093  0.179020\n",
      "4 -0.759817 -1.808398 -2.022265\n",
      "          X         Y         Z         U\n",
      "0  1.028034  1.063288  0.835722 -0.162450\n",
      "1 -0.970547 -2.506973 -1.579250 -1.757083\n",
      "2  1.115138  1.784768  1.521147  1.322398\n",
      "3  0.307292 -0.201093  0.179020 -0.083186\n",
      "4 -0.759817 -1.808398 -2.022265 -1.066982\n"
     ]
    }
   ],
   "source": [
    "N_observations = 5000\n",
    "alpha = 0.5\n",
    "X = tf.random.normal([N_observations])\n",
    "U = tf.random.normal([N_observations])\n",
    "Z = X + alpha*U+0.4*tf.random.normal([N_observations])\n",
    "Y = Z + alpha*U+0.4*tf.random.normal([N_observations])\n",
    "\n",
    "df_collider = pd.DataFrame({'X':X, 'Y':Y, 'Z':Z})\n",
    "df_collider_2 = pd.DataFrame({'X':X, 'Y':Y, 'Z':Z, 'U':U})\n",
    "print(df_collider.head())\n",
    "print(df_collider_2.head())"
   ]
  },
  {
   "cell_type": "markdown",
   "metadata": {
    "colab_type": "text",
    "id": "W2ED-R_JNHfD"
   },
   "source": [
    "**Question** Find the (direct) effect of the grandparent ($X$) on the grandchild's educational achievement ($Y$) conditional on the parent's education ($Z$)."
   ]
  },
  {
   "cell_type": "code",
   "execution_count": 174,
   "metadata": {
    "colab": {
     "base_uri": "https://localhost:8080/",
     "height": 479
    },
    "colab_type": "code",
    "executionInfo": {
     "elapsed": 930,
     "status": "ok",
     "timestamp": 1556188667363,
     "user": {
      "displayName": "Jan Boone",
      "photoUrl": "",
      "userId": "01680203205582182827"
     },
     "user_tz": -120
    },
    "id": "st0jhpiEYD3z",
    "nbgrader": {
     "grade": true,
     "grade_id": "cell-c45ac0c65de5b1c1",
     "locked": false,
     "points": 1,
     "schema_version": 1,
     "solution": true
    },
    "outputId": "c9ffbeb6-4dbd-46a7-bbbe-735b9f1977ed"
   },
   "outputs": [
    {
     "name": "stdout",
     "output_type": "stream",
     "text": [
      "                            OLS Regression Results                            \n",
      "==============================================================================\n",
      "Dep. Variable:                      Y   R-squared:                       0.888\n",
      "Model:                            OLS   Adj. R-squared:                  0.888\n",
      "Method:                 Least Squares   F-statistic:                 1.973e+04\n",
      "Date:                Wed, 14 Aug 2019   Prob (F-statistic):               0.00\n",
      "Time:                        19:46:45   Log-Likelihood:                -3706.0\n",
      "No. Observations:                5000   AIC:                             7418.\n",
      "Df Residuals:                    4997   BIC:                             7438.\n",
      "Df Model:                           2                                         \n",
      "Covariance Type:            nonrobust                                         \n",
      "==============================================================================\n",
      "                 coef    std err          t      P>|t|      [0.025      0.975]\n",
      "------------------------------------------------------------------------------\n",
      "Intercept      0.0025      0.007      0.351      0.725      -0.012       0.017\n",
      "X             -0.5928      0.014    -43.696      0.000      -0.619      -0.566\n",
      "Z              1.5944      0.011    140.508      0.000       1.572       1.617\n",
      "==============================================================================\n",
      "Omnibus:                        4.865   Durbin-Watson:                   2.018\n",
      "Prob(Omnibus):                  0.088   Jarque-Bera (JB):                4.532\n",
      "Skew:                          -0.034   Prob(JB):                        0.104\n",
      "Kurtosis:                       2.869   Cond. No.                         3.52\n",
      "==============================================================================\n",
      "\n",
      "Warnings:\n",
      "[1] Standard Errors assume that the covariance matrix of the errors is correctly specified.\n"
     ]
    }
   ],
   "source": [
    "results = smf.ols('Y ~ X + Z', data=df_collider).fit()\n",
    "print(results.summary())"
   ]
  },
  {
   "cell_type": "markdown",
   "metadata": {
    "colab_type": "text",
    "id": "WlVQK6LCNroW"
   },
   "source": [
    "The effect of the grandparent's educational achievement ($X$) on the child's achievement is negative and significant. \n",
    "\n",
    "**Question** Where does this negative efffect come from? How is this even possible?\n",
    "\n",
    "**Question** Find the direct effect of $X$ on $Y$. Which sign does this effect have? What is the interpretation?"
   ]
  },
  {
   "cell_type": "code",
   "execution_count": 175,
   "metadata": {
    "colab": {
     "base_uri": "https://localhost:8080/",
     "height": 462
    },
    "colab_type": "code",
    "executionInfo": {
     "elapsed": 766,
     "status": "ok",
     "timestamp": 1556188668741,
     "user": {
      "displayName": "Jan Boone",
      "photoUrl": "",
      "userId": "01680203205582182827"
     },
     "user_tz": -120
    },
    "id": "7WNHOCh1YGWt",
    "nbgrader": {
     "grade": true,
     "grade_id": "cell-6ec3c72bc5162325",
     "locked": false,
     "points": 1,
     "schema_version": 1,
     "solution": true
    },
    "outputId": "8804e459-cd69-4c38-fdd6-32a972e898ad"
   },
   "outputs": [
    {
     "name": "stdout",
     "output_type": "stream",
     "text": [
      "                            OLS Regression Results                            \n",
      "==============================================================================\n",
      "Dep. Variable:                      Y   R-squared:                       0.443\n",
      "Model:                            OLS   Adj. R-squared:                  0.443\n",
      "Method:                 Least Squares   F-statistic:                     3983.\n",
      "Date:                Wed, 14 Aug 2019   Prob (F-statistic):               0.00\n",
      "Time:                        19:46:47   Log-Likelihood:                -7704.9\n",
      "No. Observations:                5000   AIC:                         1.541e+04\n",
      "Df Residuals:                    4998   BIC:                         1.543e+04\n",
      "Df Model:                           1                                         \n",
      "Covariance Type:            nonrobust                                         \n",
      "==============================================================================\n",
      "                 coef    std err          t      P>|t|      [0.025      0.975]\n",
      "------------------------------------------------------------------------------\n",
      "Intercept      0.0286      0.016      1.788      0.074      -0.003       0.060\n",
      "X              1.0183      0.016     63.112      0.000       0.987       1.050\n",
      "==============================================================================\n",
      "Omnibus:                        1.291   Durbin-Watson:                   2.048\n",
      "Prob(Omnibus):                  0.524   Jarque-Bera (JB):                1.330\n",
      "Skew:                           0.027   Prob(JB):                        0.514\n",
      "Kurtosis:                       2.941   Cond. No.                         1.01\n",
      "==============================================================================\n",
      "\n",
      "Warnings:\n",
      "[1] Standard Errors assume that the covariance matrix of the errors is correctly specified.\n"
     ]
    }
   ],
   "source": [
    "results2 = smf.ols('Y ~ X', data=df_collider).fit()\n",
    "print(results2.summary())\n"
   ]
  },
  {
   "cell_type": "markdown",
   "metadata": {
    "nbgrader": {
     "grade": true,
     "grade_id": "cell-29865003fc27a16a",
     "locked": false,
     "points": 1,
     "schema_version": 1,
     "solution": true
    }
   },
   "source": [
    "We will come back to the negative correlation using graphs below.\n",
    "\n",
    "The positive effect of grandparents ($X$) on grandchild education ($Y$) is via the parent's education ($Z$): better educated grandparent leads to better education parent which in turn leads to better educated grandchild."
   ]
  },
  {
   "cell_type": "markdown",
   "metadata": {
    "colab_type": "text",
    "id": "ILo37WUppWMw"
   },
   "source": [
    "To understand the negative effect of $X$ on $Y$, let's think about what it means to \"control for parental education $Z$\". \n",
    "\n",
    "To visualize what happens, we condition on $Z$ by focusing on a narrow band of $Z$ observations. In other words, we condition on $Z$ by focusing on a subsample where the $Z$ values are (almost) the same. We do this by creating a column `selected` in our dataframe."
   ]
  },
  {
   "cell_type": "code",
   "execution_count": 176,
   "metadata": {
    "colab": {},
    "colab_type": "code",
    "id": "Zzc8Qj5djoaI"
   },
   "outputs": [
    {
     "data": {
      "text/html": [
       "<div>\n",
       "<style scoped>\n",
       "    .dataframe tbody tr th:only-of-type {\n",
       "        vertical-align: middle;\n",
       "    }\n",
       "\n",
       "    .dataframe tbody tr th {\n",
       "        vertical-align: top;\n",
       "    }\n",
       "\n",
       "    .dataframe thead th {\n",
       "        text-align: right;\n",
       "    }\n",
       "</style>\n",
       "<table border=\"1\" class=\"dataframe\">\n",
       "  <thead>\n",
       "    <tr style=\"text-align: right;\">\n",
       "      <th></th>\n",
       "      <th>X</th>\n",
       "      <th>Y</th>\n",
       "      <th>Z</th>\n",
       "      <th>selected</th>\n",
       "    </tr>\n",
       "  </thead>\n",
       "  <tbody>\n",
       "    <tr>\n",
       "      <th>0</th>\n",
       "      <td>1.028034</td>\n",
       "      <td>1.063288</td>\n",
       "      <td>0.835722</td>\n",
       "      <td>False</td>\n",
       "    </tr>\n",
       "    <tr>\n",
       "      <th>1</th>\n",
       "      <td>-0.970547</td>\n",
       "      <td>-2.506973</td>\n",
       "      <td>-1.579250</td>\n",
       "      <td>False</td>\n",
       "    </tr>\n",
       "    <tr>\n",
       "      <th>2</th>\n",
       "      <td>1.115138</td>\n",
       "      <td>1.784768</td>\n",
       "      <td>1.521147</td>\n",
       "      <td>False</td>\n",
       "    </tr>\n",
       "    <tr>\n",
       "      <th>3</th>\n",
       "      <td>0.307292</td>\n",
       "      <td>-0.201093</td>\n",
       "      <td>0.179020</td>\n",
       "      <td>False</td>\n",
       "    </tr>\n",
       "    <tr>\n",
       "      <th>4</th>\n",
       "      <td>-0.759817</td>\n",
       "      <td>-1.808398</td>\n",
       "      <td>-2.022265</td>\n",
       "      <td>False</td>\n",
       "    </tr>\n",
       "  </tbody>\n",
       "</table>\n",
       "</div>"
      ],
      "text/plain": [
       "          X         Y         Z  selected\n",
       "0  1.028034  1.063288  0.835722     False\n",
       "1 -0.970547 -2.506973 -1.579250     False\n",
       "2  1.115138  1.784768  1.521147     False\n",
       "3  0.307292 -0.201093  0.179020     False\n",
       "4 -0.759817 -1.808398 -2.022265     False"
      ]
     },
     "execution_count": 176,
     "metadata": {},
     "output_type": "execute_result"
    }
   ],
   "source": [
    "df_collider['selected'] = np.abs(df_collider.Z)<0.05\n",
    "df_collider.head()"
   ]
  },
  {
   "cell_type": "markdown",
   "metadata": {
    "colab": {
     "base_uri": "https://localhost:8080/",
     "height": 206
    },
    "colab_type": "code",
    "executionInfo": {
     "elapsed": 543,
     "status": "ok",
     "timestamp": 1556188670972,
     "user": {
      "displayName": "Jan Boone",
      "photoUrl": "",
      "userId": "01680203205582182827"
     },
     "user_tz": -120
    },
    "id": "ythl_bmoiTVc",
    "outputId": "4e49ce97-594b-4cdc-85ac-9059901ff3d3"
   },
   "source": [
    "**Question** Plot $X$ against $Y$ for all the data (in blue) and for the values of $Z$ where $|Z|<0.05$ (in orange)."
   ]
  },
  {
   "cell_type": "code",
   "execution_count": 177,
   "metadata": {
    "nbgrader": {
     "grade": true,
     "grade_id": "cell-58a4e7a604ca6472",
     "locked": false,
     "points": 1,
     "schema_version": 1,
     "solution": true
    }
   },
   "outputs": [
    {
     "data": {
      "image/png": "[encoded data removed]",
      "text/plain": [
       "<Figure size 432x288 with 1 Axes>"
      ]
     },
     "metadata": {
      "needs_background": "light"
     },
     "output_type": "display_data"
    }
   ],
   "source": [
    "plt.scatter(df_collider.X,df_collider.Y,label='all data')\n",
    "plt.scatter(df_collider[df_collider.selected].X,df_collider[df_collider.selected].Y, label = 'data with $|Z| < 0.5$')\n",
    "plt.xlabel('education of grandparent, $X$')\n",
    "plt.ylabel('education of grandchild, $Y$')\n",
    "plt.legend()\n",
    "plt.show()"
   ]
  },
  {
   "cell_type": "markdown",
   "metadata": {
    "colab_type": "text",
    "id": "gMwDuCmh1LCt"
   },
   "source": [
    "**Question** Give the intuition why there is a negative correlation between $X$ and $Y$ with the orange dots. [hint: what do you know about orange dots with low $X$ and about orange dots with high $X$?]\n",
    "\n",
    "If you cannot answer this question yet, consider the following interactive graph.\n",
    "\n"
   ]
  },
  {
   "cell_type": "markdown",
   "metadata": {
    "nbgrader": {
     "grade": true,
     "grade_id": "cell-a263f2f972584d1d",
     "locked": false,
     "points": 1,
     "schema_version": 1,
     "solution": true
    }
   },
   "source": [
    "Consider the orange dots above. Each of these has (approx.) the same parental education $Z$. Consider an orange dot with low $X$; how can the parent still have a relatively good educational record? \n",
    "\n",
    "The neighborhood $U$ must have been quite good. All orange points have the same $Z$ but points with low $X$ have very good neighborhoods. Hence, the low $X$ *for given* $Z$ will lead to high $Y$. These grandchildren live in exceptionally good neighborhoods and hence have high educational attainment $Y$.\n",
    "\n",
    "A high $X$ value, for given $Z$ implies that the neighborhood is not very good. Hence, *for given* $Z$, the achievement of the grandchild will be rather low.\n",
    "\n",
    "This is how we get a negative correlation between $X$ and $Y$ for given $Z$. \n",
    "\n",
    "In this sense, the correlation is \"correct\"; but it may not be what you expect. And it is easy to mis-interpret this result.\n",
    "\n"
   ]
  },
  {
   "cell_type": "markdown",
   "metadata": {
    "colab_type": "text",
    "id": "yOp8m46p14Au"
   },
   "source": [
    "To better understand what is happening here, we are going to use `df_collider_2`. In particular, in the combined figure below, we again provide a scatter plot of `X` vs `Y`. Now the color indicates the level of `Z` associated with the observation; darker colors indicate higher values of `Z`. The size of the point (circle) indicates the level of `U` (that the researcher cannot see in `df_collider`).\n",
    "\n",
    "To better illustrate what is happening, we use an interactive plot made with [altair](https://altair-viz.github.io/).\n",
    "\n",
    "To condition on `Z` (as we do in a multiple regression), we can drag a rectangle in the bottom histogram. That is, drag the rectangle so that you \"capture\" a bar in the histogram. This selection of $Z$ turns blue and you can drag the selection up and down (conditioning on different values of $Z$).\n",
    "\n",
    "Move this selection up and down and see what happens. In particular:\n",
    "* how does `Z` vary in the figure? E.g. where are the high values of `Z`? What is the interpretation of this?\n",
    "* for a selection of `Z` in the bottom histogram, what is the relation between `X` and `Y`?\n",
    "* for this selection, how does `U` vary in the figure? That is, for a given selection of $Z$ what is the size of the circles? What is the interpretation?\n",
    "\n",
    "\n",
    "**Question** Give the intuition why there is a negative correlation between `X` and `Y` for a selection of `Z`; that is, conditional on `Z`.\n",
    "\n",
    "**Exercise** What is the risk of saying: I have run a regression and controlled for all effects that I had variables for?"
   ]
  },
  {
   "cell_type": "code",
   "execution_count": 178,
   "metadata": {
    "colab": {
     "base_uri": "https://localhost:8080/",
     "height": 728
    },
    "colab_type": "code",
    "executionInfo": {
     "elapsed": 1129,
     "status": "ok",
     "timestamp": 1556195913155,
     "user": {
      "displayName": "Jan Boone",
      "photoUrl": "",
      "userId": "01680203205582182827"
     },
     "user_tz": -120
    },
    "id": "VC8-77Rf12u5",
    "outputId": "96cd0c7c-22ba-4fc4-f98c-513d4b8e2f23"
   },
   "outputs": [],
   "source": [
    "interval = alt.selection_interval(encodings=['y'])\n",
    "\n",
    "fig = alt.Chart(df_collider_2).mark_point().encode(\n",
    "  x='X',\n",
    "  y='Y',\n",
    "  color=alt.condition(interval, 'Z', alt.value('lightgreen')),\n",
    "  size = 'U'\n",
    ").properties(\n",
    "    selection=interval\n",
    "\n",
    ")\n",
    "\n",
    "\n",
    "\n",
    "hist = alt.Chart(df_collider_2).mark_bar().encode(\n",
    "    x='count()',\n",
    "    y=alt.Y('Z',bin=True),\n",
    "    color=alt.condition(interval, 'Z', alt.value('lightgrey'))\n",
    ").properties(\n",
    "    selection=interval\n",
    "\n",
    ")\n",
    "\n",
    "chart_collider = fig & hist\n",
    "\n",
    "chart_collider.save('ChartCollider.html')"
   ]
  },
  {
   "cell_type": "code",
   "execution_count": 179,
   "metadata": {
    "scrolled": false
   },
   "outputs": [
    {
     "data": {
      "text/html": [
       "\n",
       "<iframe width=\"840\" height=\"800\" src=\"./ChartCollider.html\" frameborder=\"0\"></iframe>\n"
      ],
      "text/plain": [
       "<IPython.core.display.HTML object>"
      ]
     },
     "metadata": {},
     "output_type": "display_data"
    }
   ],
   "source": [
    "%%HTML\n",
    "\n",
    "<iframe width=\"840\" height=\"800\" src=\"./ChartCollider.html\" frameborder=\"0\"></iframe>"
   ]
  },
  {
   "cell_type": "markdown",
   "metadata": {
    "nbgrader": {
     "grade": true,
     "grade_id": "cell-250fcf8087509d00",
     "locked": false,
     "points": 1,
     "schema_version": 1,
     "solution": true
    }
   },
   "source": [
    "For a given value of parent education $Z$, consider 2 different levels of grandparent education $X_l,X_h$ with $X_h > X_l$. At low grandparent education $X_l$ we can only get to the same level of parent education $Z$ if the neighborhood ($U$) was very good. The circle above is quite big.\n",
    "\n",
    "For high $X_h$ to lead to same parent education level $Z$, the neighborhood must have been \"below average\": small circles in the figure above.\n",
    "\n",
    "Since we are controlling for parental education $Z$, the effect on grandchild educational achievement is driven by neighborhood: at $X_l$, the neighborhood was good and $Y$ is high. At $X_h$, the neigborhood was not very good and $Y$ is low. Hence we get a negative association between $X$ and $Y$.\n",
    "\n",
    "If we could observe $U$ and control for it, we find:"
   ]
  },
  {
   "cell_type": "code",
   "execution_count": 29,
   "metadata": {
    "nbgrader": {
     "grade": true,
     "grade_id": "cell-a11ada232f82a470",
     "locked": false,
     "points": 1,
     "schema_version": 1,
     "solution": true
    }
   },
   "outputs": [
    {
     "name": "stdout",
     "output_type": "stream",
     "text": [
      "                            OLS Regression Results                            \n",
      "==============================================================================\n",
      "Dep. Variable:                      Y   R-squared:                       0.933\n",
      "Model:                            OLS   Adj. R-squared:                  0.933\n",
      "Method:                 Least Squares   F-statistic:                 2.331e+04\n",
      "Date:                Thu, 11 Jul 2019   Prob (F-statistic):               0.00\n",
      "Time:                        11:48:31   Log-Likelihood:                -2472.4\n",
      "No. Observations:                5000   AIC:                             4953.\n",
      "Df Residuals:                    4996   BIC:                             4979.\n",
      "Df Model:                           3                                         \n",
      "Covariance Type:            nonrobust                                         \n",
      "==============================================================================\n",
      "                 coef    std err          t      P>|t|      [0.025      0.975]\n",
      "------------------------------------------------------------------------------\n",
      "Intercept     -0.0066      0.006     -1.173      0.241      -0.018       0.004\n",
      "X             -0.0082      0.015     -0.550      0.582      -0.037       0.021\n",
      "Z              1.0098      0.014     72.669      0.000       0.983       1.037\n",
      "U              0.5005      0.009     56.164      0.000       0.483       0.518\n",
      "==============================================================================\n",
      "Omnibus:                        1.908   Durbin-Watson:                   2.000\n",
      "Prob(Omnibus):                  0.385   Jarque-Bera (JB):                1.856\n",
      "Skew:                          -0.002   Prob(JB):                        0.395\n",
      "Kurtosis:                       2.906   Cond. No.                         5.82\n",
      "==============================================================================\n",
      "\n",
      "Warnings:\n",
      "[1] Standard Errors assume that the covariance matrix of the errors is correctly specified.\n"
     ]
    }
   ],
   "source": [
    "results_3 = smf.ols('Y ~ X + Z + U', data=df_collider_2).fit()\n",
    "print(results_3.summary())"
   ]
  },
  {
   "cell_type": "markdown",
   "metadata": {
    "nbgrader": {
     "grade": true,
     "grade_id": "cell-6e88fa733f26814a",
     "locked": false,
     "points": 1,
     "schema_version": 1,
     "solution": true
    }
   },
   "source": [
    "Hence, we find no effect of $X$ on $Y$ and a positive effect of $Z$ on $Y$, which is in line with how we generated the data.\n",
    "\n",
    "Further $U$ has a positive effect on $Y$ as well.\n",
    "\n",
    "But if we cannot observe $U$, we cannot \"solve\" the collider. We either find the positive effect of $X$ on $Y$ (via parental education $Z$) or we find the counter-intuitive negative effect when we control for $Z$."
   ]
  },
  {
   "cell_type": "markdown",
   "metadata": {
    "colab_type": "text",
    "id": "Jyve80prPAB2"
   },
   "source": [
    "# Some background on tensors\n",
    "\n",
    "In the past, when you worked with data, you would usually have 2-dimensional data: columns for the different variables and rows for the different observations. That is, the data is represented as a matrix.\n",
    "\n",
    "However, \"big data\" is not necessarily structured in such a neat way. Data can have higher dimensions. We will start with data on images. An image has two dimensions of itself. Hence a dataset with images has 3 dimensions: one dimension for the identifier of the image and then x-y coordinates for the image itself.\n",
    "\n",
    "If the dataset consists of movie-clips, we have an additional dimension: time.\n",
    "\n",
    "In economics, when we look at GDP, our observation would be GDP of the UK in 2010, GDP of the UK in 2011, GDP of Belgium in 2010 etc. This can be represented as a matrix.\n",
    "\n",
    "But now suppose we believe the development of GDP is important. Our observation would be GDP of the UK in 2010-2018. This gives 3 dimensional data. The observation is GDP in the period. \n",
    "\n",
    "To deal with higher dimensional data, we need \"tensors\". A tensor generalizes a matrix to higher dimensions.\n",
    "\n",
    "We will now have a technical interlude to explain what tensors are and what you can do with them. We describe some functions that can be applied to tensors. To motivate these functions, we will build our first neural network. The point here is not so much to explain how neural networks work but more to show you that the functions we consider are going to be useful later on when we will try to understand neural networks more deeply.\n",
    "\n",
    "Machine learning packages tend to have a \"backbone\" that implements tensors. E.g. Keras allows you to work with either [Theano](http://www.deeplearning.net/software/theano/) or [tensorflow](https://www.tensorflow.org/)."
   ]
  },
  {
   "cell_type": "markdown",
   "metadata": {
    "colab_type": "text",
    "id": "zOGCDKigifED"
   },
   "source": [
    "## Tensors\n",
    "\n",
    "As mentioned, in most of the empirical analyses that you have done, an observation is a one dimensional vector. E.g. you have data on inflation, unemployment, gdp growth for country-year combinations. Then for the UK in 2000, our data  consists of the one dimensional vector `[inflation, unemployment, gdp growth]`. If you have 100 observations like this, you can represent them in a matrix. Each row is an observation and the columns will be `[coutry, year, inflation, unemployment, gdp growth]`. Hence we have a two dimensional dataset with 100 rows and 5 columns.\n",
    "\n",
    "In big data, there are usually higher dimension observations. One of the \"classic\" datasets in machine learning is [the MNIST dataset.](https://en.wikipedia.org/wiki/MNIST_database) This dataset consists of handwritten numbers and their corresponding label (e.g. when the handwritten number is 5, the label for this image `5`). We will see an example shortly.\n",
    "\n",
    "The point is that a handwritten number is a two dimensional observation. For each x-y comination, we get the grey-scale of this point/pixel. To illustrate this, consider the 5th image from the training dataset (python starts numbering at 0); we plot the handwritten image (which is 2 dimensional) and print its label.\n",
    "\n",
    "This data is already split in a train and test set. Something we will elaborate on below."
   ]
  },
  {
   "cell_type": "code",
   "execution_count": 2,
   "metadata": {
    "colab": {
     "base_uri": "https://localhost:8080/",
     "height": 53
    },
    "colab_type": "code",
    "executionInfo": {
     "elapsed": 1053,
     "status": "ok",
     "timestamp": 1556370513629,
     "user": {
      "displayName": "Jan Boone",
      "photoUrl": "",
      "userId": "01680203205582182827"
     },
     "user_tz": -120
    },
    "id": "SmEybeeliYi8",
    "outputId": "813f060a-15c5-4264-88cd-0a38cffb5c7d"
   },
   "outputs": [],
   "source": [
    "(train_images, train_labels), (test_images, test_labels) = datasets.mnist.load_data()"
   ]
  },
  {
   "cell_type": "code",
   "execution_count": 4,
   "metadata": {
    "colab": {
     "base_uri": "https://localhost:8080/",
     "height": 287
    },
    "colab_type": "code",
    "executionInfo": {
     "elapsed": 444,
     "status": "ok",
     "timestamp": 1556370516249,
     "user": {
      "displayName": "Jan Boone",
      "photoUrl": "",
      "userId": "01680203205582182827"
     },
     "user_tz": -120
    },
    "id": "8SSJCxWMkQe6",
    "outputId": "25b3b30f-7ad0-44bd-f7fe-e4c1e133af55"
   },
   "outputs": [
    {
     "data": {
      "image/png": "[encoded data removed]",
      "text/plain": [
       "<Figure size 432x288 with 1 Axes>"
      ]
     },
     "metadata": {
      "needs_background": "light"
     },
     "output_type": "display_data"
    },
    {
     "name": "stdout",
     "output_type": "stream",
     "text": [
      "9\n"
     ]
    }
   ],
   "source": [
    "plt.imshow(train_images[4],cmap=plt.cm.binary)\n",
    "plt.show()\n",
    "print(train_labels[4])"
   ]
  },
  {
   "cell_type": "markdown",
   "metadata": {},
   "source": [
    "If you want to \"see\" what the data look like, uncomment the next cell and evaluate it."
   ]
  },
  {
   "cell_type": "code",
   "execution_count": 7,
   "metadata": {},
   "outputs": [],
   "source": [
    "#train_images[4]"
   ]
  },
  {
   "cell_type": "markdown",
   "metadata": {
    "colab_type": "text",
    "id": "c4L5zmRgqMJo"
   },
   "source": [
    "Indeed, the handwritten number is 9, which equals its label.\n",
    "\n",
    "What are the dimensions for this dataset. Let's use `shape` to find out. Friendly warning, when you go into machine learning, you will be using `shape` a lot!"
   ]
  },
  {
   "cell_type": "code",
   "execution_count": 9,
   "metadata": {
    "colab": {
     "base_uri": "https://localhost:8080/",
     "height": 34
    },
    "colab_type": "code",
    "executionInfo": {
     "elapsed": 490,
     "status": "ok",
     "timestamp": 1556282456035,
     "user": {
      "displayName": "Jan Boone",
      "photoUrl": "",
      "userId": "01680203205582182827"
     },
     "user_tz": -120
    },
    "id": "WOg2L1fAkhZv",
    "outputId": "1ad602f3-b610-452f-a895-a7d2195a8605"
   },
   "outputs": [
    {
     "data": {
      "text/plain": [
       "(60000, 28, 28)"
      ]
     },
     "execution_count": 9,
     "metadata": {},
     "output_type": "execute_result"
    }
   ],
   "source": [
    "train_images.shape"
   ]
  },
  {
   "cell_type": "markdown",
   "metadata": {
    "colab_type": "text",
    "id": "Oj8-DKccqmca"
   },
   "source": [
    "That is, we have 60,000 images in the train-set and each image is of the form 28 by 28 (pixels).\n",
    "\n",
    "As an illustration, the dimensions of the first image in the dataset `train_images`."
   ]
  },
  {
   "cell_type": "code",
   "execution_count": 10,
   "metadata": {
    "colab": {
     "base_uri": "https://localhost:8080/",
     "height": 34
    },
    "colab_type": "code",
    "executionInfo": {
     "elapsed": 510,
     "status": "ok",
     "timestamp": 1556282548428,
     "user": {
      "displayName": "Jan Boone",
      "photoUrl": "",
      "userId": "01680203205582182827"
     },
     "user_tz": -120
    },
    "id": "gXigpmrjqbW7",
    "outputId": "82312993-9953-49d6-c469-bd592ff2e944"
   },
   "outputs": [
    {
     "data": {
      "text/plain": [
       "(28, 28)"
      ]
     },
     "execution_count": 10,
     "metadata": {},
     "output_type": "execute_result"
    }
   ],
   "source": [
    "train_images[0].shape"
   ]
  },
  {
   "cell_type": "markdown",
   "metadata": {
    "colab_type": "text",
    "id": "Pq8zXvScr19o"
   },
   "source": [
    "## Tensors in numpy\n",
    "\n",
    "As mentioned, well known machine learning backends are theano and tensorflow. For reasons that we do not worry about here, these are not immediately straightforward to work with (but we have used some tensorflow already above). We can play around with dimensions in \"good old\" numpy as well. Properties that we can use in numpy, like broadcasting, can be used in theano and tensorflow as well.\n",
    "\n",
    "As numpy is \"more direct\" to work with, we will practice this with numpy.\n",
    "\n",
    "**Remark** Although you are always encouraged to play around with code to see what happens, this is especially the case with tensors. To familiarize yourself with tensors, change the code that we use below; e.g. create a 10 dimensional vector out of the data. You can check for yourself whether the code generates what you expect it to generate. If not, and you cannot figure out what happens, ask us!\n",
    "\n",
    "First, we create the vector `x` with 100 random numbers. "
   ]
  },
  {
   "cell_type": "code",
   "execution_count": 18,
   "metadata": {
    "colab": {},
    "colab_type": "code",
    "id": "_HmqgKGEqx6c"
   },
   "outputs": [],
   "source": [
    "x = np.random.normal(0,1,size=100)"
   ]
  },
  {
   "cell_type": "markdown",
   "metadata": {
    "colab_type": "text",
    "id": "yd-M7PXttRW_"
   },
   "source": [
    "**Question** Use `shape` to find the shape of the vector `x`."
   ]
  },
  {
   "cell_type": "code",
   "execution_count": 12,
   "metadata": {
    "colab": {
     "base_uri": "https://localhost:8080/",
     "height": 34
    },
    "colab_type": "code",
    "executionInfo": {
     "elapsed": 505,
     "status": "ok",
     "timestamp": 1556283042608,
     "user": {
      "displayName": "Jan Boone",
      "photoUrl": "",
      "userId": "01680203205582182827"
     },
     "user_tz": -120
    },
    "id": "1tqdba21soaO",
    "nbgrader": {
     "grade": true,
     "grade_id": "cell-64e1f3c7866d8945",
     "locked": false,
     "points": 1,
     "schema_version": 1,
     "solution": true
    },
    "outputId": "5eec91a3-50ad-4ac4-b1e4-87acddd5ed58"
   },
   "outputs": [
    {
     "data": {
      "text/plain": [
       "(100,)"
      ]
     },
     "execution_count": 12,
     "metadata": {},
     "output_type": "execute_result"
    }
   ],
   "source": [
    "x.shape"
   ]
  },
  {
   "cell_type": "markdown",
   "metadata": {
    "colab_type": "text",
    "id": "48L7R9QvtXaF"
   },
   "source": [
    "As you can see, `x` has 100 elements in one dimension and no other dimension. Put differently, `x` is one-dimensional as a tensor.\n",
    "\n",
    "This we can verify using `ndim`:"
   ]
  },
  {
   "cell_type": "code",
   "execution_count": 13,
   "metadata": {
    "colab": {
     "base_uri": "https://localhost:8080/",
     "height": 34
    },
    "colab_type": "code",
    "executionInfo": {
     "elapsed": 577,
     "status": "ok",
     "timestamp": 1556283118592,
     "user": {
      "displayName": "Jan Boone",
      "photoUrl": "",
      "userId": "01680203205582182827"
     },
     "user_tz": -120
    },
    "id": "ZHoMyyxhspAB",
    "outputId": "1998c7d9-72a8-4988-9d84-4ff7ea900936"
   },
   "outputs": [
    {
     "data": {
      "text/plain": [
       "1"
      ]
     },
     "execution_count": 13,
     "metadata": {},
     "output_type": "execute_result"
    }
   ],
   "source": [
    "x.ndim"
   ]
  },
  {
   "cell_type": "markdown",
   "metadata": {
    "colab_type": "text",
    "id": "yDNJKPz0thFs"
   },
   "source": [
    "**Do not panic:** The following sentence will be a bit confusing when you first read it, but you will get used to it later. If you would plot the vector `x` it would be a *vector* in a 100-dimensional space. Hence it is a 100 dimensional vector, but a 1 dimensional tensor.\n",
    "\n",
    "To understand this better, let's consider a two dimensional (2D) tensor. This is what we usually call a matrix:"
   ]
  },
  {
   "cell_type": "code",
   "execution_count": 14,
   "metadata": {
    "colab": {},
    "colab_type": "code",
    "id": "-wG27xM_s9GN"
   },
   "outputs": [
    {
     "name": "stdout",
     "output_type": "stream",
     "text": [
      "2\n",
      "(25, 4)\n"
     ]
    }
   ],
   "source": [
    "x2 = x.reshape(25,4)\n",
    "print(x2.ndim)\n",
    "print(x2.shape)"
   ]
  },
  {
   "cell_type": "markdown",
   "metadata": {},
   "source": [
    "By evaluating `x2` we see that this indeed \"looks like\" a matrix. \n",
    "\n",
    "In terms of python, we can see the two dimensions as follows:\n",
    "* each row has four elements (columns) separated by comma's (`,`) in between square brackets, like `[1,2,3,4]`; \n",
    "* then between square brackets, we have 25 of such rows; again rows separated by comma's."
   ]
  },
  {
   "cell_type": "code",
   "execution_count": 17,
   "metadata": {},
   "outputs": [
    {
     "data": {
      "text/plain": [
       "array([[ 0.43039847, -0.18971864,  0.42519277,  0.76094946],\n",
       "       [-0.43028274, -2.04155479, -0.08631933,  2.11045887],\n",
       "       [-1.42133004, -0.52557509, -1.18514198,  1.31744594],\n",
       "       [ 2.63634025,  1.10630258,  0.93078797, -0.04308814],\n",
       "       [ 0.26047991,  1.09189891,  0.93715493,  0.65121552],\n",
       "       [ 0.53117809, -0.03687864,  0.14097119, -0.79780483],\n",
       "       [ 0.31801858,  1.49815025, -0.68677996,  1.16897524],\n",
       "       [-0.07717613,  0.37291292, -0.38493892,  0.90477142],\n",
       "       [-0.5111465 , -1.42062458, -0.21835386,  0.28010054],\n",
       "       [-2.14945073,  0.38696359, -0.72001128,  1.06370857],\n",
       "       [-0.04407563,  0.32375656, -0.5525406 ,  0.7679692 ],\n",
       "       [-1.44509335, -1.28600877, -0.48705055, -1.7431975 ],\n",
       "       [-0.24177759, -0.28062367, -1.42306967,  1.87071843],\n",
       "       [ 0.84926282,  1.82832301, -0.56001574, -0.12611429],\n",
       "       [ 0.24126222, -0.39126638,  0.69671538, -0.94735502],\n",
       "       [ 0.83171065, -0.0337962 , -0.4283511 , -0.24210252],\n",
       "       [-1.35181647, -0.49263266,  0.04970004, -0.8957184 ],\n",
       "       [-0.33697828, -1.69606155,  0.79377964, -0.44465612],\n",
       "       [-0.10763321, -0.94768482,  0.28729672, -0.58459113],\n",
       "       [-0.28601115, -2.1675978 ,  1.25956406, -0.34837622],\n",
       "       [ 0.54022386, -0.76649682,  0.80346224, -0.22279952],\n",
       "       [-0.59155165,  1.59622426,  0.98122289,  1.3941575 ],\n",
       "       [-0.33785253,  1.0248993 ,  0.25517634, -1.70788267],\n",
       "       [ 0.61710574, -0.78207586, -0.29855461,  1.00499318],\n",
       "       [-0.67769592,  1.08162422, -1.29605833, -0.15515634]])"
      ]
     },
     "execution_count": 17,
     "metadata": {},
     "output_type": "execute_result"
    }
   ],
   "source": [
    "x2"
   ]
  },
  {
   "cell_type": "markdown",
   "metadata": {
    "colab": {
     "base_uri": "https://localhost:8080/",
     "height": 34
    },
    "colab_type": "code",
    "executionInfo": {
     "elapsed": 579,
     "status": "ok",
     "timestamp": 1556283467537,
     "user": {
      "displayName": "Jan Boone",
      "photoUrl": "",
      "userId": "01680203205582182827"
     },
     "user_tz": -120
    },
    "id": "CkSfmwM_uNpB",
    "outputId": "6451e1d3-7504-45cf-c488-0fa2c262f5af"
   },
   "source": [
    "Note how the `reshape` method turns the 100 elements of the 1-dimensional vector `x`into a matrix with 25 \"rows\" and 4 \"columns\". This matrix is 2-dimensional.\n",
    "\n",
    "**Question** Create a 3-dimensional vector `x3` out of `x` with shape 4 by 5 by 5. Check the dimensions and shape of `x3`."
   ]
  },
  {
   "cell_type": "code",
   "execution_count": 19,
   "metadata": {
    "colab": {},
    "colab_type": "code",
    "id": "so_DNWlEuTow",
    "nbgrader": {
     "grade": true,
     "grade_id": "cell-d8b0878a080c42f5",
     "locked": false,
     "points": 1,
     "schema_version": 1,
     "solution": true
    }
   },
   "outputs": [
    {
     "name": "stdout",
     "output_type": "stream",
     "text": [
      "3\n",
      "(4, 5, 5)\n"
     ]
    }
   ],
   "source": [
    "x3 = x.reshape(4,5,5)\n",
    "print(x3.ndim)\n",
    "print(x3.shape)"
   ]
  },
  {
   "cell_type": "markdown",
   "metadata": {
    "colab_type": "text",
    "id": "j1eB-x0Lu0R7"
   },
   "source": [
    "One way to think about `x3` is as four $5*5$ images. The numpy representation of this is as follows:"
   ]
  },
  {
   "cell_type": "code",
   "execution_count": 20,
   "metadata": {
    "colab": {
     "base_uri": "https://localhost:8080/",
     "height": 748
    },
    "colab_type": "code",
    "executionInfo": {
     "elapsed": 1388,
     "status": "ok",
     "timestamp": 1556283635679,
     "user": {
      "displayName": "Jan Boone",
      "photoUrl": "",
      "userId": "01680203205582182827"
     },
     "user_tz": -120
    },
    "id": "e4dvF-EiuwKo",
    "outputId": "3f4e828f-e2d3-41c7-ee87-ca3fd53106ff"
   },
   "outputs": [
    {
     "data": {
      "text/plain": [
       "array([[[-0.12446782, -0.47754069,  0.28286253,  0.4053421 ,\n",
       "         -0.16802273],\n",
       "        [ 2.20558296, -0.05118773,  1.39500378,  1.78488186,\n",
       "          1.08235686],\n",
       "        [ 0.87686522, -0.20671631,  0.35100561,  0.64903912,\n",
       "          0.9957796 ],\n",
       "        [ 0.16289835,  0.50182196, -1.30775613,  0.83145719,\n",
       "         -0.63678251],\n",
       "        [-0.11677272,  1.94690424, -0.04884202, -0.98654782,\n",
       "          0.21946028]],\n",
       "\n",
       "       [[-0.22051306,  0.6758049 , -0.6831547 ,  0.41652044,\n",
       "          0.87625944],\n",
       "        [ 0.13993186,  1.09146755, -0.53629067,  0.60675307,\n",
       "         -1.21909651],\n",
       "        [-1.44544852,  0.42683751, -1.95228316,  0.34846495,\n",
       "          0.09533901],\n",
       "        [-1.25140429,  1.37686909, -0.0575734 , -0.3705979 ,\n",
       "         -1.50041301],\n",
       "        [ 0.6209617 ,  0.3626973 , -0.34769965, -0.81597961,\n",
       "         -0.78446973]],\n",
       "\n",
       "       [[-0.76301464,  0.22877353,  0.90032074, -0.73119446,\n",
       "          0.0369272 ],\n",
       "        [ 0.90228752,  1.40042031, -0.70867195,  0.84391395,\n",
       "          0.69482131],\n",
       "        [-1.16695679, -0.98651683, -0.1172544 , -0.68062323,\n",
       "          0.50116803],\n",
       "        [-0.89362797, -0.89985595,  0.70100903, -0.21212447,\n",
       "          0.5677732 ],\n",
       "        [-1.28330358, -0.01303367,  0.13867556,  0.93396161,\n",
       "          1.03754412]],\n",
       "\n",
       "       [[-0.26294133,  1.61306265,  0.77874492, -1.58286875,\n",
       "          0.4973703 ],\n",
       "        [ 0.06401975, -1.12497102,  0.94339919, -1.2869574 ,\n",
       "          0.16038506],\n",
       "        [ 0.57890917, -0.52700454, -1.68677636, -1.2569529 ,\n",
       "          0.44149633],\n",
       "        [-0.7494551 , -2.24112348, -0.66995746, -0.49164949,\n",
       "         -0.8415757 ],\n",
       "        [ 0.72982195, -0.61309062,  0.04346598, -0.74648736,\n",
       "          1.02464409]]])"
      ]
     },
     "execution_count": 20,
     "metadata": {},
     "output_type": "execute_result"
    }
   ],
   "source": [
    "x3"
   ]
  },
  {
   "cell_type": "markdown",
   "metadata": {
    "colab_type": "text",
    "id": "6STQAVi9vhlt"
   },
   "source": [
    "With `np.newaxis` we can add a dimension to a vector without adding or re-arranging data. This works as follows:"
   ]
  },
  {
   "cell_type": "code",
   "execution_count": 21,
   "metadata": {
    "colab": {},
    "colab_type": "code",
    "id": "nhEGTMQ3u7JC"
   },
   "outputs": [
    {
     "name": "stdout",
     "output_type": "stream",
     "text": [
      "4\n",
      "(4, 5, 5, 1)\n"
     ]
    }
   ],
   "source": [
    "x4 = x3[:,:,:,np.newaxis]\n",
    "print(x4.ndim)\n",
    "print(x4.shape)"
   ]
  },
  {
   "cell_type": "markdown",
   "metadata": {
    "colab_type": "text",
    "id": "LUJF_kDIv6jg"
   },
   "source": [
    "Now if you evaluate `x4`, it looks a lot like `x3`. But if you look carefully there is an additional pair of square brackets `[]`. \n",
    "\n",
    "You may wonder why it is useful to add a `newaxis` to a tensor. Actually, one good reason for this is broadcasting."
   ]
  },
  {
   "cell_type": "markdown",
   "metadata": {
    "colab_type": "text",
    "id": "NXi6_Jupv6rz"
   },
   "source": [
    "## Broadcasting\n",
    "\n",
    "Broadcasting is one of the things in python that are rather complicated to understand at first, but which is extremely useful and powerful once you \"get it\". Let's start with an example.\n",
    "\n",
    "Suppose you have estimated a fixed effect model. In your data there are i = 0,1,...,9 individuals and t = 0,1,2 periods. The vector `I` consists of 10 individual fixed effects and the vector `T` has 3 time fixed effects. Hence, our prediction for indiv. `i` in time period `t` (ignoring other explanatory variables) is $y_{it}=I_i+T_t$. \n",
    "\n",
    "How can we calculate the vector `y`? When you first think of this, you may have ideas for a \"double loop\": one loop over $i$ and one over $T$. In fact no loops are necessary at all, making the code \"very readable\".\n",
    "\n",
    "We will define the vectors $I$ and $T$ in such an (artificial) way that you can immediately verify whether we get the sum of the effects right.\n",
    "\n",
    "**Question** What do the vectors $I$ and $T$ look like? Can they be added in this way?\n"
   ]
  },
  {
   "cell_type": "code",
   "execution_count": 29,
   "metadata": {
    "colab": {},
    "colab_type": "code",
    "id": "l_z7TqTLvy7W"
   },
   "outputs": [],
   "source": [
    "I = np.arange(0,100,10)\n",
    "T = np.arange(0,3)"
   ]
  },
  {
   "cell_type": "code",
   "execution_count": 30,
   "metadata": {
    "colab": {
     "base_uri": "https://localhost:8080/",
     "height": 34
    },
    "colab_type": "code",
    "executionInfo": {
     "elapsed": 490,
     "status": "ok",
     "timestamp": 1556284277690,
     "user": {
      "displayName": "Jan Boone",
      "photoUrl": "",
      "userId": "01680203205582182827"
     },
     "user_tz": -120
    },
    "id": "-B3wpCzkxXdV",
    "nbgrader": {
     "grade": true,
     "grade_id": "cell-b24ab095888e7da7",
     "locked": false,
     "points": 1,
     "schema_version": 1,
     "solution": true
    },
    "outputId": "07a3d48d-a265-4b4f-94ab-39cc2e666412"
   },
   "outputs": [
    {
     "name": "stdout",
     "output_type": "stream",
     "text": [
      "[ 0 10 20 30 40 50 60 70 80 90]\n",
      "[0 1 2]\n"
     ]
    }
   ],
   "source": [
    "print(I)\n",
    "print(T)"
   ]
  },
  {
   "cell_type": "markdown",
   "metadata": {
    "colab": {
     "base_uri": "https://localhost:8080/",
     "height": 34
    },
    "colab_type": "code",
    "executionInfo": {
     "elapsed": 461,
     "status": "ok",
     "timestamp": 1556284280654,
     "user": {
      "displayName": "Jan Boone",
      "photoUrl": "",
      "userId": "01680203205582182827"
     },
     "user_tz": -120
    },
    "id": "Yo8-de_3xYGS",
    "nbgrader": {
     "grade": true,
     "grade_id": "cell-e90d145d3d54f5e4",
     "locked": false,
     "points": 1,
     "schema_version": 1,
     "solution": true
    },
    "outputId": "83819535-3f13-4a36-8a8f-39eac2c14b25"
   },
   "source": [
    "They cannot be added in this way as they have different lengths; this generates an error."
   ]
  },
  {
   "cell_type": "code",
   "execution_count": 31,
   "metadata": {
    "nbgrader": {
     "grade": true,
     "grade_id": "cell-a193fdfaa970694c",
     "locked": false,
     "points": 1,
     "schema_version": 1,
     "solution": true
    }
   },
   "outputs": [
    {
     "ename": "ValueError",
     "evalue": "operands could not be broadcast together with shapes (10,) (3,) ",
     "output_type": "error",
     "traceback": [
      "\u001b[0;31m---------------------------------------------------------------------------\u001b[0m",
      "\u001b[0;31mValueError\u001b[0m                                Traceback (most recent call last)",
      "\u001b[0;32m<ipython-input-31-74884b86b788>\u001b[0m in \u001b[0;36m<module>\u001b[0;34m\u001b[0m\n\u001b[0;32m----> 1\u001b[0;31m \u001b[0mI\u001b[0m\u001b[0;34m+\u001b[0m\u001b[0mT\u001b[0m\u001b[0;34m\u001b[0m\u001b[0;34m\u001b[0m\u001b[0m\n\u001b[0m",
      "\u001b[0;31mValueError\u001b[0m: operands could not be broadcast together with shapes (10,) (3,) "
     ]
    }
   ],
   "source": [
    "I+T"
   ]
  },
  {
   "cell_type": "markdown",
   "metadata": {
    "colab_type": "text",
    "id": "AAOnRrTJxbaM"
   },
   "source": [
    "Because of the simplistic numbers that we have chosen, it is easy to see that e.g. $y_{91} = 91$ with $i=9$ and $t=1$. \n",
    "\n",
    "We will use the \"broadcasting trick\" and check whether our trick works. Then we explain broadcasting."
   ]
  },
  {
   "cell_type": "code",
   "execution_count": 34,
   "metadata": {
    "colab": {},
    "colab_type": "code",
    "id": "eua1v545xY1O"
   },
   "outputs": [],
   "source": [
    "y = I[:,np.newaxis]+T[np.newaxis,:]"
   ]
  },
  {
   "cell_type": "code",
   "execution_count": 35,
   "metadata": {
    "colab": {
     "base_uri": "https://localhost:8080/",
     "height": 187
    },
    "colab_type": "code",
    "executionInfo": {
     "elapsed": 579,
     "status": "ok",
     "timestamp": 1556284519887,
     "user": {
      "displayName": "Jan Boone",
      "photoUrl": "",
      "userId": "01680203205582182827"
     },
     "user_tz": -120
    },
    "id": "J_V75rdwyF-u",
    "outputId": "9d1c0348-702b-4107-f86c-639b7e053dbd"
   },
   "outputs": [
    {
     "data": {
      "text/plain": [
       "array([[ 0,  1,  2],\n",
       "       [10, 11, 12],\n",
       "       [20, 21, 22],\n",
       "       [30, 31, 32],\n",
       "       [40, 41, 42],\n",
       "       [50, 51, 52],\n",
       "       [60, 61, 62],\n",
       "       [70, 71, 72],\n",
       "       [80, 81, 82],\n",
       "       [90, 91, 92]])"
      ]
     },
     "execution_count": 35,
     "metadata": {},
     "output_type": "execute_result"
    }
   ],
   "source": [
    "y"
   ]
  },
  {
   "cell_type": "markdown",
   "metadata": {},
   "source": [
    "This seems to have worked!\n",
    "\n",
    "To understand what happens here, evaluate `I[:,np.newaxis]` and `T[np.newaxis,:]` separately.\n",
    "\n"
   ]
  },
  {
   "cell_type": "code",
   "execution_count": 37,
   "metadata": {
    "colab": {
     "base_uri": "https://localhost:8080/",
     "height": 187
    },
    "colab_type": "code",
    "executionInfo": {
     "elapsed": 459,
     "status": "ok",
     "timestamp": 1556284570652,
     "user": {
      "displayName": "Jan Boone",
      "photoUrl": "",
      "userId": "01680203205582182827"
     },
     "user_tz": -120
    },
    "id": "bPxpgAr_yGcR",
    "nbgrader": {
     "grade": true,
     "grade_id": "cell-446e11a2971773b4",
     "locked": false,
     "points": 1,
     "schema_version": 1,
     "solution": true
    },
    "outputId": "88a9ef5c-984f-4da9-a12d-b8b39a622340"
   },
   "outputs": [
    {
     "data": {
      "text/plain": [
       "array([[ 0],\n",
       "       [10],\n",
       "       [20],\n",
       "       [30],\n",
       "       [40],\n",
       "       [50],\n",
       "       [60],\n",
       "       [70],\n",
       "       [80],\n",
       "       [90]])"
      ]
     },
     "execution_count": 37,
     "metadata": {},
     "output_type": "execute_result"
    }
   ],
   "source": [
    "I[:,np.newaxis]"
   ]
  },
  {
   "cell_type": "code",
   "execution_count": 48,
   "metadata": {
    "colab": {
     "base_uri": "https://localhost:8080/",
     "height": 34
    },
    "colab_type": "code",
    "executionInfo": {
     "elapsed": 499,
     "status": "ok",
     "timestamp": 1556284579224,
     "user": {
      "displayName": "Jan Boone",
      "photoUrl": "",
      "userId": "01680203205582182827"
     },
     "user_tz": -120
    },
    "id": "bhOoGx2wyfoW",
    "nbgrader": {
     "grade": true,
     "grade_id": "cell-a69907c9b62016af",
     "locked": false,
     "points": 1,
     "schema_version": 1,
     "solution": true
    },
    "outputId": "3f0b4c56-5baa-478b-d870-e0ca4e3a2efb"
   },
   "outputs": [
    {
     "data": {
      "text/plain": [
       "array([[ 0, 10, 20]])"
      ]
     },
     "execution_count": 48,
     "metadata": {},
     "output_type": "execute_result"
    }
   ],
   "source": [
    "T[np.newaxis,:]"
   ]
  },
  {
   "cell_type": "markdown",
   "metadata": {
    "colab_type": "text",
    "id": "vw4T0tQWyi60"
   },
   "source": [
    "In words, `I` is a column vector\" only one column and 10 rows and `T` is a row vector: 3 columns and only 1 row.\n",
    "\n",
    "**Question** Check the shape of these vectors to see whether this description is correct."
   ]
  },
  {
   "cell_type": "code",
   "execution_count": 38,
   "metadata": {
    "nbgrader": {
     "grade": true,
     "grade_id": "cell-d98555a7f48a8f55",
     "locked": false,
     "points": 1,
     "schema_version": 1,
     "solution": true
    }
   },
   "outputs": [
    {
     "name": "stdout",
     "output_type": "stream",
     "text": [
      "(10,)\n",
      "(3,)\n"
     ]
    }
   ],
   "source": [
    "print(I.shape)\n",
    "print(T.shape)"
   ]
  },
  {
   "cell_type": "markdown",
   "metadata": {
    "colab_type": "text",
    "id": "vw4T0tQWyi60"
   },
   "source": [
    "Adding these two vectors together using broadcasting leads to an element by element addition of the vectors. \n",
    "\n",
    "In fact, we have used a simple form of broadcasting before in our python classes. See, for instance,"
   ]
  },
  {
   "cell_type": "code",
   "execution_count": 39,
   "metadata": {
    "colab": {},
    "colab_type": "code",
    "id": "VGrVDEWryhtm"
   },
   "outputs": [
    {
     "data": {
      "text/plain": [
       "array([1, 2, 3])"
      ]
     },
     "execution_count": 39,
     "metadata": {},
     "output_type": "execute_result"
    }
   ],
   "source": [
    "T + 1"
   ]
  },
  {
   "cell_type": "markdown",
   "metadata": {},
   "source": [
    "This is simple since 1 has no dimension.\n",
    "\n",
    "Read [this article on broadcasting](https://docs.scipy.org/doc/numpy/user/theory.broadcasting.html#array-broadcasting-in-numpy) and [this one](https://docs.scipy.org/doc/numpy/user/basics.broadcasting.html) to learn more about it.\n",
    "\n",
    "To see whether two tensors can be added, we start looking at the end. In particular, as the latter article states, when \"operating on two arrays, NumPy compares their shapes element-wise. It starts with the trailing dimensions, and works its way forward. Two dimensions are compatible when\n",
    "\n",
    "1. they are equal, or\n",
    "2. one of them is 1\"\n",
    "\n",
    "Let's consider a number of examples.\n"
   ]
  },
  {
   "cell_type": "code",
   "execution_count": 40,
   "metadata": {},
   "outputs": [],
   "source": [
    "x = np.random.normal(0,1,size=100)\n",
    "y = np.random.normal(0,1,size=100)"
   ]
  },
  {
   "cell_type": "markdown",
   "metadata": {},
   "source": [
    "**Question** Which of the following can be added? First, think about it. Then check by running the code in a cell.\n",
    "\n",
    "* `x+y`\n",
    "* `x.reshape(10,10)+y`\n",
    "* `x.reshape(10,10)+y.reshape(4,5,5)`\n",
    "* `x.reshape(10,10)+y.reshape(10,10,1)`\n",
    "* `x.reshape(10,10)+y.reshape(10,10,1)`\n",
    "* `x.reshape(10,10)+y.reshape(5,10,2)`\n",
    "* `x.reshape(10,10)+y.reshape(100,1,1)`"
   ]
  },
  {
   "cell_type": "code",
   "execution_count": 49,
   "metadata": {
    "nbgrader": {
     "grade": true,
     "grade_id": "cell-f52edff65348e988",
     "locked": false,
     "points": 1,
     "schema_version": 1,
     "solution": true
    }
   },
   "outputs": [
    {
     "data": {
      "text/plain": [
       "array([[[ 4.73849806e-01, -2.70211597e+00, -3.03361881e+00,\n",
       "         -1.29967777e+00,  1.45875009e+00, -1.17433360e+00,\n",
       "         -2.59558237e-01,  2.63875805e-01, -4.26498603e-01,\n",
       "         -1.38886521e+00],\n",
       "        [ 2.14702111e-01,  1.22070447e+00, -1.07671121e+00,\n",
       "          3.19952361e+00,  7.39180294e-02,  1.15149868e-01,\n",
       "          5.77374634e-01, -1.14050699e+00,  5.31443163e-01,\n",
       "          7.56551911e-02],\n",
       "        [ 7.13978678e-01,  5.76403286e-02, -1.36485881e+00,\n",
       "         -3.37734538e-01,  2.88862296e-01, -9.19758641e-01,\n",
       "          1.63696405e-01,  8.75558284e-01, -2.35729181e-01,\n",
       "          1.88062004e+00],\n",
       "        [-1.62998645e+00, -2.40052046e+00, -1.13986685e+00,\n",
       "         -2.56358684e+00, -1.83907500e+00, -1.20096748e+00,\n",
       "         -2.53201814e+00, -3.63129606e+00, -2.11009733e+00,\n",
       "         -1.56561849e+00],\n",
       "        [-1.80518657e+00, -1.49018511e+00, -1.73984969e+00,\n",
       "         -6.79843679e-01, -8.66091028e-01, -1.77594849e+00,\n",
       "         -1.51321266e+00,  4.72164112e-01, -1.25125859e+00,\n",
       "         -2.22657585e+00],\n",
       "        [ 2.95080537e+00,  2.31823338e+00,  2.31456661e+00,\n",
       "          7.78736628e-01,  1.97567786e+00,  1.74734584e+00,\n",
       "          7.73823568e-01,  2.57821318e+00,  4.38157398e-01,\n",
       "          2.22426174e+00],\n",
       "        [ 2.34991822e+00,  2.78636781e+00,  1.12475134e+00,\n",
       "         -1.06770727e+00,  2.48095657e+00,  2.28005382e+00,\n",
       "          1.71997546e+00,  1.98995249e+00,  1.33362200e+00,\n",
       "          1.79620860e+00],\n",
       "        [-4.55055468e-02,  6.45571084e-01,  2.50401775e-01,\n",
       "          1.74958390e+00, -2.27823072e-01,  1.18449975e+00,\n",
       "         -9.37184426e-01,  2.34653403e+00,  3.99353573e-01,\n",
       "          3.66346796e-02],\n",
       "        [ 1.48417851e+00,  3.10534455e-01,  5.83037426e-01,\n",
       "          1.51975936e+00,  1.63850564e+00,  1.66327678e+00,\n",
       "          2.70761979e+00,  5.60186372e-01,  3.17570244e+00,\n",
       "          4.00146420e-01],\n",
       "        [ 1.12176470e+00,  9.95591758e-01, -1.33838096e-01,\n",
       "          1.73632166e-01,  8.21109321e-01,  8.20646992e-02,\n",
       "         -5.48160701e-01,  6.81788319e-01, -1.60859917e+00,\n",
       "          1.42229091e+00]],\n",
       "\n",
       "       [[ 2.03099064e+00, -1.14497514e+00, -1.47647798e+00,\n",
       "          2.57463066e-01,  3.01589092e+00,  3.82807229e-01,\n",
       "          1.29758260e+00,  1.82101664e+00,  1.13064223e+00,\n",
       "          1.68275619e-01],\n",
       "        [-1.29511126e+00, -2.89108902e-01, -2.58652459e+00,\n",
       "          1.68971024e+00, -1.43589534e+00, -1.39466350e+00,\n",
       "         -9.32438739e-01, -2.65032037e+00, -9.78370210e-01,\n",
       "         -1.43415818e+00],\n",
       "        [ 8.29885544e-01,  1.73547195e-01, -1.24895194e+00,\n",
       "         -2.21827672e-01,  4.04769163e-01, -8.03851775e-01,\n",
       "          2.79603272e-01,  9.91465150e-01, -1.19822314e-01,\n",
       "          1.99652690e+00],\n",
       "        [ 2.06182177e+00,  1.29128777e+00,  2.55194138e+00,\n",
       "          1.12822138e+00,  1.85273323e+00,  2.49084074e+00,\n",
       "          1.15979008e+00,  6.05121667e-02,  1.58171089e+00,\n",
       "          2.12618973e+00],\n",
       "        [-1.49580251e+00, -1.18080105e+00, -1.43046563e+00,\n",
       "         -3.70459625e-01, -5.56706973e-01, -1.46656444e+00,\n",
       "         -1.20382861e+00,  7.81548167e-01, -9.41874539e-01,\n",
       "         -1.91719180e+00],\n",
       "        [ 1.29387914e+00,  6.61307153e-01,  6.57640382e-01,\n",
       "         -8.78189602e-01,  3.18751633e-01,  9.04196121e-02,\n",
       "         -8.83102662e-01,  9.21286951e-01, -1.21876883e+00,\n",
       "          5.67335508e-01],\n",
       "        [-2.55375612e-01,  1.81073973e-01, -1.48054249e+00,\n",
       "         -3.67300111e+00, -1.24337265e-01, -3.25240013e-01,\n",
       "         -8.85318377e-01, -6.15341343e-01, -1.27167183e+00,\n",
       "         -8.09085228e-01],\n",
       "        [-2.25786009e+00, -1.56678346e+00, -1.96195277e+00,\n",
       "         -4.62770647e-01, -2.44017762e+00, -1.02785480e+00,\n",
       "         -3.14953897e+00,  1.34179483e-01, -1.81300097e+00,\n",
       "         -2.17571986e+00],\n",
       "        [-1.62157554e+00, -2.79521960e+00, -2.52271663e+00,\n",
       "         -1.58599470e+00, -1.46724842e+00, -1.44247728e+00,\n",
       "         -3.98134267e-01, -2.54556768e+00,  6.99483841e-02,\n",
       "         -2.70560764e+00],\n",
       "        [ 2.50487626e+00,  2.37870332e+00,  1.24927347e+00,\n",
       "          1.55674373e+00,  2.20422088e+00,  1.46517626e+00,\n",
       "          8.34950861e-01,  2.06489988e+00, -2.25487604e-01,\n",
       "          2.80540247e+00]],\n",
       "\n",
       "       [[ 8.87167874e-01, -2.28879790e+00, -2.62030074e+00,\n",
       "         -8.86359699e-01,  1.87206815e+00, -7.61015536e-01,\n",
       "          1.53759831e-01,  6.77193873e-01, -1.31805351e-02,\n",
       "         -9.75547145e-01],\n",
       "        [-4.56728533e-01,  5.49273826e-01, -1.74814186e+00,\n",
       "          2.52809296e+00, -5.97512615e-01, -5.56280777e-01,\n",
       "         -9.40560110e-02, -1.81193764e+00, -1.39987482e-01,\n",
       "         -5.95775453e-01],\n",
       "        [-1.12416045e+00, -1.78049880e+00, -3.20299793e+00,\n",
       "         -2.17587366e+00, -1.54927683e+00, -2.75789777e+00,\n",
       "         -1.67444272e+00, -9.62580841e-01, -2.07386831e+00,\n",
       "          4.24809135e-02],\n",
       "        [ 2.08895054e+00,  1.31841653e+00,  2.57907014e+00,\n",
       "          1.15535015e+00,  1.87986199e+00,  2.51796951e+00,\n",
       "          1.18691885e+00,  8.76409353e-02,  1.60883966e+00,\n",
       "          2.15331850e+00],\n",
       "        [-6.74693331e-01, -3.59691870e-01, -6.09356451e-01,\n",
       "          4.50649558e-01,  2.64402209e-01, -6.45455252e-01,\n",
       "         -3.82719425e-01,  1.60265735e+00, -1.20765356e-01,\n",
       "         -1.09608262e+00],\n",
       "        [ 1.08426228e+00,  4.51690292e-01,  4.48023521e-01,\n",
       "         -1.08780646e+00,  1.09134772e-01, -1.19197249e-01,\n",
       "         -1.09271952e+00,  7.11670090e-01, -1.42838569e+00,\n",
       "          3.57718647e-01],\n",
       "        [ 2.85434951e+00,  3.29079909e+00,  1.62918263e+00,\n",
       "         -5.63275987e-01,  2.98538785e+00,  2.78448511e+00,\n",
       "          2.22440674e+00,  2.49438378e+00,  1.83805329e+00,\n",
       "          2.30063989e+00],\n",
       "        [-1.95300152e+00, -1.26192489e+00, -1.65709419e+00,\n",
       "         -1.57912072e-01, -2.13531904e+00, -7.22996223e-01,\n",
       "         -2.84468040e+00,  4.39038058e-01, -1.50814240e+00,\n",
       "         -1.87086129e+00],\n",
       "        [-1.29497013e+00, -2.46861419e+00, -2.19611122e+00,\n",
       "         -1.25938929e+00, -1.14064300e+00, -1.11587186e+00,\n",
       "         -7.15288553e-02, -2.21896227e+00,  3.96553796e-01,\n",
       "         -2.37900222e+00],\n",
       "        [ 1.55002058e+00,  1.42384764e+00,  2.94417782e-01,\n",
       "          6.01888044e-01,  1.24936520e+00,  5.10320577e-01,\n",
       "         -1.19904823e-01,  1.11004420e+00, -1.18034329e+00,\n",
       "          1.85054679e+00]],\n",
       "\n",
       "       [[ 2.20449592e+00, -9.71469851e-01, -1.30297269e+00,\n",
       "          4.30968350e-01,  3.18939620e+00,  5.56312513e-01,\n",
       "          1.47108788e+00,  1.99452192e+00,  1.30414751e+00,\n",
       "          3.41780904e-01],\n",
       "        [-2.09338750e-01,  7.96663610e-01, -1.50075208e+00,\n",
       "          2.77548275e+00, -3.50122832e-01, -3.08890994e-01,\n",
       "          1.53333772e-01, -1.56454786e+00,  1.07402301e-01,\n",
       "         -3.48385670e-01],\n",
       "        [ 2.86549396e+00,  2.20915561e+00,  7.86656478e-01,\n",
       "          1.81378075e+00,  2.44037758e+00,  1.23175664e+00,\n",
       "          2.31521169e+00,  3.02707357e+00,  1.91578610e+00,\n",
       "          4.03213532e+00],\n",
       "        [ 1.21438196e+00,  4.43847959e-01,  1.70450157e+00,\n",
       "          2.80781574e-01,  1.00529342e+00,  1.64340094e+00,\n",
       "          3.12350274e-01, -7.86927640e-01,  7.34271086e-01,\n",
       "          1.27874993e+00],\n",
       "        [ 7.23254167e-01,  1.03825563e+00,  7.88591048e-01,\n",
       "          1.84859706e+00,  1.66234971e+00,  7.52492246e-01,\n",
       "          1.01522807e+00,  3.00060485e+00,  1.27718214e+00,\n",
       "          3.01864883e-01],\n",
       "        [ 1.93825647e-01, -4.38746338e-01, -4.42413110e-01,\n",
       "         -1.97824309e+00, -7.81301858e-01, -1.00963388e+00,\n",
       "         -1.98315615e+00, -1.78766541e-01, -2.31882232e+00,\n",
       "         -5.32717983e-01],\n",
       "        [ 1.26404033e+00,  1.70048992e+00,  3.88734581e-02,\n",
       "         -2.15358516e+00,  1.39507868e+00,  1.19417593e+00,\n",
       "          6.34097570e-01,  9.04074604e-01,  2.47744117e-01,\n",
       "          7.10330719e-01],\n",
       "        [-1.02224495e+00, -3.31168315e-01, -7.26337624e-01,\n",
       "          7.72844498e-01, -1.20456247e+00,  2.07760346e-01,\n",
       "         -1.91392383e+00,  1.36979463e+00, -5.77385827e-01,\n",
       "         -9.40104720e-01],\n",
       "        [-1.70829810e+00, -2.88194216e+00, -2.60943919e+00,\n",
       "         -1.67271725e+00, -1.55397097e+00, -1.52919983e+00,\n",
       "         -4.84856822e-01, -2.63229024e+00, -1.67741712e-02,\n",
       "         -2.79233019e+00],\n",
       "        [ 1.06130610e+00,  9.35133153e-01, -1.94296701e-01,\n",
       "          1.13173560e-01,  7.60650716e-01,  2.16060940e-02,\n",
       "         -6.08619306e-01,  6.21329714e-01, -1.66905777e+00,\n",
       "          1.36183231e+00]],\n",
       "\n",
       "       [[ 2.96234803e+00, -2.13617745e-01, -5.45120584e-01,\n",
       "          1.18882046e+00,  3.94724831e+00,  1.31416462e+00,\n",
       "          2.22893999e+00,  2.75237403e+00,  2.06199962e+00,\n",
       "          1.09963301e+00],\n",
       "        [ 1.85380100e+00,  2.85980336e+00,  5.62387675e-01,\n",
       "          4.83862250e+00,  1.71301692e+00,  1.75424876e+00,\n",
       "          2.21647352e+00,  4.98591895e-01,  2.17054205e+00,\n",
       "          1.71475408e+00],\n",
       "        [ 1.71114871e-01, -4.85223478e-01, -1.90772261e+00,\n",
       "         -8.80598345e-01, -2.54001510e-01, -1.46262245e+00,\n",
       "         -3.79167402e-01,  3.32694477e-01, -7.78592988e-01,\n",
       "          1.33775623e+00],\n",
       "        [ 1.03419161e-01, -6.67114841e-01,  5.93538769e-01,\n",
       "         -8.30181227e-01, -1.05669382e-01,  5.32438138e-01,\n",
       "         -7.98612526e-01, -1.89789044e+00, -3.76691715e-01,\n",
       "          1.67787125e-01],\n",
       "        [-5.32766888e-01, -2.17765427e-01, -4.67430008e-01,\n",
       "          5.92576001e-01,  4.06328653e-01, -5.03528809e-01,\n",
       "         -2.40792982e-01,  1.74458379e+00,  2.11610867e-02,\n",
       "         -9.54156173e-01],\n",
       "        [ 1.33366110e+00,  7.01089120e-01,  6.97422348e-01,\n",
       "         -8.38407636e-01,  3.58533599e-01,  1.30201578e-01,\n",
       "         -8.43320695e-01,  9.61068917e-01, -1.17898687e+00,\n",
       "          6.07117475e-01],\n",
       "        [-2.57652414e-01,  1.78797171e-01, -1.48281929e+00,\n",
       "         -3.67527791e+00, -1.26614067e-01, -3.27516815e-01,\n",
       "         -8.87595179e-01, -6.17618145e-01, -1.27394863e+00,\n",
       "         -8.11362031e-01],\n",
       "        [-8.25984076e-02,  6.08478223e-01,  2.13308915e-01,\n",
       "          1.71249104e+00, -2.64915933e-01,  1.14740689e+00,\n",
       "         -9.74277287e-01,  2.30944117e+00,  3.62260712e-01,\n",
       "         -4.58181190e-04],\n",
       "        [ 9.47085535e-01, -2.26558523e-01,  4.59444479e-02,\n",
       "          9.82666381e-01,  1.10141266e+00,  1.12618380e+00,\n",
       "          2.17052681e+00,  2.30933941e-02,  2.63860946e+00,\n",
       "         -1.36946558e-01],\n",
       "        [ 4.19858225e-01,  2.93685281e-01, -8.35744573e-01,\n",
       "         -5.28274312e-01,  1.19202844e-01, -6.19841778e-01,\n",
       "         -1.25006718e+00, -2.01181577e-02, -2.31050564e+00,\n",
       "          7.20384434e-01]],\n",
       "\n",
       "       [[ 1.40696091e-01, -3.03526968e+00, -3.36677252e+00,\n",
       "         -1.63283148e+00,  1.12559637e+00, -1.50748732e+00,\n",
       "         -5.92711951e-01, -6.92779098e-02, -7.59652318e-01,\n",
       "         -1.72201893e+00],\n",
       "        [-1.86698367e+00, -8.60981311e-01, -3.15839700e+00,\n",
       "          1.11783783e+00, -2.00776775e+00, -1.96653591e+00,\n",
       "         -1.50431115e+00, -3.22219278e+00, -1.55024262e+00,\n",
       "         -2.00603059e+00],\n",
       "        [-1.22372916e-01, -7.78711265e-01, -2.20121040e+00,\n",
       "         -1.17408613e+00, -5.47489297e-01, -1.75611023e+00,\n",
       "         -6.72655188e-01,  3.92066904e-02, -1.07208077e+00,\n",
       "          1.04426844e+00],\n",
       "        [ 1.73086481e+00,  9.60330806e-01,  2.22098442e+00,\n",
       "          7.97264421e-01,  1.52177627e+00,  2.15988379e+00,\n",
       "          8.28833122e-01, -2.70444793e-01,  1.25075393e+00,\n",
       "          1.79523277e+00],\n",
       "        [-5.63297828e-01, -2.48296367e-01, -4.97960947e-01,\n",
       "          5.62045061e-01,  3.75797713e-01, -5.34059749e-01,\n",
       "         -2.71323922e-01,  1.71405285e+00, -9.36985305e-03,\n",
       "         -9.84687113e-01],\n",
       "        [ 2.65663738e+00,  2.02406539e+00,  2.02039862e+00,\n",
       "          4.84568637e-01,  1.68150987e+00,  1.45317785e+00,\n",
       "          4.79655577e-01,  2.28404519e+00,  1.43989407e-01,\n",
       "          1.93009375e+00],\n",
       "        [ 2.02140350e+00,  2.45785309e+00,  7.96236625e-01,\n",
       "         -1.39622199e+00,  2.15244185e+00,  1.95153910e+00,\n",
       "          1.39146074e+00,  1.66143777e+00,  1.00510728e+00,\n",
       "          1.46769389e+00],\n",
       "        [-4.02815348e-01,  2.88261283e-01, -1.06908026e-01,\n",
       "          1.39227410e+00, -5.85132873e-01,  8.27189945e-01,\n",
       "         -1.29449423e+00,  1.98922423e+00,  4.20437718e-02,\n",
       "         -3.20675121e-01],\n",
       "        [-1.19644460e+00, -2.37008866e+00, -2.09758569e+00,\n",
       "         -1.16086376e+00, -1.04211748e+00, -1.01734634e+00,\n",
       "          2.69966722e-02, -2.12043674e+00,  4.95079323e-01,\n",
       "         -2.28047670e+00],\n",
       "        [ 6.98692304e-01,  5.72519360e-01, -5.56910495e-01,\n",
       "         -2.49440233e-01,  3.98036922e-01, -3.41007699e-01,\n",
       "         -9.71233099e-01,  2.58715921e-01, -2.03167156e+00,\n",
       "          9.99218513e-01]],\n",
       "\n",
       "       [[ 2.78641111e+00, -3.89554668e-01, -7.21057508e-01,\n",
       "          1.01288353e+00,  3.77131139e+00,  1.13822770e+00,\n",
       "          2.05300306e+00,  2.57643710e+00,  1.88606270e+00,\n",
       "          9.23696087e-01],\n",
       "        [-3.04567462e-01,  7.01434897e-01, -1.59598079e+00,\n",
       "          2.68025403e+00, -4.45351544e-01, -4.04119706e-01,\n",
       "          5.81050599e-02, -1.65977657e+00,  1.21735891e-02,\n",
       "         -4.43614383e-01],\n",
       "        [ 5.54925614e-01, -1.01412735e-01, -1.52391187e+00,\n",
       "         -4.96787602e-01,  1.29809233e-01, -1.07881170e+00,\n",
       "          4.64334191e-03,  7.16505220e-01, -3.94782244e-01,\n",
       "          1.72156697e+00],\n",
       "        [ 8.57565308e-01,  8.70313059e-02,  1.34768492e+00,\n",
       "         -7.60350795e-02,  6.48476765e-01,  1.28658428e+00,\n",
       "         -4.44663788e-02, -1.14374429e+00,  3.77454432e-01,\n",
       "          9.21933272e-01],\n",
       "        [-1.31211308e+00, -9.97111617e-01, -1.24677620e+00,\n",
       "         -1.86770189e-01, -3.73017537e-01, -1.28287500e+00,\n",
       "         -1.02013917e+00,  9.65237603e-01, -7.58185103e-01,\n",
       "         -1.73350236e+00],\n",
       "        [ 1.33459659e+00,  7.02024607e-01,  6.98357836e-01,\n",
       "         -8.37472148e-01,  3.59469087e-01,  1.31137066e-01,\n",
       "         -8.42385207e-01,  9.62004405e-01, -1.17805138e+00,\n",
       "          6.08052963e-01],\n",
       "        [ 1.52289547e+00,  1.95934506e+00,  2.97728593e-01,\n",
       "         -1.89473002e+00,  1.65393382e+00,  1.45303107e+00,\n",
       "          8.92952706e-01,  1.16292974e+00,  5.06599252e-01,\n",
       "          9.69185854e-01],\n",
       "        [ 1.32033226e-01,  8.23109857e-01,  4.27940548e-01,\n",
       "          1.92712267e+00, -5.02842995e-02,  1.36203852e+00,\n",
       "         -7.59645654e-01,  2.52407280e+00,  5.76892345e-01,\n",
       "          2.14173452e-01],\n",
       "        [-2.16122114e-01, -1.38976617e+00, -1.11726320e+00,\n",
       "         -1.80541268e-01, -6.17949872e-02, -3.70238473e-02,\n",
       "          1.00731916e+00, -1.14011425e+00,  1.47540181e+00,\n",
       "         -1.30015421e+00],\n",
       "        [ 1.38111140e+00,  1.25493845e+00,  1.25508600e-01,\n",
       "          4.32978862e-01,  1.08045602e+00,  3.41411396e-01,\n",
       "         -2.88814004e-01,  9.41135016e-01, -1.34925247e+00,\n",
       "          1.68163761e+00]],\n",
       "\n",
       "       [[ 3.36255092e+00,  1.86585147e-01, -1.44917693e-01,\n",
       "          1.58902335e+00,  4.34745120e+00,  1.71436751e+00,\n",
       "          2.62914288e+00,  3.15257692e+00,  2.46220251e+00,\n",
       "          1.49983590e+00],\n",
       "        [-1.05624552e+00, -5.02431574e-02, -2.34765884e+00,\n",
       "          1.92857598e+00, -1.19702960e+00, -1.15579776e+00,\n",
       "         -6.93572995e-01, -2.41145462e+00, -7.39504466e-01,\n",
       "         -1.19529244e+00],\n",
       "        [-1.51959697e+00, -2.17593532e+00, -3.59843446e+00,\n",
       "         -2.57131019e+00, -1.94471335e+00, -3.15333429e+00,\n",
       "         -2.06987925e+00, -1.35801737e+00, -2.46930483e+00,\n",
       "         -3.52955613e-01],\n",
       "        [ 5.20425382e-01, -2.50108620e-01,  1.01054499e+00,\n",
       "         -4.13175005e-01,  3.11336839e-01,  9.49444359e-01,\n",
       "         -3.81606305e-01, -1.48088422e+00,  4.03145065e-02,\n",
       "          5.84793347e-01],\n",
       "        [-2.05881146e-01,  1.09120315e-01, -1.40544265e-01,\n",
       "          9.19461744e-01,  7.33214395e-01, -1.76643067e-01,\n",
       "          8.60927603e-02,  2.07146954e+00,  3.48046829e-01,\n",
       "         -6.27270431e-01],\n",
       "        [ 1.34085252e+00,  7.08280533e-01,  7.04613761e-01,\n",
       "         -8.31216222e-01,  3.65725013e-01,  1.37392992e-01,\n",
       "         -8.36129282e-01,  9.68260330e-01, -1.17179545e+00,\n",
       "          6.14308888e-01],\n",
       "        [ 5.92578506e-01,  1.02902809e+00, -6.32588370e-01,\n",
       "         -2.82504699e+00,  7.23616853e-01,  5.22714106e-01,\n",
       "         -3.73642580e-02,  2.32612776e-01, -4.23717711e-01,\n",
       "          3.88688901e-02],\n",
       "        [ 8.09055961e-01,  1.50013259e+00,  1.10496328e+00,\n",
       "          2.60414541e+00,  6.26738436e-01,  2.03906125e+00,\n",
       "         -8.26229187e-02,  3.20109554e+00,  1.25391508e+00,\n",
       "          8.91196187e-01],\n",
       "        [ 6.33970659e-01, -5.39673400e-01, -2.67170429e-01,\n",
       "          6.69551504e-01,  7.88297785e-01,  8.13068925e-01,\n",
       "          1.85741193e+00, -2.90021482e-01,  2.32549459e+00,\n",
       "         -4.50061434e-01],\n",
       "        [ 2.54136847e-01,  1.27963903e-01, -1.00146595e+00,\n",
       "         -6.93995690e-01, -4.65185345e-02, -7.85563156e-01,\n",
       "         -1.41578856e+00, -1.85839536e-01, -2.47622702e+00,\n",
       "          5.54663056e-01]],\n",
       "\n",
       "       [[ 1.83973015e+00, -1.33623562e+00, -1.66773846e+00,\n",
       "          6.62025802e-02,  2.82463043e+00,  1.91546743e-01,\n",
       "          1.10632211e+00,  1.62975615e+00,  9.39381744e-01,\n",
       "         -2.29848665e-02],\n",
       "        [ 2.85016933e-01,  1.29101929e+00, -1.00639639e+00,\n",
       "          3.26983843e+00,  1.44232851e-01,  1.85464689e-01,\n",
       "          6.47689455e-01, -1.07019217e+00,  6.01757984e-01,\n",
       "          1.45970013e-01],\n",
       "        [ 8.08659816e-01,  1.52321467e-01, -1.27017767e+00,\n",
       "         -2.43053399e-01,  3.83543435e-01, -8.25077502e-01,\n",
       "          2.58377544e-01,  9.70239423e-01, -1.41048042e-01,\n",
       "          1.97530118e+00],\n",
       "        [ 9.08262818e-02, -6.79707720e-01,  5.80945890e-01,\n",
       "         -8.42774106e-01, -1.18262261e-01,  5.19845259e-01,\n",
       "         -8.11205405e-01, -1.91048332e+00, -3.89284594e-01,\n",
       "          1.55194246e-01],\n",
       "        [-1.03375629e+00, -7.18754828e-01, -9.68419408e-01,\n",
       "          9.15866007e-02, -9.46607479e-02, -1.00451821e+00,\n",
       "         -7.41782383e-01,  1.24359439e+00, -4.79828314e-01,\n",
       "         -1.45514557e+00],\n",
       "        [ 1.64313337e+00,  1.01056138e+00,  1.00689461e+00,\n",
       "         -5.28935376e-01,  6.68005860e-01,  4.39673839e-01,\n",
       "         -5.33848435e-01,  1.27054118e+00, -8.69514606e-01,\n",
       "          9.16589735e-01],\n",
       "        [ 1.24572699e+00,  1.68217658e+00,  2.05601135e-02,\n",
       "         -2.17189850e+00,  1.37676534e+00,  1.17586259e+00,\n",
       "          6.15784226e-01,  8.85761260e-01,  2.29430773e-01,\n",
       "          6.92017374e-01],\n",
       "        [-1.69310124e+00, -1.00202461e+00, -1.39719392e+00,\n",
       "          1.01988201e-01, -1.87541877e+00, -4.63095950e-01,\n",
       "         -2.58478012e+00,  6.98938331e-01, -1.24824212e+00,\n",
       "         -1.61096102e+00],\n",
       "        [ 3.43417759e-01, -8.30226300e-01, -5.57723328e-01,\n",
       "          3.78998604e-01,  4.97744886e-01,  5.22516025e-01,\n",
       "          1.56685903e+00, -5.80574382e-01,  2.03494169e+00,\n",
       "         -7.40614334e-01],\n",
       "        [ 1.11229537e+00,  9.86122423e-01, -1.43307432e-01,\n",
       "          1.64162830e-01,  8.11639986e-01,  7.25953639e-02,\n",
       "         -5.57630036e-01,  6.72318984e-01, -1.61806850e+00,\n",
       "          1.41282158e+00]],\n",
       "\n",
       "       [[-2.38874126e-01, -3.41483990e+00, -3.74634274e+00,\n",
       "         -2.01240170e+00,  7.46026154e-01, -1.88705754e+00,\n",
       "         -9.72282169e-01, -4.48848127e-01, -1.13922253e+00,\n",
       "         -2.10158915e+00],\n",
       "        [-3.51970370e-01,  6.54031990e-01, -1.64338370e+00,\n",
       "          2.63285113e+00, -4.92754452e-01, -4.51522613e-01,\n",
       "          1.07021526e-02, -1.70717948e+00, -3.52293182e-02,\n",
       "         -4.91017290e-01],\n",
       "        [ 3.15263316e+00,  2.49629481e+00,  1.07379567e+00,\n",
       "          2.10091994e+00,  2.72751677e+00,  1.51889584e+00,\n",
       "          2.60235088e+00,  3.31421276e+00,  2.20292530e+00,\n",
       "          4.31927452e+00],\n",
       "        [ 1.71256836e+00,  9.42034353e-01,  2.20268796e+00,\n",
       "          7.78967968e-01,  1.50347981e+00,  2.14158733e+00,\n",
       "          8.10536668e-01, -2.88741246e-01,  1.23245748e+00,\n",
       "          1.77693632e+00],\n",
       "        [-1.37432636e+00, -1.05932490e+00, -1.30898948e+00,\n",
       "         -2.48983468e-01, -4.35230816e-01, -1.34508828e+00,\n",
       "         -1.08235245e+00,  9.03024324e-01, -8.20398382e-01,\n",
       "         -1.79571564e+00],\n",
       "        [ 1.81806619e+00,  1.18549420e+00,  1.18182743e+00,\n",
       "         -3.54002553e-01,  8.42938682e-01,  6.14606661e-01,\n",
       "         -3.58915613e-01,  1.44547400e+00, -6.94581783e-01,\n",
       "          1.09152256e+00],\n",
       "        [ 4.79478073e-01,  9.15927659e-01, -7.45688803e-01,\n",
       "         -2.93814742e+00,  6.10516421e-01,  4.09613673e-01,\n",
       "         -1.50464691e-01,  1.19512343e-01, -5.36818144e-01,\n",
       "         -7.42315427e-02],\n",
       "        [-1.58091027e+00, -8.89833643e-01, -1.28500295e+00,\n",
       "          2.14179170e-01, -1.76322780e+00, -3.50904981e-01,\n",
       "         -2.47258915e+00,  8.11129300e-01, -1.13605115e+00,\n",
       "         -1.49877005e+00],\n",
       "        [-3.41388757e-02, -1.20778293e+00, -9.35279963e-01,\n",
       "          1.44196952e-03,  1.20188251e-01,  1.44959391e-01,\n",
       "          1.18930240e+00, -9.58131017e-01,  1.65738505e+00,\n",
       "         -1.11817097e+00],\n",
       "        [ 1.94184395e+00,  1.81567101e+00,  6.86241151e-01,\n",
       "          9.93711412e-01,  1.64118857e+00,  9.02143946e-01,\n",
       "          2.71918546e-01,  1.50186757e+00, -7.88519918e-01,\n",
       "          2.24237016e+00]]])"
      ]
     },
     "execution_count": 49,
     "metadata": {},
     "output_type": "execute_result"
    }
   ],
   "source": [
    "x.reshape(10,10)+y.reshape(10,10,1)"
   ]
  },
  {
   "cell_type": "markdown",
   "metadata": {
    "colab_type": "text",
    "id": "Q3lIIQBPSTWZ"
   },
   "source": [
    "## Slicing and (fancy) indexing\n",
    "\n",
    "Sometimes you want to have a subset from your data; e.g. to divide your data in a train and test set.\n",
    "\n",
    "In python, subsets are created using slicing.\n",
    "\n",
    "To see how slicing works, let's create an \"easy\" matrix to work with.\n",
    "\n",
    "**Question** create a matrix `x` of the form:\n",
    "\n",
    "```\n",
    "array([[  1,   2,   3,   4,   5,   6,   7,   8,   9,  10],\n",
    "       [ 11,  12,  13,  14,  15,  16,  17,  18,  19,  20],\n",
    "       [ 21,  22,  23,  24,  25,  26,  27,  28,  29,  30],\n",
    "       [ 31,  32,  33,  34,  35,  36,  37,  38,  39,  40],\n",
    "       [ 41,  42,  43,  44,  45,  46,  47,  48,  49,  50],\n",
    "       [ 51,  52,  53,  54,  55,  56,  57,  58,  59,  60],\n",
    "       [ 61,  62,  63,  64,  65,  66,  67,  68,  69,  70],\n",
    "       [ 71,  72,  73,  74,  75,  76,  77,  78,  79,  80],\n",
    "       [ 81,  82,  83,  84,  85,  86,  87,  88,  89,  90],\n",
    "       [ 91,  92,  93,  94,  95,  96,  97,  98,  99, 100]])\n",
    "```\n"
   ]
  },
  {
   "cell_type": "code",
   "execution_count": 54,
   "metadata": {
    "nbgrader": {
     "grade": true,
     "grade_id": "cell-48d50fcfc8ef6c2c",
     "locked": false,
     "points": 1,
     "schema_version": 1,
     "solution": true
    }
   },
   "outputs": [],
   "source": [
    "x = np.arange(1,101).reshape(10,10)"
   ]
  },
  {
   "cell_type": "markdown",
   "metadata": {},
   "source": [
    "We start with single elements, to make sure we understand indexing of an array.\n",
    "\n",
    "**Question** Use indexing on `x` to get:\n",
    "* `55`\n",
    "* `1`\n",
    "* `100` (and do this in two different ways)"
   ]
  },
  {
   "cell_type": "code",
   "execution_count": 61,
   "metadata": {
    "nbgrader": {
     "grade": true,
     "grade_id": "cell-0853b1d327bac0b1",
     "locked": false,
     "points": 1,
     "schema_version": 1,
     "solution": true
    }
   },
   "outputs": [
    {
     "name": "stdout",
     "output_type": "stream",
     "text": [
      "55\n",
      "1\n",
      "100\n",
      "100\n"
     ]
    }
   ],
   "source": [
    "print(x[5,4])\n",
    "print(x[0,0])\n",
    "print(x[9,9])\n",
    "print(x[-1,-1])"
   ]
  },
  {
   "cell_type": "markdown",
   "metadata": {},
   "source": [
    "Now we want a series of elements. For this we use slicing notation. To get the first row, we do"
   ]
  },
  {
   "cell_type": "code",
   "execution_count": 63,
   "metadata": {},
   "outputs": [
    {
     "data": {
      "text/plain": [
       "array([ 1,  2,  3,  4,  5,  6,  7,  8,  9, 10])"
      ]
     },
     "execution_count": 63,
     "metadata": {},
     "output_type": "execute_result"
    }
   ],
   "source": [
    "x[0,:]"
   ]
  },
  {
   "cell_type": "markdown",
   "metadata": {},
   "source": [
    "That is, we take the first element in the first dimension (a row) and then all elements (`:`) in the other dimension (columns).\n",
    "\n",
    "**Question** Give the fifth column."
   ]
  },
  {
   "cell_type": "code",
   "execution_count": 64,
   "metadata": {
    "nbgrader": {
     "grade": true,
     "grade_id": "cell-880c9ec43735a8d9",
     "locked": false,
     "points": 1,
     "schema_version": 1,
     "solution": true
    }
   },
   "outputs": [
    {
     "data": {
      "text/plain": [
       "array([ 5, 15, 25, 35, 45, 55, 65, 75, 85, 95])"
      ]
     },
     "execution_count": 64,
     "metadata": {},
     "output_type": "execute_result"
    }
   ],
   "source": [
    "x[:,4]"
   ]
  },
  {
   "cell_type": "code",
   "execution_count": null,
   "metadata": {},
   "outputs": [],
   "source": [
    "To get the second half of the first row:"
   ]
  },
  {
   "cell_type": "code",
   "execution_count": 76,
   "metadata": {},
   "outputs": [
    {
     "data": {
      "text/plain": [
       "array([ 6,  7,  8,  9, 10])"
      ]
     },
     "execution_count": 76,
     "metadata": {},
     "output_type": "execute_result"
    }
   ],
   "source": [
    "x[0,5:]"
   ]
  },
  {
   "cell_type": "markdown",
   "metadata": {},
   "source": [
    "To get every other element from this part of the row:"
   ]
  },
  {
   "cell_type": "code",
   "execution_count": 77,
   "metadata": {},
   "outputs": [
    {
     "data": {
      "text/plain": [
       "array([ 6,  8, 10])"
      ]
     },
     "execution_count": 77,
     "metadata": {},
     "output_type": "execute_result"
    }
   ],
   "source": [
    "x[0,5::2]"
   ]
  },
  {
   "cell_type": "markdown",
   "metadata": {},
   "source": [
    "To get the top left 2*2 matrix:"
   ]
  },
  {
   "cell_type": "code",
   "execution_count": 79,
   "metadata": {},
   "outputs": [
    {
     "data": {
      "text/plain": [
       "array([[ 1,  2],\n",
       "       [11, 12]])"
      ]
     },
     "execution_count": 79,
     "metadata": {},
     "output_type": "execute_result"
    }
   ],
   "source": [
    "x[:2,:2]"
   ]
  },
  {
   "cell_type": "markdown",
   "metadata": {},
   "source": [
    "Finally, to get the diagonal:"
   ]
  },
  {
   "cell_type": "code",
   "execution_count": 80,
   "metadata": {},
   "outputs": [
    {
     "data": {
      "text/plain": [
       "array([  1,  12,  23,  34,  45,  56,  67,  78,  89, 100])"
      ]
     },
     "execution_count": 80,
     "metadata": {},
     "output_type": "execute_result"
    }
   ],
   "source": [
    "x[range(10),range(10)]"
   ]
  },
  {
   "cell_type": "markdown",
   "metadata": {},
   "source": [
    "**Question** What does the following slicing operation do?"
   ]
  },
  {
   "cell_type": "code",
   "execution_count": 82,
   "metadata": {},
   "outputs": [
    {
     "data": {
      "text/plain": [
       "array([[ 12,  14,  16,  18,  20],\n",
       "       [ 32,  34,  36,  38,  40],\n",
       "       [ 52,  54,  56,  58,  60],\n",
       "       [ 72,  74,  76,  78,  80],\n",
       "       [ 92,  94,  96,  98, 100]])"
      ]
     },
     "execution_count": 82,
     "metadata": {},
     "output_type": "execute_result"
    }
   ],
   "source": [
    "x[1::2,1::2]"
   ]
  },
  {
   "cell_type": "markdown",
   "metadata": {
    "nbgrader": {
     "grade": true,
     "grade_id": "cell-9bf6497bae9d44f7",
     "locked": false,
     "points": 1,
     "schema_version": 1,
     "solution": true
    }
   },
   "source": [
    "It starts from the second row and second column (index 1) and takes every other element (`2`)."
   ]
  },
  {
   "cell_type": "markdown",
   "metadata": {},
   "source": [
    "**Question** Use slicing to get the following:\n",
    "* `[81, 82, 83, 84, 85, 86, 87, 88, 89, 90]`\n",
    "* `[ 3, 13, 23, 33, 43, 53, 63, 73, 83, 93]`\n",
    "*\n",
    "```\n",
    "[[56 57]\n",
    " [66 67]]\n",
    "```\n",
    "* \n",
    "```\n",
    "[[23 25 27]\n",
    " [43 45 47]\n",
    " [63 65 67]]\n",
    "```\n",
    "\n",
    "\n",
    "* the first row in reverse order: `[10  9  8  7  6  5  4  3  2  1]`\n",
    "\n"
   ]
  },
  {
   "cell_type": "code",
   "execution_count": 96,
   "metadata": {},
   "outputs": [
    {
     "name": "stdout",
     "output_type": "stream",
     "text": [
      "[81 82 83 84 85 86 87 88 89 90]\n",
      "[ 3 13 23 33 43 53 63 73 83 93]\n",
      "[[56 57]\n",
      " [66 67]]\n",
      "[[23 25 27]\n",
      " [43 45 47]\n",
      " [63 65 67]]\n",
      "[10  9  8  7  6  5  4  3  2  1]\n"
     ]
    }
   ],
   "source": [
    "print(x[8,:])\n",
    "print(x[:,2])\n",
    "print(x[5:7,5:7])\n",
    "print(x[2:8:2,2:8:2])\n",
    "print(x[0,::-1])"
   ]
  },
  {
   "cell_type": "markdown",
   "metadata": {},
   "source": [
    "We can also use a condition to select elements from a tensor. That is, we create a boolean mask (with `True` and `False`) and then only the `True` elements are selected. This is called fancy indexing.\n",
    "\n",
    "Let's start simple.\n"
   ]
  },
  {
   "cell_type": "code",
   "execution_count": 98,
   "metadata": {},
   "outputs": [
    {
     "data": {
      "text/plain": [
       "array([3, 4])"
      ]
     },
     "execution_count": 98,
     "metadata": {},
     "output_type": "execute_result"
    }
   ],
   "source": [
    "test = np.arange(5)\n",
    "mask = test > 2\n",
    "test[mask]"
   ]
  },
  {
   "cell_type": "code",
   "execution_count": 99,
   "metadata": {},
   "outputs": [
    {
     "data": {
      "text/plain": [
       "array([False, False, False,  True,  True])"
      ]
     },
     "execution_count": 99,
     "metadata": {},
     "output_type": "execute_result"
    }
   ],
   "source": [
    "mask"
   ]
  },
  {
   "cell_type": "markdown",
   "metadata": {},
   "source": [
    "There is no need to define the `mask` separetely, the following works as well:"
   ]
  },
  {
   "cell_type": "code",
   "execution_count": 100,
   "metadata": {},
   "outputs": [
    {
     "data": {
      "text/plain": [
       "array([3, 4])"
      ]
     },
     "execution_count": 100,
     "metadata": {},
     "output_type": "execute_result"
    }
   ],
   "source": [
    "test[test>2]"
   ]
  },
  {
   "cell_type": "markdown",
   "metadata": {},
   "source": [
    "**Question** Select from `x` the values between 50 and 60.\n",
    "\n",
    "[hint: use `&` as `and`]"
   ]
  },
  {
   "cell_type": "code",
   "execution_count": 101,
   "metadata": {},
   "outputs": [
    {
     "data": {
      "text/plain": [
       "array([51, 52, 53, 54, 55, 56, 57, 58, 59])"
      ]
     },
     "execution_count": 101,
     "metadata": {},
     "output_type": "execute_result"
    }
   ],
   "source": [
    "x[(x>50)&(x<60)]"
   ]
  },
  {
   "cell_type": "markdown",
   "metadata": {},
   "source": [
    "When two tensors $x,y$ have the same dimensions, we can select from $x$ based on a condition for $y$.\n",
    "\n",
    "To illustrate this, we create three vectors `x,y,z`."
   ]
  },
  {
   "cell_type": "code",
   "execution_count": 105,
   "metadata": {},
   "outputs": [],
   "source": [
    "x = np.random.normal(size=10)\n",
    "y = np.random.normal(size=10)\n",
    "z = np.random.normal(size=10)"
   ]
  },
  {
   "cell_type": "markdown",
   "metadata": {},
   "source": [
    "**Question** Plot `x` against `y` and color points with $z>0.5$ orange."
   ]
  },
  {
   "cell_type": "code",
   "execution_count": 112,
   "metadata": {},
   "outputs": [
    {
     "data": {
      "text/plain": [
       "<matplotlib.legend.Legend at 0x1c3aa0ec88>"
      ]
     },
     "execution_count": 112,
     "metadata": {},
     "output_type": "execute_result"
    },
    {
     "data": {
      "image/png": "[encoded data removed]",
      "text/plain": [
       "<Figure size 432x288 with 1 Axes>"
      ]
     },
     "metadata": {
      "needs_background": "light"
     },
     "output_type": "display_data"
    }
   ],
   "source": [
    "mask = z > 0.5\n",
    "plt.scatter(x,y,label='$z \\leq 0.5$')\n",
    "plt.scatter(x[mask],y[mask],label='$z>0.5$')\n",
    "plt.xlabel('$x$')\n",
    "plt.ylabel('$y$')\n",
    "plt.legend()"
   ]
  },
  {
   "cell_type": "markdown",
   "metadata": {
    "colab_type": "text",
    "id": "H0rKwqdCShHm"
   },
   "source": [
    "## First neural network\n",
    "\n",
    "As an application of our tensors, let's consider a neural network. Let's not worry about the syntax of the model. Just note that as input we use the shape of a figure: 28 by 28 pixels. Hence, the input (\"x\" variable) is here a 2 dimensional tensor.\n",
    "\n",
    "Below we will come back to `relu` and `softmax`.\n",
    "\n",
    "More information about the optimizer `adam` can be found [here.](https://medium.com/@nishantnikhil/adam-optimizer-notes-ddac4fd7218)"
   ]
  },
  {
   "cell_type": "code",
   "execution_count": 133,
   "metadata": {
    "colab": {},
    "colab_type": "code",
    "id": "7hZyoNwm6Je2"
   },
   "outputs": [],
   "source": [
    "model = keras.Sequential([\n",
    "    keras.layers.Flatten(input_shape=(28, 28)),\n",
    "    keras.layers.Dense(128, activation='relu'),\n",
    "    keras.layers.Dense(10, activation='softmax')\n",
    "])\n",
    "\n",
    "\n",
    "model.compile(optimizer='adam',\n",
    "              loss='sparse_categorical_crossentropy',\n",
    "              metrics=['accuracy'])\n",
    "\n"
   ]
  },
  {
   "cell_type": "markdown",
   "metadata": {},
   "source": [
    "We estimate ('fit') the model on the train set."
   ]
  },
  {
   "cell_type": "code",
   "execution_count": 134,
   "metadata": {
    "colab": {
     "base_uri": "https://localhost:8080/",
     "height": 213
    },
    "colab_type": "code",
    "executionInfo": {
     "elapsed": 23166,
     "status": "ok",
     "timestamp": 1556370965688,
     "user": {
      "displayName": "Jan Boone",
      "photoUrl": "",
      "userId": "01680203205582182827"
     },
     "user_tz": -120
    },
    "id": "lRi2WhVB6J3i",
    "outputId": "94eeb1bc-c1ad-4a6f-d1de-29afca2d5d03"
   },
   "outputs": [
    {
     "name": "stdout",
     "output_type": "stream",
     "text": [
      "Epoch 1/5\n",
      "60000/60000 [==============================] - 3s 46us/sample - loss: 2.3269 - accuracy: 0.8587\n",
      "Epoch 2/5\n",
      "60000/60000 [==============================] - 3s 43us/sample - loss: 0.3594 - accuracy: 0.9104\n",
      "Epoch 3/5\n",
      "60000/60000 [==============================] - 3s 42us/sample - loss: 0.2951 - accuracy: 0.9257\n",
      "Epoch 4/5\n",
      "60000/60000 [==============================] - 3s 44us/sample - loss: 0.2569 - accuracy: 0.9352\n",
      "Epoch 5/5\n",
      "60000/60000 [==============================] - 3s 42us/sample - loss: 0.2316 - accuracy: 0.9415\n"
     ]
    },
    {
     "data": {
      "text/plain": [
       "<tensorflow.python.keras.callbacks.History at 0x1c44289080>"
      ]
     },
     "execution_count": 134,
     "metadata": {},
     "output_type": "execute_result"
    }
   ],
   "source": [
    "model.fit(train_images, train_labels, epochs=5)\n"
   ]
  },
  {
   "cell_type": "markdown",
   "metadata": {},
   "source": [
    "Then we check the acciracy of the model on the test set:"
   ]
  },
  {
   "cell_type": "code",
   "execution_count": 135,
   "metadata": {
    "colab": {
     "base_uri": "https://localhost:8080/",
     "height": 70
    },
    "colab_type": "code",
    "executionInfo": {
     "elapsed": 894,
     "status": "ok",
     "timestamp": 1556370974512,
     "user": {
      "displayName": "Jan Boone",
      "photoUrl": "",
      "userId": "01680203205582182827"
     },
     "user_tz": -120
    },
    "id": "c-0AF9lZ6J_1",
    "outputId": "6f1e7863-2b9f-4d49-8d77-246e0ae5b1d9"
   },
   "outputs": [
    {
     "name": "stdout",
     "output_type": "stream",
     "text": [
      "10000/10000 [==============================] - 0s 26us/sample - loss: 0.2921 - accuracy: 0.9222\n",
      "\n",
      "Test accuracy: 0.9222\n"
     ]
    }
   ],
   "source": [
    "test_loss, test_acc = model.evaluate(test_images, test_labels)\n",
    "\n",
    "print('\\nTest accuracy:', test_acc)\n"
   ]
  },
  {
   "cell_type": "markdown",
   "metadata": {},
   "source": [
    "We can generate predictions for the test set and consider explicitly the prediction for the first image (index 0). This prediction gives the probability for each possible label 0-9. The probability on label \"7\" equals 99%. Hence, if we need to make a (point) prediction, we predict that the first image is a \"7\"."
   ]
  },
  {
   "cell_type": "code",
   "execution_count": 136,
   "metadata": {
    "colab": {
     "base_uri": "https://localhost:8080/",
     "height": 70
    },
    "colab_type": "code",
    "executionInfo": {
     "elapsed": 607,
     "status": "ok",
     "timestamp": 1556371028160,
     "user": {
      "displayName": "Jan Boone",
      "photoUrl": "",
      "userId": "01680203205582182827"
     },
     "user_tz": -120
    },
    "id": "Zt2s64Sv6J8-",
    "outputId": "db36cba3-ed61-4fbe-daac-b019cc464995"
   },
   "outputs": [
    {
     "data": {
      "text/plain": [
       "array([0.0000000e+00, 3.6320824e-08, 7.6821953e-09, 2.3646876e-10,\n",
       "       4.1662474e-18, 2.4639377e-10, 3.3964793e-24, 1.0000000e+00,\n",
       "       1.1814830e-16, 2.4861389e-14], dtype=float32)"
      ]
     },
     "execution_count": 136,
     "metadata": {},
     "output_type": "execute_result"
    }
   ],
   "source": [
    "predictions = model.predict(test_images)\n",
    "predictions[0]"
   ]
  },
  {
   "cell_type": "code",
   "execution_count": 137,
   "metadata": {
    "colab": {
     "base_uri": "https://localhost:8080/",
     "height": 35
    },
    "colab_type": "code",
    "executionInfo": {
     "elapsed": 423,
     "status": "ok",
     "timestamp": 1556371039255,
     "user": {
      "displayName": "Jan Boone",
      "photoUrl": "",
      "userId": "01680203205582182827"
     },
     "user_tz": -120
    },
    "id": "0fvXLL2t6Jzd",
    "outputId": "10f210bc-7eaf-4663-8c1f-422d57499f36"
   },
   "outputs": [
    {
     "data": {
      "text/plain": [
       "7"
      ]
     },
     "execution_count": 137,
     "metadata": {},
     "output_type": "execute_result"
    }
   ],
   "source": [
    "np.argmax(predictions[0])\n"
   ]
  },
  {
   "cell_type": "markdown",
   "metadata": {},
   "source": [
    "The prediction is \"7\" and indeed the label of this image is \"7\" as well:"
   ]
  },
  {
   "cell_type": "code",
   "execution_count": 138,
   "metadata": {
    "colab": {
     "base_uri": "https://localhost:8080/",
     "height": 35
    },
    "colab_type": "code",
    "executionInfo": {
     "elapsed": 493,
     "status": "ok",
     "timestamp": 1556371056788,
     "user": {
      "displayName": "Jan Boone",
      "photoUrl": "",
      "userId": "01680203205582182827"
     },
     "user_tz": -120
    },
    "id": "mF4obm4L8Zf8",
    "outputId": "df71cc22-2a3b-460d-d530-7e58f87b2a01"
   },
   "outputs": [
    {
     "data": {
      "text/plain": [
       "7"
      ]
     },
     "execution_count": 138,
     "metadata": {},
     "output_type": "execute_result"
    }
   ],
   "source": [
    "test_labels[0]\n"
   ]
  },
  {
   "cell_type": "markdown",
   "metadata": {},
   "source": [
    "We can plot the first image and indeed it looks like a 7."
   ]
  },
  {
   "cell_type": "code",
   "execution_count": 139,
   "metadata": {
    "colab": {
     "base_uri": "https://localhost:8080/",
     "height": 269
    },
    "colab_type": "code",
    "executionInfo": {
     "elapsed": 453,
     "status": "ok",
     "timestamp": 1556371087956,
     "user": {
      "displayName": "Jan Boone",
      "photoUrl": "",
      "userId": "01680203205582182827"
     },
     "user_tz": -120
    },
    "id": "Jj51sTbh8Ztc",
    "outputId": "e16c1322-1602-4435-fc59-3ac6313170b0"
   },
   "outputs": [
    {
     "data": {
      "image/png": "[encoded data removed]",
      "text/plain": [
       "<Figure size 432x288 with 1 Axes>"
      ]
     },
     "metadata": {
      "needs_background": "light"
     },
     "output_type": "display_data"
    }
   ],
   "source": [
    "plt.imshow(test_images[0],cmap=plt.cm.binary)\n",
    "plt.show()"
   ]
  },
  {
   "cell_type": "markdown",
   "metadata": {
    "colab_type": "text",
    "id": "2zShpGRrSWzU"
   },
   "source": [
    "## Functions\n",
    "\n",
    "What is `relu` and `softmax`?\n",
    "\n",
    "\n",
    "The relu (rectified linear unit) function is of the form $\\max(0,x)$. Soft-max is of the form\n",
    "\n",
    "$$\n",
    "\\frac{e^{x_i}}{\\sum_i e^{x_i}}\n",
    "$$\n",
    "\n",
    "We can plot both functions:"
   ]
  },
  {
   "cell_type": "code",
   "execution_count": 140,
   "metadata": {
    "colab": {},
    "colab_type": "code",
    "id": "4qIrjecpSaki"
   },
   "outputs": [
    {
     "data": {
      "text/plain": [
       "<matplotlib.legend.Legend at 0x1c423fa048>"
      ]
     },
     "execution_count": 140,
     "metadata": {},
     "output_type": "execute_result"
    },
    {
     "data": {
      "image/png": "[encoded data removed]",
      "text/plain": [
       "<Figure size 432x288 with 1 Axes>"
      ]
     },
     "metadata": {
      "needs_background": "light"
     },
     "output_type": "display_data"
    }
   ],
   "source": [
    "range_x = np.arange(-2,0.5,0.1)\n",
    "plt.plot(range_x,np.maximum(range_x,0),label='relu')\n",
    "plt.scatter(range_x,np.exp(range_x)/np.sum(np.exp(range_x)),label='soft-max',color='r')\n",
    "plt.legend()\n",
    "\n"
   ]
  },
  {
   "cell_type": "markdown",
   "metadata": {},
   "source": [
    "Below we will come back to neural networks in detail."
   ]
  },
  {
   "cell_type": "markdown",
   "metadata": {
    "colab_type": "text",
    "id": "E2JkGgrO3o-i"
   },
   "source": [
    "# Overfitting and underfitting\n",
    "\n",
    "\n",
    "Adding more explanatory variables to a regression cannot make the fit worse. This is easy to see: if it would become worse, you would set the coefficient on the added variables to 0. That would give the same fit as before.\n",
    "\n",
    "A bit more formally, OLS solves the following minimization problem:\n",
    "$$\n",
    "\\min_{\\beta} \\sum_{i=1}^N (y_i - \\hat y_i(\\beta))^2\n",
    "$$\n",
    "where the prediction $\\hat y_i$ is a function of the parameter values $\\beta$ that we choose. Having a larger vector $\\beta$ (more explanatory variables) cannot increase this objective function\n",
    "\n",
    "There are two problems when one does machine learning (or any other form of statistical analysis):\n",
    "* underfitting and\n",
    "* overfitting.\n",
    "\n",
    "Underfitting is the situation where a variable is important to explain $y$ but you do not include it in the regression. As most people have a tendency to include as many variables as possible, this is usually not a problem. Unless, of course, you do not have data on an important variable, but then you cannot really solve this problem.\n",
    "\n",
    "Overfitting is the situation where you include variables in your regression that are actually not relevant. The reason why this happens is that including these variables improves the fit of the model (see above and an example below). But the problem is that you are picking up correlations that are particular to the sample; not a (general) feature of the data generating process.\n",
    "\n",
    "There are a number of ways to deal with this. One is the lasso and ridge regressions we discussed above. Another is the use of an information criterion like [AIC](https://en.wikipedia.org/wiki/Akaike_information_criterion) and its generalizations. The idea of AIC is to include a penalty in the expression for the fit for the number of parameters.\n",
    "\n",
    "But if you have lots of data (which is the case if you work with \"big data\"), there is a simple way to deal with this: split your data into a train and test set. You estimate the model with the train set (you \"train the model\"). And then check the fit with the test set. If you pick up particular correlations in the train set, your predictions in the test set become worse.\n",
    "\n",
    "Let's first look at an example. We generate data with a quadratic relation between $x$ and $y$. Then we generate more variables: $x^3, x^4, ..., x^9$. \n",
    "\n",
    "Including all these extra variables in training the model, improves the fit. The sum of squared residuals decreases with the number of explanatory variables in the train set. However, this is not true in the test set.\n",
    "\n",
    "First, we generate the data:\n",
    "\n"
   ]
  },
  {
   "cell_type": "code",
   "execution_count": 207,
   "metadata": {
    "colab": {},
    "colab_type": "code",
    "id": "DjffTAiHWP0I"
   },
   "outputs": [],
   "source": [
    "N_observations = 30\n",
    "train_size = 15\n",
    "x = tf.random.normal([N_observations],seed=26)\n",
    "y = x+2*x**2+2*tf.random.normal([N_observations],seed=50)\n",
    "df = pd.DataFrame({'y':y,'x':x})\n",
    "df['constant'] = 1\n",
    "df['x2'] = df.x**2\n",
    "df['x3'] = df.x**3\n",
    "df['x4'] = df.x**4\n",
    "df['x5'] = df.x**5\n",
    "df['x6'] = df.x**6\n",
    "df['x7'] = df.x**7\n",
    "df['x8'] = df.x**8\n",
    "df['x9'] = df.x**9\n",
    "df_train = df[:train_size]\n",
    "df_test = df[train_size:]"
   ]
  },
  {
   "cell_type": "markdown",
   "metadata": {},
   "source": [
    "We split the dataset (dataframe) into a train and test set (using slicing).\n",
    "\n",
    "Then we estimate a series of regressions, starting with $y$ explained by a constant and variable $x$ and adding a term $x^n$ for $n=2,...,9$. Hence, we estimate 9 regressions."
   ]
  },
  {
   "cell_type": "code",
   "execution_count": 208,
   "metadata": {},
   "outputs": [],
   "source": [
    "regression = 'y ~ x'\n",
    "vector_results = [smf.ols(regression, data=df_train).fit()]\n",
    "for column in df.columns[3:]:\n",
    "    regression = regression+' + '+column\n",
    "    vector_results.append(smf.ols(regression, data=df_train).fit())"
   ]
  },
  {
   "cell_type": "markdown",
   "metadata": {},
   "source": [
    "When we plot sum of squared residuals, we see --as claimed above-- that the fit improves with each variable $x^n$ that we add to the regression. Hence, this gives the impression that adding all 9 terms is a good idea.\n",
    "\n",
    "However, we generated the data ourselves and we know that there are no terms $x^9$ in the data generating process."
   ]
  },
  {
   "cell_type": "code",
   "execution_count": 231,
   "metadata": {
    "colab": {},
    "colab_type": "code",
    "id": "jDRvPbj0_kYL"
   },
   "outputs": [
    {
     "data": {
      "text/plain": [
       "[<matplotlib.lines.Line2D at 0x1c34a55e10>]"
      ]
     },
     "execution_count": 231,
     "metadata": {},
     "output_type": "execute_result"
    },
    {
     "data": {
      "image/png": "[encoded data removed]",
      "text/plain": [
       "<Figure size 432x288 with 1 Axes>"
      ]
     },
     "metadata": {
      "needs_background": "light"
     },
     "output_type": "display_data"
    }
   ],
   "source": [
    "plt.plot([tf.keras.losses.mse(df_train['y'],model.predict(df_train)).numpy() for model in vector_results])"
   ]
  },
  {
   "cell_type": "markdown",
   "metadata": {},
   "source": [
    "Next we use the 9 models that we estimated above to predict the outcomes in the test set. For each model we plot the sum of squared residuals in the test set."
   ]
  },
  {
   "cell_type": "code",
   "execution_count": 229,
   "metadata": {},
   "outputs": [
    {
     "data": {
      "text/plain": [
       "<matplotlib.collections.PathCollection at 0x1c3489aef0>"
      ]
     },
     "execution_count": 229,
     "metadata": {},
     "output_type": "execute_result"
    },
    {
     "data": {
      "image/png": "[encoded data removed]",
      "text/plain": [
       "<Figure size 432x288 with 1 Axes>"
      ]
     },
     "metadata": {
      "needs_background": "light"
     },
     "output_type": "display_data"
    }
   ],
   "source": [
    "    \n",
    "plt.plot([np.sum((df_train['y']-model.predict(df_train))**2)/len(df_train['y']) for model in vector_results])\n",
    "plt.scatter(range(9),[tf.keras.losses.mse(df_test['y'],model.predict(df_test)).numpy() for model in vector_results])"
   ]
  },
  {
   "cell_type": "markdown",
   "metadata": {},
   "source": [
    "The fit of the final model is so bad, that we cannot see the pattern in the 8 other models. Hence, for the next plot we delete the 9th model."
   ]
  },
  {
   "cell_type": "code",
   "execution_count": 228,
   "metadata": {},
   "outputs": [
    {
     "data": {
      "text/plain": [
       "<matplotlib.collections.PathCollection at 0x1c34804390>"
      ]
     },
     "execution_count": 228,
     "metadata": {},
     "output_type": "execute_result"
    },
    {
     "data": {
      "image/png": "[encoded data removed]",
      "text/plain": [
       "<Figure size 432x288 with 1 Axes>"
      ]
     },
     "metadata": {
      "needs_background": "light"
     },
     "output_type": "display_data"
    }
   ],
   "source": [
    "plt.scatter(range(8),[tf.keras.losses.mse(df_test['y'],model.predict(df_test)).numpy() for model in vector_results[:8]])"
   ]
  },
  {
   "cell_type": "markdown",
   "metadata": {},
   "source": [
    "As you can see, the fit does not monotonically improve with the size of the model. This due to the model picking up patterns that are present in the train sample but which do not generalize to the test sample.\n",
    "\n",
    "To understand why this happens, let's plot the train and test data points together with the prediction of the final model."
   ]
  },
  {
   "cell_type": "code",
   "execution_count": 212,
   "metadata": {},
   "outputs": [
    {
     "data": {
      "text/plain": [
       "<matplotlib.legend.Legend at 0x1c33500048>"
      ]
     },
     "execution_count": 212,
     "metadata": {},
     "output_type": "execute_result"
    },
    {
     "data": {
      "image/png": "[encoded data removed]",
      "text/plain": [
       "<Figure size 432x288 with 1 Axes>"
      ]
     },
     "metadata": {
      "needs_background": "light"
     },
     "output_type": "display_data"
    }
   ],
   "source": [
    "range_x = np.arange(min(x),max(x),0.1)\n",
    "df_plot = pd.DataFrame({'x':range_x})\n",
    "df_plot['constant'] = 1\n",
    "df_plot['x2'] = df_plot.x**2\n",
    "df_plot['x3'] = df_plot.x**3\n",
    "df_plot['x4'] = df_plot.x**4\n",
    "df_plot['x5'] = df_plot.x**5\n",
    "df_plot['x6'] = df_plot.x**6\n",
    "df_plot['x7'] = df_plot.x**7\n",
    "df_plot['x8'] = df_plot.x**8\n",
    "df_plot['x9'] = df_plot.x**9\n",
    "plt.scatter(df_train['x'],df_train['y'],label='train data')\n",
    "plt.plot(range_x,vector_results[-1].predict(df_plot),label='prediction')\n",
    "plt.scatter(df_test['x'],df_test['y'],label='test data')\n",
    "plt.legend()"
   ]
  },
  {
   "cell_type": "markdown",
   "metadata": {},
   "source": [
    "Since the prediction is \"way off\" for low values of $x$, let's zoom in on the prediction (use a more narrow `range_x`). \n",
    "\n",
    "Now it becomes clearer what the estimation in the train set is trying to achieve. But it is also clear that this does not generalize to the test data (orange points).\n",
    "\n",
    "This is exactly what overfitting does."
   ]
  },
  {
   "cell_type": "code",
   "execution_count": 217,
   "metadata": {},
   "outputs": [
    {
     "data": {
      "text/plain": [
       "<matplotlib.legend.Legend at 0x1c33c402e8>"
      ]
     },
     "execution_count": 217,
     "metadata": {},
     "output_type": "execute_result"
    },
    {
     "data": {
      "image/png": "[encoded data removed]",
      "text/plain": [
       "<Figure size 432x288 with 1 Axes>"
      ]
     },
     "metadata": {
      "needs_background": "light"
     },
     "output_type": "display_data"
    }
   ],
   "source": [
    "range_x = np.arange(-1.25,1.7,0.1)\n",
    "df_plot = pd.DataFrame({'x':range_x})\n",
    "df_plot['constant'] = 1\n",
    "df_plot['x2'] = df_plot.x**2\n",
    "df_plot['x3'] = df_plot.x**3\n",
    "df_plot['x4'] = df_plot.x**4\n",
    "df_plot['x5'] = df_plot.x**5\n",
    "df_plot['x6'] = df_plot.x**6\n",
    "df_plot['x7'] = df_plot.x**7\n",
    "df_plot['x8'] = df_plot.x**8\n",
    "df_plot['x9'] = df_plot.x**9\n",
    "plt.scatter(df_train['x'],df_train['y'],label='train data')\n",
    "plt.plot(range_x,vector_results[-1].predict(df_plot),label='prediction')\n",
    "plt.scatter(df_test['x'],df_test['y'],label='test data')\n",
    "plt.legend()"
   ]
  },
  {
   "cell_type": "markdown",
   "metadata": {},
   "source": [
    "**Question** Make the plots of data and prediction for models 5, 6 and 7. Adjust `range_x` such that you can see \"what is going on\"."
   ]
  },
  {
   "cell_type": "code",
   "execution_count": 220,
   "metadata": {
    "nbgrader": {
     "grade": true,
     "grade_id": "cell-e376e9b95888e399",
     "locked": false,
     "points": 1,
     "schema_version": 1,
     "solution": true
    }
   },
   "outputs": [
    {
     "data": {
      "text/plain": [
       "<matplotlib.legend.Legend at 0x1c33eca5c0>"
      ]
     },
     "execution_count": 220,
     "metadata": {},
     "output_type": "execute_result"
    },
    {
     "data": {
      "image/png": "[encoded data removed]",
      "text/plain": [
       "<Figure size 432x288 with 1 Axes>"
      ]
     },
     "metadata": {
      "needs_background": "light"
     },
     "output_type": "display_data"
    }
   ],
   "source": [
    "range_x = np.arange(-1.5,1.7,0.1)\n",
    "df_plot = pd.DataFrame({'x':range_x})\n",
    "df_plot['constant'] = 1\n",
    "df_plot['x2'] = df_plot.x**2\n",
    "df_plot['x3'] = df_plot.x**3\n",
    "df_plot['x4'] = df_plot.x**4\n",
    "df_plot['x5'] = df_plot.x**5\n",
    "df_plot['x6'] = df_plot.x**6\n",
    "df_plot['x7'] = df_plot.x**7\n",
    "df_plot['x8'] = df_plot.x**8\n",
    "df_plot['x9'] = df_plot.x**9\n",
    "plt.scatter(df_train['x'],df_train['y'],label='train data')\n",
    "plt.plot(range_x,vector_results[-5].predict(df_plot),label='prediction model 5')\n",
    "plt.plot(range_x,vector_results[-4].predict(df_plot),label='prediction model 6')\n",
    "plt.plot(range_x,vector_results[-3].predict(df_plot),label='prediction model 7')\n",
    "plt.scatter(df_test['x'],df_test['y'],label='test data')\n",
    "plt.legend()"
   ]
  },
  {
   "cell_type": "markdown",
   "metadata": {
    "colab_type": "text",
    "id": "f88ttpvzN6zB"
   },
   "source": [
    "Using a train and test set helps to alleviate over- and underfitting problems. But the test set should only be used once. If you repeatedly use the train and test set to see which model is best, you make the same mistake as above but \"on a higher level\": you may find patterns in the train set that generalize only to the test set but not to the data generating process.\n",
    "\n",
    "So how can you select your best model if you cannot use the test set for this? The answer is: we split the dataset in three parts: a train, validate and test set. That is, we use the train set to fit the model. Then we repeatedly use the validation set to see what the best model is. Then our final model, we test only once on the test set.\n",
    "\n",
    "This splitting of the data into three different (sub)sets is the royal road to testing the predictions of your model. Below --for ease of exposition-- we will not always to this. We tend to illustrate problems using a train and test set. We are not trying to optimize a given model by finetuning each parameter. For such finetuning, three subsets of data are recommended.\n",
    "\n",
    "Suppose you have a train and test set and your trained model does really well on the test set. How do you know that this is not by chance, e.g. due to the way you have split the data into the train and test set? One way to check is to do the analyses for a number of ways in which you can split the data into train and test sets and for each these cases consider the loss on the test set. If this is rather constant across the different ways in which you split the data, you do not need to worry. If this vary wildly between data partitions, something \"odd\" may be going on. \n",
    "\n",
    "One way of generating these different data partititions is k-fold cross-validation. See the [wikipedia page on cross-validation](https://en.wikipedia.org/wiki/Cross-validation_(statistics)) for details."
   ]
  },
  {
   "cell_type": "markdown",
   "metadata": {
    "colab_type": "text",
    "id": "G_wrL0zKOM9y"
   },
   "source": [
    "# Neural network\n",
    "\n",
    "To get a first sense of how a neural network works, we look at two simple python programs that implement these algorithms. For this, we use the website from the book [machine learning: an algorithmic perspective](http://homepages.ecs.vuw.ac.nz/~marslast/MLbook.html).\n",
    "\n",
    "Below you find the code for the files [pcn_logic_eg.py](http://homepages.ecs.vuw.ac.nz/~marslast/Code/Ch3/pcn_logic_eg.py) and [mlp.py](http://homepages.ecs.vuw.ac.nz/~marslast/Code/Ch4/mlp.py); which we adapted for python 3 by adjusting the print statements (should be `print()` in python 3).\n",
    "\n",
    "By looking at the underlying code we get an idea how neural networks work. Then we create a neural network using tensorflow 2.0.\n",
    "\n",
    "The tensorflow syntax is very similar to [Keras](https://keras.io/). There is a [datacamp course](https://www.datacamp.com/courses/deep-learning-in-python) on deep learning with Keras and [a course on tensorflow 2.0](https://www.datacamp.com/courses/introduction-to-tensorflow-in-python)."
   ]
  },
  {
   "cell_type": "markdown",
   "metadata": {
    "colab_type": "text",
    "id": "4I1uBJPHV5rJ"
   },
   "source": [
    "## Perceptron\n",
    "\n",
    "Next we copy from Chapter 3 of Machine Learning: An Algorithmic Perspective, the \"perceptron\". The code is in the next cell. Try to understand the python code.\n",
    "\n",
    "The main part of the algorithm is in the function (method, actually, but do not worry about this) `pcntrain`; the line\n",
    "\n",
    "`self.weights -= eta*np.dot(np.transpose(inputs),self.activations-targets)`\n",
    "\n",
    "determines how the weights in the network are updated. This optimization step is discussed in [this chapter of the datacamp course.](https://campus.datacamp.com/courses/deep-learning-in-python/optimizing-a-neural-network-with-backward-propagation?ex=1)\n",
    "\n"
   ]
  },
  {
   "cell_type": "code",
   "execution_count": 66,
   "metadata": {
    "colab": {},
    "colab_type": "code",
    "id": "KaWTqADydTqn"
   },
   "outputs": [],
   "source": [
    "# Code from Chapter 3 of Machine Learning: An Algorithmic Perspective (2nd Edition)\n",
    "# by Stephen Marsland (http://stephenmonika.net)\n",
    "\n",
    "# You are free to use, change, or redistribute the code in any way you wish for\n",
    "# non-commercial purposes, but please maintain the name of the original author.\n",
    "# This code comes with no warranty of any kind.\n",
    "\n",
    "# Stephen Marsland, 2008, 2014\n",
    "\n",
    "\n",
    "\n",
    "class pcn:\n",
    "\t\"\"\" A basic Perceptron (the same pcn.py except with the weights printed\n",
    "\tand it does not reorder the inputs)\"\"\"\n",
    "\t\n",
    "\tdef __init__(self,inputs,targets):\n",
    "\t\t\"\"\" Constructor \"\"\"\n",
    "\t\t# Set up network size\n",
    "\t\tif np.ndim(inputs)>1:\n",
    "\t\t\tself.nIn = np.shape(inputs)[1]\n",
    "\t\telse: \n",
    "\t\t\tself.nIn = 1\n",
    "\t\n",
    "\t\tif np.ndim(targets)>1:\n",
    "\t\t\tself.nOut = np.shape(targets)[1]\n",
    "\t\telse:\n",
    "\t\t\tself.nOut = 1\n",
    "\n",
    "\t\tself.nData = np.shape(inputs)[0]\n",
    "\t\n",
    "\t\t# Initialise network\n",
    "\t\tself.weights = np.random.rand(self.nIn+1,self.nOut)*0.1-0.05\n",
    "\n",
    "\tdef pcntrain(self,inputs,targets,eta,nIterations):\n",
    "\t\t\"\"\" Train the thing \"\"\"\t\n",
    "\t\t# Add the inputs that match the bias node\n",
    "\t\tinputs = np.concatenate((inputs,-np.ones((self.nData,1))),axis=1)\n",
    "\t\n",
    "\t\t# Training\n",
    "\t\tchange = range(self.nData)\n",
    "\n",
    "\t\tfor n in range(nIterations):\n",
    "\t\t\t\n",
    "\t\t\tself.activations = self.pcnfwd(inputs);\n",
    "\t\t\tself.weights -= eta*np.dot(np.transpose(inputs),self.activations-targets)\n",
    "\t\t\tprint(\"Iteration: \", n)\n",
    "\t\t\tprint(self.weights)\n",
    "\t\t\t\n",
    "\t\t\tactivations = self.pcnfwd(inputs)\n",
    "\t\t\tprint(\"Final outputs are:\")\n",
    "\t\t\tprint(activations)\n",
    "\t\t#return self.weights\n",
    "\n",
    "\tdef pcnfwd(self,inputs):\n",
    "\t\t\"\"\" Run the network forward \"\"\"\n",
    "\n",
    "\t\t# Compute activations\n",
    "\t\tactivations =  np.dot(inputs,self.weights)\n",
    "\n",
    "\t\t# Threshold the activations\n",
    "\t\treturn np.where(activations>0,1,0)\n",
    "\n",
    "\tdef confmat(self,inputs,targets):\n",
    "\t\t\"\"\"Confusion matrix\"\"\"\n",
    "\n",
    "\t\t# Add the inputs that match the bias node\n",
    "\t\tinputs = np.concatenate((inputs,-np.ones((self.nData,1))),axis=1)\n",
    "\t\toutputs = np.dot(inputs,self.weights)\n",
    "\t\n",
    "\t\tnClasses = np.shape(targets)[1]\n",
    "\n",
    "\t\tif nClasses==1:\n",
    "\t\t\tnClasses = 2\n",
    "\t\t\toutputs = np.where(outputs>0,1,0)\n",
    "\t\telse:\n",
    "\t\t\t# 1-of-N encoding\n",
    "\t\t\toutputs = np.argmax(outputs,1)\n",
    "\t\t\ttargets = np.argmax(targets,1)\n",
    "\n",
    "\t\tcm = np.zeros((nClasses,nClasses))\n",
    "\t\tfor i in range(nClasses):\n",
    "\t\t\tfor j in range(nClasses):\n",
    "\t\t\t\tcm[i,j] = np.sum(np.where(outputs==i,1,0)*np.where(targets==j,1,0))\n",
    "\n",
    "\t\tprint(cm)\n",
    "\t\tprint(np.trace(cm)/np.sum(cm))\n",
    "\n",
    "\n"
   ]
  },
  {
   "cell_type": "markdown",
   "metadata": {
    "colab_type": "text",
    "id": "bhBrxMb3fvpZ"
   },
   "source": [
    "Below you see 4 data points with a target value (0 or 1) for each data point. We need to predict the target value. We plot this with a red color for target 0 and blue for target 1.\n",
    "\n",
    "Predicting the target here means finding a straight line such that all red points are on one side of the line and the blue points on the other side of the line. Since this example is very simple, you can draw the line yourself (I hope...). This simplicity helps us to understand what the algorithm does.\n",
    "\n",
    "We define a tensor with 4 `inputs` and 4 `targets`. The first element of `inputs` (which has two coordinates) corresponds to the first element in `targets`.\n",
    "\n",
    "To refer to the points in the figure, we use \"standard\" terminology $x$ and $y$.\n"
   ]
  },
  {
   "cell_type": "code",
   "execution_count": 67,
   "metadata": {
    "colab": {
     "base_uri": "https://localhost:8080/",
     "height": 283
    },
    "colab_type": "code",
    "executionInfo": {
     "elapsed": 1138,
     "status": "ok",
     "timestamp": 1559233378416,
     "user": {
      "displayName": "Jan Boone",
      "photoUrl": "",
      "userId": "01680203205582182827"
     },
     "user_tz": -120
    },
    "id": "ZvRsrHvKfNtj",
    "outputId": "57c888ac-dc01-4bcf-d24f-fc812ecf7be4"
   },
   "outputs": [
    {
     "data": {
      "image/png": "[encoded data removed]",
      "text/plain": [
       "<Figure size 432x288 with 1 Axes>"
      ]
     },
     "metadata": {
      "needs_background": "light"
     },
     "output_type": "display_data"
    }
   ],
   "source": [
    "inputs = np.array([[0,0],[0,1],[1,0],[1,1]])\n",
    "targets = np.array([[0],[1],[1],[1]])\n",
    "colors = []\n",
    "for i in range(len(targets)):\n",
    "    colors.append(['red','blue'][targets[i][0]])\n",
    "plt.scatter(inputs[:,0],inputs[:,1],color=colors)\n",
    "plt.xlabel('$x$')\n",
    "plt.ylabel('$y$')\n",
    "plt.show()"
   ]
  },
  {
   "cell_type": "markdown",
   "metadata": {
    "colab_type": "text",
    "id": "A7p2jAEXcMHT"
   },
   "source": [
    "Now we use the `pcn` class and instantiate it with the `inputs` and `targets` above. We call `p` an instance of the class `pcn`. In this course we will not dwell on the object oriented aspects of python, so do not worry if you do not fully understand this. However, as you will see below, when we use tensorflow, we have a similar structure: we create an instance of a tensorflow class `model`.\n",
    "\n",
    "The function definition is `pcntrain(self,inputs,targets,eta,nIterations)`. Do not worry about the `self` part. We call the function as `pcntrain(inputs,targets,0.25,6)`. Hence, the first two arguments of the function are our `inputs` and `targets` tensors. \n",
    "\n",
    "The result is that `p` is now associated with our tensors `inputs` and `targets`. Now we can use the function (\"method\") `pcntrain` to train the network. After each iteration, the algorithm prints some information. Looking at `pcntrain` above, we can see that the information that is printed is:\n",
    "\n",
    "```\n",
    "print(\"Iteration: \", n)\n",
    "print(self.weights)\n",
    "print(\"Final outputs are:\")\n",
    "print(activations)\n",
    "```\n",
    "\n",
    "So first we see the number of the iteration (and python starts counting at 0). Then we see three numbers that correspond to the weights. The weights determine the line in the figure above. In particular, if we write the weights tensor as $w = (w_0,w_1,w_2)$, then a line in the figure is given by $w_0 x + w_1 y =w_2$. Equivalently, we can write this as:\n",
    "\n",
    "\\begin{equation}\n",
    "y = (w_2-w_0 x)/w_1\n",
    "\\end{equation}\n",
    "\n",
    "Next, we see the final outputs (targets): this is the \"prediction\" of the algorithm for the vector `targets`. Recall that `targets` is of the form [0,1,1,1]. Hence, after the first iteration, we incorrectly label the first point as 1 while it should be 0. Hence, the algorithm continues and generates different (and ultimately better) predictions.\n"
   ]
  },
  {
   "cell_type": "code",
   "execution_count": 69,
   "metadata": {
    "colab": {
     "base_uri": "https://localhost:8080/",
     "height": 977
    },
    "colab_type": "code",
    "executionInfo": {
     "elapsed": 391,
     "status": "ok",
     "timestamp": 1559237984092,
     "user": {
      "displayName": "Jan Boone",
      "photoUrl": "",
      "userId": "01680203205582182827"
     },
     "user_tz": -120
    },
    "id": "63uEOtIWfN6V",
    "outputId": "45a109d8-acc7-4eb6-8cae-e35c6af42ee0"
   },
   "outputs": [
    {
     "name": "stdout",
     "output_type": "stream",
     "text": [
      "Iteration:  0\n",
      "[[ 0.2699222 ]\n",
      " [ 0.03411017]\n",
      " [-0.22866394]]\n",
      "Final outputs are:\n",
      "[[1]\n",
      " [1]\n",
      " [1]\n",
      " [1]]\n",
      "Iteration:  1\n",
      "[[0.2699222 ]\n",
      " [0.03411017]\n",
      " [0.02133606]]\n",
      "Final outputs are:\n",
      "[[0]\n",
      " [1]\n",
      " [1]\n",
      " [1]]\n",
      "Iteration:  2\n",
      "[[0.2699222 ]\n",
      " [0.03411017]\n",
      " [0.02133606]]\n",
      "Final outputs are:\n",
      "[[0]\n",
      " [1]\n",
      " [1]\n",
      " [1]]\n",
      "Iteration:  3\n",
      "[[0.2699222 ]\n",
      " [0.03411017]\n",
      " [0.02133606]]\n",
      "Final outputs are:\n",
      "[[0]\n",
      " [1]\n",
      " [1]\n",
      " [1]]\n",
      "Iteration:  4\n",
      "[[0.2699222 ]\n",
      " [0.03411017]\n",
      " [0.02133606]]\n",
      "Final outputs are:\n",
      "[[0]\n",
      " [1]\n",
      " [1]\n",
      " [1]]\n",
      "Iteration:  5\n",
      "[[0.2699222 ]\n",
      " [0.03411017]\n",
      " [0.02133606]]\n",
      "Final outputs are:\n",
      "[[0]\n",
      " [1]\n",
      " [1]\n",
      " [1]]\n"
     ]
    }
   ],
   "source": [
    "p = pcn(inputs,targets)\n",
    "p.pcntrain(inputs,targets,0.25,6)"
   ]
  },
  {
   "cell_type": "markdown",
   "metadata": {
    "colab_type": "text",
    "id": "bKOWDBWi0-CU"
   },
   "source": [
    "The final weights $w$ are now equal to:"
   ]
  },
  {
   "cell_type": "code",
   "execution_count": 70,
   "metadata": {
    "colab": {
     "base_uri": "https://localhost:8080/",
     "height": 70
    },
    "colab_type": "code",
    "executionInfo": {
     "elapsed": 456,
     "status": "ok",
     "timestamp": 1559238001077,
     "user": {
      "displayName": "Jan Boone",
      "photoUrl": "",
      "userId": "01680203205582182827"
     },
     "user_tz": -120
    },
    "id": "fYYxwxkFfOEU",
    "outputId": "7c823942-0cdc-4008-884b-27362a258f7d"
   },
   "outputs": [
    {
     "data": {
      "text/plain": [
       "array([[0.2699222 ],\n",
       "       [0.03411017],\n",
       "       [0.02133606]])"
      ]
     },
     "execution_count": 70,
     "metadata": {},
     "output_type": "execute_result"
    }
   ],
   "source": [
    "p.weights"
   ]
  },
  {
   "cell_type": "markdown",
   "metadata": {
    "colab_type": "text",
    "id": "t1Bwm4bMgDf0"
   },
   "source": [
    "We can now plot the line $y=(w_2-w_0 x)/w_1$. Indeed, as you can see, the line sepates the red point (below the line) from the blue points (above the line). If we give the algorithm a point above the line, it will predict \"blue\", if we give it a point below the line it will predict \"red\". \n",
    "\n",
    "Because we only have 4 points here, this is arbitrary for points close to the line: we can shift the line, still separate the points, but get different predictions for points close to the line."
   ]
  },
  {
   "cell_type": "code",
   "execution_count": 71,
   "metadata": {
    "colab": {
     "base_uri": "https://localhost:8080/",
     "height": 285
    },
    "colab_type": "code",
    "executionInfo": {
     "elapsed": 538,
     "status": "ok",
     "timestamp": 1559238186300,
     "user": {
      "displayName": "Jan Boone",
      "photoUrl": "",
      "userId": "01680203205582182827"
     },
     "user_tz": -120
    },
    "id": "McHF9dYYgTzN",
    "outputId": "f915397f-d00c-4f6f-848e-fedc4c609e93"
   },
   "outputs": [
    {
     "data": {
      "image/png": "[encoded data removed]",
      "text/plain": [
       "<Figure size 432x288 with 1 Axes>"
      ]
     },
     "metadata": {
      "needs_background": "light"
     },
     "output_type": "display_data"
    }
   ],
   "source": [
    "x0 = 0\n",
    "x1 = 1\n",
    "y0 = (p.weights[2]-p.weights[0]*x0)/p.weights[1]\n",
    "y1 = (p.weights[2]-p.weights[0]*x1)/p.weights[1]\n",
    "plt.scatter(inputs[:,0],inputs[:,1],color=colors)\n",
    "plt.plot([x0,x1],[y0,y1],'k') #we only need to give two points to plot a line\n",
    "plt.xlabel('$x$')\n",
    "plt.xlabel('$y$')\n",
    "plt.show()"
   ]
  },
  {
   "cell_type": "markdown",
   "metadata": {
    "colab_type": "text",
    "id": "0PhQ1VJw5OyE"
   },
   "source": [
    "We can see from the graph and check with the function `pcnfwd` below what the predicted labels will be for the points (0.5,0.5) and (0.5,-0.5). The `-1` is needed for the \"constant\" $w_2$."
   ]
  },
  {
   "cell_type": "code",
   "execution_count": 72,
   "metadata": {
    "colab": {
     "base_uri": "https://localhost:8080/",
     "height": 53
    },
    "colab_type": "code",
    "executionInfo": {
     "elapsed": 939,
     "status": "ok",
     "timestamp": 1559239211184,
     "user": {
      "displayName": "Jan Boone",
      "photoUrl": "",
      "userId": "01680203205582182827"
     },
     "user_tz": -120
    },
    "id": "-ce5DGnTQOuN",
    "outputId": "79942d7f-3bb5-4df4-ac55-900a18473ac5"
   },
   "outputs": [
    {
     "data": {
      "text/plain": [
       "array([[1],\n",
       "       [1]])"
      ]
     },
     "execution_count": 72,
     "metadata": {},
     "output_type": "execute_result"
    }
   ],
   "source": [
    "p.pcnfwd([[0.5,0.5,-1],[0.5,-0.5,-1]])"
   ]
  },
  {
   "cell_type": "markdown",
   "metadata": {},
   "source": [
    "To get a \"graphical\" intuition what a neural network does, see this [website](https://playground.tensorflow.org) and play around with the dataset that you want to use, the number of hidden layers, number of neurons per hidden layer and the features that you want to use.\n",
    "\n",
    "E.g. choose the dataset where the orange points \"circle\" the blue points. Use only 1 hidden layer (linear model) and 2 neurons in this layer. Then you cannot perfectly seperate the points. Play around with the options to see how you can separate the points.\n"
   ]
  },
  {
   "cell_type": "markdown",
   "metadata": {
    "colab_type": "text",
    "id": "ud5MlICH5yoE"
   },
   "source": [
    "## Multi-layer perceptron\n",
    "\n",
    "With more than one layer, we get into deep learning. This is what \"deep\" in deep learning refers to: more than one layer.\n",
    "\n",
    "We use [this mlp code](http://homepages.ecs.vuw.ac.nz/~marslast/Code/Ch4/mlp.py) from Chapter 4 of Machine Learning: An Algorithmic Perspective."
   ]
  },
  {
   "cell_type": "code",
   "execution_count": 74,
   "metadata": {
    "colab": {},
    "colab_type": "code",
    "id": "IUgtItNk5Tx9"
   },
   "outputs": [],
   "source": [
    "\n",
    "# Code from Chapter 4 of Machine Learning: An Algorithmic Perspective (2nd Edition)\n",
    "# by Stephen Marsland (http://stephenmonika.net)\n",
    "\n",
    "# You are free to use, change, or redistribute the code in any way you wish for\n",
    "# non-commercial purposes, but please maintain the name of the original author.\n",
    "# This code comes with no warranty of any kind.\n",
    "\n",
    "# Stephen Marsland, 2008, 2014\n",
    "\n",
    "import numpy as np\n",
    "\n",
    "class mlp:\n",
    "    \"\"\" A Multi-Layer Perceptron\"\"\"\n",
    "    \n",
    "    def __init__(self,inputs,targets,nhidden,beta=1,momentum=0.9,outtype='logistic'):\n",
    "        \"\"\" Constructor \"\"\"\n",
    "        # Set up network size\n",
    "        self.nin = np.shape(inputs)[1]\n",
    "        self.nout = np.shape(targets)[1]\n",
    "        self.ndata = np.shape(inputs)[0]\n",
    "        self.nhidden = nhidden\n",
    "\n",
    "        self.beta = beta\n",
    "        self.momentum = momentum\n",
    "        self.outtype = outtype\n",
    "    \n",
    "        # Initialise network\n",
    "        self.weights1 = (np.random.rand(self.nin+1,self.nhidden)-0.5)*2/np.sqrt(self.nin)\n",
    "        self.weights2 = (np.random.rand(self.nhidden+1,self.nout)-0.5)*2/np.sqrt(self.nhidden)\n",
    "\n",
    "    def earlystopping(self,inputs,targets,valid,validtargets,eta,niterations=100):\n",
    "    \n",
    "        valid = np.concatenate((valid,-np.ones((np.shape(valid)[0],1))),axis=1)\n",
    "        \n",
    "        old_val_error1 = 100002\n",
    "        old_val_error2 = 100001\n",
    "        new_val_error = 100000\n",
    "        \n",
    "        count = 0\n",
    "        while (((old_val_error1 - new_val_error) > 0.001) or ((old_val_error2 - old_val_error1)>0.001)):\n",
    "            count+=1\n",
    "            print(count)\n",
    "            self.mlptrain(inputs,targets,eta,niterations)\n",
    "            old_val_error2 = old_val_error1\n",
    "            old_val_error1 = new_val_error\n",
    "            validout = self.mlpfwd(valid)\n",
    "            new_val_error = 0.5*np.sum((validtargets-validout)**2)\n",
    "            \n",
    "        print(\"Stopped\", new_val_error,old_val_error1, old_val_error2)\n",
    "        return new_val_error\n",
    "    \t\n",
    "    def mlptrain(self,inputs,targets,eta,niterations):\n",
    "        \"\"\" Train the thing \"\"\"    \n",
    "        # Add the inputs that match the bias node\n",
    "        inputs = np.concatenate((inputs,-np.ones((self.ndata,1))),axis=1)\n",
    "        change = range(self.ndata)\n",
    "    \n",
    "        updatew1 = np.zeros((np.shape(self.weights1)))\n",
    "        updatew2 = np.zeros((np.shape(self.weights2)))\n",
    "            \n",
    "        for n in range(niterations):\n",
    "    \n",
    "            self.outputs = self.mlpfwd(inputs)\n",
    "\n",
    "            error = 0.5*np.sum((self.outputs-targets)**2)\n",
    "            if (np.mod(n,100)==0):\n",
    "                print(\"Iteration: \",n, \" Error: \",error)\n",
    "\n",
    "            # Different types of output neurons\n",
    "            if self.outtype == 'linear':\n",
    "            \tdeltao = (self.outputs-targets)/self.ndata\n",
    "            elif self.outtype == 'logistic':\n",
    "            \tdeltao = self.beta*(self.outputs-targets)*self.outputs*(1.0-self.outputs)\n",
    "            elif self.outtype == 'softmax':\n",
    "                deltao = (self.outputs-targets)*(self.outputs*(-self.outputs)+self.outputs)/self.ndata \n",
    "            else:\n",
    "            \tprint(\"error\")\n",
    "            \n",
    "            deltah = self.hidden*self.beta*(1.0-self.hidden)*(np.dot(deltao,np.transpose(self.weights2)))\n",
    "                      \n",
    "            updatew1 = eta*(np.dot(np.transpose(inputs),deltah[:,:-1])) + self.momentum*updatew1\n",
    "            updatew2 = eta*(np.dot(np.transpose(self.hidden),deltao)) + self.momentum*updatew2\n",
    "            self.weights1 -= updatew1\n",
    "            self.weights2 -= updatew2\n",
    "                \n",
    "            # Randomise order of inputs (not necessary for matrix-based calculation)\n",
    "            #np.random.shuffle(change)\n",
    "            #inputs = inputs[change,:]\n",
    "            #targets = targets[change,:]\n",
    "            \n",
    "    def mlpfwd(self,inputs):\n",
    "        \"\"\" Run the network forward \"\"\"\n",
    "\n",
    "        self.hidden = np.dot(inputs,self.weights1);\n",
    "        self.hidden = 1.0/(1.0+np.exp(-self.beta*self.hidden))\n",
    "        self.hidden = np.concatenate((self.hidden,-np.ones((np.shape(inputs)[0],1))),axis=1)\n",
    "\n",
    "        outputs = np.dot(self.hidden,self.weights2);\n",
    "\n",
    "        # Different types of output neurons\n",
    "        if self.outtype == 'linear':\n",
    "        \treturn outputs\n",
    "        elif self.outtype == 'logistic':\n",
    "            return 1.0/(1.0+np.exp(-self.beta*outputs))\n",
    "        elif self.outtype == 'softmax':\n",
    "            normalisers = np.sum(np.exp(outputs),axis=1)*np.ones((1,np.shape(outputs)[0]))\n",
    "            return np.transpose(np.transpose(np.exp(outputs))/normalisers)\n",
    "        else:\n",
    "            print(\"error\")\n",
    "\n",
    "    def confmat(self,inputs,targets):\n",
    "        \"\"\"Confusion matrix\"\"\"\n",
    "\n",
    "        # Add the inputs that match the bias node\n",
    "        inputs = np.concatenate((inputs,-np.ones((np.shape(inputs)[0],1))),axis=1)\n",
    "        outputs = self.mlpfwd(inputs)\n",
    "        \n",
    "        nclasses = np.shape(targets)[1]\n",
    "\n",
    "        if nclasses==1:\n",
    "            nclasses = 2\n",
    "            outputs = np.where(outputs>0.5,1,0)\n",
    "        else:\n",
    "            # 1-of-N encoding\n",
    "            outputs = np.argmax(outputs,1)\n",
    "            targets = np.argmax(targets,1)\n",
    "\n",
    "        cm = np.zeros((nclasses,nclasses))\n",
    "        for i in range(nclasses):\n",
    "            for j in range(nclasses):\n",
    "                cm[i,j] = np.sum(np.where(outputs==i,1,0)*np.where(targets==j,1,0))\n",
    "\n",
    "        print(\"Confusion matrix is:\")\n",
    "        print(cm)\n",
    "        print(\"Percentage Correct: \",np.trace(cm)/np.sum(cm)*100)"
   ]
  },
  {
   "cell_type": "markdown",
   "metadata": {
    "colab_type": "text",
    "id": "G-R0tbZB6nPk"
   },
   "source": [
    "This code is more elaborate than the perceptron above. It also introduces new concepts like the confusion matrix. We will go over these below. \n",
    "\n",
    "Below we use the famous [iris dataset](http://archive.ics.uci.edu/ml/datasets/Iris). Admittedly, flowers are not directly linked to economics, but this is one of the classic datasets in classification. You cannot claim to have done \"datascience\" without having looked at the iris dataset.\n",
    "\n",
    "We will first download it from the website, just to learn the relevant steps here. We will work with it in numpy. In fact, the data is so famous that it is included in the tensorflow library, but later you may want to analyze data that is not included in any library. Hence, we need to learn the download steps as well.\n",
    "\n",
    "When you look at the downloaded data (in an editor), you will notice that it actually includes the names as strings. For us it is easier to work with numerical labels 0,1,2. Hence, we use the function `preprocessIris`. This function takes two arguments: the input file with the data that we downloaded and the output file where the target-labels are replaced by 0,1,2.\n",
    "\n",
    "If you run this notebook for the first time, un-comment the line `preprocessIris('iris.data','iris_proc.data')` (that is, remove the hashtag \"#\" at the beginning of the line), where `iris.data` is the name of the file that you downloaded and `iris_proc.data` is the name of the file with labels 0,1,2. Once the file `iris_proc.data` is created, there is no need to run this python command again."
   ]
  },
  {
   "cell_type": "code",
   "execution_count": null,
   "metadata": {
    "colab": {
     "base_uri": "https://localhost:8080/",
     "height": 319
    },
    "colab_type": "code",
    "executionInfo": {
     "elapsed": 679,
     "status": "ok",
     "timestamp": 1558971173290,
     "user": {
      "displayName": "Jan Boone",
      "photoUrl": "",
      "userId": "01680203205582182827"
     },
     "user_tz": -120
    },
    "id": "1hiC6IOj5TqT",
    "outputId": "f00b572d-391f-420f-e0f7-ebcb57dbcd64"
   },
   "outputs": [],
   "source": [
    "# Code from Chapter 4 of Machine Learning: An Algorithmic Perspective (2nd Edition)\n",
    "# by Stephen Marsland (http://stephenmonika.net)\n",
    "\n",
    "# You are free to use, change, or redistribute the code in any way you wish for\n",
    "# non-commercial purposes, but please maintain the name of the original author.\n",
    "# This code comes with no warranty of any kind.\n",
    "\n",
    "# Stephen Marsland, 2008, 2014\n",
    "\n",
    "# The iris classification example\n",
    "\n",
    "def preprocessIris(infile,outfile):\n",
    "\n",
    "    stext1 = 'Iris-setosa'\n",
    "    stext2 = 'Iris-versicolor'\n",
    "    stext3 = 'Iris-virginica'\n",
    "    rtext1 = '0'\n",
    "    rtext2 = '1'\n",
    "    rtext3 = '2'\n",
    "\n",
    "    fid = open(infile,\"r\")\n",
    "    oid = open(outfile,\"w\")\n",
    "\n",
    "    for s in fid:\n",
    "        if s.find(stext1)>-1:\n",
    "            oid.write(s.replace(stext1, rtext1))\n",
    "        elif s.find(stext2)>-1:\n",
    "            oid.write(s.replace(stext2, rtext2))\n",
    "        elif s.find(stext3)>-1:\n",
    "            oid.write(s.replace(stext3, rtext3))\n",
    "    fid.close()\n",
    "    oid.close()\n",
    "\n",
    "## Preprocessor to remove the test (only needed once)\n",
    "# preprocessIris('iris.data','iris_proc.data')\n",
    "\n",
    "iris = np.loadtxt('./data/iris_proc.data',delimiter=',')\n",
    "\n",
    "# we normalize the data (the features, not the labels):\n",
    "iris[:,:4] = iris[:,:4]-iris[:,:4].mean(axis=0)\n",
    "imax = np.concatenate((iris.max(axis=0)*np.ones((1,5)),np.abs(iris.min(axis=0)*np.ones((1,5)))),axis=0).max(axis=0)\n",
    "iris[:,:4] = iris[:,:4]/imax[:4]\n",
    "print(iris[0:5,:])\n",
    "\n",
    "\n",
    "\n",
    "# instead of using labels 0,1,2; we use labels like [1,0,0], [0,1,0], [0,0,1]; this is called one-hot encoding\n",
    "# algorithm that you use determines what the labels should look like\n",
    "# one-hot encoding is often used when analyzing text-data\n",
    "target = np.zeros((np.shape(iris)[0],3));\n",
    "indices = np.where(iris[:,4]==0) \n",
    "target[indices,0] = 1\n",
    "indices = np.where(iris[:,4]==1)\n",
    "target[indices,1] = 1\n",
    "indices = np.where(iris[:,4]==2)\n",
    "target[indices,2] = 1\n",
    "\n",
    "# Randomly order the data\n",
    "order = np.arange(np.shape(iris)[0])\n",
    "np.random.shuffle(order)\n",
    "iris = iris[order,:]\n",
    "target = target[order,:]\n",
    "\n",
    "# Split into training, validation, and test sets\n",
    "train = iris[::2,0:4]\n",
    "traint = target[::2]\n",
    "valid = iris[1::4,0:4]\n",
    "validt = target[1::4]\n",
    "test = iris[3::4,0:4]\n",
    "testt = target[3::4]"
   ]
  },
  {
   "cell_type": "markdown",
   "metadata": {},
   "source": [
    "Uncomment and evaluate the following cell if you want to get an idea what the data look like."
   ]
  },
  {
   "cell_type": "code",
   "execution_count": 84,
   "metadata": {
    "colab": {
     "base_uri": "https://localhost:8080/",
     "height": 319
    },
    "colab_type": "code",
    "executionInfo": {
     "elapsed": 679,
     "status": "ok",
     "timestamp": 1558971173290,
     "user": {
      "displayName": "Jan Boone",
      "photoUrl": "",
      "userId": "01680203205582182827"
     },
     "user_tz": -120
    },
    "id": "1hiC6IOj5TqT",
    "outputId": "f00b572d-391f-420f-e0f7-ebcb57dbcd64"
   },
   "outputs": [],
   "source": [
    "#print(iris)\n",
    "#print(train.max(axis=0), train.min(axis=0))"
   ]
  },
  {
   "cell_type": "markdown",
   "metadata": {},
   "source": [
    "Next we train the network:"
   ]
  },
  {
   "cell_type": "code",
   "execution_count": 85,
   "metadata": {
    "colab": {
     "base_uri": "https://localhost:8080/",
     "height": 319
    },
    "colab_type": "code",
    "executionInfo": {
     "elapsed": 679,
     "status": "ok",
     "timestamp": 1558971173290,
     "user": {
      "displayName": "Jan Boone",
      "photoUrl": "",
      "userId": "01680203205582182827"
     },
     "user_tz": -120
    },
    "id": "1hiC6IOj5TqT",
    "outputId": "f00b572d-391f-420f-e0f7-ebcb57dbcd64"
   },
   "outputs": [
    {
     "name": "stdout",
     "output_type": "stream",
     "text": [
      "1\n",
      "Iteration:  0  Error:  25.664241064005743\n",
      "2\n",
      "Iteration:  0  Error:  0.11515693234907126\n",
      "3\n",
      "Iteration:  0  Error:  0.0503108315145214\n",
      "Stopped 3.3169010700213746 3.250089890472476 3.1219788840585454\n",
      "Confusion matrix is:\n",
      "[[10.  0.  0.]\n",
      " [ 0. 14.  0.]\n",
      " [ 0.  0. 13.]]\n",
      "Percentage Correct:  100.0\n"
     ]
    }
   ],
   "source": [
    "# Train the network\n",
    "#import mlp\n",
    "net = mlp(train,traint,5,outtype='logistic')\n",
    "net.earlystopping(train,traint,valid,validt,0.1)\n",
    "net.confmat(test,testt)"
   ]
  },
  {
   "cell_type": "markdown",
   "metadata": {
    "colab": {
     "base_uri": "https://localhost:8080/",
     "height": 5352
    },
    "colab_type": "code",
    "executionInfo": {
     "elapsed": 513,
     "status": "ok",
     "timestamp": 1558977591543,
     "user": {
      "displayName": "Jan Boone",
      "photoUrl": "",
      "userId": "01680203205582182827"
     },
     "user_tz": -120
    },
    "id": "bTRd17Ds5Teh",
    "outputId": "deb8cc99-ca09-4afb-dd19-1c8b640373d1"
   },
   "source": [
    "As the choice of train, evaluate and test data is random, the results can differ here.\n",
    "\n",
    "The idea of the confusion matrix is as follows:\n",
    "* the rows are the true labels, the columns are the predicted labels;\n",
    "* if all non-diagonal entries equal 0, the model gives a perfect prediction;\n",
    "* if the element on the 3 rd row and 1st column is positive: some observations that actually have the 3rd label are incorrectly predicted to have the 1st label.\n",
    "\n",
    "When there are a lot of labels, looking at the confusion matrix is no longer helpful. A number of summary measures have been defined for such cases, like accuracy, sensitivity, precision etc."
   ]
  },
  {
   "cell_type": "markdown",
   "metadata": {},
   "source": [
    "## Intermezzo: Tensorflow regression\n",
    "\n",
    "Before we do classification in tensorflow, let's quickly look at a simple regression example. In this way you can get used to the notation and syntax of tensorflow, while looking at something (regression) that you already fully understand (we hope...).\n",
    "\n",
    "This example is copied from [this SciPy 2019 Tutorial](https://www.youtube.com/watch?v=E0-mp5UlWzo) starting at 14:30.\n",
    "\n"
   ]
  },
  {
   "cell_type": "markdown",
   "metadata": {},
   "source": [
    "A minimal example of linear regression in TensorFlow 2.0, written from scratch without using any built-in layers, optimizers, or loss functions. We'll create a few points on a scatter plot, then find the best fit line using the equation `y = m * x + b`.\n",
    "\n",
    "We create our own dataset. The function `make_noisy_data` has default values for its parameters. Hence, we can call it without parameters. But we can also specify a different value, like $m = 2.0$. It is a good exercise to play around with these parameter values."
   ]
  },
  {
   "cell_type": "code",
   "execution_count": 86,
   "metadata": {},
   "outputs": [],
   "source": [
    "def make_noisy_data(m=0.1, b=0.3, n=100):\n",
    "    x = tf.random.uniform(shape=(n,))\n",
    "    noise = tf.random.normal(shape=(len(x),), stddev=0.01)\n",
    "    y = m * x + b + noise\n",
    "    return x, y\n",
    "\n",
    "x_train, y_train = make_noisy_data()\n",
    "\n",
    "\n",
    "\n",
    "\n"
   ]
  },
  {
   "cell_type": "markdown",
   "metadata": {},
   "source": [
    "**Question** Plot the training data."
   ]
  },
  {
   "cell_type": "code",
   "execution_count": 87,
   "metadata": {
    "nbgrader": {
     "grade": true,
     "grade_id": "cell-fefdf79b5453a57d",
     "locked": false,
     "points": 1,
     "schema_version": 1,
     "solution": true
    }
   },
   "outputs": [
    {
     "data": {
      "text/plain": [
       "[<matplotlib.lines.Line2D at 0x7fd638f57550>]"
      ]
     },
     "execution_count": 87,
     "metadata": {},
     "output_type": "execute_result"
    },
    {
     "data": {
      "image/png": "[encoded data removed]",
      "text/plain": [
       "<Figure size 432x288 with 1 Axes>"
      ]
     },
     "metadata": {
      "needs_background": "light"
     },
     "output_type": "display_data"
    }
   ],
   "source": [
    "plt.plot(x_train, y_train, 'b.')"
   ]
  },
  {
   "cell_type": "markdown",
   "metadata": {},
   "source": [
    "Next we define the tensorflow variables `m,b` and give them a starting value. Tensorflow now knows that `m,b` are variables that will be varied (trained) later on."
   ]
  },
  {
   "cell_type": "code",
   "execution_count": 88,
   "metadata": {},
   "outputs": [],
   "source": [
    "m = tf.Variable(0.)\n",
    "b = tf.Variable(0.)"
   ]
  },
  {
   "cell_type": "markdown",
   "metadata": {},
   "source": [
    "We can look at the variables, but they are not \"easy to look at\" as they contain more information than just the value. If we are only interested in the value, we can use the `numpy()` method on the variable."
   ]
  },
  {
   "cell_type": "code",
   "execution_count": 89,
   "metadata": {},
   "outputs": [
    {
     "name": "stdout",
     "output_type": "stream",
     "text": [
      "<tf.Variable 'Variable:0' shape=() dtype=float32, numpy=0.0>\n",
      "0.0\n"
     ]
    }
   ],
   "source": [
    "print(m)\n",
    "print(m.numpy())"
   ]
  },
  {
   "cell_type": "markdown",
   "metadata": {},
   "source": [
    "We define a function that predicts `y` for given `x`. Note that tf \"knows\" that `m,b` are variables because of the way we defined these variables above. Hence, they are not explicitly mentioned in the function definition as variables."
   ]
  },
  {
   "cell_type": "code",
   "execution_count": 90,
   "metadata": {},
   "outputs": [],
   "source": [
    "def predict(x):\n",
    "    y = m * x + b\n",
    "    return y"
   ]
  },
  {
   "cell_type": "code",
   "execution_count": 91,
   "metadata": {},
   "outputs": [],
   "source": [
    "def squared_error(y_pred, y_true):\n",
    "    return tf.reduce_mean(tf.square(y_pred - y_true)) "
   ]
  },
  {
   "cell_type": "markdown",
   "metadata": {},
   "source": [
    "Our error measure is sum of squared differences between `y_pred` and `y_true`.\n",
    "\n",
    "To see what `reduce_mean` does, consider the following example. If the tensor `vector` has more than 1 dimension, you can specify the axis along which the reduction needs to take place."
   ]
  },
  {
   "cell_type": "code",
   "execution_count": 92,
   "metadata": {},
   "outputs": [
    {
     "name": "stdout",
     "output_type": "stream",
     "text": [
      "2.5\n"
     ]
    }
   ],
   "source": [
    "vector = tf.constant([[1., 2., 3., 4.]])\n",
    "print(tf.reduce_mean(vector).numpy())"
   ]
  },
  {
   "cell_type": "markdown",
   "metadata": {},
   "source": [
    "**Question** Before we train the model, i.e. with our starting values for `m,b`, calculate the `squared error` that we have."
   ]
  },
  {
   "cell_type": "code",
   "execution_count": 93,
   "metadata": {
    "nbgrader": {
     "grade": true,
     "grade_id": "cell-3cf0cf24392803a4",
     "locked": false,
     "points": 1,
     "schema_version": 1,
     "solution": true
    }
   },
   "outputs": [
    {
     "data": {
      "text/plain": [
       "0.12608078"
      ]
     },
     "execution_count": 93,
     "metadata": {},
     "output_type": "execute_result"
    }
   ],
   "source": [
    "loss = squared_error(predict(x_train), y_train)\n",
    "loss.numpy()"
   ]
  },
  {
   "cell_type": "markdown",
   "metadata": {},
   "source": [
    "Machine learning is all about reducing the loss (incorrect predictions). Most algorithms calculate the derivative of the loss function w.r.t. the parameters of the model. Then change the parameters in such a way that the loss is indeed reduced. We program a very simple gradient descent algorithm.\n",
    "\n",
    "We use gradient descent to gradually improve our guess for `m` and `b`. At each step, we'll nudge them a little bit in the right direction to reduce the loss."
   ]
  },
  {
   "cell_type": "code",
   "execution_count": 94,
   "metadata": {},
   "outputs": [
    {
     "name": "stdout",
     "output_type": "stream",
     "text": [
      "Step 0, Loss 0.126081\n",
      "Step 20, Loss 0.000784\n",
      "Step 40, Loss 0.000239\n",
      "Step 60, Loss 0.000200\n",
      "Step 80, Loss 0.000172\n",
      "Step 100, Loss 0.000150\n",
      "Step 120, Loss 0.000133\n",
      "Step 140, Loss 0.000120\n",
      "Step 160, Loss 0.000110\n",
      "Step 180, Loss 0.000102\n"
     ]
    }
   ],
   "source": [
    "learning_rate = 0.05\n",
    "steps = 200\n",
    "\n",
    "for i in range(steps):\n",
    "  \n",
    "    with tf.GradientTape() as tape:\n",
    "        predictions = predict(x_train)\n",
    "        loss = squared_error(predictions, y_train)\n",
    "    \n",
    "    gradients = tape.gradient(loss, [m, b])\n",
    "  \n",
    "    m.assign_sub(gradients[0] * learning_rate)\n",
    "    b.assign_sub(gradients[1] * learning_rate)\n",
    "  \n",
    "    if i % 20 == 0:    \n",
    "        print(\"Step %d, Loss %f\" % (i, loss.numpy()))"
   ]
  },
  {
   "cell_type": "markdown",
   "metadata": {},
   "source": [
    "Two things in the code above are new: `GradientTape` and `assign_sub`. We will discuss these briefly.\n",
    "\n",
    "More information on GradientTape can be found [here](https://www.tensorflow.org/versions/r2.0/api_docs/python/tf/GradientTape) where you select API: r2.0 (beta), to get the right version.\n",
    "\n",
    "As a simple example to get an idea of what it does, we work with the function $z^2$. `gradient` calculates the derivative (it does so analytically) and fills in the value, in this case 3.0. Hence, the derivative equals $2*z = 6.0$ at $z=3.0$."
   ]
  },
  {
   "cell_type": "code",
   "execution_count": 27,
   "metadata": {},
   "outputs": [
    {
     "data": {
      "text/plain": [
       "[<tf.Tensor: id=8424, shape=(), dtype=float32, numpy=6.0>]"
      ]
     },
     "execution_count": 27,
     "metadata": {},
     "output_type": "execute_result"
    }
   ],
   "source": [
    "z = tf.Variable(3.0)\n",
    "def my_function():\n",
    "    return z**2\n",
    "\n",
    "with tf.GradientTape() as tape:\n",
    "    value = my_function()\n",
    "tape.gradient(value, [z])\n",
    "\n"
   ]
  },
  {
   "cell_type": "markdown",
   "metadata": {},
   "source": [
    "**Question** Define the function $z_1^2+z_2^2-4z_1 z_2$ and calculate its derivatives w.r.t. $z_1,z_2$ in the point $z_1 = 1.0, z_2 = -2.0$."
   ]
  },
  {
   "cell_type": "code",
   "execution_count": 96,
   "metadata": {
    "nbgrader": {
     "grade": true,
     "grade_id": "cell-0b4e025e6da6dab5",
     "locked": false,
     "points": 1,
     "schema_version": 1,
     "solution": true
    }
   },
   "outputs": [
    {
     "data": {
      "text/plain": [
       "[<tf.Tensor: id=1008241, shape=(), dtype=float32, numpy=10.0>,\n",
       " <tf.Tensor: id=1008242, shape=(), dtype=float32, numpy=-8.0>]"
      ]
     },
     "execution_count": 96,
     "metadata": {},
     "output_type": "execute_result"
    }
   ],
   "source": [
    "z1 = tf.Variable(1.0)\n",
    "z2 = tf.Variable(-2.0)\n",
    "def my_function():\n",
    "    return z1**2+z2**2-4*z1*z2\n",
    "\n",
    "with tf.GradientTape() as tape:\n",
    "    value = my_function()\n",
    "tape.gradient(value, [z1,z2])\n"
   ]
  },
  {
   "cell_type": "markdown",
   "metadata": {},
   "source": [
    "`assign_sub` subtracts the value from the variable:"
   ]
  },
  {
   "cell_type": "code",
   "execution_count": 97,
   "metadata": {},
   "outputs": [
    {
     "data": {
      "text/plain": [
       "<tf.Variable 'UnreadVariable' shape=() dtype=float32, numpy=2.0>"
      ]
     },
     "execution_count": 97,
     "metadata": {},
     "output_type": "execute_result"
    }
   ],
   "source": [
    "z = tf.Variable(3.0)\n",
    "z.assign_sub(1.0)"
   ]
  },
  {
   "cell_type": "markdown",
   "metadata": {},
   "source": [
    "As you know from the Taylor expansion of $f(x)$ around $x=a$, we can write:\n",
    "\n",
    "$$\n",
    "f(x) = f(a) + f'(a)(x-a)\n",
    "$$\n",
    "\n",
    "Hence, if you try to minimize the function $f$, you should \"walk\" in the direction where $f$ is falling in $x$. The size of your step is determined by `learning_rate`. Big steps imply that you walk fast in the right direction, but you may jump over the minimum. With a small step size you are less likely to jump over the minimum, but it may take longer to get there.\n",
    "\n",
    "If $f'(x) >0$ and we want to minimize $f$, we should reduce $x$ to get closer to the minimum. Hence, our algorithm would do: $x_1 = x_0 - f'(a)*\\varepsilon$ where $\\varepsilon > 0$ is the learning rate.\n",
    "\n",
    "This is exactly what the code `m.assign_sub(gradients[0] * learning_rate)` does.\n",
    "\n",
    "Note that there are some issues here with local and global minima that we will not worry about."
   ]
  },
  {
   "cell_type": "markdown",
   "metadata": {},
   "source": [
    "Back to our regression problem, the values for the parameters that we have found are:"
   ]
  },
  {
   "cell_type": "code",
   "execution_count": 98,
   "metadata": {},
   "outputs": [
    {
     "name": "stdout",
     "output_type": "stream",
     "text": [
      "m: 0.110885, b: 0.295510\n"
     ]
    }
   ],
   "source": [
    "print (\"m: %f, b: %f\" % (m.numpy(), b.numpy()))"
   ]
  },
  {
   "cell_type": "markdown",
   "metadata": {},
   "source": [
    "**Question** Plot the regression line together with the data in one figure."
   ]
  },
  {
   "cell_type": "code",
   "execution_count": 100,
   "metadata": {
    "nbgrader": {
     "grade": true,
     "grade_id": "cell-831ce417659c9713",
     "locked": false,
     "points": 1,
     "schema_version": 1,
     "solution": true
    }
   },
   "outputs": [
    {
     "data": {
      "text/plain": [
       "<matplotlib.legend.Legend at 0x7fd618ef3630>"
      ]
     },
     "execution_count": 100,
     "metadata": {},
     "output_type": "execute_result"
    },
    {
     "data": {
      "image/png": "[encoded data removed]",
      "text/plain": [
       "<Figure size 432x288 with 1 Axes>"
      ]
     },
     "metadata": {
      "needs_background": "light"
     },
     "output_type": "display_data"
    }
   ],
   "source": [
    "plt.plot(x_train, y_train, 'r.', label = 'data')\n",
    "plt.plot(x_train, predict(x_train),label = 'regression line')\n",
    "plt.legend()"
   ]
  },
  {
   "cell_type": "markdown",
   "metadata": {},
   "source": [
    "## Tensor classification\n",
    "\n",
    "We first use the iris dataset to see how it works. However, this dataset is rather small, hence we move on to a bigger dataset below."
   ]
  },
  {
   "cell_type": "code",
   "execution_count": 23,
   "metadata": {},
   "outputs": [],
   "source": [
    "iris_features = iris[:,0:4]\n",
    "iris_target = iris[:,4]"
   ]
  },
  {
   "cell_type": "code",
   "execution_count": 24,
   "metadata": {},
   "outputs": [],
   "source": [
    "model = keras.Sequential([\n",
    "    keras.layers.Dense(30, activation='relu'),\n",
    "    keras.layers.Dense(10, activation='relu'),\n",
    "    keras.layers.Dense(3, activation='softmax')\n",
    "])"
   ]
  },
  {
   "cell_type": "code",
   "execution_count": 25,
   "metadata": {},
   "outputs": [],
   "source": [
    "model.compile(optimizer='adam',\n",
    "              loss='sparse_categorical_crossentropy',\n",
    "              metrics=['accuracy'])"
   ]
  },
  {
   "cell_type": "code",
   "execution_count": 26,
   "metadata": {},
   "outputs": [
    {
     "name": "stdout",
     "output_type": "stream",
     "text": [
      "Epoch 1/10\n",
      "150/150 [==============================] - 0s 614us/sample - loss: 1.0717 - accuracy: 0.3733\n",
      "Epoch 2/10\n",
      "150/150 [==============================] - 0s 42us/sample - loss: 1.0528 - accuracy: 0.4533\n",
      "Epoch 3/10\n",
      "150/150 [==============================] - 0s 40us/sample - loss: 1.0327 - accuracy: 0.5533\n",
      "Epoch 4/10\n",
      "150/150 [==============================] - 0s 42us/sample - loss: 1.0140 - accuracy: 0.6467\n",
      "Epoch 5/10\n",
      "150/150 [==============================] - 0s 40us/sample - loss: 0.9936 - accuracy: 0.7467\n",
      "Epoch 6/10\n",
      "150/150 [==============================] - 0s 38us/sample - loss: 0.9732 - accuracy: 0.7733\n",
      "Epoch 7/10\n",
      "150/150 [==============================] - 0s 40us/sample - loss: 0.9515 - accuracy: 0.7867\n",
      "Epoch 8/10\n",
      "150/150 [==============================] - 0s 39us/sample - loss: 0.9271 - accuracy: 0.8067\n",
      "Epoch 9/10\n",
      "150/150 [==============================] - 0s 41us/sample - loss: 0.9026 - accuracy: 0.8267\n",
      "Epoch 10/10\n",
      "150/150 [==============================] - 0s 50us/sample - loss: 0.8766 - accuracy: 0.8200\n"
     ]
    },
    {
     "data": {
      "text/plain": [
       "<tensorflow.python.keras.callbacks.History at 0x7fd6220d6da0>"
      ]
     },
     "execution_count": 26,
     "metadata": {},
     "output_type": "execute_result"
    }
   ],
   "source": [
    "model.fit(iris_features, iris_target, epochs=10)"
   ]
  },
  {
   "cell_type": "markdown",
   "metadata": {},
   "source": [
    "## Back to our first neural network\n",
    "\n",
    "After having seen some tensorflow syntax in a simple regression example, let's look at a classification problem again.\n",
    "\n",
    "As the iris dataset is rather small, we cannot meaningfully split it up further in a train and test set. To do a proper analysis, we go back to our first neutral network that we specified above using the mnist data set on classifying handwritten numbers.\n",
    "\n",
    "We borrow parts of the analysis from [here.](https://github.com/tensorflow/docs/blob/master/site/en/r2/tutorials/keras/basic_classification.ipynb)"
   ]
  },
  {
   "cell_type": "code",
   "execution_count": 101,
   "metadata": {},
   "outputs": [],
   "source": [
    "(train_images, train_labels), (test_images, test_labels) = datasets.mnist.load_data()"
   ]
  },
  {
   "cell_type": "markdown",
   "metadata": {},
   "source": [
    "**Question** Determine the shape of `train_images`."
   ]
  },
  {
   "cell_type": "code",
   "execution_count": 102,
   "metadata": {
    "nbgrader": {
     "grade": true,
     "grade_id": "cell-e802e864418eafca",
     "locked": false,
     "points": 1,
     "schema_version": 1,
     "solution": true
    }
   },
   "outputs": [
    {
     "data": {
      "text/plain": [
       "(60000, 28, 28)"
      ]
     },
     "execution_count": 102,
     "metadata": {},
     "output_type": "execute_result"
    }
   ],
   "source": [
    "train_images.shape"
   ]
  },
  {
   "cell_type": "markdown",
   "metadata": {},
   "source": [
    "To get an idea of how these numbers are actually coded, we plot them in the following figure."
   ]
  },
  {
   "cell_type": "code",
   "execution_count": 103,
   "metadata": {},
   "outputs": [
    {
     "data": {
      "image/png": "[encoded data removed]",
      "text/plain": [
       "<Figure size 432x288 with 2 Axes>"
      ]
     },
     "metadata": {
      "needs_background": "light"
     },
     "output_type": "display_data"
    }
   ],
   "source": [
    "plt.figure()\n",
    "plt.imshow(train_images[0])\n",
    "plt.colorbar()\n",
    "plt.grid(False)\n",
    "plt.show()"
   ]
  },
  {
   "cell_type": "markdown",
   "metadata": {},
   "source": [
    "It is generally a good idea to standardize your features such that they are between 0 and 1. Hence we divide by 255, because"
   ]
  },
  {
   "cell_type": "code",
   "execution_count": 107,
   "metadata": {},
   "outputs": [
    {
     "name": "stdout",
     "output_type": "stream",
     "text": [
      "0\n",
      "255\n"
     ]
    }
   ],
   "source": [
    "print(train_images[0].min())\n",
    "print(train_images[0].max())"
   ]
  },
  {
   "cell_type": "code",
   "execution_count": 108,
   "metadata": {},
   "outputs": [],
   "source": [
    "train_images = train_images/255.0\n",
    "\n",
    "test_images = test_images/255.0"
   ]
  },
  {
   "cell_type": "markdown",
   "metadata": {},
   "source": [
    "We can plot some of our data and show the label for each figure below it."
   ]
  },
  {
   "cell_type": "code",
   "execution_count": 109,
   "metadata": {},
   "outputs": [
    {
     "data": {
      "image/png": "[encoded data removed]",
      "text/plain": [
       "<Figure size 720x720 with 25 Axes>"
      ]
     },
     "metadata": {},
     "output_type": "display_data"
    }
   ],
   "source": [
    "plt.figure(figsize=(10,10))\n",
    "for i in range(25):\n",
    "    plt.subplot(5,5,i+1)\n",
    "    plt.xticks([])\n",
    "    plt.yticks([])\n",
    "    plt.grid(False)\n",
    "    plt.imshow(train_images[i], cmap=plt.cm.binary)\n",
    "    plt.xlabel(train_labels[i])\n",
    "plt.show()"
   ]
  },
  {
   "cell_type": "markdown",
   "metadata": {},
   "source": [
    "We define the same model as we did before, but give some more explanation."
   ]
  },
  {
   "cell_type": "code",
   "execution_count": 140,
   "metadata": {
    "colab": {},
    "colab_type": "code",
    "id": "7hZyoNwm6Je2"
   },
   "outputs": [],
   "source": [
    "model = keras.Sequential([\n",
    "    keras.layers.Flatten(input_shape=(28, 28)),\n",
    "    keras.layers.Dense(128, activation='relu'),\n",
    "    keras.layers.Dense(10, activation='softmax')\n",
    "])\n",
    "\n",
    "\n",
    "model.compile(optimizer='adam',\n",
    "              loss='sparse_categorical_crossentropy',\n",
    "              metrics=['accuracy'])\n",
    "\n"
   ]
  },
  {
   "cell_type": "markdown",
   "metadata": {},
   "source": [
    "We use `keras` to define our deep neural network. The first line of our model, `keras.layers.Flatten`, is not a layer but specifies that we flatten our two dimensional figures into one dimensional vectors. Depending on the algorithm that you use, this step may not be necessary.\n",
    "\n",
    "After \"flattening\" our input vector is $28*28 = 784$ entries long. Our first layer has 128 nodes. The layer is \"dense\" in the sense that each of the 784 input nodes is connected to all the 128 nodes in the first layer.\n",
    "\n",
    "The activation function of this first layer is `relu`, meaning $\\max(0,x)$. So to calculate the output of this layer, we do the following: $output = W \\times input + b$ where the matrix $W$ and vector $b$ are the parameter values that we want to determine. Then the output of the first layer is $\\max(0,ouput)$ for each node. If $output \\leq 0$, the node is not activated.\n",
    "\n",
    "Then we map these 128 nodes into out final layer which is a probability distribution (`softmax`) over the 10 potential labels. The label with the highest probability is our predicted label.\n",
    "\n",
    "Then we compile our model by specifying the optimizer that we want to use; `adam` is usually a good choice. We specify the loss function that we want to minimize and we can specify other variables that we want to keep track off.\n",
    "\n",
    "To see what the options are for `model.compile`, run `model.compile?` in a cell. In the documentation, there is, for instance, a reference to `tf.keras.optimizers`. The simplest way to access this, is to use the tensorflow website (with the correct API) and look at: https://www.tensorflow.org/versions/r2.0/api_docs/python/tf/keras/optimizers"
   ]
  },
  {
   "cell_type": "markdown",
   "metadata": {},
   "source": [
    "We estimate ('fit') the model on the train set. Here we specify 10 epochs.\n",
    "\n",
    "To estimate the model we usually do not want to use all the data at once as that would slow down the algorithm. Hence we take a \"minibatch\" (sample; the size of which can be set by `batch_size`) from our data and estimate the model on this sample. Then we take another sample etc.\n",
    "\n",
    "In this way, a given observation can be used in a number of samples when estimating the model. The parameter `epochs` specifies how often a given datapoint is used in a sample to estimate the model."
   ]
  },
  {
   "cell_type": "code",
   "execution_count": 141,
   "metadata": {
    "colab": {
     "base_uri": "https://localhost:8080/",
     "height": 213
    },
    "colab_type": "code",
    "executionInfo": {
     "elapsed": 23166,
     "status": "ok",
     "timestamp": 1556370965688,
     "user": {
      "displayName": "Jan Boone",
      "photoUrl": "",
      "userId": "01680203205582182827"
     },
     "user_tz": -120
    },
    "id": "lRi2WhVB6J3i",
    "outputId": "94eeb1bc-c1ad-4a6f-d1de-29afca2d5d03"
   },
   "outputs": [
    {
     "name": "stdout",
     "output_type": "stream",
     "text": [
      "Epoch 1/10\n",
      "60000/60000 [==============================] - 3s 46us/sample - loss: 0.2588 - accuracy: 0.9266\n",
      "Epoch 2/10\n",
      "60000/60000 [==============================] - 3s 44us/sample - loss: 0.1125 - accuracy: 0.9674\n",
      "Epoch 3/10\n",
      "60000/60000 [==============================] - 3s 44us/sample - loss: 0.0769 - accuracy: 0.9765\n",
      "Epoch 4/10\n",
      "60000/60000 [==============================] - 3s 43us/sample - loss: 0.0580 - accuracy: 0.9821\n",
      "Epoch 5/10\n",
      "60000/60000 [==============================] - 3s 46us/sample - loss: 0.0447 - accuracy: 0.9863\n",
      "Epoch 6/10\n",
      "60000/60000 [==============================] - 3s 43us/sample - loss: 0.0355 - accuracy: 0.9891\n",
      "Epoch 7/10\n",
      "60000/60000 [==============================] - 3s 44us/sample - loss: 0.0291 - accuracy: 0.9906\n",
      "Epoch 8/10\n",
      "60000/60000 [==============================] - 3s 47us/sample - loss: 0.0221 - accuracy: 0.9934\n",
      "Epoch 9/10\n",
      "60000/60000 [==============================] - 3s 44us/sample - loss: 0.0187 - accuracy: 0.9946\n",
      "Epoch 10/10\n",
      "60000/60000 [==============================] - 3s 44us/sample - loss: 0.0155 - accuracy: 0.9951\n"
     ]
    },
    {
     "data": {
      "text/plain": [
       "<tensorflow.python.keras.callbacks.History at 0x7fd5d887ef60>"
      ]
     },
     "execution_count": 141,
     "metadata": {},
     "output_type": "execute_result"
    }
   ],
   "source": [
    "model.fit(train_images, train_labels, epochs=10)\n"
   ]
  },
  {
   "cell_type": "markdown",
   "metadata": {},
   "source": [
    "As we worry about overfitting, the fit on the training set is not very informative (unless this fit is already very bad). Hence, we use our fitted model and then evaluate it using the test data. That is, given the test_images, we predict (using the fitted model) a label; we then compare this label with the true `test_labels`.\n",
    "\n",
    "The accuracy on the test set is (as one would expect) lower than on the train set. Hence, there is some overfitting of the model on the training set. Some features of the train data are picked up by the model that do not generalize to the test data.\n",
    "\n",
    "Below we will use the prediction on the test set to determine the optimal number of epochs with an eye on overfitting."
   ]
  },
  {
   "cell_type": "code",
   "execution_count": 142,
   "metadata": {
    "colab": {
     "base_uri": "https://localhost:8080/",
     "height": 70
    },
    "colab_type": "code",
    "executionInfo": {
     "elapsed": 894,
     "status": "ok",
     "timestamp": 1556370974512,
     "user": {
      "displayName": "Jan Boone",
      "photoUrl": "",
      "userId": "01680203205582182827"
     },
     "user_tz": -120
    },
    "id": "c-0AF9lZ6J_1",
    "outputId": "6f1e7863-2b9f-4d49-8d77-246e0ae5b1d9"
   },
   "outputs": [
    {
     "name": "stdout",
     "output_type": "stream",
     "text": [
      "10000/10000 [==============================] - 0s 28us/sample - loss: 0.0857 - accuracy: 0.9771\n",
      "\n",
      "Test accuracy: 0.9771\n"
     ]
    }
   ],
   "source": [
    "test_loss, test_acc = model.evaluate(test_images, test_labels)\n",
    "\n",
    "print('\\nTest accuracy:', test_acc)\n"
   ]
  },
  {
   "cell_type": "markdown",
   "metadata": {},
   "source": [
    "We can generate predictions for the test set and consider explicitly the prediction for the first image (index 0). This prediction gives the probability for each possible label 0-9."
   ]
  },
  {
   "cell_type": "code",
   "execution_count": 143,
   "metadata": {
    "colab": {
     "base_uri": "https://localhost:8080/",
     "height": 70
    },
    "colab_type": "code",
    "executionInfo": {
     "elapsed": 607,
     "status": "ok",
     "timestamp": 1556371028160,
     "user": {
      "displayName": "Jan Boone",
      "photoUrl": "",
      "userId": "01680203205582182827"
     },
     "user_tz": -120
    },
    "id": "Zt2s64Sv6J8-",
    "outputId": "db36cba3-ed61-4fbe-daac-b019cc464995"
   },
   "outputs": [],
   "source": [
    "predictions = model.predict(test_images)\n"
   ]
  },
  {
   "cell_type": "markdown",
   "metadata": {},
   "source": [
    "**Question** What is the prediction for the first image?"
   ]
  },
  {
   "cell_type": "code",
   "execution_count": 144,
   "metadata": {
    "nbgrader": {
     "grade": true,
     "grade_id": "cell-6f81397facf1138e",
     "locked": false,
     "points": 1,
     "schema_version": 1,
     "solution": true
    }
   },
   "outputs": [
    {
     "data": {
      "text/plain": [
       "array([8.2473589e-10, 1.2718541e-10, 1.9067457e-07, 4.3082058e-05,\n",
       "       6.1509561e-14, 4.6733628e-10, 2.9344173e-17, 9.9995661e-01,\n",
       "       1.5265439e-08, 8.2346034e-08], dtype=float32)"
      ]
     },
     "execution_count": 144,
     "metadata": {},
     "output_type": "execute_result"
    }
   ],
   "source": [
    "predictions[0]"
   ]
  },
  {
   "cell_type": "markdown",
   "metadata": {},
   "source": [
    "**Question** If you had to make a \"point prediction\" which label (number) would you predict for the first image? Compare this to the true label of the first image in the test set."
   ]
  },
  {
   "cell_type": "code",
   "execution_count": 145,
   "metadata": {
    "colab": {
     "base_uri": "https://localhost:8080/",
     "height": 35
    },
    "colab_type": "code",
    "executionInfo": {
     "elapsed": 423,
     "status": "ok",
     "timestamp": 1556371039255,
     "user": {
      "displayName": "Jan Boone",
      "photoUrl": "",
      "userId": "01680203205582182827"
     },
     "user_tz": -120
    },
    "id": "0fvXLL2t6Jzd",
    "nbgrader": {
     "grade": true,
     "grade_id": "cell-1de3db8d74c5aebc",
     "locked": false,
     "points": 1,
     "schema_version": 1,
     "solution": true
    },
    "outputId": "10f210bc-7eaf-4663-8c1f-422d57499f36"
   },
   "outputs": [
    {
     "name": "stdout",
     "output_type": "stream",
     "text": [
      "7\n",
      "7\n"
     ]
    }
   ],
   "source": [
    "print(np.argmax(predictions[0]))\n",
    "print(test_labels[0])\n"
   ]
  },
  {
   "cell_type": "markdown",
   "metadata": {},
   "source": [
    "**Question** As a final check, plot the first image."
   ]
  },
  {
   "cell_type": "code",
   "execution_count": 146,
   "metadata": {
    "colab": {
     "base_uri": "https://localhost:8080/",
     "height": 269
    },
    "colab_type": "code",
    "executionInfo": {
     "elapsed": 453,
     "status": "ok",
     "timestamp": 1556371087956,
     "user": {
      "displayName": "Jan Boone",
      "photoUrl": "",
      "userId": "01680203205582182827"
     },
     "user_tz": -120
    },
    "id": "Jj51sTbh8Ztc",
    "nbgrader": {
     "grade": true,
     "grade_id": "cell-68383cc856c456fd",
     "locked": false,
     "points": 1,
     "schema_version": 1,
     "solution": true
    },
    "outputId": "e16c1322-1602-4435-fc59-3ac6313170b0"
   },
   "outputs": [
    {
     "data": {
      "image/png": "[encoded data removed]",
      "text/plain": [
       "<Figure size 432x288 with 1 Axes>"
      ]
     },
     "metadata": {
      "needs_background": "light"
     },
     "output_type": "display_data"
    }
   ],
   "source": [
    "plt.imshow(test_images[0],cmap=plt.cm.binary)\n",
    "plt.show()"
   ]
  },
  {
   "cell_type": "markdown",
   "metadata": {},
   "source": [
    "The following code \"automizes\" plotting an image together with its true and predicted label. Then we can plot a number of images, together with their predictions. If the prediction is correct, the figure is in blue, else in red.\n",
    "\n",
    "As the accuracy is quite high, you may not see any red images."
   ]
  },
  {
   "cell_type": "code",
   "execution_count": 147,
   "metadata": {},
   "outputs": [],
   "source": [
    "def plot_image(i, predictions_array, true_label, img):\n",
    "    predictions_array, true_label, img = predictions_array, true_label[i], img[i]\n",
    "    plt.grid(False)\n",
    "    plt.xticks([])\n",
    "    plt.yticks([])\n",
    "\n",
    "    plt.imshow(img, cmap=plt.cm.binary)\n",
    "\n",
    "    predicted_label = np.argmax(predictions_array)\n",
    "    if predicted_label == true_label:\n",
    "        color = 'blue'\n",
    "    else:\n",
    "        color = 'red'\n",
    "\n",
    "    plt.xlabel(\"{} {:2.0f}% ({})\".format(predicted_label,\n",
    "                                100*np.max(predictions_array),\n",
    "                                true_label),\n",
    "                                color=color)\n",
    "\n",
    "def plot_value_array(i, predictions_array, true_label):\n",
    "    predictions_array, true_label = predictions_array, true_label[i]\n",
    "    plt.grid(False)\n",
    "    plt.xticks(range(10))\n",
    "    plt.yticks([])\n",
    "    thisplot = plt.bar(range(10), predictions_array, color=\"#777777\")\n",
    "    plt.ylim([0, 1])\n",
    "    predicted_label = np.argmax(predictions_array)\n",
    "\n",
    "    thisplot[predicted_label].set_color('red')\n",
    "    thisplot[true_label].set_color('blue')"
   ]
  },
  {
   "cell_type": "code",
   "execution_count": 148,
   "metadata": {},
   "outputs": [
    {
     "data": {
      "image/png": "[encoded data removed]",
      "text/plain": [
       "<Figure size 864x1440 with 60 Axes>"
      ]
     },
     "metadata": {
      "needs_background": "light"
     },
     "output_type": "display_data"
    }
   ],
   "source": [
    "num_rows = 10\n",
    "num_cols = 3\n",
    "num_images = num_rows*num_cols\n",
    "plt.figure(figsize=(2*2*num_cols, 2*num_rows))\n",
    "for i in range(num_images):\n",
    "    plt.subplot(num_rows, 2*num_cols, 2*i+1)\n",
    "    plot_image(i, predictions[i], test_labels, test_images)\n",
    "    plt.subplot(num_rows, 2*num_cols, 2*i+2)\n",
    "    plot_value_array(i, predictions[i], test_labels)\n",
    "plt.tight_layout()\n",
    "plt.show()"
   ]
  },
  {
   "cell_type": "markdown",
   "metadata": {},
   "source": [
    "Finally, we consider the problem of how to choose the number of epochs to reduce overfitting. That is, for each value of `epochs` we save the loss and accuracy in `history`. Then we plot loss and accuracy against `epochs` for the train data and the validation/test data.\n",
    "\n"
   ]
  },
  {
   "cell_type": "code",
   "execution_count": 149,
   "metadata": {},
   "outputs": [
    {
     "name": "stdout",
     "output_type": "stream",
     "text": [
      "Train on 60000 samples, validate on 10000 samples\n",
      "Epoch 1/50\n",
      "60000/60000 [==============================] - 1s 16us/sample - loss: 0.5883 - accuracy: 0.8462 - val_loss: 0.2814 - val_accuracy: 0.9239\n",
      "Epoch 2/50\n",
      "60000/60000 [==============================] - 1s 12us/sample - loss: 0.2542 - accuracy: 0.9297 - val_loss: 0.2129 - val_accuracy: 0.9402\n",
      "Epoch 3/50\n",
      "60000/60000 [==============================] - 1s 12us/sample - loss: 0.1974 - accuracy: 0.9445 - val_loss: 0.1756 - val_accuracy: 0.9501\n",
      "Epoch 4/50\n",
      "60000/60000 [==============================] - 1s 12us/sample - loss: 0.1621 - accuracy: 0.9542 - val_loss: 0.1505 - val_accuracy: 0.9551\n",
      "Epoch 5/50\n",
      "60000/60000 [==============================] - 1s 14us/sample - loss: 0.1378 - accuracy: 0.9611 - val_loss: 0.1362 - val_accuracy: 0.9612\n",
      "Epoch 6/50\n",
      "60000/60000 [==============================] - 1s 13us/sample - loss: 0.1193 - accuracy: 0.9655 - val_loss: 0.1199 - val_accuracy: 0.9649\n",
      "Epoch 7/50\n",
      "60000/60000 [==============================] - 1s 12us/sample - loss: 0.1041 - accuracy: 0.9703 - val_loss: 0.1074 - val_accuracy: 0.9683\n",
      "Epoch 8/50\n",
      "60000/60000 [==============================] - 1s 12us/sample - loss: 0.0917 - accuracy: 0.9745 - val_loss: 0.1076 - val_accuracy: 0.9681\n",
      "Epoch 9/50\n",
      "60000/60000 [==============================] - 1s 13us/sample - loss: 0.0821 - accuracy: 0.9770 - val_loss: 0.0956 - val_accuracy: 0.9710\n",
      "Epoch 10/50\n",
      "60000/60000 [==============================] - 1s 12us/sample - loss: 0.0740 - accuracy: 0.9791 - val_loss: 0.0905 - val_accuracy: 0.9724\n",
      "Epoch 11/50\n",
      "60000/60000 [==============================] - 1s 12us/sample - loss: 0.0666 - accuracy: 0.9815 - val_loss: 0.0861 - val_accuracy: 0.9735\n",
      "Epoch 12/50\n",
      "60000/60000 [==============================] - 1s 12us/sample - loss: 0.0606 - accuracy: 0.9833 - val_loss: 0.0829 - val_accuracy: 0.9739\n",
      "Epoch 13/50\n",
      "60000/60000 [==============================] - 1s 16us/sample - loss: 0.0552 - accuracy: 0.9847 - val_loss: 0.0807 - val_accuracy: 0.9743\n",
      "Epoch 14/50\n",
      "60000/60000 [==============================] - 1s 12us/sample - loss: 0.0501 - accuracy: 0.9862 - val_loss: 0.0787 - val_accuracy: 0.9750\n",
      "Epoch 15/50\n",
      "60000/60000 [==============================] - 1s 12us/sample - loss: 0.0461 - accuracy: 0.9872 - val_loss: 0.0785 - val_accuracy: 0.9746\n",
      "Epoch 16/50\n",
      "60000/60000 [==============================] - 1s 12us/sample - loss: 0.0423 - accuracy: 0.9885 - val_loss: 0.0753 - val_accuracy: 0.9759\n",
      "Epoch 17/50\n",
      "60000/60000 [==============================] - 1s 11us/sample - loss: 0.0389 - accuracy: 0.9898 - val_loss: 0.0742 - val_accuracy: 0.9769\n",
      "Epoch 18/50\n",
      "60000/60000 [==============================] - 1s 11us/sample - loss: 0.0353 - accuracy: 0.9910 - val_loss: 0.0738 - val_accuracy: 0.9775\n",
      "Epoch 19/50\n",
      "60000/60000 [==============================] - 1s 12us/sample - loss: 0.0329 - accuracy: 0.9915 - val_loss: 0.0727 - val_accuracy: 0.9778\n",
      "Epoch 20/50\n",
      "60000/60000 [==============================] - 1s 13us/sample - loss: 0.0297 - accuracy: 0.9928 - val_loss: 0.0722 - val_accuracy: 0.9777\n",
      "Epoch 21/50\n",
      "60000/60000 [==============================] - 1s 13us/sample - loss: 0.0275 - accuracy: 0.9933 - val_loss: 0.0733 - val_accuracy: 0.9776\n",
      "Epoch 22/50\n",
      "60000/60000 [==============================] - 1s 13us/sample - loss: 0.0250 - accuracy: 0.9943 - val_loss: 0.0730 - val_accuracy: 0.9775\n",
      "Epoch 23/50\n",
      "60000/60000 [==============================] - 1s 13us/sample - loss: 0.0238 - accuracy: 0.9947 - val_loss: 0.0716 - val_accuracy: 0.9776\n",
      "Epoch 24/50\n",
      "60000/60000 [==============================] - 1s 12us/sample - loss: 0.0213 - accuracy: 0.9955 - val_loss: 0.0728 - val_accuracy: 0.9779\n",
      "Epoch 25/50\n",
      "60000/60000 [==============================] - 1s 12us/sample - loss: 0.0197 - accuracy: 0.9963 - val_loss: 0.0694 - val_accuracy: 0.9796\n",
      "Epoch 26/50\n",
      "60000/60000 [==============================] - 1s 14us/sample - loss: 0.0182 - accuracy: 0.9967 - val_loss: 0.0711 - val_accuracy: 0.9789\n",
      "Epoch 27/50\n",
      "60000/60000 [==============================] - 1s 15us/sample - loss: 0.0165 - accuracy: 0.9970 - val_loss: 0.0706 - val_accuracy: 0.9785\n",
      "Epoch 28/50\n",
      "60000/60000 [==============================] - 1s 14us/sample - loss: 0.0156 - accuracy: 0.9974 - val_loss: 0.0709 - val_accuracy: 0.9799\n",
      "Epoch 29/50\n",
      "60000/60000 [==============================] - 1s 14us/sample - loss: 0.0141 - accuracy: 0.9977 - val_loss: 0.0741 - val_accuracy: 0.9788\n",
      "Epoch 30/50\n",
      "60000/60000 [==============================] - 1s 13us/sample - loss: 0.0129 - accuracy: 0.9981 - val_loss: 0.0753 - val_accuracy: 0.9784\n",
      "Epoch 31/50\n",
      "60000/60000 [==============================] - 1s 13us/sample - loss: 0.0119 - accuracy: 0.9983 - val_loss: 0.0729 - val_accuracy: 0.9781\n",
      "Epoch 32/50\n",
      "60000/60000 [==============================] - 1s 12us/sample - loss: 0.0109 - accuracy: 0.9987 - val_loss: 0.0735 - val_accuracy: 0.9783\n",
      "Epoch 33/50\n",
      "60000/60000 [==============================] - 1s 12us/sample - loss: 0.0101 - accuracy: 0.9988 - val_loss: 0.0717 - val_accuracy: 0.9793\n",
      "Epoch 34/50\n",
      "60000/60000 [==============================] - 1s 12us/sample - loss: 0.0091 - accuracy: 0.9990 - val_loss: 0.0769 - val_accuracy: 0.9789\n",
      "Epoch 35/50\n",
      "60000/60000 [==============================] - 1s 12us/sample - loss: 0.0088 - accuracy: 0.9991 - val_loss: 0.0733 - val_accuracy: 0.9796\n",
      "Epoch 36/50\n",
      "60000/60000 [==============================] - 1s 13us/sample - loss: 0.0078 - accuracy: 0.9994 - val_loss: 0.0753 - val_accuracy: 0.9793\n",
      "Epoch 37/50\n",
      "60000/60000 [==============================] - 1s 12us/sample - loss: 0.0074 - accuracy: 0.9994 - val_loss: 0.0742 - val_accuracy: 0.9802\n",
      "Epoch 38/50\n",
      "60000/60000 [==============================] - 1s 12us/sample - loss: 0.0065 - accuracy: 0.9996 - val_loss: 0.0759 - val_accuracy: 0.9789\n",
      "Epoch 39/50\n",
      "60000/60000 [==============================] - 1s 12us/sample - loss: 0.0061 - accuracy: 0.9995 - val_loss: 0.0766 - val_accuracy: 0.9788\n",
      "Epoch 40/50\n",
      "60000/60000 [==============================] - 1s 12us/sample - loss: 0.0057 - accuracy: 0.9996 - val_loss: 0.0771 - val_accuracy: 0.9794\n",
      "Epoch 41/50\n",
      "60000/60000 [==============================] - 1s 12us/sample - loss: 0.0053 - accuracy: 0.9998 - val_loss: 0.0775 - val_accuracy: 0.9796\n",
      "Epoch 42/50\n",
      "60000/60000 [==============================] - 1s 12us/sample - loss: 0.0046 - accuracy: 0.9998 - val_loss: 0.0779 - val_accuracy: 0.9789\n",
      "Epoch 43/50\n",
      "60000/60000 [==============================] - 1s 12us/sample - loss: 0.0043 - accuracy: 0.9998 - val_loss: 0.0791 - val_accuracy: 0.9800\n",
      "Epoch 44/50\n",
      "60000/60000 [==============================] - 1s 12us/sample - loss: 0.0041 - accuracy: 0.9999 - val_loss: 0.0797 - val_accuracy: 0.9794\n",
      "Epoch 45/50\n",
      "60000/60000 [==============================] - 1s 12us/sample - loss: 0.0038 - accuracy: 0.9998 - val_loss: 0.0798 - val_accuracy: 0.9794\n",
      "Epoch 46/50\n",
      "60000/60000 [==============================] - 1s 12us/sample - loss: 0.0035 - accuracy: 0.9999 - val_loss: 0.0796 - val_accuracy: 0.9804\n",
      "Epoch 47/50\n",
      "60000/60000 [==============================] - 1s 12us/sample - loss: 0.0033 - accuracy: 0.9999 - val_loss: 0.0808 - val_accuracy: 0.9792\n",
      "Epoch 48/50\n",
      "60000/60000 [==============================] - 1s 12us/sample - loss: 0.0030 - accuracy: 1.0000 - val_loss: 0.0821 - val_accuracy: 0.9794\n",
      "Epoch 49/50\n",
      "60000/60000 [==============================] - 1s 12us/sample - loss: 0.0027 - accuracy: 1.0000 - val_loss: 0.0819 - val_accuracy: 0.9800\n",
      "Epoch 50/50\n",
      "60000/60000 [==============================] - 1s 13us/sample - loss: 0.0024 - accuracy: 0.9999 - val_loss: 0.0811 - val_accuracy: 0.9804\n"
     ]
    }
   ],
   "source": [
    "model = keras.Sequential([\n",
    "    keras.layers.Flatten(input_shape=(28, 28)),\n",
    "    keras.layers.Dense(128, activation='relu'),\n",
    "    keras.layers.Dense(10, activation='softmax')\n",
    "])\n",
    "\n",
    "model.compile(optimizer='adam',\n",
    "              loss='sparse_categorical_crossentropy',\n",
    "              metrics=['accuracy'])\n",
    "\n",
    "\n",
    "history = model.fit(train_images,\n",
    "                    train_labels,\n",
    "                    epochs=50,\n",
    "                    batch_size=512,\n",
    "                    validation_data=(test_images, test_labels))"
   ]
  },
  {
   "cell_type": "code",
   "execution_count": 150,
   "metadata": {},
   "outputs": [
    {
     "data": {
      "image/png": "[encoded data removed]",
      "text/plain": [
       "<Figure size 432x288 with 1 Axes>"
      ]
     },
     "metadata": {
      "needs_background": "light"
     },
     "output_type": "display_data"
    }
   ],
   "source": [
    "loss = history.history['loss']\n",
    "val_loss = history.history['val_loss']\n",
    "\n",
    "epochs = range(1, len(loss) + 1)\n",
    "\n",
    "plt.plot(epochs, loss, 'bo', label='Training loss')\n",
    "plt.plot(epochs, val_loss, 'b', label='Validation loss')\n",
    "plt.title('Training and validation loss')\n",
    "plt.xlabel('Epochs')\n",
    "plt.ylabel('Loss')\n",
    "plt.legend()\n",
    "\n",
    "plt.show()"
   ]
  },
  {
   "cell_type": "code",
   "execution_count": 151,
   "metadata": {},
   "outputs": [
    {
     "data": {
      "image/png": "[encoded data removed]",
      "text/plain": [
       "<Figure size 432x288 with 1 Axes>"
      ]
     },
     "metadata": {
      "needs_background": "light"
     },
     "output_type": "display_data"
    }
   ],
   "source": [
    "#plt.clf()   # clear figure\n",
    "\n",
    "acc = history.history['accuracy']\n",
    "val_acc = history.history['val_accuracy']\n",
    "\n",
    "plt.plot(epochs, acc, 'bo', label='Training acc')\n",
    "plt.plot(epochs, val_acc, 'b', label='Validation acc')\n",
    "plt.title('Training and validation accuracy')\n",
    "plt.xlabel('Epochs')\n",
    "plt.ylabel('Loss')\n",
    "plt.legend()\n",
    "\n",
    "plt.show()"
   ]
  },
  {
   "cell_type": "markdown",
   "metadata": {},
   "source": [
    "As you can see, loss decreases (and accuracy increases) with the number of epochs on the train data. However, this is not true for the test data.\n",
    "\n",
    "For more than, say, 10 epochs, the loss on the test data hardly falls. Hence, the \"gain\" on the train data of having more than 10 epochs is due to overfitting. "
   ]
  },
  {
   "cell_type": "markdown",
   "metadata": {
    "colab_type": "text",
    "id": "KyDLbOdPORji"
   },
   "source": [
    "# Treatment effects\n",
    "\n",
    "Machine learning is about predicting outcomes. When the prediction is accurate (out-of-sample) we are happy, almost no matter what the model looks like. When we are trying to predict an outcome, we do not worry about the fact that one of the variables that we use, can be endogenous. As long as the variable is available when we need to predict, it is fine to use it.\n",
    "\n",
    "This is different when we are interested in policy advice, which we often are in economics. [This recent paper](https://pubs.aeaweb.org/doi/pdfplus/10.1257/jep.31.2.87) discusses how machine learning can be used in economics. It gives examples of economic problems where prediction is, in fact, important. One such example in econometrics is instrumental variables (IV): the first stage in IV is basically generating a prediction. See [this paper](https://pubs.aeaweb.org/doi/pdfplus/10.1257/jep.28.2.29) on how machine learning can be used to select instruments. To facilitate reading these papers, this section gives a statistical hacker's introduction to IV and estimating treatment effects.\n",
    "\n"
   ]
  },
  {
   "cell_type": "markdown",
   "metadata": {
    "colab_type": "text",
    "id": "GsZ3XVXNOo3R"
   },
   "source": [
    "## IV\n",
    "\n",
    "To illustrate what instrumental variables are, we consider the IV example in [Richard McElreath's lecture 18\n",
    "](https://www.youtube.com/watch?v=e5cgiAGBKzI) (starting around 28:00) which is based on Angrist and Krueger (1991).\n",
    "\n",
    "You will not be surprised to hear that an individual's education (`e`) affects her/his wage (`w`). That may well be the reason that you are at university. We want to know how strong this effect is. That is, if you do a year more of education, with how much does your wage increase?\n",
    "\n",
    "A first (naive) way to analyze this is to regress years of education on wage using an individual level dataset. The problem here is a fork (see our discussion of causality above): personal motivation is likely to affect both educational achievement and wage. If someone has a high level of motivation to succeed in things, they will tend to have a high educational achievement (they are unlikely to drop out of school) and a high wage (they will be successful at their job as well). Hence, such a naive regression is likely to over-estimate the effect of education on wage.\n",
    "\n",
    "What we need is an exogenous variation in educational achievement; hence a variation that is not affected by how motivated a pupil is. In a number of countries the time you spend in school is determined by your date of birth. E.g. in the Netherlands, you go to primary school in the month where you turn 4. In other countries you can drop out of school in the month where you become 16. Hence, depending on your birth date, you spend a couple of months more (or less) in school. We assume that your month of birth is not correlated with how motivated you are when it comes to school and work.\n",
    "\n",
    "We simulate data taking this effect into account. Because we simulate the data, you can see exactly what is going on. We know the data generating process, the question is: which estimation technique is capable of uncovering the correct underlying parameters.\n",
    "\n",
    "The variable `q` captures this exogenous variation in school attendance due to birth month.\n",
    "\n",
    "We generate a dataframe `df` containing the variables `q, e, w`. \n",
    "\n",
    "**Question** Interpret the python code that generates the data. In particular, what is the role of `u` and what does `beta_ew = 0` mean?"
   ]
  },
  {
   "cell_type": "code",
   "execution_count": 152,
   "metadata": {
    "colab": {},
    "colab_type": "code",
    "id": "YcYm0YSJvF-U"
   },
   "outputs": [],
   "source": [
    "N_observations=200\n",
    "alpha_w = 1.\n",
    "beta_ew = 0.\n",
    "alpha_e = 1.\n",
    "beta_qe = 2.\n",
    "q = tf.random.uniform([N_observations])\n",
    "u = tf.random.normal([N_observations])\n",
    "e = alpha_e + beta_qe*q + u + tf.random.normal([N_observations])\n",
    "w = alpha_w + beta_ew*e + u + tf.random.normal([N_observations])\n",
    "df = pd.DataFrame({'q':q,'e':e,'w':w})"
   ]
  },
  {
   "cell_type": "markdown",
   "metadata": {},
   "source": [
    "**Question** Use `smf.ols` to run the \"naive\" regression of `e` on `w`. What is the effect of education on wage? Discuss this effect."
   ]
  },
  {
   "cell_type": "code",
   "execution_count": 153,
   "metadata": {
    "colab": {
     "base_uri": "https://localhost:8080/",
     "height": 462
    },
    "colab_type": "code",
    "executionInfo": {
     "elapsed": 500,
     "status": "ok",
     "timestamp": 1556370363732,
     "user": {
      "displayName": "Jan Boone",
      "photoUrl": "",
      "userId": "01680203205582182827"
     },
     "user_tz": -120
    },
    "id": "BQHnN4GKvr3Q",
    "nbgrader": {
     "grade": true,
     "grade_id": "cell-4be9694e911ca6be",
     "locked": false,
     "points": 1,
     "schema_version": 1,
     "solution": true
    },
    "outputId": "964e2164-d547-4e3f-bcaf-129b8b5f2ea1"
   },
   "outputs": [
    {
     "name": "stdout",
     "output_type": "stream",
     "text": [
      "                            OLS Regression Results                            \n",
      "==============================================================================\n",
      "Dep. Variable:                      w   R-squared:                       0.206\n",
      "Model:                            OLS   Adj. R-squared:                  0.202\n",
      "Method:                 Least Squares   F-statistic:                     51.39\n",
      "Date:                Wed, 14 Aug 2019   Prob (F-statistic):           1.47e-11\n",
      "Time:                        19:15:22   Log-Likelihood:                -319.43\n",
      "No. Observations:                 200   AIC:                             642.9\n",
      "Df Residuals:                     198   BIC:                             649.5\n",
      "Df Model:                           1                                         \n",
      "Covariance Type:            nonrobust                                         \n",
      "==============================================================================\n",
      "                 coef    std err          t      P>|t|      [0.025      0.975]\n",
      "------------------------------------------------------------------------------\n",
      "Intercept      0.2117      0.138      1.531      0.127      -0.061       0.484\n",
      "e              0.4019      0.056      7.169      0.000       0.291       0.513\n",
      "==============================================================================\n",
      "Omnibus:                        1.662   Durbin-Watson:                   1.987\n",
      "Prob(Omnibus):                  0.436   Jarque-Bera (JB):                1.312\n",
      "Skew:                           0.110   Prob(JB):                        0.519\n",
      "Kurtosis:                       3.331   Cond. No.                         4.45\n",
      "==============================================================================\n",
      "\n",
      "Warnings:\n",
      "[1] Standard Errors assume that the covariance matrix of the errors is correctly specified.\n"
     ]
    }
   ],
   "source": [
    "results = smf.ols('w ~ e', data=df).fit()\n",
    "print(results.summary())"
   ]
  },
  {
   "cell_type": "markdown",
   "metadata": {},
   "source": [
    "Now from `linearmodels.iv` we use `IV2SLS.from_formula` to run the IV, where `q` instruments for `e`."
   ]
  },
  {
   "cell_type": "code",
   "execution_count": 154,
   "metadata": {
    "colab": {
     "base_uri": "https://localhost:8080/",
     "height": 374
    },
    "colab_type": "code",
    "executionInfo": {
     "elapsed": 509,
     "status": "ok",
     "timestamp": 1556370364979,
     "user": {
      "displayName": "Jan Boone",
      "photoUrl": "",
      "userId": "01680203205582182827"
     },
     "user_tz": -120
    },
    "id": "PDC_1QTB2772",
    "outputId": "5e48fc3f-d239-41f4-b3e1-577a08483d58"
   },
   "outputs": [
    {
     "data": {
      "text/html": [
       "<table class=\"simpletable\">\n",
       "<caption>IV-2SLS Estimation Summary</caption>\n",
       "<tr>\n",
       "  <th>Dep. Variable:</th>            <td>w</td>        <th>  R-squared:         </th> <td>-0.3427</td>\n",
       "</tr>\n",
       "<tr>\n",
       "  <th>Estimator:</th>             <td>IV-2SLS</td>     <th>  Adj. R-squared:    </th> <td>-0.3495</td>\n",
       "</tr>\n",
       "<tr>\n",
       "  <th>No. Observations:</th>        <td>200</td>       <th>  F-statistic:       </th> <td>1.2370</td> \n",
       "</tr>\n",
       "<tr>\n",
       "  <th>Date:</th>             <td>Wed, Aug 14 2019</td> <th>  P-value (F-stat)   </th> <td>0.2660</td> \n",
       "</tr>\n",
       "<tr>\n",
       "  <th>Time:</th>                 <td>19:20:24</td>     <th>  Distribution:      </th> <td>chi2(1)</td>\n",
       "</tr>\n",
       "<tr>\n",
       "  <th>Cov. Estimator:</th>        <td>robust</td>      <th>                     </th>    <td></td>    \n",
       "</tr>\n",
       "<tr>\n",
       "  <th></th>                          <td></td>         <th>                     </th>    <td></td>    \n",
       "</tr>\n",
       "</table>\n",
       "<table class=\"simpletable\">\n",
       "<caption>Parameter Estimates</caption>\n",
       "<tr>\n",
       "      <td></td>      <th>Parameter</th> <th>Std. Err.</th> <th>T-stat</th>  <th>P-value</th> <th>Lower CI</th> <th>Upper CI</th>\n",
       "</tr>\n",
       "<tr>\n",
       "  <th>Intercept</th>  <td>1.4875</td>    <td>0.4579</td>   <td>3.2482</td>  <td>0.0012</td>   <td>0.5899</td>   <td>2.3850</td> \n",
       "</tr>\n",
       "<tr>\n",
       "  <th>e</th>          <td>-0.2540</td>   <td>0.2284</td>   <td>-1.1122</td> <td>0.2660</td>   <td>-0.7015</td>  <td>0.1936</td> \n",
       "</tr>\n",
       "</table><br/><br/>Endogenous: e<br/>Instruments: q<br/>Robust Covariance (Heteroskedastic)<br/>Debiased: False<br/>id: 0x7fd6193544a8"
      ],
      "text/plain": [
       "                          IV-2SLS Estimation Summary                          \n",
       "==============================================================================\n",
       "Dep. Variable:                      w   R-squared:                     -0.3427\n",
       "Estimator:                    IV-2SLS   Adj. R-squared:                -0.3495\n",
       "No. Observations:                 200   F-statistic:                    1.2370\n",
       "Date:                Wed, Aug 14 2019   P-value (F-stat)                0.2660\n",
       "Time:                        19:20:24   Distribution:                  chi2(1)\n",
       "Cov. Estimator:                robust                                         \n",
       "                                                                              \n",
       "                             Parameter Estimates                              \n",
       "==============================================================================\n",
       "            Parameter  Std. Err.     T-stat    P-value    Lower CI    Upper CI\n",
       "------------------------------------------------------------------------------\n",
       "Intercept      1.4875     0.4579     3.2482     0.0012      0.5899      2.3850\n",
       "e             -0.2540     0.2284    -1.1122     0.2660     -0.7015      0.1936\n",
       "==============================================================================\n",
       "\n",
       "Endogenous: e\n",
       "Instruments: q\n",
       "Robust Covariance (Heteroskedastic)\n",
       "Debiased: False\n",
       "IVResults, id: 0x7fd6193544a8"
      ]
     },
     "execution_count": 154,
     "metadata": {},
     "output_type": "execute_result"
    }
   ],
   "source": [
    "\n",
    "mod = IV2SLS.from_formula('w ~ 1 + [e ~ q]', df)\n",
    "\n",
    "iv_res = mod.fit()\n",
    "iv_res"
   ]
  },
  {
   "cell_type": "markdown",
   "metadata": {},
   "source": [
    "**Question** Discuss the effect of education on wage in this regression."
   ]
  },
  {
   "cell_type": "markdown",
   "metadata": {
    "nbgrader": {
     "grade": true,
     "grade_id": "cell-40e851740a0b7013",
     "locked": false,
     "points": 1,
     "schema_version": 1,
     "solution": true
    }
   },
   "source": [
    "The effect of `e` on `w` is no longer significant. This (correctly) suggests that we cannot reject the hypothesis that this effect equals 0 (which indeed it does)."
   ]
  },
  {
   "cell_type": "code",
   "execution_count": 155,
   "metadata": {
    "colab": {
     "base_uri": "https://localhost:8080/",
     "height": 380
    },
    "colab_type": "code",
    "executionInfo": {
     "elapsed": 627,
     "status": "ok",
     "timestamp": 1556370366607,
     "user": {
      "displayName": "Jan Boone",
      "photoUrl": "",
      "userId": "01680203205582182827"
     },
     "user_tz": -120
    },
    "id": "2pa4d0D25lEG",
    "outputId": "5cde68e6-7b80-4132-e1c8-103646f2974d"
   },
   "outputs": [
    {
     "data": {
      "text/html": [
       "<table class=\"simpletable\">\n",
       "<caption>First Stage Estimation Results</caption>\n",
       "<tr>\n",
       "               <td></td>                   <th>e</th>     \n",
       "</tr>\n",
       "<tr>\n",
       "  <th>R-squared</th>                    <td>0.1172</td>   \n",
       "</tr>\n",
       "<tr>\n",
       "  <th>Partial R-squared</th>            <td>0.1172</td>   \n",
       "</tr>\n",
       "<tr>\n",
       "  <th>Shea's R-squared</th>             <td>0.1172</td>   \n",
       "</tr>\n",
       "<tr>\n",
       "  <th>Partial F-statistic</th>          <td>24.929</td>   \n",
       "</tr>\n",
       "<tr>\n",
       "  <th>P-value (Partial F-stat)</th>    <td>5.947e-07</td> \n",
       "</tr>\n",
       "<tr>\n",
       "  <th>Partial F-stat Distn</th>         <td>chi2(1)</td>  \n",
       "</tr>\n",
       "<tr>\n",
       "  <th>==========================</th> <td>===========</td>\n",
       "</tr>\n",
       "<tr>\n",
       "  <th>Intercept</th>                    <td>1.0314</td>   \n",
       "</tr>\n",
       "<tr>\n",
       "  <th></th>                            <td>(5.2310)</td>  \n",
       "</tr>\n",
       "<tr>\n",
       "  <th>q</th>                            <td>1.7829</td>   \n",
       "</tr>\n",
       "<tr>\n",
       "  <th></th>                            <td>(4.9929)</td>  \n",
       "</tr>\n",
       "</table><br/><br/>T-stats reported in parentheses<br/>T-stats use same covariance type as original model<br/>id: 0x7fd64e138208"
      ],
      "text/plain": [
       "    First Stage Estimation Results    \n",
       "======================================\n",
       "                                     e\n",
       "--------------------------------------\n",
       "R-squared                       0.1172\n",
       "Partial R-squared               0.1172\n",
       "Shea's R-squared                0.1172\n",
       "Partial F-statistic             24.929\n",
       "P-value (Partial F-stat)     5.947e-07\n",
       "Partial F-stat Distn           chi2(1)\n",
       "========================== ===========\n",
       "Intercept                       1.0314\n",
       "                              (5.2310)\n",
       "q                               1.7829\n",
       "                              (4.9929)\n",
       "--------------------------------------\n",
       "\n",
       "T-stats reported in parentheses\n",
       "T-stats use same covariance type as original model\n",
       "FirstStageResults, id: 0x7fd64e138208"
      ]
     },
     "execution_count": 155,
     "metadata": {},
     "output_type": "execute_result"
    }
   ],
   "source": [
    "iv_res.first_stage"
   ]
  },
  {
   "cell_type": "markdown",
   "metadata": {},
   "source": [
    "**Question** Interpret the effect of `q` on `e` in the first stage regression. Is this correct?"
   ]
  },
  {
   "cell_type": "markdown",
   "metadata": {
    "nbgrader": {
     "grade": true,
     "grade_id": "cell-c99715b1766b8ef1",
     "locked": false,
     "points": 1,
     "schema_version": 1,
     "solution": true
    }
   },
   "source": [
    "The effect is positive and significant. In fact, the true effect equals `beta_qe = 2.` which is close enough to 1.78."
   ]
  },
  {
   "cell_type": "markdown",
   "metadata": {},
   "source": [
    "## Heterogenous treatment effects\n",
    "\n",
    "One of the complications when using IV to find causal effects is that treatment effects can differ between subgroups and that these subgroups react differently to the treatment/instrument. Our discussion here is based on Chapter 4 of Angrist and Pischke (2009).\n",
    "\n",
    "We will consider this in the context of unemployed who are offered a training program. To understand the effects, we will again generate our own data such that we know exactly what all the relevant effects are. The question is then, how do we get these effects from the data.\n",
    "\n",
    "As before, the learning goals of this section are two fold: (i) learn how to program your own data generating process in python and (ii) understand the statistical issue under considerarion: heterogenous treatment effects.\n",
    "\n",
    "The government introduces a training program for unemployed. The treatment variable $D_i$ denotes whether (1) or not (0) individual $i$ received training. The instrument $Z_i$ that we use is whether (1) or not (0) $i$ is invited to join the training. \n",
    "\n",
    "We have three groups of unemployed:\n",
    "\n",
    "* compliers join the training if and only if they are invited to do so: $D_i = 1 (0)$ iff $Z_i = 1 (0)$;\n",
    "* always-takers join the training whether or not they are invited to do so: $D_i =1$ irrespective of $Z_i$;\n",
    "* never-takers never join the training: $D_i = 0$ irrespective of $Z_i$.\n",
    "\n",
    "Note that in this training context, the always-takers are a bit \"odd\": how can you join a training program where you are not supposed to be. The never-takers make more sense in this context: some people may not attend the training even though they were invited to do so. We will not worry about this; the point is that we can conceptually distinguish these groups.\n",
    "\n",
    "We are interested in the effect of the training program on earnings. We denote by $\\beta$ the expected earnings without training. The expected earnings with training is denoted by $\\beta+\\tau$. Hence, $\\tau$ denotes the treatment effects.\n",
    "\n",
    "Let $j \\in \\{c,a,n \\}$ denote whether an individual is a complier, always-taker or never-taker. We assume that $\\beta_j$ and $\\tau_j$ vary with $j$.\n",
    "\n",
    "In particular we assume that the earnings effect for someone in group $j$ is drawn from a normal distribution with mean $\\mu = \\beta_j$ and standard deviation $\\sigma =1$ in case of no training and the effect of training is drawn from a normal distribution with mean $\\mu = \\tau_j$ and standard deviation $\\sigma =1$.\n",
    "\n",
    "Below we will consider different configurations for $\\beta_j, \\tau_j$ and see how they affect the estimated effects.\n",
    "\n",
    "**Exercise** Read the code below and explain what it does. E.g. can you explain how earnings depend on whether someone was invited for the training program?"
   ]
  },
  {
   "cell_type": "code",
   "execution_count": 156,
   "metadata": {},
   "outputs": [
    {
     "data": {
      "text/html": [
       "<div>\n",
       "<style scoped>\n",
       "    .dataframe tbody tr th:only-of-type {\n",
       "        vertical-align: middle;\n",
       "    }\n",
       "\n",
       "    .dataframe tbody tr th {\n",
       "        vertical-align: top;\n",
       "    }\n",
       "\n",
       "    .dataframe thead th {\n",
       "        text-align: right;\n",
       "    }\n",
       "</style>\n",
       "<table border=\"1\" class=\"dataframe\">\n",
       "  <thead>\n",
       "    <tr style=\"text-align: right;\">\n",
       "      <th></th>\n",
       "      <th>invited</th>\n",
       "      <th>trained</th>\n",
       "      <th>earnings</th>\n",
       "    </tr>\n",
       "  </thead>\n",
       "  <tbody>\n",
       "    <tr>\n",
       "      <th>0</th>\n",
       "      <td>0</td>\n",
       "      <td>0</td>\n",
       "      <td>2.340214</td>\n",
       "    </tr>\n",
       "    <tr>\n",
       "      <th>1</th>\n",
       "      <td>0</td>\n",
       "      <td>0</td>\n",
       "      <td>0.006753</td>\n",
       "    </tr>\n",
       "    <tr>\n",
       "      <th>2</th>\n",
       "      <td>0</td>\n",
       "      <td>0</td>\n",
       "      <td>-0.277973</td>\n",
       "    </tr>\n",
       "    <tr>\n",
       "      <th>3</th>\n",
       "      <td>0</td>\n",
       "      <td>0</td>\n",
       "      <td>2.738156</td>\n",
       "    </tr>\n",
       "    <tr>\n",
       "      <th>4</th>\n",
       "      <td>1</td>\n",
       "      <td>1</td>\n",
       "      <td>2.643201</td>\n",
       "    </tr>\n",
       "  </tbody>\n",
       "</table>\n",
       "</div>"
      ],
      "text/plain": [
       "   invited  trained  earnings\n",
       "0        0        0  2.340214\n",
       "1        0        0  0.006753\n",
       "2        0        0 -0.277973\n",
       "3        0        0  2.738156\n",
       "4        1        1  2.643201"
      ]
     },
     "execution_count": 156,
     "metadata": {},
     "output_type": "execute_result"
    }
   ],
   "source": [
    "def accept_complier(invited):\n",
    "    return invited\n",
    "\n",
    "def accept_always(invited):\n",
    "    return np.ones_like(invited)\n",
    "\n",
    "def accept_never(invited):\n",
    "    return np.zeros_like(invited)\n",
    "\n",
    "N_simulations = 10000\n",
    "fraction_training = 0.2 # 20% of agents are invited to the training\n",
    "types = ['complier','always_taker', 'never_taker']\n",
    "β = {'complier': 1, 'always_taker': 2, 'never_taker': 1}\n",
    "τ = {'complier': 3, 'always_taker': 4, 'never_taker': 1}\n",
    "n = {'complier': 0.5, 'always_taker': 0.25, 'never_taker': 0.25}\n",
    "accept = {'complier': accept_complier, 'always_taker': accept_always, 'never_taker': accept_never}\n",
    "earnings_without = {}\n",
    "training_effect = {}\n",
    "earnings = {}\n",
    "invited = {}\n",
    "trained = {}\n",
    "df = pd.DataFrame()\n",
    "def data_simulation(β = β, τ=τ, n = n):\n",
    "    for j in types:\n",
    "        earnings_without[j] = np.random.normal(loc = β[j], scale = 1.0, size = int(n[j]*N_simulations))\n",
    "        training_effect[j] = np.random.normal(loc = τ[j], scale = 1.0, size = int(n[j]*N_simulations))\n",
    "        invited[j] = np.random.binomial(1,fraction_training,size = int(n[j]*N_simulations))\n",
    "        trained[j] = accept[j](invited[j])\n",
    "        earnings[j] = earnings_without[j]+ trained[j]*training_effect[j]\n",
    "    column_invited = np.concatenate([invited[j] for j in types],axis=0)\n",
    "    column_trained = np.concatenate([trained[j] for j in types],axis=0)\n",
    "    column_earnings = np.concatenate([earnings[j] for j in types],axis=0)\n",
    "    df = pd.DataFrame({'invited':column_invited, 'trained':column_trained,'earnings':column_earnings})\n",
    "    return df\n",
    " \n",
    "df = data_simulation()\n",
    "df.head()"
   ]
  },
  {
   "cell_type": "markdown",
   "metadata": {},
   "source": [
    "We have a dataset now with indicators for who was invited to a training and who attended a training.\n",
    "\n",
    "We would like to learn the effect of training on earnings.\n",
    "\n",
    "**Question** Which of the parameters above could we hope to recover? $\\tau_c,\\tau_a,\\tau_n$?\n",
    "\n",
    "**Question** Hence, if we do some calculations with the data, which number do we want to see?\n",
    "\n",
    "**Question** Compare the average earnings of people with training with the average earnings of people without training. Is this the number that you expected? Why (not)?"
   ]
  },
  {
   "cell_type": "markdown",
   "metadata": {
    "nbgrader": {
     "grade": true,
     "grade_id": "cell-11dfbcb44332c071",
     "locked": false,
     "points": 1,
     "schema_version": 1,
     "solution": true
    }
   },
   "source": [
    "We can only hope to recover $\\tau_c$ as we observe `compliers` both with and without training.\n",
    "\n",
    "We want to see the number $\\tau_c = 3$.\n",
    "\n",
    "We compare the average earnings of people with training with the average earnings of people without training."
   ]
  },
  {
   "cell_type": "code",
   "execution_count": 65,
   "metadata": {
    "nbgrader": {
     "grade": true,
     "grade_id": "cell-acf4003b13766093",
     "locked": false,
     "points": 1,
     "schema_version": 1,
     "solution": true
    }
   },
   "outputs": [
    {
     "data": {
      "text/plain": [
       "4.419601275141817"
      ]
     },
     "execution_count": 65,
     "metadata": {},
     "output_type": "execute_result"
    }
   ],
   "source": [
    "np.mean(df[df.trained==1].earnings)-np.mean(df[df.trained==0].earnings)"
   ]
  },
  {
   "cell_type": "markdown",
   "metadata": {},
   "source": [
    "**Exercise** Where does this number come from?\n"
   ]
  },
  {
   "cell_type": "code",
   "execution_count": 157,
   "metadata": {
    "nbgrader": {
     "grade": true,
     "grade_id": "cell-dd52aff093968cda",
     "locked": false,
     "points": 1,
     "schema_version": 1,
     "solution": true
    }
   },
   "outputs": [
    {
     "data": {
      "text/plain": [
       "4.428571428571429"
      ]
     },
     "execution_count": 157,
     "metadata": {},
     "output_type": "execute_result"
    }
   ],
   "source": [
    "(0.1*4+0.25*6)/0.35-(0.4*1+0.25*1)/0.65"
   ]
  },
  {
   "cell_type": "markdown",
   "metadata": {},
   "source": [
    "**Question** Perhaps we should use the instrument whether someone if invited or not: compare average earnings of people with and without an invitation to the training."
   ]
  },
  {
   "cell_type": "code",
   "execution_count": 158,
   "metadata": {
    "nbgrader": {
     "grade": true,
     "grade_id": "cell-9db7815c2398153f",
     "locked": false,
     "points": 1,
     "schema_version": 1,
     "solution": true
    }
   },
   "outputs": [
    {
     "data": {
      "text/plain": [
       "1.4333612450319868"
      ]
     },
     "execution_count": 158,
     "metadata": {},
     "output_type": "execute_result"
    }
   ],
   "source": [
    "np.mean(df[(df.invited==1)].earnings)-np.mean(df[(df.invited==0)].earnings)"
   ]
  },
  {
   "cell_type": "markdown",
   "metadata": {},
   "source": [
    "**Question** Does it help if we compare:\n",
    "* people with training and an invitation to training *with*\n",
    "* people without training and no invitation to training"
   ]
  },
  {
   "cell_type": "code",
   "execution_count": 159,
   "metadata": {
    "nbgrader": {
     "grade": true,
     "grade_id": "cell-49c080f49b9fd497",
     "locked": false,
     "points": 1,
     "schema_version": 1,
     "solution": true
    }
   },
   "outputs": [
    {
     "data": {
      "text/plain": [
       "3.5704389244549586"
      ]
     },
     "execution_count": 159,
     "metadata": {},
     "output_type": "execute_result"
    }
   ],
   "source": [
    "np.mean(df[(df.trained==1)&(df.invited==1)].earnings)-np.mean(df[(df.trained==0)&(df.invited==0)].earnings)"
   ]
  },
  {
   "cell_type": "markdown",
   "metadata": {
    "nbgrader": {
     "grade": true,
     "grade_id": "cell-c821f614ca4069ce",
     "locked": false,
     "points": 1,
     "schema_version": 1,
     "solution": true
    }
   },
   "source": [
    "Hence, this does not give us $\\tau_c = 3$ either."
   ]
  },
  {
   "cell_type": "markdown",
   "metadata": {
    "collapsed": true
   },
   "source": [
    "We have seen now that we have no hope of recovering the relevant training effect in the set-up above. So the question is: when can we recover the relevant parameters? That is, what assumptions are needed?\n",
    "\n",
    "To see how you can analyze this with the set-up above, let's program two obvious cases where this works.\n",
    "\n",
    "**Question** Explain for each case *why* it works."
   ]
  },
  {
   "cell_type": "code",
   "execution_count": 160,
   "metadata": {
    "nbgrader": {
     "grade": false,
     "grade_id": "cell-3442a89a6492e55a",
     "locked": true,
     "schema_version": 1,
     "solution": false
    }
   },
   "outputs": [
    {
     "data": {
      "text/plain": [
       "2.9830066896334713"
      ]
     },
     "execution_count": 160,
     "metadata": {},
     "output_type": "execute_result"
    }
   ],
   "source": [
    "n = {'complier': 1.0, 'always_taker': 0.0, 'never_taker': 0.0}\n",
    "df_compliers_only = data_simulation(n=n)\n",
    "np.mean(df_compliers_only[df_compliers_only.trained==1].earnings)-np.mean(df_compliers_only[df_compliers_only.trained==0].earnings)"
   ]
  },
  {
   "cell_type": "code",
   "execution_count": 161,
   "metadata": {
    "nbgrader": {
     "grade": false,
     "grade_id": "cell-88d8277560e25fce",
     "locked": true,
     "schema_version": 1,
     "solution": false
    }
   },
   "outputs": [
    {
     "data": {
      "text/plain": [
       "3.0022015727805695"
      ]
     },
     "execution_count": 161,
     "metadata": {},
     "output_type": "execute_result"
    }
   ],
   "source": [
    "β = {'complier': 1, 'always_taker': 1, 'never_taker': 1}\n",
    "τ = {'complier': 3, 'always_taker': 3, 'never_taker': 3}\n",
    "df_homog = data_simulation(β=β,τ=τ)\n",
    "np.mean(df_homog[df_homog.trained==1].earnings)-np.mean(df_homog[df_homog.trained==0].earnings)"
   ]
  },
  {
   "cell_type": "markdown",
   "metadata": {
    "nbgrader": {
     "grade": true,
     "grade_id": "cell-8f6f6af99170937d",
     "locked": false,
     "points": 1,
     "schema_version": 1,
     "solution": true
    }
   },
   "source": [
    "The first works because there are only compliers and for this group we can simply compare earnings of trained and non-trained people: training-treatment is random and and compliers follow the recommendation made (train or no train).\n",
    "\n",
    "The second works because each type has the same $\\beta, \\tau$."
   ]
  },
  {
   "cell_type": "markdown",
   "metadata": {},
   "source": [
    "For a less obvious case where we can retrieve relevant parameters, we will use Angrist and Pischke (2009: chapter 4). In particular, we will verify Theorem 4.4.2.\n",
    "\n",
    "We work with one sided noncompliance. That is, we allow for never-takers but not for always-takers. \n",
    "\n",
    "According to Theorem 4.4.2 the effect of treatment on the treated can be found as:\n",
    "\n",
    "$$\n",
    "\\frac{E(Y_i|Z_i=1)-E(Y_i|Z_i=0)}{Prob(D_i=1|Z_i=1)}\n",
    "$$\n",
    "\n",
    "We first create the dataframe."
   ]
  },
  {
   "cell_type": "code",
   "execution_count": 162,
   "metadata": {},
   "outputs": [],
   "source": [
    "n = {'complier': 0.5, 'always_taker': 0.0, 'never_taker': 0.5}\n",
    "df_one_sided = data_simulation(n=n)\n"
   ]
  },
  {
   "cell_type": "markdown",
   "metadata": {},
   "source": [
    "**Question** Calculate $Prob(D_i = 1|Z_i =1)$ and denote this `correction_term`."
   ]
  },
  {
   "cell_type": "code",
   "execution_count": 163,
   "metadata": {
    "nbgrader": {
     "grade": true,
     "grade_id": "cell-e9b3b577d5be8379",
     "locked": false,
     "points": 1,
     "schema_version": 1,
     "solution": true
    }
   },
   "outputs": [],
   "source": [
    "correction_term = np.sum(df_one_sided[df_one_sided.invited==1].trained)/np.sum(df_one_sided[df_one_sided.invited==1].invited)"
   ]
  },
  {
   "cell_type": "markdown",
   "metadata": {},
   "source": [
    "**Question** Calculate $\\frac{E(Y_i|Z_i=1)-E(Y_i|Z_i=0)}{Prob(D_i=1|Z_i=1)}$."
   ]
  },
  {
   "cell_type": "code",
   "execution_count": 164,
   "metadata": {
    "nbgrader": {
     "grade": true,
     "grade_id": "cell-ce2c5964e6ea8f99",
     "locked": false,
     "points": 1,
     "schema_version": 1,
     "solution": true
    }
   },
   "outputs": [
    {
     "data": {
      "text/plain": [
       "2.960547816059347"
      ]
     },
     "execution_count": 164,
     "metadata": {},
     "output_type": "execute_result"
    }
   ],
   "source": [
    "(np.mean(df_one_sided[df_one_sided.invited==1].earnings)-np.mean(df_one_sided[df_one_sided.invited==0].earnings))/correction_term"
   ]
  },
  {
   "cell_type": "markdown",
   "metadata": {},
   "source": [
    "**Question** Which parameter have we recovered?"
   ]
  },
  {
   "cell_type": "markdown",
   "metadata": {
    "nbgrader": {
     "grade": true,
     "grade_id": "cell-1cf09bb679b872df",
     "locked": false,
     "points": 1,
     "schema_version": 1,
     "solution": true
    }
   },
   "source": [
    "This gives us $\\tau_c = 3$."
   ]
  },
  {
   "cell_type": "markdown",
   "metadata": {},
   "source": [
    "## Probability of treatment\n",
    "\n",
    "Consider a situation which is simpler than the one above in the sense that there are no always-takers, nor never-takers.\n",
    "\n",
    "However, now the instrument (\"invited\") $Z$ causes the probability of training to increase from 0.2 to 0.6. 30% of people get invited.\n",
    "\n",
    "**Exercise** Copy/paste python code from the analysis above to generate a dataframe using that $Z_i=1$ implies that the probability of treatment increases from 0.2 to 0.6"
   ]
  },
  {
   "cell_type": "code",
   "execution_count": 165,
   "metadata": {
    "nbgrader": {
     "grade": true,
     "grade_id": "cell-c97483a41eb8d21f",
     "locked": false,
     "points": 1,
     "schema_version": 1,
     "solution": true
    }
   },
   "outputs": [
    {
     "data": {
      "text/html": [
       "<div>\n",
       "<style scoped>\n",
       "    .dataframe tbody tr th:only-of-type {\n",
       "        vertical-align: middle;\n",
       "    }\n",
       "\n",
       "    .dataframe tbody tr th {\n",
       "        vertical-align: top;\n",
       "    }\n",
       "\n",
       "    .dataframe thead th {\n",
       "        text-align: right;\n",
       "    }\n",
       "</style>\n",
       "<table border=\"1\" class=\"dataframe\">\n",
       "  <thead>\n",
       "    <tr style=\"text-align: right;\">\n",
       "      <th></th>\n",
       "      <th>invited</th>\n",
       "      <th>trained</th>\n",
       "      <th>earnings</th>\n",
       "    </tr>\n",
       "  </thead>\n",
       "  <tbody>\n",
       "    <tr>\n",
       "      <th>0</th>\n",
       "      <td>1</td>\n",
       "      <td>0</td>\n",
       "      <td>0.000355</td>\n",
       "    </tr>\n",
       "    <tr>\n",
       "      <th>1</th>\n",
       "      <td>1</td>\n",
       "      <td>1</td>\n",
       "      <td>5.610210</td>\n",
       "    </tr>\n",
       "    <tr>\n",
       "      <th>2</th>\n",
       "      <td>1</td>\n",
       "      <td>0</td>\n",
       "      <td>0.662399</td>\n",
       "    </tr>\n",
       "    <tr>\n",
       "      <th>3</th>\n",
       "      <td>1</td>\n",
       "      <td>1</td>\n",
       "      <td>3.078257</td>\n",
       "    </tr>\n",
       "    <tr>\n",
       "      <th>4</th>\n",
       "      <td>1</td>\n",
       "      <td>1</td>\n",
       "      <td>3.106668</td>\n",
       "    </tr>\n",
       "  </tbody>\n",
       "</table>\n",
       "</div>"
      ],
      "text/plain": [
       "   invited  trained  earnings\n",
       "0        1        0  0.000355\n",
       "1        1        1  5.610210\n",
       "2        1        0  0.662399\n",
       "3        1        1  3.078257\n",
       "4        1        1  3.106668"
      ]
     },
     "execution_count": 165,
     "metadata": {},
     "output_type": "execute_result"
    }
   ],
   "source": [
    "N_simulations = 10000\n",
    "types = ['invited','not_invited']\n",
    "β = 1\n",
    "τ = 3\n",
    "n = {'invited': 0.3, 'not_invited': 0.7}\n",
    "prob_training = {'invited': 0.6, 'not_invited': 0.2}\n",
    "earnings_without = {}\n",
    "training_effect = {}\n",
    "earnings = {}\n",
    "trained = {}\n",
    "df = pd.DataFrame()\n",
    "def data_simulation_prob(β = β, τ=τ, n = n):\n",
    "    for j in types:\n",
    "        earnings_without[j] = np.random.normal(loc = β, scale = 1.0, size = int(n[j]*N_simulations))\n",
    "        training_effect[j] = np.random.normal(loc = τ, scale = 1.0, size = int(n[j]*N_simulations))\n",
    "        trained[j] = np.random.binomial(1,prob_training[j],size = int(n[j]*N_simulations))\n",
    "        earnings[j] = earnings_without[j]+ trained[j]*training_effect[j]\n",
    "    column_invited = np.concatenate([np.ones_like(trained['invited']),np.zeros_like(trained['not_invited'])],axis=0)\n",
    "    column_trained = np.concatenate([trained[j] for j in types],axis=0)\n",
    "    column_earnings = np.concatenate([earnings[j] for j in types],axis=0)\n",
    "    df = pd.DataFrame({'invited':column_invited, 'trained':column_trained,'earnings':column_earnings})\n",
    "    return df\n",
    " \n",
    "df_prob = data_simulation_prob()\n",
    "df_prob.head()"
   ]
  },
  {
   "cell_type": "markdown",
   "metadata": {},
   "source": [
    "**Question** Suppose we can observe whether someone received training or not. Use this to calculate the effect of training on earnings."
   ]
  },
  {
   "cell_type": "code",
   "execution_count": 166,
   "metadata": {
    "nbgrader": {
     "grade": true,
     "grade_id": "cell-6625d613915b1528",
     "locked": false,
     "points": 1,
     "schema_version": 1,
     "solution": true
    }
   },
   "outputs": [
    {
     "data": {
      "text/plain": [
       "2.970262548043806"
      ]
     },
     "execution_count": 166,
     "metadata": {},
     "output_type": "execute_result"
    }
   ],
   "source": [
    "(np.mean(df_prob[df_prob.trained==1].earnings)-np.mean(df_prob[df_prob.trained==0].earnings))"
   ]
  },
  {
   "cell_type": "markdown",
   "metadata": {},
   "source": [
    "Suppose we cannot observe whether someone actually did the training or not (e.g. whether or not someone invested effort in the training). We only know (\"from a previous study\") that explicitly inviting someone for the training (\"nudge\") increases the probability that they invest training effort from 0.2 to 0.6.\n",
    "\n",
    "**Question** Use the dataframe above to verify what the effect of the nudge is. Call this the `correction_term`. What value should the correction term have?"
   ]
  },
  {
   "cell_type": "code",
   "execution_count": 169,
   "metadata": {
    "nbgrader": {
     "grade": true,
     "grade_id": "cell-556b7cd2f434cb69",
     "locked": false,
     "points": 1,
     "schema_version": 1,
     "solution": true
    }
   },
   "outputs": [
    {
     "data": {
      "text/plain": [
       "0.4051904761904762"
      ]
     },
     "execution_count": 169,
     "metadata": {},
     "output_type": "execute_result"
    }
   ],
   "source": [
    "correction_term = (np.mean(df_prob[df_prob.invited==1].trained)-np.mean(df_prob[df_prob.invited==0].trained))\n",
    "correction_term # should equal the effect of the nudge: 0.6 - 0.2 = 0.4"
   ]
  },
  {
   "cell_type": "markdown",
   "metadata": {},
   "source": [
    "Angrist and Pischke (2009: chapter 4) Theorem 4.4.1 (LATE Theorem; local average treatment effect) claims that (under some assumptions), we can calculate the effect of training on earnings as:\n",
    "\n",
    "$$\n",
    "\\frac{E(Y_i|Z_i=1)-E(Y_i|Z_i=0)}{E(D_i|Z_i=1)-E(D_i|Z_i=0)}\n",
    "$$\n",
    "\n",
    "**Question** Use this expression to calculate the effect of training on earnings."
   ]
  },
  {
   "cell_type": "code",
   "execution_count": 170,
   "metadata": {
    "nbgrader": {
     "grade": true,
     "grade_id": "cell-907f393d8be6a0b5",
     "locked": false,
     "points": 1,
     "schema_version": 1,
     "solution": true
    }
   },
   "outputs": [
    {
     "data": {
      "text/plain": [
       "2.884382524298704"
      ]
     },
     "execution_count": 170,
     "metadata": {},
     "output_type": "execute_result"
    }
   ],
   "source": [
    "(np.mean(df_prob[df_prob.invited==1].earnings)-np.mean(df_prob[df_prob.invited==0].earnings))/correction_term"
   ]
  },
  {
   "cell_type": "markdown",
   "metadata": {},
   "source": [
    "Now we are going to use an IV estimation to find the same result. Run the following two regressions."
   ]
  },
  {
   "cell_type": "code",
   "execution_count": 171,
   "metadata": {},
   "outputs": [],
   "source": [
    "results_first_stage = smf.ols('trained ~ invited', data=df_prob).fit()\n",
    "results_second_stage = smf.ols('earnings ~ invited', data=df_prob).fit()"
   ]
  },
  {
   "cell_type": "markdown",
   "metadata": {},
   "source": [
    "**Question** Use these regressions to calculate the effect of training on earning."
   ]
  },
  {
   "cell_type": "code",
   "execution_count": 172,
   "metadata": {
    "nbgrader": {
     "grade": true,
     "grade_id": "cell-85b062063df389f9",
     "locked": false,
     "points": 1,
     "schema_version": 1,
     "solution": true
    }
   },
   "outputs": [
    {
     "data": {
      "text/plain": [
       "2.8843825242983923"
      ]
     },
     "execution_count": 172,
     "metadata": {},
     "output_type": "execute_result"
    }
   ],
   "source": [
    "results_second_stage.params[1]/results_first_stage.params[1]"
   ]
  },
  {
   "cell_type": "code",
   "execution_count": null,
   "metadata": {
    "collapsed": true
   },
   "outputs": [],
   "source": []
  }
 ],
 "metadata": {
  "celltoolbar": "Create Assignment",
  "colab": {
   "collapsed_sections": [],
   "name": "Statistical_Hacking.ipynb",
   "provenance": [],
   "toc_visible": true,
   "version": "0.3.2"
  },
  "kernelspec": {
   "display_name": "Python (tensorflow)",
   "language": "python",
   "name": "tensorflow"
  },
  "language_info": {
   "codemirror_mode": {
    "name": "ipython",
    "version": 3
   },
   "file_extension": ".py",
   "mimetype": "text/x-python",
   "name": "python",
   "nbconvert_exporter": "python",
   "pygments_lexer": "ipython3",
   "version": "3.7.3"
  },
  "toc": {
   "base_numbering": 1,
   "nav_menu": {},
   "number_sections": true,
   "sideBar": true,
   "skip_h1_title": false,
   "title_cell": "Table of Contents",
   "title_sidebar": "Contents",
   "toc_cell": false,
   "toc_position": {
    "height": "calc(100% - 180px)",
    "left": "10px",
    "top": "150px",
    "width": "281.667px"
   },
   "toc_section_display": true,
   "toc_window_display": true
  }
 },
 "nbformat": 4,
 "nbformat_minor": 1
}
