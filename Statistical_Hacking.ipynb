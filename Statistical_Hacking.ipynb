{
 "cells": [
  {
   "cell_type": "markdown",
   "metadata": {
    "colab_type": "text",
    "id": "view-in-github"
   },
   "source": [
    "<a href=\"https://colab.research.google.com/github/janboone/datascience_course/blob/master/Statistical_Hacking.ipynb\" target=\"_parent\"><img src=\"https://colab.research.google.com/assets/colab-badge.svg\" alt=\"Open In Colab\"/></a>"
   ]
  },
  {
   "cell_type": "markdown",
   "metadata": {
    "colab_type": "text",
    "id": "9VDI4r3BYfGH"
   },
   "source": [
    "# Why statistical hacking?\n",
    "\n",
    "In order to get started on the \"big data\" part of this course, it is important that you have a good intuition about a number of statistical results that you have seen before in your statistics and econometrics courses. We go over these concepts by simulating our own data. This serves two goals:\n",
    "\n",
    "* you fully understand where the data comes from (you generated it yourself)\n",
    "* we train your programming skills in generating the data.\n",
    "\n",
    "Based on [this lecture](https://www.youtube.com/watch?v=Iq9DzN6mvYA) and [this one.](https://www.youtube.com/watch?v=VR52vSbHBAk)\n",
    "\n",
    "If you like, there is also [free book](https://greenteapress.com/wp/think-stats-2e/) on this topic using python.\n",
    "\n",
    "We are going to discuss the following topics. First, as you probably know, estimated parameters have a distribution. To illustrate, you may recall that some statistics have a t-distribution. When you move into machine learning, the models get so complicated that there are no analytical results on the distributions of estimated coefficients. So how do you get a sense of uncertainty in that case? You simulate the distribution. Below we show this with examples where you actually know (or should know) what the relevant distributions are.\n",
    "\n",
    "Sometimes you only have a sample and no knowledge about the underlying model. Then you cannot simulate the distribution. But you can use the sample to learn something about the uncertainty underlying your parameters. This is called bootstrapping.\n",
    "\n",
    "In Economics we are not only interested in predicting variables (like economic growth or stock prices) but we also want to influence them through policy interventions. For this we need to know causal links between variables; not just correlations. Although many people have the intuition that it is better to control for more variables in  a regression, this intuition is actually not correct. By controlling for some variables, you actually mess up your interpretation of an effect in a regression.\n",
    "\n",
    "Finally, with \"big data\" it is very tempting to use a lot of variables in your models. You have got all these variables in your \"big data set\" so why not use them? This brings us to the concepts of over- and underfitting."
   ]
  },
  {
   "cell_type": "markdown",
   "metadata": {
    "colab_type": "text",
    "id": "9VDI4r3BYfGH"
   },
   "source": [
    "# Loading packages\n",
    "\n",
    "To generate the data, we are going to use [tensorflow](https://www.tensorflow.org/). If you are running this in colab, install `tensorflow` and `linearmodels` by un-commenting the next cell.\n",
    "\n",
    "Run the other cell to import all the packages that we need."
   ]
  },
  {
   "cell_type": "code",
   "execution_count": 5,
   "metadata": {
    "colab": {
     "base_uri": "https://localhost:8080/",
     "height": 853
    },
    "colab_type": "code",
    "executionInfo": {
     "elapsed": 44376,
     "status": "ok",
     "timestamp": 1558779208617,
     "user": {
      "displayName": "Jan Boone",
      "photoUrl": "",
      "userId": "01680203205582182827"
     },
     "user_tz": -120
    },
    "id": "mx-GwyO5avzp",
    "outputId": "2291d5d8-d323-41b1-926b-132c8c511cec"
   },
   "outputs": [],
   "source": [
    "#!pip install tensorflow==2.0.0-alpha0\n",
    "#!pip install linearmodels"
   ]
  },
  {
   "cell_type": "code",
   "execution_count": 1,
   "metadata": {
    "colab": {},
    "colab_type": "code",
    "id": "jEGgjmMeX6U3"
   },
   "outputs": [],
   "source": [
    "from __future__ import absolute_import, division, print_function, unicode_literals\n",
    "\n",
    "import numpy as np\n",
    "import pandas as pd\n",
    "from scipy import optimize\n",
    "import statsmodels.api as sm # check the error that cannot import name 'factorial' in from scipy.misc import factorial\n",
    "import statsmodels.formula.api as smf\n",
    "import matplotlib.pyplot as plt\n",
    "import tensorflow as tf\n",
    "import altair as alt\n",
    "from linearmodels.iv import IV2SLS\n",
    "from tensorflow import keras\n",
    "\n",
    "\n",
    "from tensorflow.keras import datasets, layers, models\n",
    "\n",
    "#alt.renderers.enable('notebook')"
   ]
  },
  {
   "cell_type": "markdown",
   "metadata": {
    "colab_type": "text",
    "id": "rQO97pjfeQOK"
   },
   "source": [
    "# Distributions of an estimator\n",
    "\n",
    "Let's start simple and consider a uniform distribution on $[0,1]$. We take a sample of size `sample_size` and calculate the mean $m$ of this sample. This variable $m$ is a sample statistic. We want to understand the properties of this sample statistic.\n",
    "\n",
    "In most courses that you have done, you will have used statistical theory here. E.g. what is the distribution of $m$?\n",
    "\n",
    "For simple models, like calculating the mean of a sample or doing an OLS regression, there is theory that describes what the distributions are of the mean or an estimated slope parameter. However, with big data techniques, you are going to use models where such theoretical results do not exist. So how do you figure out then what is happening?\n",
    "\n",
    "This is where the hacking comes in. The simple idea is: we program the statistical problem and then run it \"lots of times\", say 10,000 times. This gives us a distribution.\n",
    "\n",
    "## distribution of a sample average\n",
    "\n",
    "For the example of $m$, we do this in the next code cell.\n",
    "\n",
    "We draw `N_simulations` times a sample of `sample_size` and put this in a matrix (tensor) of size `N_simulations` by `sample_size`. Then we take the mean within a sample. Put differently, we take the mean over the second dimension (\"columns\") of the matrix. As python starts counting from 0, this means we take the mean over `axis=1`."
   ]
  },
  {
   "cell_type": "code",
   "execution_count": 2,
   "metadata": {
    "colab": {},
    "colab_type": "code",
    "id": "6palYMJded3Z"
   },
   "outputs": [],
   "source": [
    "N_simulations = 10000\n",
    "sample_size = 10\n",
    "simulated_data = np.mean(tf.random.uniform([N_simulations,sample_size],0,1),axis=1)"
   ]
  },
  {
   "cell_type": "markdown",
   "metadata": {
    "colab_type": "text",
    "id": "bHe1np30bARr"
   },
   "source": [
    "The code above calculated `N_simulations` averages (of samples of size `sample_size`). We can plot these averages in a histogram using `matplotlib`.\n",
    "\n",
    "**Question** When considering this distribution, which \"theorem\" is at work here?\n",
    "\n",
    "**Exercise** Play around with `sample_size` to see what the effect is of different values for this variable.\n",
    "\n",
    "**Exercise** Calculate the standard deviation of $m$; how does this depend on `sample_size`?"
   ]
  },
  {
   "cell_type": "code",
   "execution_count": 3,
   "metadata": {
    "colab": {
     "base_uri": "https://localhost:8080/",
     "height": 376
    },
    "colab_type": "code",
    "executionInfo": {
     "elapsed": 1275,
     "status": "ok",
     "timestamp": 1556181123319,
     "user": {
      "displayName": "Jan Boone",
      "photoUrl": "",
      "userId": "01680203205582182827"
     },
     "user_tz": -120
    },
    "id": "oFLg0pyRf-rt",
    "outputId": "7173ccdc-8f1c-415b-b61d-b0bbe1d68dea"
   },
   "outputs": [
    {
     "data": {
      "image/png": "[encoded data removed]",
      "text/plain": [
       "<Figure size 432x288 with 1 Axes>"
      ]
     },
     "metadata": {
      "needs_background": "light"
     },
     "output_type": "display_data"
    }
   ],
   "source": [
    "plt.hist(simulated_data)\n",
    "plt.show()"
   ]
  },
  {
   "cell_type": "markdown",
   "metadata": {
    "colab_type": "text",
    "id": "B1yOkLQ-ojtC"
   },
   "source": [
    "## distribution of a slope\n",
    "\n",
    "Here we do the same wirh an OLS regression.\n",
    "\n",
    "TODO: add more text"
   ]
  },
  {
   "cell_type": "code",
   "execution_count": 4,
   "metadata": {
    "colab": {},
    "colab_type": "code",
    "id": "Dbanu7HXcD9q"
   },
   "outputs": [],
   "source": [
    "N_simulations = 10000\n",
    "sample_size = 100\n",
    "slope = 0.5\n",
    "constant = 1.0\n",
    "noise = 0.1\n",
    "simulated_x = tf.random.normal([N_simulations,sample_size])\n",
    "simulated_y = constant + slope * simulated_x + noise*tf.random.normal([N_simulations,sample_size])\n",
    "\n",
    "\n",
    "\n"
   ]
  },
  {
   "cell_type": "code",
   "execution_count": 5,
   "metadata": {
    "colab": {},
    "colab_type": "code",
    "id": "wmNG9Mw8fwWT"
   },
   "outputs": [],
   "source": [
    "constants = []\n",
    "slopes = []\n",
    "\n",
    "for i in range(N_simulations):\n",
    "  model = sm.OLS(simulated_y[i,:].numpy(), sm.add_constant(simulated_x[i,:].numpy()))\n",
    "  results = model.fit().params\n",
    "  constants.append(results[0])\n",
    "  slopes.append(results[1])"
   ]
  },
  {
   "cell_type": "markdown",
   "metadata": {
    "colab_type": "text",
    "id": "NbuZpg9Z1MMp"
   },
   "source": [
    "We can derive the distributions of slopes:"
   ]
  },
  {
   "cell_type": "code",
   "execution_count": 6,
   "metadata": {
    "colab": {
     "base_uri": "https://localhost:8080/",
     "height": 269
    },
    "colab_type": "code",
    "executionInfo": {
     "elapsed": 6835,
     "status": "ok",
     "timestamp": 1556181140121,
     "user": {
      "displayName": "Jan Boone",
      "photoUrl": "",
      "userId": "01680203205582182827"
     },
     "user_tz": -120
    },
    "id": "GYgc5gxZgAmx",
    "outputId": "9f74c1ad-2b14-473e-b842-d434c69aae57"
   },
   "outputs": [
    {
     "data": {
      "image/png": "[encoded data removed]",
      "text/plain": [
       "<Figure size 432x288 with 1 Axes>"
      ]
     },
     "metadata": {
      "needs_background": "light"
     },
     "output_type": "display_data"
    }
   ],
   "source": [
    "plt.hist(slopes,bins=20)\n",
    "plt.show()"
   ]
  },
  {
   "cell_type": "markdown",
   "metadata": {
    "colab_type": "text",
    "id": "cSi_th6x1T-9"
   },
   "source": [
    "and the distribution of the constants:"
   ]
  },
  {
   "cell_type": "code",
   "execution_count": 7,
   "metadata": {
    "colab": {
     "base_uri": "https://localhost:8080/",
     "height": 269
    },
    "colab_type": "code",
    "executionInfo": {
     "elapsed": 724,
     "status": "ok",
     "timestamp": 1556181152549,
     "user": {
      "displayName": "Jan Boone",
      "photoUrl": "",
      "userId": "01680203205582182827"
     },
     "user_tz": -120
    },
    "id": "vrCBf-h5hX9D",
    "outputId": "fe6ec456-0d47-40e7-d5c1-6e096afdc288"
   },
   "outputs": [
    {
     "data": {
      "image/png": "[encoded data removed]",
      "text/plain": [
       "<Figure size 432x288 with 1 Axes>"
      ]
     },
     "metadata": {
      "needs_background": "light"
     },
     "output_type": "display_data"
    }
   ],
   "source": [
    "plt.hist(constants,bins=20)\n",
    "plt.show()"
   ]
  },
  {
   "cell_type": "markdown",
   "metadata": {
    "colab_type": "text",
    "id": "TXZHvqN71Y1k"
   },
   "source": [
    "We can plot the lines that are induced by these distributions of the constant and the slope\n",
    "\n",
    "TODO: add more text"
   ]
  },
  {
   "cell_type": "code",
   "execution_count": 8,
   "metadata": {
    "colab": {
     "base_uri": "https://localhost:8080/",
     "height": 283
    },
    "colab_type": "code",
    "executionInfo": {
     "elapsed": 4074,
     "status": "ok",
     "timestamp": 1556181164969,
     "user": {
      "displayName": "Jan Boone",
      "photoUrl": "",
      "userId": "01680203205582182827"
     },
     "user_tz": -120
    },
    "id": "roQh2rG0ihye",
    "outputId": "6731be15-f494-4423-f7b6-8781c530a827"
   },
   "outputs": [
    {
     "data": {
      "image/png": "[encoded data removed]",
      "text/plain": [
       "<Figure size 432x288 with 1 Axes>"
      ]
     },
     "metadata": {
      "needs_background": "light"
     },
     "output_type": "display_data"
    }
   ],
   "source": [
    "for i in range(1000):\n",
    "  plt.plot([-2,2],[constants[i]+slopes[i]*(-2),constants[i]+slopes[i]*(2)])\n",
    "  \n",
    "plt.xlabel('$x$')\n",
    "plt.ylabel('$y$')\n",
    "plt.show()"
   ]
  },
  {
   "cell_type": "markdown",
   "metadata": {
    "colab_type": "text",
    "id": "wWAjo1Clo1Hi"
   },
   "source": [
    "# Bootstrapping\n",
    "\n",
    "Sometimes we do not know what the underlying model is that generated the data. We only have the sample that we observed.  How do we proceed in this case?\n",
    "\n",
    "\n",
    "Suppose that we have two populations (e.g. men vs women; or in the test of a new drug: patients that got the treatment and patients that received the placebo). Denote these two samples by $A$ and $B$. \n",
    "\n"
   ]
  },
  {
   "cell_type": "code",
   "execution_count": 9,
   "metadata": {
    "colab": {
     "base_uri": "https://localhost:8080/",
     "height": 287
    },
    "colab_type": "code",
    "executionInfo": {
     "elapsed": 683,
     "status": "ok",
     "timestamp": 1556181181292,
     "user": {
      "displayName": "Jan Boone",
      "photoUrl": "",
      "userId": "01680203205582182827"
     },
     "user_tz": -120
    },
    "id": "L5dfK9IXsRb7",
    "outputId": "c91dba2c-ab20-4b93-e9c2-b026c009f2eb"
   },
   "outputs": [
    {
     "data": {
      "text/plain": [
       "<matplotlib.legend.Legend at 0x1c2b0f3b00>"
      ]
     },
     "execution_count": 9,
     "metadata": {},
     "output_type": "execute_result"
    },
    {
     "data": {
      "image/png": "[encoded data removed]",
      "text/plain": [
       "<Figure size 432x288 with 1 Axes>"
      ]
     },
     "metadata": {
      "needs_background": "light"
     },
     "output_type": "display_data"
    }
   ],
   "source": [
    "sample_size = 50\n",
    "delta = 0.95\n",
    "A = 10+tf.random.normal([sample_size])\n",
    "B = A*delta\n",
    "plt.hist(A,label='sample A')\n",
    "plt.hist(B,alpha=0.3,label='sample B')\n",
    "plt.legend()"
   ]
  },
  {
   "cell_type": "markdown",
   "metadata": {
    "colab_type": "text",
    "id": "rrA6njSSteju"
   },
   "source": [
    "We find that the average of $A$ is higher than the average of $B$, but is this a significant effect (forget for a second that you saw the code generating the data)?\n"
   ]
  },
  {
   "cell_type": "code",
   "execution_count": 10,
   "metadata": {
    "colab": {
     "base_uri": "https://localhost:8080/",
     "height": 35
    },
    "colab_type": "code",
    "executionInfo": {
     "elapsed": 430,
     "status": "ok",
     "timestamp": 1556181184976,
     "user": {
      "displayName": "Jan Boone",
      "photoUrl": "",
      "userId": "01680203205582182827"
     },
     "user_tz": -120
    },
    "id": "K9B8sNaltB1D",
    "outputId": "cac9ed0b-b430-4b9e-f16c-d0945a137086"
   },
   "outputs": [
    {
     "name": "stdout",
     "output_type": "stream",
     "text": [
      "0.49256897\n"
     ]
    }
   ],
   "source": [
    "observed_difference = np.mean(A)-np.mean(B)\n",
    "print(observed_difference)"
   ]
  },
  {
   "cell_type": "markdown",
   "metadata": {
    "colab_type": "text",
    "id": "BJKjGsGit0x_"
   },
   "source": [
    "In your statistics class you have seen a [t-test](https://en.wikipedia.org/wiki/Student%27s_t-test) to figure out whether this difference is significant or not. But we are going to use simulations to establish this.\n",
    "\n",
    "The null hypothesis that we want to test is: samples $A$ and $B$ are drawn from the same distribution.\n",
    "\n",
    "If this is true, than we can simply combine the $A$ and $B$ observations, reshuffle them and calculate the difference. We do this 10,000 times and get a distribution of the difference\n",
    "\n"
   ]
  },
  {
   "cell_type": "code",
   "execution_count": 11,
   "metadata": {
    "colab": {},
    "colab_type": "code",
    "id": "h27aRxCOwPYu"
   },
   "outputs": [],
   "source": [
    "AB = tf.concat([A,B],axis=0).numpy()"
   ]
  },
  {
   "cell_type": "code",
   "execution_count": 12,
   "metadata": {
    "colab": {},
    "colab_type": "code",
    "id": "4MBw5Li8w13q"
   },
   "outputs": [],
   "source": [
    "differences = []\n",
    "\n",
    "for i in range(10000):\n",
    "  np.random.shuffle(AB)\n",
    "  differences.append(np.mean(AB[:sample_size])-np.mean(AB[sample_size:]))\n",
    "                             \n",
    "                      "
   ]
  },
  {
   "cell_type": "code",
   "execution_count": 13,
   "metadata": {
    "colab": {
     "base_uri": "https://localhost:8080/",
     "height": 269
    },
    "colab_type": "code",
    "executionInfo": {
     "elapsed": 943,
     "status": "ok",
     "timestamp": 1556181222069,
     "user": {
      "displayName": "Jan Boone",
      "photoUrl": "",
      "userId": "01680203205582182827"
     },
     "user_tz": -120
    },
    "id": "dIBLGlk_yeJ0",
    "outputId": "bfabd576-107c-48c3-a931-eae934149850"
   },
   "outputs": [
    {
     "data": {
      "image/png": "[encoded data removed]",
      "text/plain": [
       "<Figure size 432x288 with 1 Axes>"
      ]
     },
     "metadata": {
      "needs_background": "light"
     },
     "output_type": "display_data"
    }
   ],
   "source": [
    "plt.hist(differences)\n",
    "plt.show()"
   ]
  },
  {
   "cell_type": "code",
   "execution_count": 14,
   "metadata": {
    "colab": {
     "base_uri": "https://localhost:8080/",
     "height": 35
    },
    "colab_type": "code",
    "executionInfo": {
     "elapsed": 503,
     "status": "ok",
     "timestamp": 1556181232398,
     "user": {
      "displayName": "Jan Boone",
      "photoUrl": "",
      "userId": "01680203205582182827"
     },
     "user_tz": -120
    },
    "id": "NqBohKU1ygyI",
    "outputId": "d122f36a-320c-473f-f9f1-7aac4d58941a"
   },
   "outputs": [
    {
     "data": {
      "text/plain": [
       "0.0023"
      ]
     },
     "execution_count": 14,
     "metadata": {},
     "output_type": "execute_result"
    }
   ],
   "source": [
    "sum(differences>observed_difference)/len(differences)"
   ]
  },
  {
   "cell_type": "markdown",
   "metadata": {
    "colab_type": "text",
    "id": "yWPW6HI2HcVm"
   },
   "source": [
    "# Doing your own OLS\n",
    "\n",
    "There exist many packages that can do OLS for you. But it is illustrative, to program your own OLS estimator, because then you can see what it does.\n",
    "\n",
    "We start really simple and through the lecture we are going to make the estimator more sophisticated.\n",
    "\n",
    "For OLS, we could just substitute the solution using matrix algebra: $\\beta = (x^Tx)^{-1}x^Ty$. But we want to use the optimization problem itself so that we can add things to it later on.\n",
    "\n",
    "First, we are going to generate our own data.\n",
    "\n",
    "Then we define a loss function (mean squared error) and minimize the loss by choosing a constant (`w[0]`) and slope (`w[1]`)."
   ]
  },
  {
   "cell_type": "code",
   "execution_count": 15,
   "metadata": {
    "colab": {
     "base_uri": "https://localhost:8080/",
     "height": 106
    },
    "colab_type": "code",
    "executionInfo": {
     "elapsed": 451,
     "status": "ok",
     "timestamp": 1556358574664,
     "user": {
      "displayName": "Jan Boone",
      "photoUrl": "",
      "userId": "01680203205582182827"
     },
     "user_tz": -120
    },
    "id": "BWhR_jcFhmbe",
    "outputId": "b55ec367-f27b-4d0c-e5b4-f7f8fa83f502"
   },
   "outputs": [
    {
     "name": "stdout",
     "output_type": "stream",
     "text": [
      "Optimization terminated successfully.\n",
      "         Current function value: 8.352144\n",
      "         Iterations: 64\n",
      "         Function evaluations: 129\n"
     ]
    },
    {
     "data": {
      "text/plain": [
       "array([ 0.98440987, -2.77901717])"
      ]
     },
     "execution_count": 15,
     "metadata": {},
     "output_type": "execute_result"
    }
   ],
   "source": [
    "sample_size = 500\n",
    "slope = -3.0\n",
    "constant = 1.0\n",
    "x = tf.random.normal([sample_size])\n",
    "y = slope*x+constant+3*tf.random.normal([sample_size])\n",
    "\n",
    "def loss(w):\n",
    "  return np.sum((w[0]+w[1]*x-y)**2)/len(y)\n",
    "\n",
    "optimize.fmin(loss, [0,0])"
   ]
  },
  {
   "cell_type": "markdown",
   "metadata": {
    "colab_type": "text",
    "id": "Psozyj3XcdA8"
   },
   "source": [
    "# Causality\n",
    "\n",
    "The data we generate is inspired by [Richard McElreath\n",
    "'s lecture 6](https://www.youtube.com/watch?v=l_7yIUqWBmE). \n",
    "\n",
    "As you know, multiple regression is about correlations, not about causality. When looking at the results of a multiple regression, there are a number of mistakes that you can make. Here we are going to look at four of these mistakes:\n",
    "\n",
    "* the fork\n",
    "* the pipe\n",
    "* the collider\n",
    "* the descendant"
   ]
  },
  {
   "cell_type": "markdown",
   "metadata": {
    "colab_type": "text",
    "id": "VTxJRtkedmgi"
   },
   "source": [
    "## The fork\n",
    "\n",
    "To be added"
   ]
  },
  {
   "cell_type": "markdown",
   "metadata": {
    "colab_type": "text",
    "id": "qs3nhFBHdnKF"
   },
   "source": [
    "## The pipe\n",
    "\n",
    "To be added"
   ]
  },
  {
   "cell_type": "markdown",
   "metadata": {
    "colab_type": "text",
    "id": "42ZPCNqMdm2l"
   },
   "source": [
    "## The collider\n",
    "\n",
    "Many people have the intuition that adding a control variable to a regression (especially when it turns out to be signficant) is a good idea. However, this intuition is wrong if it is applied without thinking.\n",
    "\n",
    "We use here the education example by Richard McElreath to illustrate this point. Consider the educational achievements of three generations in one family: the grandparent, the parent and the (grand)child. We are interested in the effect of the grandparent's education on the educational achievement of the grandchild. \n",
    "\n",
    "Let's denote the child's educational achievement by $Y$ (the variable we are interested in) and the grandparent's education $X$. We want to understand the effect of $x$ on $Y$. Clearly there is the following path: more educated grandparent leads to more educated parent which, in turn, leads to more educated grandchild. The thing we are interested in is whether there is a direct effect from the grandparent on the child, *controlling* for the parent's education.\n",
    "\n",
    "We know that the parent's education has a positive effect on the child's achievement. A more educated parent will tend to stimulate their children more, can help with homework etc. In the data that we generate below, we assume that $Z = X + ...$ and $Y = Z + ...$. That is, we assume that the parent's education feeds one-to-one into the child's education. \n",
    "\n",
    "Is it the case that on top of this effect there is a separate grandparent effect? E.g. because the grandparent is babysitting and a more educated grandparent reads Hamlet with the 5 year old grandchild. That is fun and can boost the child's educational achievement.\n",
    "\n",
    "Another important component of education is the neighborhood where the child grows up. We denote this variable $U$. In the code we assume that the parent and child grow up in the same neighborhood (have the same $U$ effect).  $U$ is drawn from a standard normal distribution and the effect on education is given through a multiplication by the factor `alpha`.\n",
    "\n",
    "In addition to this, we assume that there is a random component as well which differs between parent and child.\n",
    "\n",
    "The code below, generates this data and a dataframe `df` that stores this data.\n",
    "\n",
    "Look carefully at the code: is there a direct effect from the grandparent to the grandchild's educational achievement?\n",
    "\n",
    "We generate two dataframes: `df` is the one that is observed and used in the analysis by the researcher. \n",
    "\n",
    "We will use `df_2` to illustrate why one can get incorrect results from analyzing `df`. The problem is that the researcher does not have access to `df_2` but we can analyze `df_2` for \"educational purposes\" to illustrate why problems arise."
   ]
  },
  {
   "cell_type": "code",
   "execution_count": 16,
   "metadata": {
    "colab": {
     "base_uri": "https://localhost:8080/",
     "height": 230
    },
    "colab_type": "code",
    "executionInfo": {
     "elapsed": 420,
     "status": "ok",
     "timestamp": 1556188665098,
     "user": {
      "displayName": "Jan Boone",
      "photoUrl": "",
      "userId": "01680203205582182827"
     },
     "user_tz": -120
    },
    "id": "YbGfWVekX-8G",
    "outputId": "543372db-4639-456d-c1d1-d192de042d09"
   },
   "outputs": [
    {
     "name": "stdout",
     "output_type": "stream",
     "text": [
      "          X         Y         Z\n",
      "0  0.575244  0.686931  0.348635\n",
      "1  1.535746  0.477906  1.221836\n",
      "2 -0.767106  0.185722 -0.462818\n",
      "3 -1.548771 -0.160622 -1.307137\n",
      "4 -0.091840 -1.842652 -1.131954\n",
      "          X         Y         Z         U\n",
      "0  0.575244  0.686931  0.348635  1.115407\n",
      "1  1.535746  0.477906  1.221836 -0.452566\n",
      "2 -0.767106  0.185722 -0.462818  0.751454\n",
      "3 -1.548771 -0.160622 -1.307137  1.296408\n",
      "4 -0.091840 -1.842652 -1.131954 -0.740007\n"
     ]
    }
   ],
   "source": [
    "N_observations = 5000\n",
    "alpha = 0.5\n",
    "X = tf.random.normal([N_observations])\n",
    "U = tf.random.normal([N_observations])\n",
    "Z = X + alpha*U+0.4*tf.random.normal([N_observations])\n",
    "Y = Z + alpha*U+0.4*tf.random.normal([N_observations])\n",
    "\n",
    "df = pd.DataFrame({'X':X, 'Y':Y, 'Z':Z})\n",
    "df_2 = pd.DataFrame({'X':X, 'Y':Y, 'Z':Z, 'U':U})\n",
    "print(df.head())\n",
    "print(df_2.head())"
   ]
  },
  {
   "cell_type": "markdown",
   "metadata": {
    "colab_type": "text",
    "id": "W2ED-R_JNHfD"
   },
   "source": [
    "To find the (direct) effect of the grandparent ($X$) and the grandchild's educational achievement ($Y$) conditional on the parent ($Z$), we use multiple regression where both $x$ and $Z$ are used as explanatory variables:"
   ]
  },
  {
   "cell_type": "code",
   "execution_count": 17,
   "metadata": {
    "colab": {
     "base_uri": "https://localhost:8080/",
     "height": 479
    },
    "colab_type": "code",
    "executionInfo": {
     "elapsed": 930,
     "status": "ok",
     "timestamp": 1556188667363,
     "user": {
      "displayName": "Jan Boone",
      "photoUrl": "",
      "userId": "01680203205582182827"
     },
     "user_tz": -120
    },
    "id": "st0jhpiEYD3z",
    "outputId": "c9ffbeb6-4dbd-46a7-bbbe-735b9f1977ed"
   },
   "outputs": [
    {
     "name": "stdout",
     "output_type": "stream",
     "text": [
      "                            OLS Regression Results                            \n",
      "==============================================================================\n",
      "Dep. Variable:                      Y   R-squared:                       0.884\n",
      "Model:                            OLS   Adj. R-squared:                  0.884\n",
      "Method:                 Least Squares   F-statistic:                 1.904e+04\n",
      "Date:                Fri, 14 Jun 2019   Prob (F-statistic):               0.00\n",
      "Time:                        19:32:13   Log-Likelihood:                -3780.6\n",
      "No. Observations:                5000   AIC:                             7567.\n",
      "Df Residuals:                    4997   BIC:                             7587.\n",
      "Df Model:                           2                                         \n",
      "Covariance Type:            nonrobust                                         \n",
      "==============================================================================\n",
      "                 coef    std err          t      P>|t|      [0.025      0.975]\n",
      "------------------------------------------------------------------------------\n",
      "Intercept      0.0157      0.007      2.150      0.032       0.001       0.030\n",
      "X             -0.5839      0.014    -42.798      0.000      -0.611      -0.557\n",
      "Z              1.5949      0.011    139.548      0.000       1.573       1.617\n",
      "==============================================================================\n",
      "Omnibus:                        1.354   Durbin-Watson:                   2.025\n",
      "Prob(Omnibus):                  0.508   Jarque-Bera (JB):                1.388\n",
      "Skew:                           0.038   Prob(JB):                        0.500\n",
      "Kurtosis:                       2.970   Cond. No.                         3.44\n",
      "==============================================================================\n",
      "\n",
      "Warnings:\n",
      "[1] Standard Errors assume that the covariance matrix of the errors is correctly specified.\n"
     ]
    }
   ],
   "source": [
    "results = smf.ols('Y ~ X + Z', data=df).fit()\n",
    "print(results.summary())"
   ]
  },
  {
   "cell_type": "markdown",
   "metadata": {
    "colab_type": "text",
    "id": "WlVQK6LCNroW"
   },
   "source": [
    "The effect of the grandparent's educational achievement ($X$) on the child's achievement is negative and significant. Where does that come from? How is this even possible?\n",
    "\n",
    "If we consider the direct effect of $X$ on $Y$ it is --as expected-- positive and significant:"
   ]
  },
  {
   "cell_type": "code",
   "execution_count": 18,
   "metadata": {
    "colab": {
     "base_uri": "https://localhost:8080/",
     "height": 462
    },
    "colab_type": "code",
    "executionInfo": {
     "elapsed": 766,
     "status": "ok",
     "timestamp": 1556188668741,
     "user": {
      "displayName": "Jan Boone",
      "photoUrl": "",
      "userId": "01680203205582182827"
     },
     "user_tz": -120
    },
    "id": "7WNHOCh1YGWt",
    "outputId": "8804e459-cd69-4c38-fdd6-32a972e898ad"
   },
   "outputs": [
    {
     "name": "stdout",
     "output_type": "stream",
     "text": [
      "                            OLS Regression Results                            \n",
      "==============================================================================\n",
      "Dep. Variable:                      Y   R-squared:                       0.432\n",
      "Model:                            OLS   Adj. R-squared:                  0.432\n",
      "Method:                 Least Squares   F-statistic:                     3800.\n",
      "Date:                Fri, 14 Jun 2019   Prob (F-statistic):               0.00\n",
      "Time:                        19:32:14   Log-Likelihood:                -7752.2\n",
      "No. Observations:                5000   AIC:                         1.551e+04\n",
      "Df Residuals:                    4998   BIC:                         1.552e+04\n",
      "Df Model:                           1                                         \n",
      "Covariance Type:            nonrobust                                         \n",
      "==============================================================================\n",
      "                 coef    std err          t      P>|t|      [0.025      0.975]\n",
      "------------------------------------------------------------------------------\n",
      "Intercept      0.0097      0.016      0.602      0.547      -0.022       0.041\n",
      "X              1.0132      0.016     61.648      0.000       0.981       1.045\n",
      "==============================================================================\n",
      "Omnibus:                        1.528   Durbin-Watson:                   2.003\n",
      "Prob(Omnibus):                  0.466   Jarque-Bera (JB):                1.530\n",
      "Skew:                          -0.016   Prob(JB):                        0.465\n",
      "Kurtosis:                       2.920   Cond. No.                         1.02\n",
      "==============================================================================\n",
      "\n",
      "Warnings:\n",
      "[1] Standard Errors assume that the covariance matrix of the errors is correctly specified.\n"
     ]
    }
   ],
   "source": [
    "results2 = smf.ols('Y ~ X', data=df).fit()\n",
    "print(results2.summary())\n"
   ]
  },
  {
   "cell_type": "markdown",
   "metadata": {
    "colab_type": "text",
    "id": "ILo37WUppWMw"
   },
   "source": [
    "To see what is happening here in a graph, let's think about what it means to \"control for parental education $Z$\". \n",
    "\n",
    "To visualize what happens, we condition on $Z$ by focusing on a narrow band of $Z$ observations. In other words, we condition on $Z$ by focusing on a subsample where the $Z$ values are (almost) the same. We do this by creating a column `selected` in our dataframe."
   ]
  },
  {
   "cell_type": "code",
   "execution_count": 19,
   "metadata": {
    "colab": {},
    "colab_type": "code",
    "id": "Zzc8Qj5djoaI"
   },
   "outputs": [],
   "source": [
    "df['selected'] = np.abs(df.Z)<0.05"
   ]
  },
  {
   "cell_type": "code",
   "execution_count": 20,
   "metadata": {
    "colab": {
     "base_uri": "https://localhost:8080/",
     "height": 206
    },
    "colab_type": "code",
    "executionInfo": {
     "elapsed": 543,
     "status": "ok",
     "timestamp": 1556188670972,
     "user": {
      "displayName": "Jan Boone",
      "photoUrl": "",
      "userId": "01680203205582182827"
     },
     "user_tz": -120
    },
    "id": "ythl_bmoiTVc",
    "outputId": "4e49ce97-594b-4cdc-85ac-9059901ff3d3"
   },
   "outputs": [
    {
     "data": {
      "text/html": [
       "<div>\n",
       "<style scoped>\n",
       "    .dataframe tbody tr th:only-of-type {\n",
       "        vertical-align: middle;\n",
       "    }\n",
       "\n",
       "    .dataframe tbody tr th {\n",
       "        vertical-align: top;\n",
       "    }\n",
       "\n",
       "    .dataframe thead th {\n",
       "        text-align: right;\n",
       "    }\n",
       "</style>\n",
       "<table border=\"1\" class=\"dataframe\">\n",
       "  <thead>\n",
       "    <tr style=\"text-align: right;\">\n",
       "      <th></th>\n",
       "      <th>X</th>\n",
       "      <th>Y</th>\n",
       "      <th>Z</th>\n",
       "      <th>selected</th>\n",
       "    </tr>\n",
       "  </thead>\n",
       "  <tbody>\n",
       "    <tr>\n",
       "      <th>0</th>\n",
       "      <td>0.575244</td>\n",
       "      <td>0.686931</td>\n",
       "      <td>0.348635</td>\n",
       "      <td>False</td>\n",
       "    </tr>\n",
       "    <tr>\n",
       "      <th>1</th>\n",
       "      <td>1.535746</td>\n",
       "      <td>0.477906</td>\n",
       "      <td>1.221836</td>\n",
       "      <td>False</td>\n",
       "    </tr>\n",
       "    <tr>\n",
       "      <th>2</th>\n",
       "      <td>-0.767106</td>\n",
       "      <td>0.185722</td>\n",
       "      <td>-0.462818</td>\n",
       "      <td>False</td>\n",
       "    </tr>\n",
       "    <tr>\n",
       "      <th>3</th>\n",
       "      <td>-1.548771</td>\n",
       "      <td>-0.160622</td>\n",
       "      <td>-1.307137</td>\n",
       "      <td>False</td>\n",
       "    </tr>\n",
       "    <tr>\n",
       "      <th>4</th>\n",
       "      <td>-0.091840</td>\n",
       "      <td>-1.842652</td>\n",
       "      <td>-1.131954</td>\n",
       "      <td>False</td>\n",
       "    </tr>\n",
       "  </tbody>\n",
       "</table>\n",
       "</div>"
      ],
      "text/plain": [
       "          X         Y         Z  selected\n",
       "0  0.575244  0.686931  0.348635     False\n",
       "1  1.535746  0.477906  1.221836     False\n",
       "2 -0.767106  0.185722 -0.462818     False\n",
       "3 -1.548771 -0.160622 -1.307137     False\n",
       "4 -0.091840 -1.842652 -1.131954     False"
      ]
     },
     "execution_count": 20,
     "metadata": {},
     "output_type": "execute_result"
    }
   ],
   "source": [
    "df.head()"
   ]
  },
  {
   "cell_type": "markdown",
   "metadata": {
    "colab_type": "text",
    "id": "gMwDuCmh1LCt"
   },
   "source": [
    "Feel free to make this plot using `matplotlib`. For fun, we use `altair` here. \n",
    "\n",
    "The blue circles are all the data, the orange ones are the data with (almost) the same $Z$.\n",
    "\n",
    "**Question** Give the intuition why there is a negative correlation between $X$ and $Y$ with the orange dots. [hint: what do you know about orange dots with low $X$ and about orange dots with high $X$?]\n",
    "\n",
    "If you cannot answer this question yet, consider the following interactive graph.\n",
    "\n"
   ]
  },
  {
   "cell_type": "code",
   "execution_count": 21,
   "metadata": {
    "colab": {
     "base_uri": "https://localhost:8080/",
     "height": 373
    },
    "colab_type": "code",
    "executionInfo": {
     "elapsed": 1234,
     "status": "ok",
     "timestamp": 1556188713665,
     "user": {
      "displayName": "Jan Boone",
      "photoUrl": "",
      "userId": "01680203205582182827"
     },
     "user_tz": -120
    },
    "id": "1FocqUANiWT7",
    "outputId": "636e6b18-f944-4852-f1af-eaf4b3118abb"
   },
   "outputs": [],
   "source": [
    "\n",
    "chart = alt.Chart(df).mark_point().encode(\n",
    "  x='X',\n",
    "  y='Y',\n",
    "  color='selected'\n",
    ").interactive()\n",
    "\n",
    "chart.save('Chart.html')"
   ]
  },
  {
   "cell_type": "code",
   "execution_count": 22,
   "metadata": {},
   "outputs": [
    {
     "data": {
      "text/html": [
       "\n",
       "<iframe width=\"840\" height=\"400\" src=\"./Chart.html\" frameborder=\"0\"></iframe>\n"
      ],
      "text/plain": [
       "<IPython.core.display.HTML object>"
      ]
     },
     "metadata": {},
     "output_type": "display_data"
    }
   ],
   "source": [
    "%%HTML\n",
    "\n",
    "<iframe width=\"840\" height=\"400\" src=\"./Chart.html\" frameborder=\"0\"></iframe>"
   ]
  },
  {
   "cell_type": "markdown",
   "metadata": {
    "colab_type": "text",
    "id": "yOp8m46p14Au"
   },
   "source": [
    "To better understand what is happening here, we are going to use `df_2`. In particular, in the combined figure below, we again provide a scatter plot of `X` vs `Y`. Now the color indicates the level of `Z` associated with the observation; darker colors indicate higher values of `Z`. The size of the point (circle) indicates the level of `U` (that the researcher cannot see in `df`). \n",
    "\n",
    "To condition on `Z` (as we do in a multiple regression), we can drag a rectangle in the bottom histogram. Move this histogram around and see what happens. In particular:\n",
    "* how does `Z` vary in the figure? E.g. where are the high values of `Z`? What is the interpretation of this?\n",
    "* for a selection of `Z` in the bottom histogram, what is the relation between `X` and `Y`?\n",
    "* for this selection, how does `U` vary in the figure? What is the interpretation?\n",
    "\n",
    "\n",
    "**Question** Give the intuition why there is a negative correlation between `X` and `Y` for a selection of `Z`; that is, conditional on `Z`.\n",
    "\n",
    "**Exercise** What is the risk of saying: I have run a regression and controlled for all effects that I had variables for?"
   ]
  },
  {
   "cell_type": "code",
   "execution_count": 23,
   "metadata": {
    "colab": {
     "base_uri": "https://localhost:8080/",
     "height": 728
    },
    "colab_type": "code",
    "executionInfo": {
     "elapsed": 1129,
     "status": "ok",
     "timestamp": 1556195913155,
     "user": {
      "displayName": "Jan Boone",
      "photoUrl": "",
      "userId": "01680203205582182827"
     },
     "user_tz": -120
    },
    "id": "VC8-77Rf12u5",
    "outputId": "96cd0c7c-22ba-4fc4-f98c-513d4b8e2f23"
   },
   "outputs": [],
   "source": [
    "interval = alt.selection_interval(encodings=['y'])\n",
    "\n",
    "fig = alt.Chart(df_2).mark_point().encode(\n",
    "  x='X',\n",
    "  y='Y',\n",
    "  color=alt.condition(interval, 'Z', alt.value('lightgreen')),\n",
    "  size = 'U'\n",
    ").properties(\n",
    "    selection=interval\n",
    "\n",
    ")\n",
    "\n",
    "\n",
    "\n",
    "hist = alt.Chart(df_2).mark_bar().encode(\n",
    "    x='count()',\n",
    "    y=alt.Y('Z',bin=True),\n",
    "    color=alt.condition(interval, 'Z', alt.value('lightgrey'))\n",
    ").properties(\n",
    "    selection=interval\n",
    "\n",
    ")\n",
    "\n",
    "chart2 = fig & hist\n",
    "\n",
    "chart2.save('Chart2.html')"
   ]
  },
  {
   "cell_type": "code",
   "execution_count": 24,
   "metadata": {
    "scrolled": false
   },
   "outputs": [
    {
     "data": {
      "text/html": [
       "\n",
       "<iframe width=\"840\" height=\"800\" src=\"./Chart2.html\" frameborder=\"0\"></iframe>\n"
      ],
      "text/plain": [
       "<IPython.core.display.HTML object>"
      ]
     },
     "metadata": {},
     "output_type": "display_data"
    }
   ],
   "source": [
    "%%HTML\n",
    "\n",
    "<iframe width=\"840\" height=\"800\" src=\"./Chart2.html\" frameborder=\"0\"></iframe>"
   ]
  },
  {
   "cell_type": "markdown",
   "metadata": {
    "colab_type": "text",
    "id": "02IVvDIXdnkF"
   },
   "source": [
    "## The descendant\n",
    "\n",
    "\n",
    "In the three cases above, it sometimes happens that you do not have data on $Z$, but you have data on a variable $A$ correlated with $Z$. This is called a descendant.\n",
    "\n",
    "To be added"
   ]
  },
  {
   "cell_type": "markdown",
   "metadata": {
    "colab_type": "text",
    "id": "Jyve80prPAB2"
   },
   "source": [
    "# Some background on tensors\n",
    "\n",
    "We will have a technical interlude to explain what tensors are and what you can do with them. We describe some functions that can be applied to tensors. To motivate these functions, we will build our first neural network. The point here is not so much to explain how neural networks works but more to show you that the functions we consider are going to be useful later on when we will try to understand neural networks more deeply."
   ]
  },
  {
   "cell_type": "markdown",
   "metadata": {
    "colab_type": "text",
    "id": "zOGCDKigifED"
   },
   "source": [
    "## Tensors\n",
    "\n",
    "In most of the empirical analyses that you have done, an observation is a one dimensional vector. E.g. you have data on inflation, unemployment, gdp growth for country-year combinations. Then for the UK in 2000, our data  consists of the one dimensional vector `[inflation, unemployment, gdp growth]`. If you have 100 observations like this, you can represent them in a matrix. Each row is an observation and the columns will be `[coutry, year, inflation, unemployment, gdp growth]`. Hence we have a two dimensional dataset with 100 rows and 5 columns.\n",
    "\n",
    "In big data, there are usually higher dimension observations. One of the \"classic\" datasets in machine learning is [the MNIST dataset.](https://en.wikipedia.org/wiki/MNIST_database) This dataset consists of handwritten numbers and their corresponding label (e.g. when the handwritten number is 5, the label for this image `5`). We will see an example shortly.\n",
    "\n",
    "The point is that a handwritten number is a two dimensional observation. To illustrate this, consider the 5th image from the training dataset (python starts numbering at 0); we plot the handwritten image (which is 2 dimensional) and print its label.\n",
    "\n"
   ]
  },
  {
   "cell_type": "code",
   "execution_count": 25,
   "metadata": {
    "colab": {
     "base_uri": "https://localhost:8080/",
     "height": 53
    },
    "colab_type": "code",
    "executionInfo": {
     "elapsed": 1053,
     "status": "ok",
     "timestamp": 1556370513629,
     "user": {
      "displayName": "Jan Boone",
      "photoUrl": "",
      "userId": "01680203205582182827"
     },
     "user_tz": -120
    },
    "id": "SmEybeeliYi8",
    "outputId": "813f060a-15c5-4264-88cd-0a38cffb5c7d"
   },
   "outputs": [],
   "source": [
    "(train_images, train_labels), (test_images, test_labels) = datasets.mnist.load_data()"
   ]
  },
  {
   "cell_type": "code",
   "execution_count": 26,
   "metadata": {
    "colab": {
     "base_uri": "https://localhost:8080/",
     "height": 287
    },
    "colab_type": "code",
    "executionInfo": {
     "elapsed": 444,
     "status": "ok",
     "timestamp": 1556370516249,
     "user": {
      "displayName": "Jan Boone",
      "photoUrl": "",
      "userId": "01680203205582182827"
     },
     "user_tz": -120
    },
    "id": "8SSJCxWMkQe6",
    "outputId": "25b3b30f-7ad0-44bd-f7fe-e4c1e133af55"
   },
   "outputs": [
    {
     "data": {
      "image/png": "[encoded data removed]",
      "text/plain": [
       "<Figure size 432x288 with 1 Axes>"
      ]
     },
     "metadata": {
      "needs_background": "light"
     },
     "output_type": "display_data"
    },
    {
     "name": "stdout",
     "output_type": "stream",
     "text": [
      "9\n"
     ]
    }
   ],
   "source": [
    "plt.imshow(train_images[4],cmap=plt.cm.binary)\n",
    "plt.show()\n",
    "print(train_labels[4])"
   ]
  },
  {
   "cell_type": "markdown",
   "metadata": {
    "colab_type": "text",
    "id": "c4L5zmRgqMJo"
   },
   "source": [
    "Indeed, the handwritten number is 9, which equals its label.\n",
    "\n",
    "What are the dimensions for this dataset. Let's use `shape` to find out:"
   ]
  },
  {
   "cell_type": "code",
   "execution_count": 27,
   "metadata": {
    "colab": {
     "base_uri": "https://localhost:8080/",
     "height": 34
    },
    "colab_type": "code",
    "executionInfo": {
     "elapsed": 490,
     "status": "ok",
     "timestamp": 1556282456035,
     "user": {
      "displayName": "Jan Boone",
      "photoUrl": "",
      "userId": "01680203205582182827"
     },
     "user_tz": -120
    },
    "id": "WOg2L1fAkhZv",
    "outputId": "1ad602f3-b610-452f-a895-a7d2195a8605"
   },
   "outputs": [
    {
     "data": {
      "text/plain": [
       "(60000, 28, 28)"
      ]
     },
     "execution_count": 27,
     "metadata": {},
     "output_type": "execute_result"
    }
   ],
   "source": [
    "train_images.shape"
   ]
  },
  {
   "cell_type": "markdown",
   "metadata": {
    "colab_type": "text",
    "id": "Oj8-DKccqmca"
   },
   "source": []
  },
  {
   "cell_type": "code",
   "execution_count": 28,
   "metadata": {
    "colab": {
     "base_uri": "https://localhost:8080/",
     "height": 34
    },
    "colab_type": "code",
    "executionInfo": {
     "elapsed": 510,
     "status": "ok",
     "timestamp": 1556282548428,
     "user": {
      "displayName": "Jan Boone",
      "photoUrl": "",
      "userId": "01680203205582182827"
     },
     "user_tz": -120
    },
    "id": "gXigpmrjqbW7",
    "outputId": "82312993-9953-49d6-c469-bd592ff2e944"
   },
   "outputs": [
    {
     "data": {
      "text/plain": [
       "(28, 28)"
      ]
     },
     "execution_count": 28,
     "metadata": {},
     "output_type": "execute_result"
    }
   ],
   "source": [
    "train_images[0].shape"
   ]
  },
  {
   "cell_type": "markdown",
   "metadata": {
    "colab_type": "text",
    "id": "Pq8zXvScr19o"
   },
   "source": [
    "## Tensors in numpy\n",
    "\n",
    "Well known machine learning backends are Theano and Tensorflow. For reasons that we do not worry about here, these are not immediately straightforward to work with. But we can play around with dimensions in Numpy as well. Properties that we can use in Numpy, like broadcasting, can be used in Theano and Tensorflow as well.\n",
    "\n",
    "As Numpy is \"more direct\" to work with, we will practice this with numpy.\n",
    "\n",
    "First, we create the vector `x` with 100 random numbers. "
   ]
  },
  {
   "cell_type": "code",
   "execution_count": 29,
   "metadata": {
    "colab": {},
    "colab_type": "code",
    "id": "_HmqgKGEqx6c"
   },
   "outputs": [],
   "source": [
    "x = np.random.normal(0,1,size=100)"
   ]
  },
  {
   "cell_type": "markdown",
   "metadata": {
    "colab_type": "text",
    "id": "yd-M7PXttRW_"
   },
   "source": [
    "We can check what the shape is of this vector:"
   ]
  },
  {
   "cell_type": "code",
   "execution_count": 30,
   "metadata": {
    "colab": {
     "base_uri": "https://localhost:8080/",
     "height": 34
    },
    "colab_type": "code",
    "executionInfo": {
     "elapsed": 505,
     "status": "ok",
     "timestamp": 1556283042608,
     "user": {
      "displayName": "Jan Boone",
      "photoUrl": "",
      "userId": "01680203205582182827"
     },
     "user_tz": -120
    },
    "id": "1tqdba21soaO",
    "outputId": "5eec91a3-50ad-4ac4-b1e4-87acddd5ed58"
   },
   "outputs": [
    {
     "data": {
      "text/plain": [
       "(100,)"
      ]
     },
     "execution_count": 30,
     "metadata": {},
     "output_type": "execute_result"
    }
   ],
   "source": [
    "x.shape"
   ]
  },
  {
   "cell_type": "markdown",
   "metadata": {
    "colab_type": "text",
    "id": "48L7R9QvtXaF"
   },
   "source": [
    "and the vector is one-dimensional from a tensor point of view:"
   ]
  },
  {
   "cell_type": "code",
   "execution_count": 31,
   "metadata": {
    "colab": {
     "base_uri": "https://localhost:8080/",
     "height": 34
    },
    "colab_type": "code",
    "executionInfo": {
     "elapsed": 577,
     "status": "ok",
     "timestamp": 1556283118592,
     "user": {
      "displayName": "Jan Boone",
      "photoUrl": "",
      "userId": "01680203205582182827"
     },
     "user_tz": -120
    },
    "id": "ZHoMyyxhspAB",
    "outputId": "1998c7d9-72a8-4988-9d84-4ff7ea900936"
   },
   "outputs": [
    {
     "data": {
      "text/plain": [
       "1"
      ]
     },
     "execution_count": 31,
     "metadata": {},
     "output_type": "execute_result"
    }
   ],
   "source": [
    "x.ndim"
   ]
  },
  {
   "cell_type": "markdown",
   "metadata": {
    "colab_type": "text",
    "id": "yDNJKPz0thFs"
   },
   "source": [
    "**No not read this if you get easily confused:** If you would plot the vector `x` it would be a *vector* in a 100-dimensional space. Hence it is a 100 dimensional vector, but a 1 dimensional tensor.\n",
    "\n",
    "\n",
    "Let us know consider a two dimensional (2D) tensor. This is what we usually call a matrix"
   ]
  },
  {
   "cell_type": "code",
   "execution_count": 32,
   "metadata": {
    "colab": {},
    "colab_type": "code",
    "id": "-wG27xM_s9GN"
   },
   "outputs": [],
   "source": [
    "x2 = x.reshape(25,4)"
   ]
  },
  {
   "cell_type": "code",
   "execution_count": 33,
   "metadata": {
    "colab": {
     "base_uri": "https://localhost:8080/",
     "height": 34
    },
    "colab_type": "code",
    "executionInfo": {
     "elapsed": 579,
     "status": "ok",
     "timestamp": 1556283467537,
     "user": {
      "displayName": "Jan Boone",
      "photoUrl": "",
      "userId": "01680203205582182827"
     },
     "user_tz": -120
    },
    "id": "CkSfmwM_uNpB",
    "outputId": "6451e1d3-7504-45cf-c488-0fa2c262f5af"
   },
   "outputs": [
    {
     "data": {
      "text/plain": [
       "2"
      ]
     },
     "execution_count": 33,
     "metadata": {},
     "output_type": "execute_result"
    }
   ],
   "source": [
    "x2.ndim"
   ]
  },
  {
   "cell_type": "code",
   "execution_count": 34,
   "metadata": {
    "colab": {
     "base_uri": "https://localhost:8080/",
     "height": 34
    },
    "colab_type": "code",
    "executionInfo": {
     "elapsed": 506,
     "status": "ok",
     "timestamp": 1556283472983,
     "user": {
      "displayName": "Jan Boone",
      "photoUrl": "",
      "userId": "01680203205582182827"
     },
     "user_tz": -120
    },
    "id": "TMLeiOEFuSSc",
    "outputId": "90b6db0b-d1f1-44ca-d05b-83694d2752bd"
   },
   "outputs": [
    {
     "data": {
      "text/plain": [
       "(25, 4)"
      ]
     },
     "execution_count": 34,
     "metadata": {},
     "output_type": "execute_result"
    }
   ],
   "source": [
    "x2.shape"
   ]
  },
  {
   "cell_type": "markdown",
   "metadata": {
    "colab_type": "text",
    "id": "HdqLDxM9uWxN"
   },
   "source": [
    "In matrix terminology we would say that `x2` has 25 rows and 4 columns.\n",
    "\n",
    "A 3D tensor is then"
   ]
  },
  {
   "cell_type": "code",
   "execution_count": 35,
   "metadata": {
    "colab": {},
    "colab_type": "code",
    "id": "so_DNWlEuTow"
   },
   "outputs": [],
   "source": [
    "x3 = x.reshape(4,5,5)"
   ]
  },
  {
   "cell_type": "code",
   "execution_count": 36,
   "metadata": {
    "colab": {
     "base_uri": "https://localhost:8080/",
     "height": 34
    },
    "colab_type": "code",
    "executionInfo": {
     "elapsed": 445,
     "status": "ok",
     "timestamp": 1556283585287,
     "user": {
      "displayName": "Jan Boone",
      "photoUrl": "",
      "userId": "01680203205582182827"
     },
     "user_tz": -120
    },
    "id": "Hz1MEK65utU2",
    "outputId": "1515ae6b-3194-4155-f664-73021d561656"
   },
   "outputs": [
    {
     "data": {
      "text/plain": [
       "3"
      ]
     },
     "execution_count": 36,
     "metadata": {},
     "output_type": "execute_result"
    }
   ],
   "source": [
    "x3.ndim"
   ]
  },
  {
   "cell_type": "code",
   "execution_count": 37,
   "metadata": {
    "colab": {
     "base_uri": "https://localhost:8080/",
     "height": 34
    },
    "colab_type": "code",
    "executionInfo": {
     "elapsed": 493,
     "status": "ok",
     "timestamp": 1556283589831,
     "user": {
      "displayName": "Jan Boone",
      "photoUrl": "",
      "userId": "01680203205582182827"
     },
     "user_tz": -120
    },
    "id": "aRBMCshIuvEP",
    "outputId": "020521c2-71c8-4414-949d-8bf9f18866d5"
   },
   "outputs": [
    {
     "data": {
      "text/plain": [
       "(4, 5, 5)"
      ]
     },
     "execution_count": 37,
     "metadata": {},
     "output_type": "execute_result"
    }
   ],
   "source": [
    "x3.shape"
   ]
  },
  {
   "cell_type": "markdown",
   "metadata": {
    "colab_type": "text",
    "id": "j1eB-x0Lu0R7"
   },
   "source": [
    "One way to think about this is as four $5*5$ images.\n",
    "\n",
    "The numpy representation of this is as follows:"
   ]
  },
  {
   "cell_type": "code",
   "execution_count": 38,
   "metadata": {
    "colab": {
     "base_uri": "https://localhost:8080/",
     "height": 748
    },
    "colab_type": "code",
    "executionInfo": {
     "elapsed": 1388,
     "status": "ok",
     "timestamp": 1556283635679,
     "user": {
      "displayName": "Jan Boone",
      "photoUrl": "",
      "userId": "01680203205582182827"
     },
     "user_tz": -120
    },
    "id": "e4dvF-EiuwKo",
    "outputId": "3f4e828f-e2d3-41c7-ee87-ca3fd53106ff"
   },
   "outputs": [
    {
     "data": {
      "text/plain": [
       "array([[[ 2.19369536e-01,  5.12505378e-01,  1.74975939e+00,\n",
       "         -3.47936411e-01, -7.47733248e-01],\n",
       "        [ 3.20643552e-01,  3.27164249e-01,  1.99096851e-01,\n",
       "          2.18143064e+00,  1.14916521e-01],\n",
       "        [-2.58629498e-03,  1.42539415e-01,  1.74945969e-02,\n",
       "          2.52766801e-02,  6.93810235e-01],\n",
       "        [ 9.98663536e-01,  1.82483586e-01,  1.81161326e+00,\n",
       "         -1.66393456e+00, -8.33222764e-01],\n",
       "        [-4.97944858e-01, -1.15270593e+00, -1.94713419e-01,\n",
       "          1.16114920e+00,  9.46438604e-01]],\n",
       "\n",
       "       [[-8.75028945e-01,  7.59647286e-01, -1.53679309e+00,\n",
       "          5.29211358e-01,  4.51529637e-01],\n",
       "        [-9.72065122e-01,  1.92045666e+00,  7.28224052e-01,\n",
       "         -5.30702027e-01,  1.09534022e+00],\n",
       "        [-1.58952103e+00,  5.20235137e-01,  1.32405555e+00,\n",
       "         -7.44512151e-01, -9.90095298e-01],\n",
       "        [-8.46913355e-01,  7.87507919e-01,  2.39144613e-01,\n",
       "         -1.54033003e+00,  3.81375288e-01],\n",
       "        [-6.70786644e-01,  2.56941347e-01, -2.44577495e-01,\n",
       "         -3.64221982e-01,  3.07814570e+00]],\n",
       "\n",
       "       [[ 1.41234468e+00,  7.80976753e-02, -5.22048638e-01,\n",
       "         -5.80302419e-01, -1.18430406e+00],\n",
       "        [ 9.99126301e-02, -8.79905240e-01,  6.54288776e-01,\n",
       "          1.37497169e-01, -1.17109790e+00],\n",
       "        [ 2.21424666e-01, -3.07092318e-02, -4.77094777e-01,\n",
       "          1.00893098e+00, -5.87447544e-01],\n",
       "        [ 9.60470097e-01, -4.66816670e-01,  6.14645080e-01,\n",
       "          5.11739551e-01,  4.86575038e-02],\n",
       "        [-2.68281869e+00, -9.32439357e-01, -1.14195744e+00,\n",
       "         -1.15601028e+00,  1.69158326e-01]],\n",
       "\n",
       "       [[-1.97104301e-01, -3.83960582e-01, -3.03472066e-01,\n",
       "         -1.09441219e+00, -1.98795708e-01],\n",
       "        [-5.27982207e-01, -1.77917411e-01, -1.58327232e+00,\n",
       "          1.63921753e-01, -5.98409333e-01],\n",
       "        [ 7.78902362e-01, -1.17795307e-01, -4.42083102e-01,\n",
       "          2.64290021e-02,  1.26265078e+00],\n",
       "        [-3.43021268e-01,  1.31363231e-01, -9.06898371e-01,\n",
       "         -7.92006365e-01,  9.34953714e-01],\n",
       "        [-1.28139177e+00,  1.13158151e+00, -1.45901402e+00,\n",
       "          8.25502308e-01,  6.35001780e-01]]])"
      ]
     },
     "execution_count": 38,
     "metadata": {},
     "output_type": "execute_result"
    }
   ],
   "source": [
    "x3"
   ]
  },
  {
   "cell_type": "markdown",
   "metadata": {
    "colab_type": "text",
    "id": "6STQAVi9vhlt"
   },
   "source": [
    "we can also add a dimension to a vector without adding or re-arranging data. For this we use `np.newaxis`"
   ]
  },
  {
   "cell_type": "code",
   "execution_count": 39,
   "metadata": {
    "colab": {},
    "colab_type": "code",
    "id": "nhEGTMQ3u7JC"
   },
   "outputs": [],
   "source": [
    "x4 = x3[:,:,:,np.newaxis]"
   ]
  },
  {
   "cell_type": "code",
   "execution_count": 40,
   "metadata": {
    "colab": {
     "base_uri": "https://localhost:8080/",
     "height": 34
    },
    "colab_type": "code",
    "executionInfo": {
     "elapsed": 484,
     "status": "ok",
     "timestamp": 1556283857417,
     "user": {
      "displayName": "Jan Boone",
      "photoUrl": "",
      "userId": "01680203205582182827"
     },
     "user_tz": -120
    },
    "id": "paLCkt1svwQ1",
    "outputId": "8aa3403f-86f6-4709-8220-dc6ebbba9d80"
   },
   "outputs": [
    {
     "data": {
      "text/plain": [
       "4"
      ]
     },
     "execution_count": 40,
     "metadata": {},
     "output_type": "execute_result"
    }
   ],
   "source": [
    "x4.ndim"
   ]
  },
  {
   "cell_type": "code",
   "execution_count": 41,
   "metadata": {
    "colab": {
     "base_uri": "https://localhost:8080/",
     "height": 34
    },
    "colab_type": "code",
    "executionInfo": {
     "elapsed": 468,
     "status": "ok",
     "timestamp": 1556283863264,
     "user": {
      "displayName": "Jan Boone",
      "photoUrl": "",
      "userId": "01680203205582182827"
     },
     "user_tz": -120
    },
    "id": "hLbKHsMIvxfw",
    "outputId": "c9d359fd-f43f-4c28-b7f0-819749142dca"
   },
   "outputs": [
    {
     "data": {
      "text/plain": [
       "(4, 5, 5, 1)"
      ]
     },
     "execution_count": 41,
     "metadata": {},
     "output_type": "execute_result"
    }
   ],
   "source": [
    "x4.shape"
   ]
  },
  {
   "cell_type": "markdown",
   "metadata": {
    "colab_type": "text",
    "id": "LUJF_kDIv6jg"
   },
   "source": [
    "Now you may wonder why this is a useful thing to do."
   ]
  },
  {
   "cell_type": "markdown",
   "metadata": {
    "colab_type": "text",
    "id": "NXi6_Jupv6rz"
   },
   "source": [
    "## Broadcasting\n",
    "\n",
    "Suppose you have estimated a fixed effect model. In your data there are i = 0,1,...,9 individuals and t = 0,1,2 periods. The vector `I` consists of 10 individual fixed effects and the vector `T` has 3 time fixed effects. Hence, our prediction for indiv. `i` in time period `t` (ignoring other explanatory variables) is $y_{it}=I_i+T_t$. \n",
    "\n",
    "How can we calculate the vector `y`?\n",
    "\n",
    "We first give you the answer using broadcasting and then we step back to explain what broadcasting is.\n",
    "\n",
    "\n"
   ]
  },
  {
   "cell_type": "code",
   "execution_count": 42,
   "metadata": {
    "colab": {},
    "colab_type": "code",
    "id": "l_z7TqTLvy7W"
   },
   "outputs": [],
   "source": [
    "I = np.arange(10)\n",
    "T = np.arange(0,30,10)"
   ]
  },
  {
   "cell_type": "code",
   "execution_count": 43,
   "metadata": {
    "colab": {
     "base_uri": "https://localhost:8080/",
     "height": 34
    },
    "colab_type": "code",
    "executionInfo": {
     "elapsed": 490,
     "status": "ok",
     "timestamp": 1556284277690,
     "user": {
      "displayName": "Jan Boone",
      "photoUrl": "",
      "userId": "01680203205582182827"
     },
     "user_tz": -120
    },
    "id": "-B3wpCzkxXdV",
    "outputId": "07a3d48d-a265-4b4f-94ab-39cc2e666412"
   },
   "outputs": [
    {
     "data": {
      "text/plain": [
       "array([0, 1, 2, 3, 4, 5, 6, 7, 8, 9])"
      ]
     },
     "execution_count": 43,
     "metadata": {},
     "output_type": "execute_result"
    }
   ],
   "source": [
    "I"
   ]
  },
  {
   "cell_type": "code",
   "execution_count": 44,
   "metadata": {
    "colab": {
     "base_uri": "https://localhost:8080/",
     "height": 34
    },
    "colab_type": "code",
    "executionInfo": {
     "elapsed": 461,
     "status": "ok",
     "timestamp": 1556284280654,
     "user": {
      "displayName": "Jan Boone",
      "photoUrl": "",
      "userId": "01680203205582182827"
     },
     "user_tz": -120
    },
    "id": "Yo8-de_3xYGS",
    "outputId": "83819535-3f13-4a36-8a8f-39eac2c14b25"
   },
   "outputs": [
    {
     "data": {
      "text/plain": [
       "array([ 0, 10, 20])"
      ]
     },
     "execution_count": 44,
     "metadata": {},
     "output_type": "execute_result"
    }
   ],
   "source": [
    "T"
   ]
  },
  {
   "cell_type": "markdown",
   "metadata": {
    "colab_type": "text",
    "id": "AAOnRrTJxbaM"
   },
   "source": [
    "Because of the simplistic numbers that we have chosen, it is easy to see that e.g. $y_{31} = 13$ with $i=3$ and $t=1$. So we can check whether our trick works."
   ]
  },
  {
   "cell_type": "code",
   "execution_count": 45,
   "metadata": {
    "colab": {},
    "colab_type": "code",
    "id": "eua1v545xY1O"
   },
   "outputs": [],
   "source": [
    "y = I[:,np.newaxis]+T[np.newaxis,:]"
   ]
  },
  {
   "cell_type": "code",
   "execution_count": 46,
   "metadata": {
    "colab": {
     "base_uri": "https://localhost:8080/",
     "height": 187
    },
    "colab_type": "code",
    "executionInfo": {
     "elapsed": 579,
     "status": "ok",
     "timestamp": 1556284519887,
     "user": {
      "displayName": "Jan Boone",
      "photoUrl": "",
      "userId": "01680203205582182827"
     },
     "user_tz": -120
    },
    "id": "J_V75rdwyF-u",
    "outputId": "9d1c0348-702b-4107-f86c-639b7e053dbd"
   },
   "outputs": [
    {
     "data": {
      "text/plain": [
       "array([[ 0, 10, 20],\n",
       "       [ 1, 11, 21],\n",
       "       [ 2, 12, 22],\n",
       "       [ 3, 13, 23],\n",
       "       [ 4, 14, 24],\n",
       "       [ 5, 15, 25],\n",
       "       [ 6, 16, 26],\n",
       "       [ 7, 17, 27],\n",
       "       [ 8, 18, 28],\n",
       "       [ 9, 19, 29]])"
      ]
     },
     "execution_count": 46,
     "metadata": {},
     "output_type": "execute_result"
    }
   ],
   "source": [
    "y"
   ]
  },
  {
   "cell_type": "code",
   "execution_count": 47,
   "metadata": {
    "colab": {
     "base_uri": "https://localhost:8080/",
     "height": 187
    },
    "colab_type": "code",
    "executionInfo": {
     "elapsed": 459,
     "status": "ok",
     "timestamp": 1556284570652,
     "user": {
      "displayName": "Jan Boone",
      "photoUrl": "",
      "userId": "01680203205582182827"
     },
     "user_tz": -120
    },
    "id": "bPxpgAr_yGcR",
    "outputId": "88a9ef5c-984f-4da9-a12d-b8b39a622340"
   },
   "outputs": [
    {
     "data": {
      "text/plain": [
       "array([[0],\n",
       "       [1],\n",
       "       [2],\n",
       "       [3],\n",
       "       [4],\n",
       "       [5],\n",
       "       [6],\n",
       "       [7],\n",
       "       [8],\n",
       "       [9]])"
      ]
     },
     "execution_count": 47,
     "metadata": {},
     "output_type": "execute_result"
    }
   ],
   "source": [
    "I[:,np.newaxis]"
   ]
  },
  {
   "cell_type": "code",
   "execution_count": 48,
   "metadata": {
    "colab": {
     "base_uri": "https://localhost:8080/",
     "height": 34
    },
    "colab_type": "code",
    "executionInfo": {
     "elapsed": 499,
     "status": "ok",
     "timestamp": 1556284579224,
     "user": {
      "displayName": "Jan Boone",
      "photoUrl": "",
      "userId": "01680203205582182827"
     },
     "user_tz": -120
    },
    "id": "bhOoGx2wyfoW",
    "outputId": "3f0b4c56-5baa-478b-d870-e0ca4e3a2efb"
   },
   "outputs": [
    {
     "data": {
      "text/plain": [
       "array([[ 0, 10, 20]])"
      ]
     },
     "execution_count": 48,
     "metadata": {},
     "output_type": "execute_result"
    }
   ],
   "source": [
    "T[np.newaxis,:]"
   ]
  },
  {
   "cell_type": "markdown",
   "metadata": {
    "colab_type": "text",
    "id": "vw4T0tQWyi60"
   },
   "source": [
    "What is going on here?"
   ]
  },
  {
   "cell_type": "code",
   "execution_count": 0,
   "metadata": {
    "colab": {},
    "colab_type": "code",
    "id": "VGrVDEWryhtm"
   },
   "outputs": [],
   "source": []
  },
  {
   "cell_type": "markdown",
   "metadata": {
    "colab_type": "text",
    "id": "Q3lIIQBPSTWZ"
   },
   "source": [
    "## Slicing and reshape"
   ]
  },
  {
   "cell_type": "markdown",
   "metadata": {
    "colab_type": "text",
    "id": "H0rKwqdCShHm"
   },
   "source": [
    "## First neural network"
   ]
  },
  {
   "cell_type": "code",
   "execution_count": 49,
   "metadata": {
    "colab": {},
    "colab_type": "code",
    "id": "7hZyoNwm6Je2"
   },
   "outputs": [],
   "source": [
    "model = keras.Sequential([\n",
    "    keras.layers.Flatten(input_shape=(28, 28)),\n",
    "    keras.layers.Dense(128, activation='relu'),\n",
    "    keras.layers.Dense(10, activation='softmax')\n",
    "])\n",
    "\n",
    "\n",
    "model.compile(optimizer='adam',\n",
    "              loss='sparse_categorical_crossentropy',\n",
    "              metrics=['accuracy'])\n",
    "\n"
   ]
  },
  {
   "cell_type": "code",
   "execution_count": 50,
   "metadata": {
    "colab": {
     "base_uri": "https://localhost:8080/",
     "height": 213
    },
    "colab_type": "code",
    "executionInfo": {
     "elapsed": 23166,
     "status": "ok",
     "timestamp": 1556370965688,
     "user": {
      "displayName": "Jan Boone",
      "photoUrl": "",
      "userId": "01680203205582182827"
     },
     "user_tz": -120
    },
    "id": "lRi2WhVB6J3i",
    "outputId": "94eeb1bc-c1ad-4a6f-d1de-29afca2d5d03"
   },
   "outputs": [
    {
     "name": "stdout",
     "output_type": "stream",
     "text": [
      "Epoch 1/5\n",
      "60000/60000 [==============================] - 4s 65us/sample - loss: 2.4817 - accuracy: 0.8494\n",
      "Epoch 2/5\n",
      "60000/60000 [==============================] - 3s 42us/sample - loss: 0.3888 - accuracy: 0.9093\n",
      "Epoch 3/5\n",
      "60000/60000 [==============================] - 3s 43us/sample - loss: 0.2885 - accuracy: 0.9277\n",
      "Epoch 4/5\n",
      "60000/60000 [==============================] - 3s 42us/sample - loss: 0.2497 - accuracy: 0.9371\n",
      "Epoch 5/5\n",
      "60000/60000 [==============================] - 3s 42us/sample - loss: 0.2331 - accuracy: 0.9410\n"
     ]
    },
    {
     "data": {
      "text/plain": [
       "<tensorflow.python.keras.callbacks.History at 0x1024ada58>"
      ]
     },
     "execution_count": 50,
     "metadata": {},
     "output_type": "execute_result"
    }
   ],
   "source": [
    "model.fit(train_images, train_labels, epochs=5)\n"
   ]
  },
  {
   "cell_type": "code",
   "execution_count": 51,
   "metadata": {
    "colab": {
     "base_uri": "https://localhost:8080/",
     "height": 70
    },
    "colab_type": "code",
    "executionInfo": {
     "elapsed": 894,
     "status": "ok",
     "timestamp": 1556370974512,
     "user": {
      "displayName": "Jan Boone",
      "photoUrl": "",
      "userId": "01680203205582182827"
     },
     "user_tz": -120
    },
    "id": "c-0AF9lZ6J_1",
    "outputId": "6f1e7863-2b9f-4d49-8d77-246e0ae5b1d9"
   },
   "outputs": [
    {
     "name": "stdout",
     "output_type": "stream",
     "text": [
      "10000/10000 [==============================] - 0s 24us/sample - loss: 0.2480 - accuracy: 0.9419\n",
      "\n",
      "Test accuracy: 0.9419\n"
     ]
    }
   ],
   "source": [
    "test_loss, test_acc = model.evaluate(test_images, test_labels)\n",
    "\n",
    "print('\\nTest accuracy:', test_acc)\n"
   ]
  },
  {
   "cell_type": "code",
   "execution_count": 52,
   "metadata": {
    "colab": {
     "base_uri": "https://localhost:8080/",
     "height": 70
    },
    "colab_type": "code",
    "executionInfo": {
     "elapsed": 607,
     "status": "ok",
     "timestamp": 1556371028160,
     "user": {
      "displayName": "Jan Boone",
      "photoUrl": "",
      "userId": "01680203205582182827"
     },
     "user_tz": -120
    },
    "id": "Zt2s64Sv6J8-",
    "outputId": "db36cba3-ed61-4fbe-daac-b019cc464995"
   },
   "outputs": [
    {
     "data": {
      "text/plain": [
       "array([8.2998919e-17, 1.4780405e-14, 1.7457333e-04, 1.4094993e-05,\n",
       "       8.5799106e-23, 2.3756936e-12, 1.8171436e-29, 9.9981135e-01,\n",
       "       1.4554005e-14, 5.4778014e-13], dtype=float32)"
      ]
     },
     "execution_count": 52,
     "metadata": {},
     "output_type": "execute_result"
    }
   ],
   "source": [
    "predictions = model.predict(test_images)\n",
    "predictions[0]"
   ]
  },
  {
   "cell_type": "code",
   "execution_count": 53,
   "metadata": {
    "colab": {
     "base_uri": "https://localhost:8080/",
     "height": 35
    },
    "colab_type": "code",
    "executionInfo": {
     "elapsed": 423,
     "status": "ok",
     "timestamp": 1556371039255,
     "user": {
      "displayName": "Jan Boone",
      "photoUrl": "",
      "userId": "01680203205582182827"
     },
     "user_tz": -120
    },
    "id": "0fvXLL2t6Jzd",
    "outputId": "10f210bc-7eaf-4663-8c1f-422d57499f36"
   },
   "outputs": [
    {
     "data": {
      "text/plain": [
       "7"
      ]
     },
     "execution_count": 53,
     "metadata": {},
     "output_type": "execute_result"
    }
   ],
   "source": [
    "np.argmax(predictions[0])\n"
   ]
  },
  {
   "cell_type": "code",
   "execution_count": 54,
   "metadata": {
    "colab": {
     "base_uri": "https://localhost:8080/",
     "height": 35
    },
    "colab_type": "code",
    "executionInfo": {
     "elapsed": 493,
     "status": "ok",
     "timestamp": 1556371056788,
     "user": {
      "displayName": "Jan Boone",
      "photoUrl": "",
      "userId": "01680203205582182827"
     },
     "user_tz": -120
    },
    "id": "mF4obm4L8Zf8",
    "outputId": "df71cc22-2a3b-460d-d530-7e58f87b2a01"
   },
   "outputs": [
    {
     "data": {
      "text/plain": [
       "7"
      ]
     },
     "execution_count": 54,
     "metadata": {},
     "output_type": "execute_result"
    }
   ],
   "source": [
    "test_labels[0]\n"
   ]
  },
  {
   "cell_type": "code",
   "execution_count": 55,
   "metadata": {
    "colab": {
     "base_uri": "https://localhost:8080/",
     "height": 269
    },
    "colab_type": "code",
    "executionInfo": {
     "elapsed": 453,
     "status": "ok",
     "timestamp": 1556371087956,
     "user": {
      "displayName": "Jan Boone",
      "photoUrl": "",
      "userId": "01680203205582182827"
     },
     "user_tz": -120
    },
    "id": "Jj51sTbh8Ztc",
    "outputId": "e16c1322-1602-4435-fc59-3ac6313170b0"
   },
   "outputs": [
    {
     "data": {
      "image/png": "[encoded data removed]",
      "text/plain": [
       "<Figure size 432x288 with 1 Axes>"
      ]
     },
     "metadata": {
      "needs_background": "light"
     },
     "output_type": "display_data"
    }
   ],
   "source": [
    "plt.imshow(test_images[0],cmap=plt.cm.binary)\n",
    "plt.show()"
   ]
  },
  {
   "cell_type": "markdown",
   "metadata": {
    "colab_type": "text",
    "id": "2zShpGRrSWzU"
   },
   "source": [
    "## Functions\n",
    "\n",
    "What is `relu` and `softmax`? What does `adam` mean?\n"
   ]
  },
  {
   "cell_type": "code",
   "execution_count": 0,
   "metadata": {
    "colab": {},
    "colab_type": "code",
    "id": "4qIrjecpSaki"
   },
   "outputs": [],
   "source": [
    "np.maximum(z,0)"
   ]
  },
  {
   "cell_type": "code",
   "execution_count": 0,
   "metadata": {
    "colab": {
     "base_uri": "https://localhost:8080/",
     "height": 168
    },
    "colab_type": "code",
    "executionInfo": {
     "elapsed": 488,
     "status": "error",
     "timestamp": 1556360126067,
     "user": {
      "displayName": "Jan Boone",
      "photoUrl": "",
      "userId": "01680203205582182827"
     },
     "user_tz": -120
    },
    "id": "OpC626BQSd_6",
    "outputId": "9e4dd666-7e2c-4f75-d38f-17364af5cd34"
   },
   "outputs": [
    {
     "ename": "AttributeError",
     "evalue": "ignored",
     "output_type": "error",
     "traceback": [
      "\u001b[0;31m---------------------------------------------------------------------------\u001b[0m",
      "\u001b[0;31mAttributeError\u001b[0m                            Traceback (most recent call last)",
      "\u001b[0;32m<ipython-input-19-2e0ce9a21865>\u001b[0m in \u001b[0;36m<module>\u001b[0;34m()\u001b[0m\n\u001b[0;32m----> 1\u001b[0;31m \u001b[0mnp\u001b[0m\u001b[0;34m.\u001b[0m\u001b[0mrelu\u001b[0m\u001b[0;34m(\u001b[0m\u001b[0;36m10\u001b[0m\u001b[0;34m,\u001b[0m\u001b[0;36m0\u001b[0m\u001b[0;34m)\u001b[0m\u001b[0;34m\u001b[0m\u001b[0;34m\u001b[0m\u001b[0m\n\u001b[0m",
      "\u001b[0;31mAttributeError\u001b[0m: module 'numpy' has no attribute 'relu'"
     ]
    }
   ],
   "source": [
    "np.relu(10,0)"
   ]
  },
  {
   "cell_type": "code",
   "execution_count": 0,
   "metadata": {
    "colab": {},
    "colab_type": "code",
    "id": "woigU8j1SeM-"
   },
   "outputs": [],
   "source": [
    "np.dot"
   ]
  },
  {
   "cell_type": "code",
   "execution_count": 0,
   "metadata": {
    "colab": {},
    "colab_type": "code",
    "id": "DOLKHDRRSeTg"
   },
   "outputs": [],
   "source": []
  },
  {
   "cell_type": "markdown",
   "metadata": {
    "colab_type": "text",
    "id": "E2JkGgrO3o-i"
   },
   "source": [
    "# Overfitting and underfitting\n",
    "\n",
    "\n",
    "Adding more explanatory variables to a regression cannot make the fit worse. This is easy to see: if it would become worse, you would set the coefficient on the added variables to 0. That would give the same fit as before. In real applications that may not be completely true as there is often randomness in the routines that are being used.\n",
    "\n",
    "underfitting is ...\n",
    "\n",
    "overfitting is ...\n",
    "\n",
    "\n",
    "So how can we choose what the right model is?\n",
    "\n",
    "A simple idea is cross validation. This idea is seen a lot in data science. Here we consider a simple example to illustrate cross validation.\n",
    "\n",
    "\n",
    "\n",
    "\n"
   ]
  },
  {
   "cell_type": "markdown",
   "metadata": {
    "colab_type": "text",
    "id": "IzUwTixOGAtl"
   },
   "source": [
    "## Regression in tensorflow\n",
    "\n",
    "Below we will run regressions for a number of models. To understand what happens, let us first run a simple regression to see what the syntax looks like.\n",
    "\n",
    "There are a number of python packages with which you can do a regression analysis. For example, [statsmodels](https://www.statsmodels.org/stable/index.html) has a nice syntax and by default returns things like t-values etc. If you just need to run a regression or two, than this is a great choice.\n",
    "\n",
    "But if we want to program a series of regressions, tensorflow or [scikit-learn](https://scikit-learn.org/stable/index.html) are more useful as they are easier to program.\n",
    "\n",
    "Here we use tensorflow.\n",
    "\n",
    "First, we generate some simple data and add these to a dataframe.\n",
    "\n",
    "\n",
    "\n",
    "\n"
   ]
  },
  {
   "cell_type": "code",
   "execution_count": 56,
   "metadata": {
    "colab": {},
    "colab_type": "code",
    "id": "Bqz09FygKJkz"
   },
   "outputs": [],
   "source": [
    "N_observations = 50\n",
    "train_size = 25\n",
    "x = tf.random.normal([N_observations])\n",
    "y = 3*x+5*tf.random.normal([N_observations])\n",
    "df = pd.DataFrame({'y':y,'x':x})\n",
    "df['constant'] = 1\n"
   ]
  },
  {
   "cell_type": "code",
   "execution_count": 57,
   "metadata": {
    "colab": {},
    "colab_type": "code",
    "id": "iHiMJS8zKWDn"
   },
   "outputs": [],
   "source": [
    "features = ['constant','x']\n",
    "\n",
    "y_train = df['y'][:train_size]\n",
    "y_test =  df['y'][train_size:]"
   ]
  },
  {
   "cell_type": "code",
   "execution_count": 58,
   "metadata": {
    "colab": {},
    "colab_type": "code",
    "id": "pd7LJXjCKuxF"
   },
   "outputs": [],
   "source": [
    "def make_input_fn(data_df, label_df, num_epochs=10, batch_size=32):\n",
    "  def input_function():\n",
    "    ds = tf.data.Dataset.from_tensor_slices((dict(data_df), label_df))\n",
    "    ds = ds.batch(batch_size).repeat(num_epochs)\n",
    "    return ds\n",
    "  return input_function"
   ]
  },
  {
   "cell_type": "code",
   "execution_count": null,
   "metadata": {
    "colab": {},
    "colab_type": "code",
    "id": "nnVLN7DcLY6L"
   },
   "outputs": [],
   "source": []
  },
  {
   "cell_type": "code",
   "execution_count": 59,
   "metadata": {
    "colab": {
     "base_uri": "https://localhost:8080/",
     "height": 51
    },
    "colab_type": "code",
    "executionInfo": {
     "elapsed": 1499,
     "status": "ok",
     "timestamp": 1556276442448,
     "user": {
      "displayName": "Jan Boone",
      "photoUrl": "",
      "userId": "01680203205582182827"
     },
     "user_tz": -120
    },
    "id": "93U1z1_DKu2b",
    "outputId": "9bc61fe9-1d3e-47aa-d4ff-3b35097f08bb"
   },
   "outputs": [
    {
     "name": "stderr",
     "output_type": "stream",
     "text": [
      "WARNING: Logging before flag parsing goes to stderr.\n",
      "W0614 19:34:17.814179 140735602623360 estimator.py:1799] Using temporary folder as model directory: /var/folders/b6/1x1jg8w113vfq8m_qkqym1sh0000gn/T/tmp2hfdpnay\n",
      "W0614 19:34:17.820864 140735602623360 deprecation.py:323] From /Users/boone/anaconda3/envs/tensorflow/lib/python3.7/site-packages/tensorflow/python/training/training_util.py:238: Variable.initialized_value (from tensorflow.python.ops.variables) is deprecated and will be removed in a future version.\n",
      "Instructions for updating:\n",
      "Use Variable.read_value. Variables in 2.X are initialized automatically both in eager and graph (inside tf.defun) contexts.\n",
      "W0614 19:34:17.855100 140735602623360 deprecation.py:323] From /Users/boone/anaconda3/envs/tensorflow/lib/python3.7/site-packages/tensorflow/python/feature_column/feature_column_v2.py:2758: to_float (from tensorflow.python.ops.math_ops) is deprecated and will be removed in a future version.\n",
      "Instructions for updating:\n",
      "Use `tf.cast` instead.\n",
      "W0614 19:34:18.078471 140735602623360 deprecation.py:506] From /Users/boone/anaconda3/envs/tensorflow/lib/python3.7/site-packages/tensorflow/python/training/slot_creator.py:187: calling Zeros.__init__ (from tensorflow.python.ops.init_ops) with dtype is deprecated and will be removed in a future version.\n",
      "Instructions for updating:\n",
      "Call initializer instance with the dtype argument instead of passing it to the constructor\n"
     ]
    },
    {
     "data": {
      "text/plain": [
       "<tensorflow_estimator.python.estimator.canned.linear.LinearRegressorV2 at 0x1c2b02a358>"
      ]
     },
     "execution_count": 59,
     "metadata": {},
     "output_type": "execute_result"
    }
   ],
   "source": [
    "df_train = df[features][:train_size]\n",
    "df_test = df[features][train_size:]\n",
    "NUMERIC_COLUMNS = features\n",
    "feature_columns = []\n",
    "for feature_name in NUMERIC_COLUMNS:\n",
    "    feature_columns.append(tf.feature_column.numeric_column(feature_name, dtype=tf.float32))\n",
    "\n",
    "train_input_fn = make_input_fn(df_train, y_train)\n",
    "eval_input_fn = make_input_fn(df_test, y_test)\n",
    "  \n",
    "linear_est = tf.estimator.LinearRegressor(feature_columns=feature_columns)\n",
    "linear_est.train(train_input_fn)"
   ]
  },
  {
   "cell_type": "code",
   "execution_count": 60,
   "metadata": {
    "colab": {
     "base_uri": "https://localhost:8080/",
     "height": 102
    },
    "colab_type": "code",
    "executionInfo": {
     "elapsed": 1041,
     "status": "ok",
     "timestamp": 1556276483846,
     "user": {
      "displayName": "Jan Boone",
      "photoUrl": "",
      "userId": "01680203205582182827"
     },
     "user_tz": -120
    },
    "id": "73RgC7ZiKu6B",
    "outputId": "46c70cd1-9e72-48f0-eb34-ea839b9e3d40"
   },
   "outputs": [
    {
     "name": "stderr",
     "output_type": "stream",
     "text": [
      "W0614 19:34:26.690412 140735602623360 deprecation.py:323] From /Users/boone/anaconda3/envs/tensorflow/lib/python3.7/site-packages/tensorflow/python/training/saver.py:1276: checkpoint_exists (from tensorflow.python.training.checkpoint_management) is deprecated and will be removed in a future version.\n",
      "Instructions for updating:\n",
      "Use standard file APIs to check for files with this prefix.\n"
     ]
    },
    {
     "data": {
      "text/plain": [
       "{'average_loss': 27.827478,\n",
       " 'label/mean': 1.6509315,\n",
       " 'loss': 27.82748,\n",
       " 'prediction/mean': 1.3681078,\n",
       " 'global_step': 10}"
      ]
     },
     "execution_count": 60,
     "metadata": {},
     "output_type": "execute_result"
    }
   ],
   "source": [
    "linear_est.evaluate(train_input_fn)\n"
   ]
  },
  {
   "cell_type": "markdown",
   "metadata": {
    "colab_type": "text",
    "id": "tKu0b_AjdHYo"
   },
   "source": [
    "## Series of regressions\n",
    "\n",
    "\n",
    "To illustrate overfitting, we construct a dataset, generating $y$ values from some $x$ vector"
   ]
  },
  {
   "cell_type": "code",
   "execution_count": 61,
   "metadata": {
    "colab": {},
    "colab_type": "code",
    "id": "DjffTAiHWP0I"
   },
   "outputs": [],
   "source": [
    "N_observations = 50\n",
    "train_size = 25\n",
    "x = tf.random.normal([N_observations])\n",
    "y = 100*x+np.cos(x)-4*np.exp(x)+x**2+x**5-x**3+55*tf.random.normal([N_observations])\n",
    "df = pd.DataFrame({'y':y,'x':x})\n",
    "df['constant'] = 1\n",
    "df['x2'] = df.x**2\n",
    "df['x3'] = df.x**3\n",
    "df['x4'] = df.x**4\n",
    "df['x5'] = df.x**5\n",
    "df['x6'] = df.x**6\n",
    "df['x7'] = df.x**7\n",
    "df['x8'] = df.x**8\n",
    "df['x9'] = df.x**9\n",
    "df['x10'] = df.x**10\n"
   ]
  },
  {
   "cell_type": "code",
   "execution_count": 62,
   "metadata": {
    "colab": {},
    "colab_type": "code",
    "id": "jDRvPbj0_kYL"
   },
   "outputs": [],
   "source": [
    "features = ['constant','x','x2','x3','x4','x5','x6','x7','x8','x9','x10']\n",
    "\n",
    "y_train = df['y'][:train_size]\n",
    "y_test =  df['y'][train_size:]"
   ]
  },
  {
   "cell_type": "code",
   "execution_count": null,
   "metadata": {
    "colab": {},
    "colab_type": "code",
    "id": "ylwHFWyfKu93"
   },
   "outputs": [],
   "source": []
  },
  {
   "cell_type": "code",
   "execution_count": null,
   "metadata": {
    "colab": {},
    "colab_type": "code",
    "id": "XOaROcECKvAv"
   },
   "outputs": [],
   "source": []
  },
  {
   "cell_type": "code",
   "execution_count": 63,
   "metadata": {
    "colab": {},
    "colab_type": "code",
    "id": "cFySuZV9EXit"
   },
   "outputs": [],
   "source": [
    "def make_input_fn(data_df, label_df, num_epochs=10, shuffle=False, batch_size=32):\n",
    "  def input_function():\n",
    "    ds = tf.data.Dataset.from_tensor_slices((dict(data_df), label_df))\n",
    "    if shuffle:\n",
    "      ds = ds.shuffle(1000)\n",
    "    ds = ds.batch(batch_size).repeat(num_epochs)\n",
    "    return ds\n",
    "  return input_function\n"
   ]
  },
  {
   "cell_type": "code",
   "execution_count": 64,
   "metadata": {
    "colab": {
     "base_uri": "https://localhost:8080/",
     "height": 373
    },
    "colab_type": "code",
    "id": "1BxJyEXFQUbi",
    "outputId": "be7000fa-ba2c-4310-dcd2-7d211ac43bb3"
   },
   "outputs": [
    {
     "name": "stderr",
     "output_type": "stream",
     "text": [
      "W0614 19:34:35.843143 140735602623360 estimator.py:1799] Using temporary folder as model directory: /var/folders/b6/1x1jg8w113vfq8m_qkqym1sh0000gn/T/tmpbb7kltch\n"
     ]
    },
    {
     "name": "stdout",
     "output_type": "stream",
     "text": [
      "2\n"
     ]
    },
    {
     "name": "stderr",
     "output_type": "stream",
     "text": [
      "W0614 19:34:37.865765 140735602623360 estimator.py:1799] Using temporary folder as model directory: /var/folders/b6/1x1jg8w113vfq8m_qkqym1sh0000gn/T/tmpo94y4_wl\n"
     ]
    },
    {
     "name": "stdout",
     "output_type": "stream",
     "text": [
      "3\n"
     ]
    },
    {
     "name": "stderr",
     "output_type": "stream",
     "text": [
      "W0614 19:34:40.035088 140735602623360 estimator.py:1799] Using temporary folder as model directory: /var/folders/b6/1x1jg8w113vfq8m_qkqym1sh0000gn/T/tmp3pn6uzqd\n"
     ]
    },
    {
     "name": "stdout",
     "output_type": "stream",
     "text": [
      "4\n"
     ]
    },
    {
     "name": "stderr",
     "output_type": "stream",
     "text": [
      "W0614 19:34:42.542291 140735602623360 estimator.py:1799] Using temporary folder as model directory: /var/folders/b6/1x1jg8w113vfq8m_qkqym1sh0000gn/T/tmpr00f8yt9\n"
     ]
    },
    {
     "name": "stdout",
     "output_type": "stream",
     "text": [
      "5\n"
     ]
    },
    {
     "name": "stderr",
     "output_type": "stream",
     "text": [
      "W0614 19:34:45.353739 140735602623360 estimator.py:1799] Using temporary folder as model directory: /var/folders/b6/1x1jg8w113vfq8m_qkqym1sh0000gn/T/tmpsm_q3zjq\n"
     ]
    },
    {
     "name": "stdout",
     "output_type": "stream",
     "text": [
      "6\n"
     ]
    },
    {
     "name": "stderr",
     "output_type": "stream",
     "text": [
      "W0614 19:34:48.498611 140735602623360 estimator.py:1799] Using temporary folder as model directory: /var/folders/b6/1x1jg8w113vfq8m_qkqym1sh0000gn/T/tmp4ajdvzq1\n"
     ]
    },
    {
     "name": "stdout",
     "output_type": "stream",
     "text": [
      "7\n"
     ]
    },
    {
     "name": "stderr",
     "output_type": "stream",
     "text": [
      "W0614 19:34:51.884017 140735602623360 estimator.py:1799] Using temporary folder as model directory: /var/folders/b6/1x1jg8w113vfq8m_qkqym1sh0000gn/T/tmpvfl1_kyn\n"
     ]
    },
    {
     "name": "stdout",
     "output_type": "stream",
     "text": [
      "8\n"
     ]
    },
    {
     "name": "stderr",
     "output_type": "stream",
     "text": [
      "W0614 19:34:55.495949 140735602623360 estimator.py:1799] Using temporary folder as model directory: /var/folders/b6/1x1jg8w113vfq8m_qkqym1sh0000gn/T/tmp7r5i8ndl\n"
     ]
    },
    {
     "name": "stdout",
     "output_type": "stream",
     "text": [
      "9\n"
     ]
    },
    {
     "name": "stderr",
     "output_type": "stream",
     "text": [
      "W0614 19:34:59.405158 140735602623360 estimator.py:1799] Using temporary folder as model directory: /var/folders/b6/1x1jg8w113vfq8m_qkqym1sh0000gn/T/tmp52hf0yom\n"
     ]
    },
    {
     "name": "stdout",
     "output_type": "stream",
     "text": [
      "10\n"
     ]
    },
    {
     "name": "stderr",
     "output_type": "stream",
     "text": [
      "W0614 19:35:03.549828 140735602623360 estimator.py:1799] Using temporary folder as model directory: /var/folders/b6/1x1jg8w113vfq8m_qkqym1sh0000gn/T/tmpzdjypfin\n"
     ]
    },
    {
     "name": "stdout",
     "output_type": "stream",
     "text": [
      "11\n"
     ]
    }
   ],
   "source": [
    "def make_input_fn(data_df, label_df, num_epochs=10, batch_size=32):\n",
    "  def input_function():\n",
    "    ds = tf.data.Dataset.from_tensor_slices((dict(data_df), label_df))\n",
    "    ds = ds.batch(batch_size).repeat(num_epochs)\n",
    "    return ds\n",
    "  return input_function\n",
    "\n",
    "train_score = []\n",
    "test_score = []\n",
    "number_features = []\n",
    "\n",
    "for i in range(2,len(features)+1):\n",
    "  df_train = df[features[:i]][:train_size]\n",
    "  df_test = df[features[:i]][train_size:]\n",
    "  NUMERIC_COLUMNS = features[:i]\n",
    "  feature_columns = []\n",
    "  for feature_name in NUMERIC_COLUMNS:\n",
    "      feature_columns.append(tf.feature_column.numeric_column(feature_name, dtype=tf.float32))\n",
    "      \n",
    "  train_input_fn = make_input_fn(df_train, y_train)\n",
    "  eval_input_fn = make_input_fn(df_test, y_test)\n",
    "  \n",
    "  linear_est = tf.estimator.LinearRegressor(feature_columns=feature_columns)\n",
    "  linear_est.train(train_input_fn)\n",
    "  \n",
    "  print(i)\n",
    "  number_features.append(i)\n",
    "  train_score.append(linear_est.evaluate(train_input_fn)['average_loss'])\n",
    "  test_score.append(linear_est.evaluate(eval_input_fn)['average_loss'])\n",
    "  \n",
    "   \n"
   ]
  },
  {
   "cell_type": "code",
   "execution_count": 65,
   "metadata": {
    "colab": {
     "base_uri": "https://localhost:8080/",
     "height": 363
    },
    "colab_type": "code",
    "id": "nkk_YtpiQUS8",
    "outputId": "381d34f0-82dd-45ff-8557-de1102ac6ce5"
   },
   "outputs": [
    {
     "data": {
      "text/html": [
       "<div>\n",
       "<style scoped>\n",
       "    .dataframe tbody tr th:only-of-type {\n",
       "        vertical-align: middle;\n",
       "    }\n",
       "\n",
       "    .dataframe tbody tr th {\n",
       "        vertical-align: top;\n",
       "    }\n",
       "\n",
       "    .dataframe thead th {\n",
       "        text-align: right;\n",
       "    }\n",
       "</style>\n",
       "<table border=\"1\" class=\"dataframe\">\n",
       "  <thead>\n",
       "    <tr style=\"text-align: right;\">\n",
       "      <th></th>\n",
       "      <th>x_i</th>\n",
       "      <th>train_score</th>\n",
       "      <th>test_score</th>\n",
       "    </tr>\n",
       "  </thead>\n",
       "  <tbody>\n",
       "    <tr>\n",
       "      <th>0</th>\n",
       "      <td>2</td>\n",
       "      <td>12518.250977</td>\n",
       "      <td>7285.670410</td>\n",
       "    </tr>\n",
       "    <tr>\n",
       "      <th>1</th>\n",
       "      <td>3</td>\n",
       "      <td>12408.869141</td>\n",
       "      <td>7390.244629</td>\n",
       "    </tr>\n",
       "    <tr>\n",
       "      <th>2</th>\n",
       "      <td>4</td>\n",
       "      <td>11899.289062</td>\n",
       "      <td>7176.062012</td>\n",
       "    </tr>\n",
       "    <tr>\n",
       "      <th>3</th>\n",
       "      <td>5</td>\n",
       "      <td>11483.595703</td>\n",
       "      <td>7467.850098</td>\n",
       "    </tr>\n",
       "    <tr>\n",
       "      <th>4</th>\n",
       "      <td>6</td>\n",
       "      <td>10112.750977</td>\n",
       "      <td>6900.551270</td>\n",
       "    </tr>\n",
       "    <tr>\n",
       "      <th>5</th>\n",
       "      <td>7</td>\n",
       "      <td>9743.199219</td>\n",
       "      <td>7501.470703</td>\n",
       "    </tr>\n",
       "    <tr>\n",
       "      <th>6</th>\n",
       "      <td>8</td>\n",
       "      <td>8984.423828</td>\n",
       "      <td>6107.690430</td>\n",
       "    </tr>\n",
       "    <tr>\n",
       "      <th>7</th>\n",
       "      <td>9</td>\n",
       "      <td>8974.168945</td>\n",
       "      <td>6033.361328</td>\n",
       "    </tr>\n",
       "    <tr>\n",
       "      <th>8</th>\n",
       "      <td>10</td>\n",
       "      <td>9282.704102</td>\n",
       "      <td>5964.391602</td>\n",
       "    </tr>\n",
       "    <tr>\n",
       "      <th>9</th>\n",
       "      <td>11</td>\n",
       "      <td>9844.468750</td>\n",
       "      <td>6660.434570</td>\n",
       "    </tr>\n",
       "  </tbody>\n",
       "</table>\n",
       "</div>"
      ],
      "text/plain": [
       "   x_i   train_score   test_score\n",
       "0    2  12518.250977  7285.670410\n",
       "1    3  12408.869141  7390.244629\n",
       "2    4  11899.289062  7176.062012\n",
       "3    5  11483.595703  7467.850098\n",
       "4    6  10112.750977  6900.551270\n",
       "5    7   9743.199219  7501.470703\n",
       "6    8   8984.423828  6107.690430\n",
       "7    9   8974.168945  6033.361328\n",
       "8   10   9282.704102  5964.391602\n",
       "9   11   9844.468750  6660.434570"
      ]
     },
     "execution_count": 65,
     "metadata": {},
     "output_type": "execute_result"
    }
   ],
   "source": [
    "outcome = pd.DataFrame({'x_i':number_features, 'train_score': train_score, 'test_score': test_score})  \n",
    "outcome"
   ]
  },
  {
   "cell_type": "markdown",
   "metadata": {
    "colab_type": "text",
    "id": "NKuRHwBjMJCS"
   },
   "source": [
    "The following graph shows that adding more terms $x^a$ always helps to get a better fit on the training data. The loss measure falls as we add more terms."
   ]
  },
  {
   "cell_type": "code",
   "execution_count": 66,
   "metadata": {
    "colab": {
     "base_uri": "https://localhost:8080/",
     "height": 287
    },
    "colab_type": "code",
    "id": "16ASFb3Y2vom",
    "outputId": "992ae3b3-30c1-451f-f053-df658a65cd63"
   },
   "outputs": [
    {
     "data": {
      "text/plain": [
       "[<matplotlib.lines.Line2D at 0x1c292cc470>]"
      ]
     },
     "execution_count": 66,
     "metadata": {},
     "output_type": "execute_result"
    },
    {
     "data": {
      "image/png": "[encoded data removed]",
      "text/plain": [
       "<Figure size 432x288 with 1 Axes>"
      ]
     },
     "metadata": {
      "needs_background": "light"
     },
     "output_type": "display_data"
    }
   ],
   "source": [
    "plt.plot(range(2,12),outcome.train_score)\n"
   ]
  },
  {
   "cell_type": "markdown",
   "metadata": {
    "colab_type": "text",
    "id": "T50VYSfoMS14"
   },
   "source": [
    "But this is not the case with the test data. We fitted the model on the training data. Now we consider how well the model predicts \"out-of-sample\" on the test data. Adding 6 terms helps to predict on the test data. However, with more terms added to the model, the model starts to pick up features that are specific to our sample in the training data. These features are nor general to the underlying process. Hence, our loss increases on the test data.\n",
    "\n",
    "By adding more than 6 terms, we start to overfit in this example."
   ]
  },
  {
   "cell_type": "code",
   "execution_count": 67,
   "metadata": {
    "colab": {
     "base_uri": "https://localhost:8080/",
     "height": 287
    },
    "colab_type": "code",
    "id": "O6oBuSHO0-vG",
    "outputId": "5625a9bd-436a-45bc-da91-7202ec73a144"
   },
   "outputs": [
    {
     "data": {
      "text/plain": [
       "[<matplotlib.lines.Line2D at 0x1c30426860>]"
      ]
     },
     "execution_count": 67,
     "metadata": {},
     "output_type": "execute_result"
    },
    {
     "data": {
      "image/png": "[encoded data removed]",
      "text/plain": [
       "<Figure size 432x288 with 1 Axes>"
      ]
     },
     "metadata": {
      "needs_background": "light"
     },
     "output_type": "display_data"
    }
   ],
   "source": [
    "plt.plot(range(2,12),np.log(outcome.test_score))\n"
   ]
  },
  {
   "cell_type": "code",
   "execution_count": 0,
   "metadata": {
    "colab": {},
    "colab_type": "code",
    "id": "Lbmsd3sZiROP"
   },
   "outputs": [],
   "source": []
  },
  {
   "cell_type": "markdown",
   "metadata": {
    "colab_type": "text",
    "id": "6w3x-iFUM-XW"
   },
   "source": [
    "# OLS using Tensorflow\n",
    "\n",
    "Using more functionality from Tensorflow to program our OLS.\n",
    "\n",
    "This allows us to see some building blocks that we will need below to program our neural network."
   ]
  },
  {
   "cell_type": "markdown",
   "metadata": {
    "colab_type": "text",
    "id": "BQQG7J0dM-l8"
   },
   "source": [
    "# Program your own Lasso\n",
    "\n",
    "With OLS, adding variables is always \"good\" in terms of in-sample fit. But it can lead to overfitting. \n",
    "\n",
    "One way to avoid overfitting is to introduce a penalty for using more variables. This is the idea of Lasso.\n",
    "\n",
    "Here you are going to program your own Lasso.\n",
    "\n",
    "\n"
   ]
  },
  {
   "cell_type": "markdown",
   "metadata": {
    "colab_type": "text",
    "id": "f88ttpvzN6zB"
   },
   "source": [
    "# Cross validation\n",
    "\n",
    "\n",
    "k-fold cross-validation"
   ]
  },
  {
   "cell_type": "markdown",
   "metadata": {
    "colab_type": "text",
    "id": "G_wrL0zKOM9y"
   },
   "source": [
    "# Neural network\n",
    "\n",
    "To get a first sense of how a neural network works, we look at two simple python programs that implement these algorithms. For this, we use the website from the book [machine learning: an algorithmic perspective](http://homepages.ecs.vuw.ac.nz/~marslast/MLbook.html).\n",
    "\n",
    "Below you find the code for the files [pcn_logic_eg.py](http://homepages.ecs.vuw.ac.nz/~marslast/Code/Ch3/pcn_logic_eg.py) and [mlp.py](http://homepages.ecs.vuw.ac.nz/~marslast/Code/Ch4/mlp.py); which we adapted for python 3 by adjusting the print statements (should be `print()` in python 3).\n",
    "\n",
    "By looking at the underlying code we get an idea how neural networks work. Then we create a neural network using tensorflow 2.0. This part is based on a [tensorflow 2.0 tutorial](https://github.com/tensorflow/docs/blob/master/site/en/r2/tutorials/estimators/premade_estimators.ipynb).\n",
    "\n",
    "The tensorflow syntax is very similar to [Keras](https://keras.io/). There is a [datacamp course](https://www.datacamp.com/courses/deep-learning-in-python) on deep learning with Keras."
   ]
  },
  {
   "cell_type": "markdown",
   "metadata": {
    "colab_type": "text",
    "id": "1Z6Wtb_jisbA"
   },
   "source": [
    "##### Copyright 2019 The TensorFlow Authors."
   ]
  },
  {
   "cell_type": "code",
   "execution_count": 0,
   "metadata": {
    "cellView": "both",
    "colab": {},
    "colab_type": "code",
    "id": "QUyRGn9riopB"
   },
   "outputs": [],
   "source": [
    "#@title Licensed under the Apache License, Version 2.0 (the \"License\");\n",
    "# you may not use this file except in compliance with the License.\n",
    "# You may obtain a copy of the License at\n",
    "#\n",
    "# https://www.apache.org/licenses/LICENSE-2.0\n",
    "#\n",
    "# Unless required by applicable law or agreed to in writing, software\n",
    "# distributed under the License is distributed on an \"AS IS\" BASIS,\n",
    "# WITHOUT WARRANTIES OR CONDITIONS OF ANY KIND, either express or implied.\n",
    "# See the License for the specific language governing permissions and\n",
    "# limitations under the License."
   ]
  },
  {
   "cell_type": "markdown",
   "metadata": {
    "colab_type": "text",
    "id": "dnRNqPCr5Ujq"
   },
   "source": [
    "First we install/import the libraries that we need."
   ]
  },
  {
   "cell_type": "code",
   "execution_count": 3,
   "metadata": {
    "colab": {
     "base_uri": "https://localhost:8080/",
     "height": 586
    },
    "colab_type": "code",
    "executionInfo": {
     "elapsed": 42840,
     "status": "ok",
     "timestamp": 1559229836258,
     "user": {
      "displayName": "Jan Boone",
      "photoUrl": "",
      "userId": "01680203205582182827"
     },
     "user_tz": -120
    },
    "id": "jPo5bQwndr9P",
    "outputId": "9091d80d-6082-4ff3-f2dc-5a85cddd6aa3"
   },
   "outputs": [],
   "source": [
    "from __future__ import absolute_import, division, print_function, unicode_literals\n",
    "\n",
    "import tensorflow as tf\n",
    "\n",
    "import pandas as pd\n",
    "import numpy as np"
   ]
  },
  {
   "cell_type": "code",
   "execution_count": 4,
   "metadata": {
    "colab": {},
    "colab_type": "code",
    "id": "EMybA1huZ3n9"
   },
   "outputs": [],
   "source": [
    "from scipy import optimize\n",
    "import matplotlib.pyplot as plt\n",
    "import altair as alt"
   ]
  },
  {
   "cell_type": "markdown",
   "metadata": {
    "colab_type": "text",
    "id": "4I1uBJPHV5rJ"
   },
   "source": [
    "## Perceptron\n",
    "\n",
    "Next we copy from Chapter 3 of Machine Learning: An Algorithmic Perspective, the \"perceptron\". The code is in the next cell. Try to understand the python.\n",
    "\n",
    "\n",
    "\n",
    "\n",
    "The main part of the algorithm is in the function (method, actually, but do not worry about this) `pcntrain`; the line\n",
    "\n",
    "`self.weights -= eta*np.dot(np.transpose(inputs),self.activations-targets)`\n",
    "\n",
    "determines how the weights in the network are updated. This optimization step is discussed in [this chapter of the datacamp course.](https://campus.datacamp.com/courses/deep-learning-in-python/optimizing-a-neural-network-with-backward-propagation?ex=1)\n",
    "\n"
   ]
  },
  {
   "cell_type": "code",
   "execution_count": 5,
   "metadata": {
    "colab": {},
    "colab_type": "code",
    "id": "KaWTqADydTqn"
   },
   "outputs": [],
   "source": [
    "# Code from Chapter 3 of Machine Learning: An Algorithmic Perspective (2nd Edition)\n",
    "# by Stephen Marsland (http://stephenmonika.net)\n",
    "\n",
    "# You are free to use, change, or redistribute the code in any way you wish for\n",
    "# non-commercial purposes, but please maintain the name of the original author.\n",
    "# This code comes with no warranty of any kind.\n",
    "\n",
    "# Stephen Marsland, 2008, 2014\n",
    "\n",
    "\n",
    "\n",
    "class pcn:\n",
    "\t\"\"\" A basic Perceptron (the same pcn.py except with the weights printed\n",
    "\tand it does not reorder the inputs)\"\"\"\n",
    "\t\n",
    "\tdef __init__(self,inputs,targets):\n",
    "\t\t\"\"\" Constructor \"\"\"\n",
    "\t\t# Set up network size\n",
    "\t\tif np.ndim(inputs)>1:\n",
    "\t\t\tself.nIn = np.shape(inputs)[1]\n",
    "\t\telse: \n",
    "\t\t\tself.nIn = 1\n",
    "\t\n",
    "\t\tif np.ndim(targets)>1:\n",
    "\t\t\tself.nOut = np.shape(targets)[1]\n",
    "\t\telse:\n",
    "\t\t\tself.nOut = 1\n",
    "\n",
    "\t\tself.nData = np.shape(inputs)[0]\n",
    "\t\n",
    "\t\t# Initialise network\n",
    "\t\tself.weights = np.random.rand(self.nIn+1,self.nOut)*0.1-0.05\n",
    "\n",
    "\tdef pcntrain(self,inputs,targets,eta,nIterations):\n",
    "\t\t\"\"\" Train the thing \"\"\"\t\n",
    "\t\t# Add the inputs that match the bias node\n",
    "\t\tinputs = np.concatenate((inputs,-np.ones((self.nData,1))),axis=1)\n",
    "\t\n",
    "\t\t# Training\n",
    "\t\tchange = range(self.nData)\n",
    "\n",
    "\t\tfor n in range(nIterations):\n",
    "\t\t\t\n",
    "\t\t\tself.activations = self.pcnfwd(inputs);\n",
    "\t\t\tself.weights -= eta*np.dot(np.transpose(inputs),self.activations-targets)\n",
    "\t\t\tprint(\"Iteration: \", n)\n",
    "\t\t\tprint(self.weights)\n",
    "\t\t\t\n",
    "\t\t\tactivations = self.pcnfwd(inputs)\n",
    "\t\t\tprint(\"Final outputs are:\")\n",
    "\t\t\tprint(activations)\n",
    "\t\t#return self.weights\n",
    "\n",
    "\tdef pcnfwd(self,inputs):\n",
    "\t\t\"\"\" Run the network forward \"\"\"\n",
    "\n",
    "\t\t# Compute activations\n",
    "\t\tactivations =  np.dot(inputs,self.weights)\n",
    "\n",
    "\t\t# Threshold the activations\n",
    "\t\treturn np.where(activations>0,1,0)\n",
    "\n",
    "\tdef confmat(self,inputs,targets):\n",
    "\t\t\"\"\"Confusion matrix\"\"\"\n",
    "\n",
    "\t\t# Add the inputs that match the bias node\n",
    "\t\tinputs = np.concatenate((inputs,-np.ones((self.nData,1))),axis=1)\n",
    "\t\toutputs = np.dot(inputs,self.weights)\n",
    "\t\n",
    "\t\tnClasses = np.shape(targets)[1]\n",
    "\n",
    "\t\tif nClasses==1:\n",
    "\t\t\tnClasses = 2\n",
    "\t\t\toutputs = np.where(outputs>0,1,0)\n",
    "\t\telse:\n",
    "\t\t\t# 1-of-N encoding\n",
    "\t\t\toutputs = np.argmax(outputs,1)\n",
    "\t\t\ttargets = np.argmax(targets,1)\n",
    "\n",
    "\t\tcm = np.zeros((nClasses,nClasses))\n",
    "\t\tfor i in range(nClasses):\n",
    "\t\t\tfor j in range(nClasses):\n",
    "\t\t\t\tcm[i,j] = np.sum(np.where(outputs==i,1,0)*np.where(targets==j,1,0))\n",
    "\n",
    "\t\tprint(cm)\n",
    "\t\tprint(np.trace(cm)/np.sum(cm))\n",
    "\n",
    "\n"
   ]
  },
  {
   "cell_type": "markdown",
   "metadata": {
    "colab_type": "text",
    "id": "bhBrxMb3fvpZ"
   },
   "source": [
    "Below you see 4 data points with a target value (0 or 1) for each data point. We need to predict the target value. We plot this with a red color for target 0 and blue for target 1.\n",
    "\n",
    "Predicting the target here means finding a straight line such that all red points are on one side of the line and the blue points on the other side of the line. Since this example is very simple, you can draw the line yourself (I hope...). This simplicity helps us to understand what the algorithm does.\n",
    "\n",
    "We define a tensor with 4 `inputs` and 4 `targets`. The first element of `inputs` (which has two coordinates) corresponds to the first element in `targets`.\n",
    "\n",
    "To refer to the points in the figure, we use \"standard\" terminology $x$ and $y$.\n"
   ]
  },
  {
   "cell_type": "code",
   "execution_count": 6,
   "metadata": {
    "colab": {
     "base_uri": "https://localhost:8080/",
     "height": 283
    },
    "colab_type": "code",
    "executionInfo": {
     "elapsed": 1138,
     "status": "ok",
     "timestamp": 1559233378416,
     "user": {
      "displayName": "Jan Boone",
      "photoUrl": "",
      "userId": "01680203205582182827"
     },
     "user_tz": -120
    },
    "id": "ZvRsrHvKfNtj",
    "outputId": "57c888ac-dc01-4bcf-d24f-fc812ecf7be4"
   },
   "outputs": [
    {
     "data": {
      "image/png": "[encoded data removed]",
      "text/plain": [
       "<Figure size 432x288 with 1 Axes>"
      ]
     },
     "metadata": {
      "needs_background": "light"
     },
     "output_type": "display_data"
    }
   ],
   "source": [
    "inputs = np.array([[0,0],[0,1],[1,0],[1,1]])\n",
    "targets = np.array([[0],[1],[1],[1]])\n",
    "colors = []\n",
    "for i in range(len(targets)):\n",
    "    colors.append(['red','blue'][targets[i][0]])\n",
    "plt.scatter(inputs[:,0],inputs[:,1],color=colors)\n",
    "plt.xlabel('$x$')\n",
    "plt.ylabel('$y$')\n",
    "plt.show()"
   ]
  },
  {
   "cell_type": "markdown",
   "metadata": {
    "colab_type": "text",
    "id": "A7p2jAEXcMHT"
   },
   "source": [
    "Now we use the `pcn` class and instantiate it with the `inputs` and `targets` above. We call `p` and instance of the class `pcn`. In this course we will not dwell on the object oriented aspects of python, so do not worry if you do not fully understand this. However, as you will see below, when we use tensorflow, we have a similar structure: we create an instance of a tensorflow class.\n",
    "\n",
    "The function definition is `pcntrain(self,inputs,targets,eta,nIterations)`. Do not worry about the `self` part. We call the function as `pcntrain(inputs,targets,0.25,6)`. Hence, the first two arguments of the function are our `inputs` and `targets` tensors. \n",
    "\n",
    "**Continue**\n",
    "\n",
    "The result is that `p` is now associated with our tensors `inputs` and `targets`. Now we can use the function (\"method\") `pcntrain` to train the network. After each iteration, the algorithm prints some information. Looking at `pcntrain` above, we can see that the information that is printed is:\n",
    "\n",
    "```\n",
    "print(\"Iteration: \", n)\n",
    "print(self.weights)\n",
    "print(\"Final outputs are:\")\n",
    "print(activations)\n",
    "```\n",
    "\n",
    "So first we see the number of the iteration (and python starts counting at 0). Then we see three numbers that correspond to the weights. The weights determine the line in the figure above. In particular, if we write the weights tensor as $w = (w_0,w_1,w_2)$, then a line in the figure is given by $w_0 x + w_1 y =w_2$. Equivalently, we can write this as:\n",
    "\n",
    "\\begin{equation}\n",
    "y = (w_2-w_0 x)/w_1\n",
    "\\end{equation}\n",
    "\n",
    "Next, we see the final outputs (targets): this is the \"prediction\" of the algorithm for the vector `targets`. Recall that `targets` is of the form [0,1,1,1]. Hence, after the first iteration, we incorrectly label the first point as 1 while it should be 0. Hence, the algorithm continues and generates different (and ultimately better) predictions.\n"
   ]
  },
  {
   "cell_type": "code",
   "execution_count": 7,
   "metadata": {
    "colab": {
     "base_uri": "https://localhost:8080/",
     "height": 977
    },
    "colab_type": "code",
    "executionInfo": {
     "elapsed": 391,
     "status": "ok",
     "timestamp": 1559237984092,
     "user": {
      "displayName": "Jan Boone",
      "photoUrl": "",
      "userId": "01680203205582182827"
     },
     "user_tz": -120
    },
    "id": "63uEOtIWfN6V",
    "outputId": "45a109d8-acc7-4eb6-8cae-e35c6af42ee0"
   },
   "outputs": [
    {
     "name": "stdout",
     "output_type": "stream",
     "text": [
      "Iteration:  0\n",
      "[[ 0.2943738 ]\n",
      " [ 0.45185078]\n",
      " [-0.47965965]]\n",
      "Final outputs are:\n",
      "[[1]\n",
      " [1]\n",
      " [1]\n",
      " [1]]\n",
      "Iteration:  1\n",
      "[[ 0.2943738 ]\n",
      " [ 0.45185078]\n",
      " [-0.22965965]]\n",
      "Final outputs are:\n",
      "[[1]\n",
      " [1]\n",
      " [1]\n",
      " [1]]\n",
      "Iteration:  2\n",
      "[[0.2943738 ]\n",
      " [0.45185078]\n",
      " [0.02034035]]\n",
      "Final outputs are:\n",
      "[[0]\n",
      " [1]\n",
      " [1]\n",
      " [1]]\n",
      "Iteration:  3\n",
      "[[0.2943738 ]\n",
      " [0.45185078]\n",
      " [0.02034035]]\n",
      "Final outputs are:\n",
      "[[0]\n",
      " [1]\n",
      " [1]\n",
      " [1]]\n",
      "Iteration:  4\n",
      "[[0.2943738 ]\n",
      " [0.45185078]\n",
      " [0.02034035]]\n",
      "Final outputs are:\n",
      "[[0]\n",
      " [1]\n",
      " [1]\n",
      " [1]]\n",
      "Iteration:  5\n",
      "[[0.2943738 ]\n",
      " [0.45185078]\n",
      " [0.02034035]]\n",
      "Final outputs are:\n",
      "[[0]\n",
      " [1]\n",
      " [1]\n",
      " [1]]\n"
     ]
    }
   ],
   "source": [
    "p = pcn(inputs,targets)\n",
    "p.pcntrain(inputs,targets,0.25,6)"
   ]
  },
  {
   "cell_type": "markdown",
   "metadata": {
    "colab_type": "text",
    "id": "bKOWDBWi0-CU"
   },
   "source": [
    "The final weights $w$ are now equal to:"
   ]
  },
  {
   "cell_type": "code",
   "execution_count": 8,
   "metadata": {
    "colab": {
     "base_uri": "https://localhost:8080/",
     "height": 70
    },
    "colab_type": "code",
    "executionInfo": {
     "elapsed": 456,
     "status": "ok",
     "timestamp": 1559238001077,
     "user": {
      "displayName": "Jan Boone",
      "photoUrl": "",
      "userId": "01680203205582182827"
     },
     "user_tz": -120
    },
    "id": "fYYxwxkFfOEU",
    "outputId": "7c823942-0cdc-4008-884b-27362a258f7d"
   },
   "outputs": [
    {
     "data": {
      "text/plain": [
       "array([[0.2943738 ],\n",
       "       [0.45185078],\n",
       "       [0.02034035]])"
      ]
     },
     "execution_count": 8,
     "metadata": {},
     "output_type": "execute_result"
    }
   ],
   "source": [
    "p.weights"
   ]
  },
  {
   "cell_type": "markdown",
   "metadata": {
    "colab_type": "text",
    "id": "t1Bwm4bMgDf0"
   },
   "source": [
    "We can now plot the line $y=(w_2-w_0 x)/w_1$. Indeed, as you can see, the line sepates the red point (below the line) from the blue points (above the line). If we give the algorithm a point above the line, it will predict \"blue\", if we give it a point below the line it will predict \"red\". \n",
    "\n",
    "Because we only have 4 points here, this is arbitrary for points close to the line: we can shift the line, still separate the points, but get different predictions for points close to the line."
   ]
  },
  {
   "cell_type": "code",
   "execution_count": 9,
   "metadata": {
    "colab": {
     "base_uri": "https://localhost:8080/",
     "height": 285
    },
    "colab_type": "code",
    "executionInfo": {
     "elapsed": 538,
     "status": "ok",
     "timestamp": 1559238186300,
     "user": {
      "displayName": "Jan Boone",
      "photoUrl": "",
      "userId": "01680203205582182827"
     },
     "user_tz": -120
    },
    "id": "McHF9dYYgTzN",
    "outputId": "f915397f-d00c-4f6f-848e-fedc4c609e93"
   },
   "outputs": [
    {
     "data": {
      "image/png": "[encoded data removed]",
      "text/plain": [
       "<Figure size 432x288 with 1 Axes>"
      ]
     },
     "metadata": {
      "needs_background": "light"
     },
     "output_type": "display_data"
    }
   ],
   "source": [
    "x0 = 0\n",
    "x1 = 1\n",
    "y0 = (p.weights[2]-p.weights[0]*x0)/p.weights[1]\n",
    "y1 = (p.weights[2]-p.weights[0]*x1)/p.weights[1]\n",
    "plt.scatter(inputs[:,0],inputs[:,1],color=colors)\n",
    "plt.plot([x0,x1],[y0,y1],'k') #we only need to give two points to plot a line\n",
    "plt.xlabel('$x$')\n",
    "plt.xlabel('$y$')\n",
    "plt.show()"
   ]
  },
  {
   "cell_type": "markdown",
   "metadata": {
    "colab_type": "text",
    "id": "0PhQ1VJw5OyE"
   },
   "source": [
    "We can see from the graph and check with the function `pcnfwd` below what the predicted labels will be for the points (0.5,0.5) and (0.5,-0.5). The `-1` is needed for the \"constant\" $w_2$."
   ]
  },
  {
   "cell_type": "code",
   "execution_count": 10,
   "metadata": {
    "colab": {
     "base_uri": "https://localhost:8080/",
     "height": 53
    },
    "colab_type": "code",
    "executionInfo": {
     "elapsed": 939,
     "status": "ok",
     "timestamp": 1559239211184,
     "user": {
      "displayName": "Jan Boone",
      "photoUrl": "",
      "userId": "01680203205582182827"
     },
     "user_tz": -120
    },
    "id": "-ce5DGnTQOuN",
    "outputId": "79942d7f-3bb5-4df4-ac55-900a18473ac5"
   },
   "outputs": [
    {
     "data": {
      "text/plain": [
       "array([[1],\n",
       "       [0]])"
      ]
     },
     "execution_count": 10,
     "metadata": {},
     "output_type": "execute_result"
    }
   ],
   "source": [
    "p.pcnfwd([[0.5,0.5,-1],[0.5,-0.5,-1]])"
   ]
  },
  {
   "cell_type": "markdown",
   "metadata": {
    "colab_type": "text",
    "id": "ud5MlICH5yoE"
   },
   "source": [
    "## Multi-layer perceptron\n",
    "\n",
    "With more than one layer, we get into deep learning.\n",
    "\n",
    "We use [this mlp code](http://homepages.ecs.vuw.ac.nz/~marslast/Code/Ch4/mlp.py) from Chapter 4 of Machine Learning: An Algorithmic Perspective."
   ]
  },
  {
   "cell_type": "code",
   "execution_count": 11,
   "metadata": {
    "colab": {},
    "colab_type": "code",
    "id": "IUgtItNk5Tx9"
   },
   "outputs": [],
   "source": [
    "\n",
    "# Code from Chapter 4 of Machine Learning: An Algorithmic Perspective (2nd Edition)\n",
    "# by Stephen Marsland (http://stephenmonika.net)\n",
    "\n",
    "# You are free to use, change, or redistribute the code in any way you wish for\n",
    "# non-commercial purposes, but please maintain the name of the original author.\n",
    "# This code comes with no warranty of any kind.\n",
    "\n",
    "# Stephen Marsland, 2008, 2014\n",
    "\n",
    "import numpy as np\n",
    "\n",
    "class mlp:\n",
    "    \"\"\" A Multi-Layer Perceptron\"\"\"\n",
    "    \n",
    "    def __init__(self,inputs,targets,nhidden,beta=1,momentum=0.9,outtype='logistic'):\n",
    "        \"\"\" Constructor \"\"\"\n",
    "        # Set up network size\n",
    "        self.nin = np.shape(inputs)[1]\n",
    "        self.nout = np.shape(targets)[1]\n",
    "        self.ndata = np.shape(inputs)[0]\n",
    "        self.nhidden = nhidden\n",
    "\n",
    "        self.beta = beta\n",
    "        self.momentum = momentum\n",
    "        self.outtype = outtype\n",
    "    \n",
    "        # Initialise network\n",
    "        self.weights1 = (np.random.rand(self.nin+1,self.nhidden)-0.5)*2/np.sqrt(self.nin)\n",
    "        self.weights2 = (np.random.rand(self.nhidden+1,self.nout)-0.5)*2/np.sqrt(self.nhidden)\n",
    "\n",
    "    def earlystopping(self,inputs,targets,valid,validtargets,eta,niterations=100):\n",
    "    \n",
    "        valid = np.concatenate((valid,-np.ones((np.shape(valid)[0],1))),axis=1)\n",
    "        \n",
    "        old_val_error1 = 100002\n",
    "        old_val_error2 = 100001\n",
    "        new_val_error = 100000\n",
    "        \n",
    "        count = 0\n",
    "        while (((old_val_error1 - new_val_error) > 0.001) or ((old_val_error2 - old_val_error1)>0.001)):\n",
    "            count+=1\n",
    "            print(count)\n",
    "            self.mlptrain(inputs,targets,eta,niterations)\n",
    "            old_val_error2 = old_val_error1\n",
    "            old_val_error1 = new_val_error\n",
    "            validout = self.mlpfwd(valid)\n",
    "            new_val_error = 0.5*np.sum((validtargets-validout)**2)\n",
    "            \n",
    "        print(\"Stopped\", new_val_error,old_val_error1, old_val_error2)\n",
    "        return new_val_error\n",
    "    \t\n",
    "    def mlptrain(self,inputs,targets,eta,niterations):\n",
    "        \"\"\" Train the thing \"\"\"    \n",
    "        # Add the inputs that match the bias node\n",
    "        inputs = np.concatenate((inputs,-np.ones((self.ndata,1))),axis=1)\n",
    "        change = range(self.ndata)\n",
    "    \n",
    "        updatew1 = np.zeros((np.shape(self.weights1)))\n",
    "        updatew2 = np.zeros((np.shape(self.weights2)))\n",
    "            \n",
    "        for n in range(niterations):\n",
    "    \n",
    "            self.outputs = self.mlpfwd(inputs)\n",
    "\n",
    "            error = 0.5*np.sum((self.outputs-targets)**2)\n",
    "            if (np.mod(n,100)==0):\n",
    "                print(\"Iteration: \",n, \" Error: \",error)\n",
    "\n",
    "            # Different types of output neurons\n",
    "            if self.outtype == 'linear':\n",
    "            \tdeltao = (self.outputs-targets)/self.ndata\n",
    "            elif self.outtype == 'logistic':\n",
    "            \tdeltao = self.beta*(self.outputs-targets)*self.outputs*(1.0-self.outputs)\n",
    "            elif self.outtype == 'softmax':\n",
    "                deltao = (self.outputs-targets)*(self.outputs*(-self.outputs)+self.outputs)/self.ndata \n",
    "            else:\n",
    "            \tprint(\"error\")\n",
    "            \n",
    "            deltah = self.hidden*self.beta*(1.0-self.hidden)*(np.dot(deltao,np.transpose(self.weights2)))\n",
    "                      \n",
    "            updatew1 = eta*(np.dot(np.transpose(inputs),deltah[:,:-1])) + self.momentum*updatew1\n",
    "            updatew2 = eta*(np.dot(np.transpose(self.hidden),deltao)) + self.momentum*updatew2\n",
    "            self.weights1 -= updatew1\n",
    "            self.weights2 -= updatew2\n",
    "                \n",
    "            # Randomise order of inputs (not necessary for matrix-based calculation)\n",
    "            #np.random.shuffle(change)\n",
    "            #inputs = inputs[change,:]\n",
    "            #targets = targets[change,:]\n",
    "            \n",
    "    def mlpfwd(self,inputs):\n",
    "        \"\"\" Run the network forward \"\"\"\n",
    "\n",
    "        self.hidden = np.dot(inputs,self.weights1);\n",
    "        self.hidden = 1.0/(1.0+np.exp(-self.beta*self.hidden))\n",
    "        self.hidden = np.concatenate((self.hidden,-np.ones((np.shape(inputs)[0],1))),axis=1)\n",
    "\n",
    "        outputs = np.dot(self.hidden,self.weights2);\n",
    "\n",
    "        # Different types of output neurons\n",
    "        if self.outtype == 'linear':\n",
    "        \treturn outputs\n",
    "        elif self.outtype == 'logistic':\n",
    "            return 1.0/(1.0+np.exp(-self.beta*outputs))\n",
    "        elif self.outtype == 'softmax':\n",
    "            normalisers = np.sum(np.exp(outputs),axis=1)*np.ones((1,np.shape(outputs)[0]))\n",
    "            return np.transpose(np.transpose(np.exp(outputs))/normalisers)\n",
    "        else:\n",
    "            print(\"error\")\n",
    "\n",
    "    def confmat(self,inputs,targets):\n",
    "        \"\"\"Confusion matrix\"\"\"\n",
    "\n",
    "        # Add the inputs that match the bias node\n",
    "        inputs = np.concatenate((inputs,-np.ones((np.shape(inputs)[0],1))),axis=1)\n",
    "        outputs = self.mlpfwd(inputs)\n",
    "        \n",
    "        nclasses = np.shape(targets)[1]\n",
    "\n",
    "        if nclasses==1:\n",
    "            nclasses = 2\n",
    "            outputs = np.where(outputs>0.5,1,0)\n",
    "        else:\n",
    "            # 1-of-N encoding\n",
    "            outputs = np.argmax(outputs,1)\n",
    "            targets = np.argmax(targets,1)\n",
    "\n",
    "        cm = np.zeros((nclasses,nclasses))\n",
    "        for i in range(nclasses):\n",
    "            for j in range(nclasses):\n",
    "                cm[i,j] = np.sum(np.where(outputs==i,1,0)*np.where(targets==j,1,0))\n",
    "\n",
    "        print(\"Confusion matrix is:\")\n",
    "        print(cm)\n",
    "        print(\"Percentage Correct: \",np.trace(cm)/np.sum(cm)*100)"
   ]
  },
  {
   "cell_type": "markdown",
   "metadata": {
    "colab_type": "text",
    "id": "G-R0tbZB6nPk"
   },
   "source": [
    "This code is more elaborate than the perceptron above. It also introduces new concepts like the confusion matrix. We will go over these below. \n",
    "\n",
    "Before we use tensorflow with pandas dataframes, we first use more primitive datastructures in `numpy`. This serves two purposes: first, it is simple and helps to understand the underlying python code and algorithms; second, sometimes the data that you get is too messy to fit into a dataframe right away. Then it is useful to know some more primitive structures as well.\n",
    "\n",
    "Below we read the famous [iris dataset](http://archive.ics.uci.edu/ml/datasets/Iris). Admittedly, flowers are not directly linked to economics, but this is one of the classic datasets in classification. You cannot claim to have done \"datascience\" without having looked at the iris dataset.\n",
    "\n",
    "We will first download it from the website, just to learn the relevant steps here. We will work with in numpy and then we turn it into a pandas dataframe. In fact, the data is so famous that it is included in the tensorflow library, but later you may want to analyze data that is not included in any library. Hence, we need to learn the download steps as well.\n",
    "\n",
    "When you look at the downloaded data (in an editor), you will notice that it actually includes the names as strings. For us it is easier to work with numerical labels 0,1,2. Hence, we use the function `preprocessIris`. This function takes two arguments: the input file with the data that we downloaded and the output file where the target-labels are replaced by 0,1,2.\n",
    "\n",
    "If you run this notebook for the first time, un-comment the line `preprocessIris('iris.data','iris_proc.data')` (that is, remove the hashtag \"#\" at the beginning of the line), where `iris.data` is the name of the file that you downloaded and `iris_proc.data` is the name of the file with labels 0,1,2. Once the file `iris_proc.data` is created, there is no need to run this python command again.\n",
    "\n",
    "**continue here**"
   ]
  },
  {
   "cell_type": "code",
   "execution_count": 13,
   "metadata": {
    "colab": {
     "base_uri": "https://localhost:8080/",
     "height": 319
    },
    "colab_type": "code",
    "executionInfo": {
     "elapsed": 679,
     "status": "ok",
     "timestamp": 1558971173290,
     "user": {
      "displayName": "Jan Boone",
      "photoUrl": "",
      "userId": "01680203205582182827"
     },
     "user_tz": -120
    },
    "id": "1hiC6IOj5TqT",
    "outputId": "f00b572d-391f-420f-e0f7-ebcb57dbcd64"
   },
   "outputs": [
    {
     "name": "stdout",
     "output_type": "stream",
     "text": [
      "[[-0.36142626  0.33135215 -0.7508489  -0.76741803  0.        ]\n",
      " [-0.45867099 -0.04011887 -0.7508489  -0.76741803  0.        ]\n",
      " [-0.55591572  0.10846954 -0.78268251 -0.76741803  0.        ]\n",
      " [-0.60453809  0.03417533 -0.71901528 -0.76741803  0.        ]\n",
      " [-0.41004862  0.40564636 -0.7508489  -0.76741803  0.        ]]\n",
      "1\n",
      "Iteration:  0  Error:  30.38938998796759\n",
      "2\n",
      "Iteration:  0  Error:  0.9737398172734599\n",
      "3\n",
      "Iteration:  0  Error:  0.9332450435001935\n",
      "4\n",
      "Iteration:  0  Error:  0.9077011826593268\n",
      "5\n",
      "Iteration:  0  Error:  0.8833313812686364\n",
      "6\n",
      "Iteration:  0  Error:  0.8549547005715146\n",
      "7\n",
      "Iteration:  0  Error:  0.8181167690900505\n",
      "8\n",
      "Iteration:  0  Error:  0.7654267367970793\n",
      "Stopped 1.014595799090922 1.0013482655915835 1.0001142973492751\n",
      "Confusion matrix is:\n",
      "[[13.  0.  0.]\n",
      " [ 0. 14.  0.]\n",
      " [ 0.  0. 10.]]\n",
      "Percentage Correct:  100.0\n"
     ]
    }
   ],
   "source": [
    "# Code from Chapter 4 of Machine Learning: An Algorithmic Perspective (2nd Edition)\n",
    "# by Stephen Marsland (http://stephenmonika.net)\n",
    "\n",
    "# You are free to use, change, or redistribute the code in any way you wish for\n",
    "# non-commercial purposes, but please maintain the name of the original author.\n",
    "# This code comes with no warranty of any kind.\n",
    "\n",
    "# Stephen Marsland, 2008, 2014\n",
    "\n",
    "# The iris classification example\n",
    "\n",
    "def preprocessIris(infile,outfile):\n",
    "\n",
    "    stext1 = 'Iris-setosa'\n",
    "    stext2 = 'Iris-versicolor'\n",
    "    stext3 = 'Iris-virginica'\n",
    "    rtext1 = '0'\n",
    "    rtext2 = '1'\n",
    "    rtext3 = '2'\n",
    "\n",
    "    fid = open(infile,\"r\")\n",
    "    oid = open(outfile,\"w\")\n",
    "\n",
    "    for s in fid:\n",
    "        if s.find(stext1)>-1:\n",
    "            oid.write(s.replace(stext1, rtext1))\n",
    "        elif s.find(stext2)>-1:\n",
    "            oid.write(s.replace(stext2, rtext2))\n",
    "        elif s.find(stext3)>-1:\n",
    "            oid.write(s.replace(stext3, rtext3))\n",
    "    fid.close()\n",
    "    oid.close()\n",
    "\n",
    "## Preprocessor to remove the test (only needed once)\n",
    "# preprocessIris('iris.data','iris_proc.data')\n",
    "\n",
    "iris = np.loadtxt('./data/iris_proc.data',delimiter=',')\n",
    "iris[:,:4] = iris[:,:4]-iris[:,:4].mean(axis=0)\n",
    "imax = np.concatenate((iris.max(axis=0)*np.ones((1,5)),np.abs(iris.min(axis=0)*np.ones((1,5)))),axis=0).max(axis=0)\n",
    "iris[:,:4] = iris[:,:4]/imax[:4]\n",
    "print(iris[0:5,:])\n",
    "\n",
    "# Split into training, validation, and test sets\n",
    "target = np.zeros((np.shape(iris)[0],3));\n",
    "indices = np.where(iris[:,4]==0) \n",
    "target[indices,0] = 1\n",
    "indices = np.where(iris[:,4]==1)\n",
    "target[indices,1] = 1\n",
    "indices = np.where(iris[:,4]==2)\n",
    "target[indices,2] = 1\n",
    "\n",
    "# Randomly order the data\n",
    "order = np.arange(np.shape(iris)[0])\n",
    "np.random.shuffle(order)\n",
    "iris = iris[order,:]\n",
    "target = target[order,:]\n",
    "\n",
    "train = iris[::2,0:4]\n",
    "traint = target[::2]\n",
    "valid = iris[1::4,0:4]\n",
    "validt = target[1::4]\n",
    "test = iris[3::4,0:4]\n",
    "testt = target[3::4]\n",
    "\n",
    "#print train.max(axis=0), train.min(axis=0)\n",
    "\n",
    "# Train the network\n",
    "#import mlp\n",
    "net = mlp(train,traint,5,outtype='logistic')\n",
    "net.earlystopping(train,traint,valid,validt,0.1)\n",
    "net.confmat(test,testt)\n"
   ]
  },
  {
   "cell_type": "code",
   "execution_count": 14,
   "metadata": {
    "colab": {},
    "colab_type": "code",
    "id": "n3iUynAm8cpC"
   },
   "outputs": [],
   "source": [
    "preprocessIris('./data/iris.data','./data/iris_proc2.data')"
   ]
  },
  {
   "cell_type": "code",
   "execution_count": 15,
   "metadata": {
    "colab": {
     "base_uri": "https://localhost:8080/",
     "height": 5352
    },
    "colab_type": "code",
    "executionInfo": {
     "elapsed": 513,
     "status": "ok",
     "timestamp": 1558977591543,
     "user": {
      "displayName": "Jan Boone",
      "photoUrl": "",
      "userId": "01680203205582182827"
     },
     "user_tz": -120
    },
    "id": "bTRd17Ds5Teh",
    "outputId": "deb8cc99-ca09-4afb-dd19-1c8b640373d1"
   },
   "outputs": [
    {
     "data": {
      "text/plain": [
       "array([[-1.18314425e-01, -2.63001486e-01,  1.40492360e-01,\n",
       "         7.78688525e-02,  1.00000000e+00],\n",
       "       [ 3.67909238e-01, -1.14413076e-01,  2.67826825e-01,\n",
       "         7.78688525e-02,  1.00000000e+00],\n",
       "       [ 3.19286872e-01,  1.08469539e-01,  4.26994907e-01,\n",
       "         6.15778689e-01,  2.00000000e+00],\n",
       "       [-1.18314425e-01, -4.01188707e-02,  1.08658744e-01,\n",
       "         7.78688525e-02,  1.00000000e+00],\n",
       "       [-3.61426256e-01,  5.54234770e-01, -7.19015280e-01,\n",
       "        -6.90573770e-01,  0.00000000e+00],\n",
       "       [ 4.16531605e-01,  3.41753343e-02,  5.86162988e-01,\n",
       "         9.23155738e-01,  2.00000000e+00],\n",
       "       [ 2.70664506e-01,  3.41753343e-02,  5.54329372e-01,\n",
       "         4.62090164e-01,  2.00000000e+00],\n",
       "       [ 4.16531605e-01,  3.41753343e-02,  2.04159593e-01,\n",
       "         1.54713115e-01,  1.00000000e+00],\n",
       "       [ 1.24797407e-01, -4.01188707e-02,  3.63327674e-01,\n",
       "         4.62090164e-01,  2.00000000e+00],\n",
       "       [ 5.13776337e-01,  1.08469539e-01,  6.17996604e-01,\n",
       "         8.46311475e-01,  2.00000000e+00],\n",
       "       [-6.96920583e-02,  5.54234770e-01, -6.55348048e-01,\n",
       "        -6.90573770e-01,  0.00000000e+00],\n",
       "       [ 5.13776337e-01,  3.41753343e-02,  5.22495756e-01,\n",
       "         6.92622951e-01,  2.00000000e+00],\n",
       "       [ 2.75526742e-02,  1.08469539e-01,  3.31494058e-01,\n",
       "         4.62090164e-01,  1.00000000e+00],\n",
       "       [ 2.22042139e-01,  1.82763744e-01,  7.13497453e-01,\n",
       "         1.00000000e+00,  2.00000000e+00],\n",
       "       [-1.18314425e-01, -4.01188707e-02,  2.35993209e-01,\n",
       "         2.31557377e-01,  1.00000000e+00],\n",
       "       [ 4.65153971e-01,  1.08469539e-01,  6.81663837e-01,\n",
       "         8.46311475e-01,  2.00000000e+00],\n",
       "       [ 2.70664506e-01, -1.14413076e-01,  1.72325976e-01,\n",
       "         7.78688525e-02,  1.00000000e+00],\n",
       "       [ 2.75526742e-02, -4.01188707e-02,  1.40492360e-01,\n",
       "         2.31557377e-01,  1.00000000e+00],\n",
       "       [ 1.24797407e-01, -4.01188707e-02,  2.67826825e-01,\n",
       "         1.54713115e-01,  1.00000000e+00],\n",
       "       [-6.96920583e-02,  1.00000000e+00, -7.19015280e-01,\n",
       "        -6.13729508e-01,  0.00000000e+00],\n",
       "       [ 2.22042139e-01, -1.14413076e-01,  5.86162988e-01,\n",
       "         4.62090164e-01,  2.00000000e+00],\n",
       "       [ 5.13776337e-01,  3.41753343e-02,  4.26994907e-01,\n",
       "         8.46311475e-01,  2.00000000e+00],\n",
       "       [-6.04538088e-01,  2.57057949e-01, -7.50848896e-01,\n",
       "        -6.90573770e-01,  0.00000000e+00],\n",
       "       [ 1.73419773e-01, -6.34472511e-01,  2.35993209e-01,\n",
       "         2.31557377e-01,  1.00000000e+00],\n",
       "       [ 4.65153971e-01, -4.01188707e-02,  5.54329372e-01,\n",
       "         6.92622951e-01,  2.00000000e+00],\n",
       "       [-1.66936791e-01, -5.60178306e-01,  7.68251273e-02,\n",
       "         7.78688525e-02,  1.00000000e+00],\n",
       "       [ 4.16531605e-01, -4.11589896e-01,  6.49830221e-01,\n",
       "         4.62090164e-01,  2.00000000e+00],\n",
       "       [ 2.70664506e-01,  1.08469539e-01,  2.35993209e-01,\n",
       "         2.31557377e-01,  1.00000000e+00],\n",
       "       [-4.10048622e-01,  2.57057949e-01, -7.19015280e-01,\n",
       "        -7.67418033e-01,  0.00000000e+00],\n",
       "       [ 1.73419773e-01, -1.88707281e-01,  3.31494058e-01,\n",
       "         4.62090164e-01,  2.00000000e+00],\n",
       "       [-5.07293355e-01, -4.01188707e-02, -7.50848896e-01,\n",
       "        -6.90573770e-01,  0.00000000e+00],\n",
       "       [ 2.70664506e-01, -2.63001486e-01,  4.90662139e-01,\n",
       "         5.38934426e-01,  2.00000000e+00],\n",
       "       [-4.58670989e-01,  3.41753343e-02, -7.19015280e-01,\n",
       "        -8.44262295e-01,  0.00000000e+00],\n",
       "       [-3.61426256e-01,  2.57057949e-01, -7.19015280e-01,\n",
       "        -7.67418033e-01,  0.00000000e+00],\n",
       "       [-1.66936791e-01,  3.31352155e-01, -7.82682513e-01,\n",
       "        -7.67418033e-01,  0.00000000e+00],\n",
       "       [-4.10048622e-01,  1.82763744e-01, -7.50848896e-01,\n",
       "        -7.67418033e-01,  0.00000000e+00],\n",
       "       [ 4.16531605e-01,  3.41753343e-02,  2.99660441e-01,\n",
       "         2.31557377e-01,  1.00000000e+00],\n",
       "       [-3.12803890e-01, -2.63001486e-01,  4.49915110e-02,\n",
       "         1.54713115e-01,  1.00000000e+00],\n",
       "       [-6.96920583e-02, -1.14413076e-01,  1.40492360e-01,\n",
       "         7.78688525e-02,  1.00000000e+00],\n",
       "       [ 4.16531605e-01,  1.82763744e-01,  6.17996604e-01,\n",
       "         1.00000000e+00,  2.00000000e+00],\n",
       "       [ 7.61750405e-02, -6.34472511e-01,  7.68251273e-02,\n",
       "        -1.52663934e-01,  1.00000000e+00],\n",
       "       [-6.96920583e-02, -1.88707281e-01,  1.08658744e-01,\n",
       "         7.78688525e-02,  1.00000000e+00],\n",
       "       [ 2.70664506e-01, -1.88707281e-01,  5.86162988e-01,\n",
       "         7.69467213e-01,  2.00000000e+00],\n",
       "       [ 6.11021070e-01, -4.01188707e-02,  6.81663837e-01,\n",
       "         6.92622951e-01,  2.00000000e+00],\n",
       "       [ 5.62398703e-01,  1.08469539e-01,  2.99660441e-01,\n",
       "         1.54713115e-01,  1.00000000e+00],\n",
       "       [ 9.02755267e-01,  5.54234770e-01,  9.36332767e-01,\n",
       "         7.69467213e-01,  2.00000000e+00],\n",
       "       [-2.10696921e-02, -2.63001486e-01,  4.26994907e-01,\n",
       "         5.38934426e-01,  2.00000000e+00],\n",
       "       [ 1.00000000e+00,  5.54234770e-01,  8.40831919e-01,\n",
       "         6.15778689e-01,  2.00000000e+00],\n",
       "       [ 7.61750405e-02,  2.57057949e-01,  2.35993209e-01,\n",
       "         3.08401639e-01,  1.00000000e+00],\n",
       "       [ 2.22042139e-01, -4.11589896e-01,  3.63327674e-01,\n",
       "         2.31557377e-01,  1.00000000e+00],\n",
       "       [ 7.61750405e-02, -2.63001486e-01,  4.26994907e-01,\n",
       "         3.08401639e-01,  1.00000000e+00],\n",
       "       [ 2.22042139e-01,  2.57057949e-01,  5.86162988e-01,\n",
       "         9.23155738e-01,  2.00000000e+00],\n",
       "       [-3.61426256e-01,  3.31352155e-01, -7.50848896e-01,\n",
       "        -7.67418033e-01,  0.00000000e+00],\n",
       "       [-2.10696921e-02, -2.63001486e-01,  4.49915110e-02,\n",
       "         1.02459016e-03,  1.00000000e+00],\n",
       "       [-7.01782820e-01, -1.14413076e-01, -7.50848896e-01,\n",
       "        -7.67418033e-01,  0.00000000e+00],\n",
       "       [-4.58670989e-01, -4.85884101e-01, -1.46010187e-01,\n",
       "        -1.52663934e-01,  1.00000000e+00],\n",
       "       [-6.04538088e-01,  3.41753343e-02, -7.19015280e-01,\n",
       "        -7.67418033e-01,  0.00000000e+00],\n",
       "       [-6.96920583e-02, -4.01188707e-02,  1.40492360e-01,\n",
       "         1.02459016e-03,  1.00000000e+00],\n",
       "       [ 2.70664506e-01, -1.88707281e-01,  5.86162988e-01,\n",
       "         6.92622951e-01,  2.00000000e+00],\n",
       "       [-7.50405186e-01, -4.01188707e-02, -8.46349745e-01,\n",
       "        -8.44262295e-01,  0.00000000e+00],\n",
       "       [ 4.16531605e-01,  1.82763744e-01,  6.17996604e-01,\n",
       "         6.92622951e-01,  2.00000000e+00],\n",
       "       [ 1.73419773e-01, -1.14413076e-01,  1.72325976e-01,\n",
       "         7.78688525e-02,  1.00000000e+00],\n",
       "       [ 7.61750405e-02, -4.01188707e-02,  3.31494058e-01,\n",
       "         4.62090164e-01,  2.00000000e+00],\n",
       "       [-6.96920583e-02, -3.37295691e-01, -8.23429542e-02,\n",
       "        -1.52663934e-01,  1.00000000e+00],\n",
       "       [-2.15559157e-01,  4.79940565e-01, -7.19015280e-01,\n",
       "        -7.67418033e-01,  0.00000000e+00],\n",
       "       [ 9.02755267e-01, -1.88707281e-01,  9.36332767e-01,\n",
       "         6.15778689e-01,  2.00000000e+00],\n",
       "       [-1.18314425e-01, -1.14413076e-01, -5.05093379e-02,\n",
       "         7.78688525e-02,  1.00000000e+00],\n",
       "       [-3.61426256e-01,  3.31352155e-01, -7.50848896e-01,\n",
       "        -6.90573770e-01,  0.00000000e+00],\n",
       "       [-6.96920583e-02, -4.11589896e-01,  3.95161290e-01,\n",
       "         6.15778689e-01,  2.00000000e+00],\n",
       "       [-5.07293355e-01,  2.57057949e-01, -5.91680815e-01,\n",
       "        -7.67418033e-01,  0.00000000e+00],\n",
       "       [-1.66936791e-01,  8.51411590e-01, -7.50848896e-01,\n",
       "        -7.67418033e-01,  0.00000000e+00],\n",
       "       [ 2.22042139e-01, -5.60178306e-01,  2.04159593e-01,\n",
       "         7.78688525e-02,  1.00000000e+00],\n",
       "       [-2.10696921e-02, -1.88707281e-01,  4.26994907e-01,\n",
       "         9.23155738e-01,  2.00000000e+00],\n",
       "       [-6.04538088e-01,  1.08469539e-01, -7.50848896e-01,\n",
       "        -7.67418033e-01,  0.00000000e+00],\n",
       "       [-4.10048622e-01,  4.05646360e-01, -7.50848896e-01,\n",
       "        -7.67418033e-01,  0.00000000e+00],\n",
       "       [-2.10696921e-02, -3.37295691e-01,  7.68251273e-02,\n",
       "         1.02459016e-03,  1.00000000e+00],\n",
       "       [-6.53160454e-01, -5.60178306e-01, -7.82682513e-01,\n",
       "        -6.90573770e-01,  0.00000000e+00],\n",
       "       [ 1.24797407e-01, -1.88707281e-01,  2.99660441e-01,\n",
       "         1.02459016e-03,  1.00000000e+00],\n",
       "       [-4.58670989e-01,  3.41753343e-02, -7.19015280e-01,\n",
       "        -8.44262295e-01,  0.00000000e+00],\n",
       "       [-5.55915721e-01,  1.08469539e-01, -6.87181664e-01,\n",
       "        -7.67418033e-01,  0.00000000e+00],\n",
       "       [-3.12803890e-01,  7.77117385e-01, -7.19015280e-01,\n",
       "        -8.44262295e-01,  0.00000000e+00],\n",
       "       [ 2.75526742e-02, -4.01188707e-02,  4.26994907e-01,\n",
       "         4.62090164e-01,  2.00000000e+00],\n",
       "       [-4.10048622e-01, -7.83060921e-01, -8.23429542e-02,\n",
       "        -1.52663934e-01,  1.00000000e+00],\n",
       "       [-5.55915721e-01,  1.08469539e-01, -7.82682513e-01,\n",
       "        -7.67418033e-01,  0.00000000e+00],\n",
       "       [-2.15559157e-01, -4.01188707e-02,  2.35993209e-01,\n",
       "         2.31557377e-01,  1.00000000e+00],\n",
       "       [ 6.59643436e-01, -4.01188707e-02,  6.49830221e-01,\n",
       "         3.08401639e-01,  2.00000000e+00],\n",
       "       [-1.18314425e-01, -4.11589896e-01,  4.49915110e-02,\n",
       "        -7.58196721e-02,  1.00000000e+00],\n",
       "       [ 7.56888169e-01, -1.88707281e-01,  7.45331070e-01,\n",
       "         5.38934426e-01,  2.00000000e+00],\n",
       "       [ 2.22042139e-01, -2.63001486e-01,  3.63327674e-01,\n",
       "         4.62090164e-01,  2.00000000e+00],\n",
       "       [ 9.02755267e-01, -4.01188707e-02,  7.45331070e-01,\n",
       "         8.46311475e-01,  2.00000000e+00],\n",
       "       [-1.66936791e-01, -4.85884101e-01,  1.31578947e-02,\n",
       "        -7.58196721e-02,  1.00000000e+00],\n",
       "       [-4.10048622e-01,  3.31352155e-01, -6.87181664e-01,\n",
       "        -4.60040984e-01,  0.00000000e+00],\n",
       "       [-6.96920583e-02, -1.88707281e-01,  2.35993209e-01,\n",
       "         7.78688525e-02,  1.00000000e+00],\n",
       "       [-2.64181524e-01,  4.79940565e-01, -7.19015280e-01,\n",
       "        -7.67418033e-01,  0.00000000e+00],\n",
       "       [ 1.24797407e-01, -1.88707281e-01,  7.68251273e-02,\n",
       "         7.78688525e-02,  1.00000000e+00],\n",
       "       [-4.10048622e-01, -5.60178306e-01, -1.46010187e-01,\n",
       "        -1.52663934e-01,  1.00000000e+00],\n",
       "       [ 3.19286872e-01, -4.01188707e-02,  6.49830221e-01,\n",
       "         7.69467213e-01,  2.00000000e+00],\n",
       "       [-1.66936791e-01, -4.11589896e-01,  7.68251273e-02,\n",
       "         7.78688525e-02,  1.00000000e+00],\n",
       "       [-4.58670989e-01, -4.11589896e-01,  2.35993209e-01,\n",
       "         3.85245902e-01,  2.00000000e+00],\n",
       "       [ 2.22042139e-01,  1.82763744e-01,  2.99660441e-01,\n",
       "         3.08401639e-01,  1.00000000e+00],\n",
       "       [-4.10048622e-01,  1.08469539e-01, -8.14516129e-01,\n",
       "        -7.67418033e-01,  0.00000000e+00],\n",
       "       [-2.10696921e-02,  7.02823180e-01, -8.14516129e-01,\n",
       "        -7.67418033e-01,  0.00000000e+00],\n",
       "       [ 8.54132901e-01, -4.01188707e-02,  9.04499151e-01,\n",
       "         6.92622951e-01,  2.00000000e+00],\n",
       "       [-3.12803890e-01,  3.31352155e-01, -7.19015280e-01,\n",
       "        -7.67418033e-01,  0.00000000e+00],\n",
       "       [ 3.19286872e-01, -4.01188707e-02,  4.58828523e-01,\n",
       "         6.15778689e-01,  2.00000000e+00],\n",
       "       [ 6.59643436e-01,  4.05646360e-01,  7.45331070e-01,\n",
       "         1.00000000e+00,  2.00000000e+00],\n",
       "       [ 4.16531605e-01, -4.01188707e-02,  4.58828523e-01,\n",
       "         8.46311475e-01,  2.00000000e+00],\n",
       "       [-4.10048622e-01,  3.31352155e-01, -7.82682513e-01,\n",
       "        -6.90573770e-01,  0.00000000e+00],\n",
       "       [-3.12803890e-01,  2.57057949e-01, -7.50848896e-01,\n",
       "        -7.67418033e-01,  0.00000000e+00],\n",
       "       [-6.04538088e-01,  4.05646360e-01, -8.78183362e-01,\n",
       "        -7.67418033e-01,  0.00000000e+00],\n",
       "       [ 3.19286872e-01, -1.88707281e-01,  2.67826825e-01,\n",
       "         2.31557377e-01,  1.00000000e+00],\n",
       "       [-7.01782820e-01, -4.01188707e-02, -7.82682513e-01,\n",
       "        -7.67418033e-01,  0.00000000e+00],\n",
       "       [-3.61426256e-01,  5.54234770e-01, -6.87181664e-01,\n",
       "        -7.67418033e-01,  0.00000000e+00],\n",
       "       [-1.66936791e-01, -4.85884101e-01, -1.86757216e-02,\n",
       "        -1.52663934e-01,  1.00000000e+00],\n",
       "       [-5.07293355e-01, -4.01188707e-02, -7.50848896e-01,\n",
       "        -8.44262295e-01,  0.00000000e+00],\n",
       "       [ 7.08265802e-01, -1.14413076e-01,  8.08998302e-01,\n",
       "         4.62090164e-01,  2.00000000e+00],\n",
       "       [ 4.65153971e-01, -1.88707281e-01,  3.31494058e-01,\n",
       "         1.54713115e-01,  1.00000000e+00],\n",
       "       [-5.07293355e-01,  2.57057949e-01, -6.87181664e-01,\n",
       "        -7.67418033e-01,  0.00000000e+00],\n",
       "       [-2.10696921e-02, -2.63001486e-01,  1.08658744e-01,\n",
       "        -1.52663934e-01,  1.00000000e+00],\n",
       "       [-3.61426256e-01, -4.11589896e-01, -2.41511036e-01,\n",
       "        -7.58196721e-02,  1.00000000e+00],\n",
       "       [ 1.24797407e-01, -3.37295691e-01,  5.86162988e-01,\n",
       "         1.54713115e-01,  2.00000000e+00],\n",
       "       [-2.15559157e-01,  6.28528975e-01, -6.55348048e-01,\n",
       "        -6.13729508e-01,  0.00000000e+00],\n",
       "       [ 2.70664506e-01,  1.08469539e-01,  4.90662139e-01,\n",
       "         8.46311475e-01,  2.00000000e+00],\n",
       "       [ 2.22042139e-01, -4.11589896e-01,  3.95161290e-01,\n",
       "         5.38934426e-01,  2.00000000e+00],\n",
       "       [-7.01782820e-01,  1.08469539e-01, -7.82682513e-01,\n",
       "        -7.67418033e-01,  0.00000000e+00],\n",
       "       [ 1.73419773e-01,  2.57057949e-01,  5.22495756e-01,\n",
       "         8.46311475e-01,  2.00000000e+00],\n",
       "       [-2.15559157e-01,  2.57057949e-01, -7.19015280e-01,\n",
       "        -6.13729508e-01,  0.00000000e+00],\n",
       "       [-2.15559157e-01,  2.57057949e-01, -6.55348048e-01,\n",
       "        -7.67418033e-01,  0.00000000e+00],\n",
       "       [-4.58670989e-01, -4.01188707e-02, -7.50848896e-01,\n",
       "        -7.67418033e-01,  0.00000000e+00],\n",
       "       [-1.18314425e-01, -1.88707281e-01,  3.63327674e-01,\n",
       "         6.15778689e-01,  2.00000000e+00],\n",
       "       [ 5.13776337e-01,  3.41753343e-02,  3.63327674e-01,\n",
       "         2.31557377e-01,  1.00000000e+00],\n",
       "       [ 1.24797407e-01, -1.14413076e-01,  2.99660441e-01,\n",
       "         1.54713115e-01,  1.00000000e+00],\n",
       "       [-3.61426256e-01,  1.82763744e-01, -6.55348048e-01,\n",
       "        -5.36885246e-01,  0.00000000e+00],\n",
       "       [ 3.19286872e-01, -4.01188707e-02,  5.54329372e-01,\n",
       "         4.62090164e-01,  2.00000000e+00],\n",
       "       [ 9.02755267e-01, -3.37295691e-01,  1.00000000e+00,\n",
       "         8.46311475e-01,  2.00000000e+00],\n",
       "       [-3.61426256e-01,  5.54234770e-01, -5.91680815e-01,\n",
       "        -6.13729508e-01,  0.00000000e+00],\n",
       "       [-2.15559157e-01,  6.28528975e-01, -7.82682513e-01,\n",
       "        -6.13729508e-01,  0.00000000e+00],\n",
       "       [-1.66936791e-01, -3.37295691e-01,  2.04159593e-01,\n",
       "         1.02459016e-03,  1.00000000e+00],\n",
       "       [-5.07293355e-01,  3.41753343e-02, -6.87181664e-01,\n",
       "        -7.67418033e-01,  0.00000000e+00],\n",
       "       [ 3.67909238e-01, -4.01188707e-02,  2.04159593e-01,\n",
       "         1.54713115e-01,  1.00000000e+00],\n",
       "       [-2.10696921e-02, -2.63001486e-01,  4.26994907e-01,\n",
       "         5.38934426e-01,  2.00000000e+00],\n",
       "       [ 4.16531605e-01, -4.01188707e-02,  3.95161290e-01,\n",
       "         3.85245902e-01,  1.00000000e+00],\n",
       "       [ 6.59643436e-01,  1.08469539e-01,  7.13497453e-01,\n",
       "         4.62090164e-01,  2.00000000e+00],\n",
       "       [-4.10048622e-01, -4.01188707e-02, -6.87181664e-01,\n",
       "        -7.67418033e-01,  0.00000000e+00],\n",
       "       [ 7.61750405e-02, -6.34472511e-01,  3.95161290e-01,\n",
       "         2.31557377e-01,  2.00000000e+00],\n",
       "       [ 2.22042139e-01, -1.88707281e-01,  4.26994907e-01,\n",
       "         2.31557377e-01,  2.00000000e+00],\n",
       "       [-3.61426256e-01,  4.79940565e-01, -7.19015280e-01,\n",
       "        -6.13729508e-01,  0.00000000e+00],\n",
       "       [ 7.61750405e-02, -1.14413076e-01,  2.35993209e-01,\n",
       "         2.31557377e-01,  1.00000000e+00],\n",
       "       [-4.58670989e-01,  3.41753343e-02, -7.19015280e-01,\n",
       "        -8.44262295e-01,  0.00000000e+00],\n",
       "       [-4.10048622e-01,  2.57057949e-01, -6.87181664e-01,\n",
       "        -6.13729508e-01,  0.00000000e+00]])"
      ]
     },
     "execution_count": 15,
     "metadata": {},
     "output_type": "execute_result"
    }
   ],
   "source": [
    "iris"
   ]
  },
  {
   "cell_type": "markdown",
   "metadata": {
    "colab_type": "text",
    "id": "H1yCdGFW4j_F"
   },
   "source": [
    "# Premade Estimators"
   ]
  },
  {
   "cell_type": "markdown",
   "metadata": {
    "colab_type": "text",
    "id": "PS6_yKSoyLAl"
   },
   "source": [
    "<table class=\"tfo-notebook-buttons\" align=\"left\">\n",
    "  <td>\n",
    "    <a target=\"_blank\" href=\"https://www.tensorflow.org/alpha/tutorials/estimators/premade_estimators\"><img src=\"https://www.tensorflow.org/images/tf_logo_32px.png\" />View on TensorFlow.org</a>\n",
    "  </td>\n",
    "  <td>\n",
    "    <a target=\"_blank\" href=\"https://colab.research.google.com/github/tensorflow/docs/blob/master/site/en/r2/tutorials/estimators/premade_estimators.ipynb\"><img src=\"https://www.tensorflow.org/images/colab_logo_32px.png\" />Run in Google Colab</a>\n",
    "  </td>\n",
    "  <td>\n",
    "    <a target=\"_blank\" href=\"https://github.com/tensorflow/docs/tree/master/site/en/r2/tutorials/estimators/premade_estimators.ipynb\"><img src=\"https://www.tensorflow.org/images/GitHub-Mark-32px.png\" />View source on GitHub</a>\n",
    "  </td>\n",
    "</table>"
   ]
  },
  {
   "cell_type": "markdown",
   "metadata": {
    "colab_type": "text",
    "id": "R4YZ_ievcY7p"
   },
   "source": [
    "\n",
    "This tutorial shows you\n",
    "how to solve the Iris classification problem in TensorFlow using Estimators. An Estimator is TensorFlow's high-level representation of a complete model, and it has been designed for easy scaling and asynchronous training. For more details see\n",
    "[Estimators](https://www.tensorflow.org/guide/estimators).\n",
    "\n",
    "Note that in TensorFlow 2.0, the [Keras API](https://www.tensorflow.org/guide/keras) can accomplish many of these same tasks, and is believed to be an easier API to learn. If you are starting fresh, we would recommend you start with Keras. For more information about the available high level APIs in TensorFlow 2.0, see [Standardizing on Keras](https://medium.com/tensorflow/standardizing-on-keras-guidance-on-high-level-apis-in-tensorflow-2-0-bad2b04c819a).\n",
    "\n"
   ]
  },
  {
   "cell_type": "markdown",
   "metadata": {
    "colab_type": "text",
    "id": "8IFct0yedsTy"
   },
   "source": [
    "## First things first\n",
    "\n",
    "In order to get started, you will first import TensorFlow and a number of libraries you will need."
   ]
  },
  {
   "cell_type": "code",
   "execution_count": 0,
   "metadata": {
    "colab": {},
    "colab_type": "code",
    "id": "qO3Vs97ehiMZ"
   },
   "outputs": [],
   "source": []
  },
  {
   "cell_type": "markdown",
   "metadata": {
    "colab_type": "text",
    "id": "c5w4m5gncnGh"
   },
   "source": [
    "## The data set\n",
    "\n",
    "The sample program in this document builds and tests a model that\n",
    "classifies Iris flowers into three different species based on the size of their\n",
    "[sepals](https://en.wikipedia.org/wiki/Sepal) and\n",
    "[petals](https://en.wikipedia.org/wiki/Petal).\n",
    "\n",
    "\n",
    "You will train a model using the Iris data set. The Iris data set contains four features and one\n",
    "[label](https://developers.google.com/machine-learning/glossary/#label).\n",
    "The four features identify the following botanical characteristics of\n",
    "individual Iris flowers:\n",
    "\n",
    "* sepal length\n",
    "* sepal width\n",
    "* petal length\n",
    "* petal width\n",
    "\n",
    "Based on this information, you can define a few helpful constants for parsing the data:\n"
   ]
  },
  {
   "cell_type": "code",
   "execution_count": 16,
   "metadata": {
    "colab": {},
    "colab_type": "code",
    "id": "lSyrXp_He_UE"
   },
   "outputs": [],
   "source": [
    "CSV_COLUMN_NAMES = ['SepalLength', 'SepalWidth', 'PetalLength', 'PetalWidth', 'Species']\n",
    "SPECIES = ['Setosa', 'Versicolor', 'Virginica']"
   ]
  },
  {
   "cell_type": "markdown",
   "metadata": {
    "colab_type": "text",
    "id": "j6mTfIQzfC9w"
   },
   "source": [
    "Next, download and parse the Iris data set using Keras and Pandas. Note that you keep distinct datasets for training and testing."
   ]
  },
  {
   "cell_type": "code",
   "execution_count": 17,
   "metadata": {
    "colab": {},
    "colab_type": "code",
    "id": "NS-GobzcZIxi"
   },
   "outputs": [],
   "source": [
    "train = pd.DataFrame({'SepalLength':iris[::2,0],'SepalWidth':iris[::2,1],'PetalLength':iris[::2,2],'PetalWidth':iris[::2,3],'Species':iris[::2,4]})\n",
    "valid = pd.DataFrame({'SepalLength':iris[1::4,0],'SepalWidth':iris[1::4,1],'PetalLength':iris[1::4,2],'PetalWidth':iris[1::4,3],'Species':iris[1::4,4]})\n",
    "test = pd.DataFrame({'SepalLength':iris[3::4,0],'SepalWidth':iris[3::4,1],'PetalLength':iris[3::4,2],'PetalWidth':iris[3::4,3],'Species':iris[3::4,4]})"
   ]
  },
  {
   "cell_type": "code",
   "execution_count": 18,
   "metadata": {
    "colab": {},
    "colab_type": "code",
    "id": "sCWZGd2jbKRA"
   },
   "outputs": [],
   "source": [
    "train['Species']=train.Species.astype(int)\n",
    "valid['Species']=valid.Species.astype(int)\n",
    "test['Species']=test.Species.astype(int)"
   ]
  },
  {
   "cell_type": "code",
   "execution_count": 19,
   "metadata": {
    "colab": {
     "base_uri": "https://localhost:8080/",
     "height": 206
    },
    "colab_type": "code",
    "executionInfo": {
     "elapsed": 447,
     "status": "ok",
     "timestamp": 1558979697574,
     "user": {
      "displayName": "Jan Boone",
      "photoUrl": "",
      "userId": "01680203205582182827"
     },
     "user_tz": -120
    },
    "id": "wRCrAZg8aAsR",
    "outputId": "e89de982-062a-4bd5-bc44-2c9dd68b6f26"
   },
   "outputs": [
    {
     "data": {
      "text/html": [
       "<div>\n",
       "<style scoped>\n",
       "    .dataframe tbody tr th:only-of-type {\n",
       "        vertical-align: middle;\n",
       "    }\n",
       "\n",
       "    .dataframe tbody tr th {\n",
       "        vertical-align: top;\n",
       "    }\n",
       "\n",
       "    .dataframe thead th {\n",
       "        text-align: right;\n",
       "    }\n",
       "</style>\n",
       "<table border=\"1\" class=\"dataframe\">\n",
       "  <thead>\n",
       "    <tr style=\"text-align: right;\">\n",
       "      <th></th>\n",
       "      <th>SepalLength</th>\n",
       "      <th>SepalWidth</th>\n",
       "      <th>PetalLength</th>\n",
       "      <th>PetalWidth</th>\n",
       "      <th>Species</th>\n",
       "    </tr>\n",
       "  </thead>\n",
       "  <tbody>\n",
       "    <tr>\n",
       "      <th>0</th>\n",
       "      <td>-0.118314</td>\n",
       "      <td>-0.263001</td>\n",
       "      <td>0.140492</td>\n",
       "      <td>0.077869</td>\n",
       "      <td>1</td>\n",
       "    </tr>\n",
       "    <tr>\n",
       "      <th>1</th>\n",
       "      <td>0.319287</td>\n",
       "      <td>0.108470</td>\n",
       "      <td>0.426995</td>\n",
       "      <td>0.615779</td>\n",
       "      <td>2</td>\n",
       "    </tr>\n",
       "    <tr>\n",
       "      <th>2</th>\n",
       "      <td>-0.361426</td>\n",
       "      <td>0.554235</td>\n",
       "      <td>-0.719015</td>\n",
       "      <td>-0.690574</td>\n",
       "      <td>0</td>\n",
       "    </tr>\n",
       "    <tr>\n",
       "      <th>3</th>\n",
       "      <td>0.270665</td>\n",
       "      <td>0.034175</td>\n",
       "      <td>0.554329</td>\n",
       "      <td>0.462090</td>\n",
       "      <td>2</td>\n",
       "    </tr>\n",
       "    <tr>\n",
       "      <th>4</th>\n",
       "      <td>0.124797</td>\n",
       "      <td>-0.040119</td>\n",
       "      <td>0.363328</td>\n",
       "      <td>0.462090</td>\n",
       "      <td>2</td>\n",
       "    </tr>\n",
       "  </tbody>\n",
       "</table>\n",
       "</div>"
      ],
      "text/plain": [
       "   SepalLength  SepalWidth  PetalLength  PetalWidth  Species\n",
       "0    -0.118314   -0.263001     0.140492    0.077869        1\n",
       "1     0.319287    0.108470     0.426995    0.615779        2\n",
       "2    -0.361426    0.554235    -0.719015   -0.690574        0\n",
       "3     0.270665    0.034175     0.554329    0.462090        2\n",
       "4     0.124797   -0.040119     0.363328    0.462090        2"
      ]
     },
     "execution_count": 19,
     "metadata": {},
     "output_type": "execute_result"
    }
   ],
   "source": [
    "train.head()"
   ]
  },
  {
   "cell_type": "code",
   "execution_count": 20,
   "metadata": {
    "colab": {
     "base_uri": "https://localhost:8080/",
     "height": 206
    },
    "colab_type": "code",
    "executionInfo": {
     "elapsed": 408,
     "status": "ok",
     "timestamp": 1558979701097,
     "user": {
      "displayName": "Jan Boone",
      "photoUrl": "",
      "userId": "01680203205582182827"
     },
     "user_tz": -120
    },
    "id": "hNWuDd-mSPrH",
    "outputId": "e5843528-51bf-42d8-c41f-cfcb6c2e18a5"
   },
   "outputs": [
    {
     "data": {
      "text/html": [
       "<div>\n",
       "<style scoped>\n",
       "    .dataframe tbody tr th:only-of-type {\n",
       "        vertical-align: middle;\n",
       "    }\n",
       "\n",
       "    .dataframe tbody tr th {\n",
       "        vertical-align: top;\n",
       "    }\n",
       "\n",
       "    .dataframe thead th {\n",
       "        text-align: right;\n",
       "    }\n",
       "</style>\n",
       "<table border=\"1\" class=\"dataframe\">\n",
       "  <thead>\n",
       "    <tr style=\"text-align: right;\">\n",
       "      <th></th>\n",
       "      <th>SepalLength</th>\n",
       "      <th>SepalWidth</th>\n",
       "      <th>PetalLength</th>\n",
       "      <th>PetalWidth</th>\n",
       "    </tr>\n",
       "  </thead>\n",
       "  <tbody>\n",
       "    <tr>\n",
       "      <th>0</th>\n",
       "      <td>-0.118314</td>\n",
       "      <td>-0.263001</td>\n",
       "      <td>0.140492</td>\n",
       "      <td>0.077869</td>\n",
       "    </tr>\n",
       "    <tr>\n",
       "      <th>1</th>\n",
       "      <td>0.319287</td>\n",
       "      <td>0.108470</td>\n",
       "      <td>0.426995</td>\n",
       "      <td>0.615779</td>\n",
       "    </tr>\n",
       "    <tr>\n",
       "      <th>2</th>\n",
       "      <td>-0.361426</td>\n",
       "      <td>0.554235</td>\n",
       "      <td>-0.719015</td>\n",
       "      <td>-0.690574</td>\n",
       "    </tr>\n",
       "    <tr>\n",
       "      <th>3</th>\n",
       "      <td>0.270665</td>\n",
       "      <td>0.034175</td>\n",
       "      <td>0.554329</td>\n",
       "      <td>0.462090</td>\n",
       "    </tr>\n",
       "    <tr>\n",
       "      <th>4</th>\n",
       "      <td>0.124797</td>\n",
       "      <td>-0.040119</td>\n",
       "      <td>0.363328</td>\n",
       "      <td>0.462090</td>\n",
       "    </tr>\n",
       "  </tbody>\n",
       "</table>\n",
       "</div>"
      ],
      "text/plain": [
       "   SepalLength  SepalWidth  PetalLength  PetalWidth\n",
       "0    -0.118314   -0.263001     0.140492    0.077869\n",
       "1     0.319287    0.108470     0.426995    0.615779\n",
       "2    -0.361426    0.554235    -0.719015   -0.690574\n",
       "3     0.270665    0.034175     0.554329    0.462090\n",
       "4     0.124797   -0.040119     0.363328    0.462090"
      ]
     },
     "execution_count": 20,
     "metadata": {},
     "output_type": "execute_result"
    }
   ],
   "source": [
    "train_y = train.pop('Species')\n",
    "valid_y = valid.pop('Species')\n",
    "test_y = test.pop('Species')\n",
    "\n",
    "# The label column has now been removed from the features.\n",
    "train.head()"
   ]
  },
  {
   "cell_type": "markdown",
   "metadata": {
    "colab_type": "text",
    "id": "wHFxNLszhQjz"
   },
   "source": [
    "You can inspect your data to see that you have four float feature columns and one int32 label."
   ]
  },
  {
   "cell_type": "markdown",
   "metadata": {
    "colab_type": "text",
    "id": "jZx1L_1Vcmxv"
   },
   "source": [
    "## Overview of programming with Estimators\n",
    "\n",
    "Now that you have the data set up, you can define a model using a TensorFlow Estimator. An Estimator is any class derived from `tf.estimator.Estimator`. TensorFlow\n",
    "provides a collection of\n",
    "`tf.estimator`\n",
    "(for example, `LinearRegressor`) to implement common ML algorithms. Beyond\n",
    "those, you may write your own\n",
    "[custom Estimators](https://www.tensorflow.org/guide/custom_estimators).\n",
    "We recommend using pre-made Estimators when just getting started.\n",
    "\n",
    "To write a TensorFlow program based on pre-made Estimators, you must perform the\n",
    "following tasks:\n",
    "\n",
    "* Create one or more input functions.\n",
    "* Define the model's feature columns.\n",
    "* Instantiate an Estimator, specifying the feature columns and various\n",
    "  hyperparameters.\n",
    "* Call one or more methods on the Estimator object, passing the appropriate\n",
    "  input function as the source of the data.\n",
    "\n",
    "Let's see how those tasks are implemented for Iris classification."
   ]
  },
  {
   "cell_type": "markdown",
   "metadata": {
    "colab_type": "text",
    "id": "2OcguDfBcmmg"
   },
   "source": [
    "## Create input functions\n",
    "\n",
    "You must create input functions to supply data for training,\n",
    "evaluating, and prediction.\n",
    "\n",
    "An **input function** is a function that returns a `tf.data.Dataset` object\n",
    "which outputs the following two-element tuple:\n",
    "\n",
    "* [`features`](https://developers.google.com/machine-learning/glossary/#feature) - A Python dictionary in which:\n",
    "    * Each key is the name of a feature.\n",
    "    * Each value is an array containing all of that feature's values.\n",
    "* `label` - An array containing the values of the\n",
    "  [label](https://developers.google.com/machine-learning/glossary/#label) for\n",
    "  every example.\n",
    "\n",
    "Just to demonstrate the format of the input function, here's a simple\n",
    "implementation:"
   ]
  },
  {
   "cell_type": "code",
   "execution_count": 21,
   "metadata": {
    "colab": {},
    "colab_type": "code",
    "id": "nzr5vRr5caGF"
   },
   "outputs": [],
   "source": [
    "def input_evaluation_set():\n",
    "    features = {'SepalLength': np.array([6.4, 5.0]),\n",
    "                'SepalWidth':  np.array([2.8, 2.3]),\n",
    "                'PetalLength': np.array([5.6, 3.3]),\n",
    "                'PetalWidth':  np.array([2.2, 1.0])}\n",
    "    labels = np.array([2, 1])\n",
    "    return features, labels"
   ]
  },
  {
   "cell_type": "code",
   "execution_count": 22,
   "metadata": {
    "colab": {
     "base_uri": "https://localhost:8080/",
     "height": 106
    },
    "colab_type": "code",
    "executionInfo": {
     "elapsed": 289,
     "status": "ok",
     "timestamp": 1558979703930,
     "user": {
      "displayName": "Jan Boone",
      "photoUrl": "",
      "userId": "01680203205582182827"
     },
     "user_tz": -120
    },
    "id": "T8BIzD3lhcLh",
    "outputId": "ce5d497d-3322-4a77-88a8-b3aaf1ec9abe"
   },
   "outputs": [
    {
     "data": {
      "text/plain": [
       "({'SepalLength': array([6.4, 5. ]),\n",
       "  'SepalWidth': array([2.8, 2.3]),\n",
       "  'PetalLength': array([5.6, 3.3]),\n",
       "  'PetalWidth': array([2.2, 1. ])},\n",
       " array([2, 1]))"
      ]
     },
     "execution_count": 22,
     "metadata": {},
     "output_type": "execute_result"
    }
   ],
   "source": [
    "input_evaluation_set()"
   ]
  },
  {
   "cell_type": "markdown",
   "metadata": {
    "colab_type": "text",
    "id": "NpXvGjfnjHgY"
   },
   "source": [
    "Your input function may generate the `features` dictionary and `label` list any\n",
    "way you like. However, we recommend using TensorFlow's [Dataset API](https://www.tensorflow.org/guide/datasets), which can\n",
    "parse all sorts of data.\n",
    "\n",
    "The Dataset API can handle a lot of common cases for you. For example,\n",
    "using the Dataset API, you can easily read in records from a large collection\n",
    "of files in parallel and join them into a single stream.\n",
    "\n",
    "To keep things simple in this example you are going to load the data with\n",
    "[pandas](https://pandas.pydata.org/), and build an input pipeline from this\n",
    "in-memory data:\n"
   ]
  },
  {
   "cell_type": "code",
   "execution_count": 23,
   "metadata": {
    "colab": {},
    "colab_type": "code",
    "id": "T20u1anCi8NP"
   },
   "outputs": [],
   "source": [
    "def input_fn(features, labels, training=True, batch_size=256):\n",
    "    \"\"\"An input function for training or evaluating\"\"\"\n",
    "    # Convert the inputs to a Dataset.\n",
    "    dataset = tf.data.Dataset.from_tensor_slices((dict(features), labels))\n",
    "\n",
    "    # Shuffle and repeat if you are in training mode.\n",
    "    if training:\n",
    "        dataset = dataset.shuffle(1000).repeat()\n",
    "    \n",
    "    return dataset.batch(batch_size)\n"
   ]
  },
  {
   "cell_type": "markdown",
   "metadata": {
    "colab_type": "text",
    "id": "xIwcFT4MlZEi"
   },
   "source": [
    "## Define the feature columns\n",
    "\n",
    "A [**feature column**](https://developers.google.com/machine-learning/glossary/#feature_columns)\n",
    "is an object describing how the model should use raw input data from the\n",
    "features dictionary. When you build an Estimator model, you pass it a list of\n",
    "feature columns that describes each of the features you want the model to use.\n",
    "The `tf.feature_column` module provides many options for representing data\n",
    "to the model.\n",
    "\n",
    "For Iris, the 4 raw features are numeric values, so we'll build a list of\n",
    "feature columns to tell the Estimator model to represent each of the four\n",
    "features as 32-bit floating-point values. Therefore, the code to create the\n",
    "feature column is:"
   ]
  },
  {
   "cell_type": "code",
   "execution_count": 24,
   "metadata": {
    "colab": {},
    "colab_type": "code",
    "id": "ZTTriO8FlSML"
   },
   "outputs": [],
   "source": [
    "# Feature columns describe how to use the input.\n",
    "my_feature_columns = []\n",
    "for key in train.keys():\n",
    "    my_feature_columns.append(tf.feature_column.numeric_column(key=key))"
   ]
  },
  {
   "cell_type": "markdown",
   "metadata": {
    "colab_type": "text",
    "id": "jpKkhMoZljco"
   },
   "source": [
    "Feature columns can be far more sophisticated than those we're showing here.  You can read more about Feature Columns in [this guide](https://www.tensorflow.org/guide/feature_columns).\n",
    "\n",
    "Now that you have the description of how you want the model to represent the raw\n",
    "features, you can build the estimator."
   ]
  },
  {
   "cell_type": "markdown",
   "metadata": {
    "colab_type": "text",
    "id": "kuE59XHEl22K"
   },
   "source": [
    "## Instantiate an estimator\n",
    "\n",
    "The Iris problem is a classic classification problem. Fortunately, TensorFlow\n",
    "provides several pre-made classifier Estimators, including:\n",
    "\n",
    "* `tf.estimator.DNNClassifier` for deep models that perform multi-class\n",
    "  classification.\n",
    "* `tf.estimator.DNNLinearCombinedClassifier` for wide & deep models.\n",
    "* `tf.estimator.LinearClassifier` for classifiers based on linear models.\n",
    "\n",
    "For the Iris problem, `tf.estimator.DNNClassifier` seems like the best choice.\n",
    "Here's how you instantiated this Estimator:"
   ]
  },
  {
   "cell_type": "code",
   "execution_count": 25,
   "metadata": {
    "colab": {
     "base_uri": "https://localhost:8080/",
     "height": 35
    },
    "colab_type": "code",
    "executionInfo": {
     "elapsed": 451,
     "status": "ok",
     "timestamp": 1558979708400,
     "user": {
      "displayName": "Jan Boone",
      "photoUrl": "",
      "userId": "01680203205582182827"
     },
     "user_tz": -120
    },
    "id": "qnf4o2V5lcPn",
    "outputId": "d5b184ac-172a-4cb3-b8b7-55028463c26d"
   },
   "outputs": [
    {
     "name": "stderr",
     "output_type": "stream",
     "text": [
      "WARNING: Logging before flag parsing goes to stderr.\n",
      "W0614 20:27:59.070362 140735602623360 estimator.py:1799] Using temporary folder as model directory: /var/folders/b6/1x1jg8w113vfq8m_qkqym1sh0000gn/T/tmp8z1lsby5\n"
     ]
    }
   ],
   "source": [
    "# Build a DNN with 2 hidden layers with 30 and 10 hidden nodes each.\n",
    "classifier = tf.estimator.DNNClassifier(\n",
    "    feature_columns=my_feature_columns,\n",
    "    # Two hidden layers of 10 nodes each.\n",
    "    hidden_units=[30, 10],\n",
    "    # The model must choose between 3 classes.\n",
    "    n_classes=3)"
   ]
  },
  {
   "cell_type": "markdown",
   "metadata": {
    "colab_type": "text",
    "id": "tzzt5nUpmEe3"
   },
   "source": [
    "## Train, Evaluate, and Predict\n",
    "\n",
    "Now that you have an Estimator object, you can call methods to do the following:\n",
    "\n",
    "* Train the model.\n",
    "* Evaluate the trained model.\n",
    "* Use the trained model to make predictions."
   ]
  },
  {
   "cell_type": "markdown",
   "metadata": {
    "colab_type": "text",
    "id": "rnihuLdWmE75"
   },
   "source": [
    "### Train the model\n",
    "\n",
    "Train the model by calling the Estimator's `train` method as follows:"
   ]
  },
  {
   "cell_type": "code",
   "execution_count": 26,
   "metadata": {
    "colab": {
     "base_uri": "https://localhost:8080/",
     "height": 35
    },
    "colab_type": "code",
    "executionInfo": {
     "elapsed": 12884,
     "status": "ok",
     "timestamp": 1558979723603,
     "user": {
      "displayName": "Jan Boone",
      "photoUrl": "",
      "userId": "01680203205582182827"
     },
     "user_tz": -120
    },
    "id": "4jW08YtPl1iS",
    "outputId": "32ecc7a3-7e21-4ae9-da52-51b9435b15be"
   },
   "outputs": [
    {
     "name": "stderr",
     "output_type": "stream",
     "text": [
      "W0614 20:28:04.495733 140735602623360 deprecation.py:323] From /Users/boone/anaconda3/envs/tensorflow/lib/python3.7/site-packages/tensorflow/python/training/training_util.py:238: Variable.initialized_value (from tensorflow.python.ops.variables) is deprecated and will be removed in a future version.\n",
      "Instructions for updating:\n",
      "Use Variable.read_value. Variables in 2.X are initialized automatically both in eager and graph (inside tf.defun) contexts.\n",
      "W0614 20:28:04.602373 140735602623360 deprecation.py:506] From /Users/boone/anaconda3/envs/tensorflow/lib/python3.7/site-packages/tensorflow/python/ops/init_ops.py:1257: calling VarianceScaling.__init__ (from tensorflow.python.ops.init_ops) with dtype is deprecated and will be removed in a future version.\n",
      "Instructions for updating:\n",
      "Call initializer instance with the dtype argument instead of passing it to the constructor\n",
      "W0614 20:28:04.608277 140735602623360 deprecation.py:323] From /Users/boone/anaconda3/envs/tensorflow/lib/python3.7/site-packages/tensorflow/python/feature_column/feature_column_v2.py:2758: to_float (from tensorflow.python.ops.math_ops) is deprecated and will be removed in a future version.\n",
      "Instructions for updating:\n",
      "Use `tf.cast` instead.\n",
      "W0614 20:28:04.835482 140735602623360 deprecation.py:506] From /Users/boone/anaconda3/envs/tensorflow/lib/python3.7/site-packages/tensorflow/python/training/adagrad.py:76: calling Constant.__init__ (from tensorflow.python.ops.init_ops) with dtype is deprecated and will be removed in a future version.\n",
      "Instructions for updating:\n",
      "Call initializer instance with the dtype argument instead of passing it to the constructor\n"
     ]
    },
    {
     "data": {
      "text/plain": [
       "<tensorflow_estimator.python.estimator.canned.dnn.DNNClassifierV2 at 0x1c2df2e518>"
      ]
     },
     "execution_count": 26,
     "metadata": {},
     "output_type": "execute_result"
    }
   ],
   "source": [
    "# Train the Model.\n",
    "classifier.train(\n",
    "    input_fn=lambda: input_fn(train, train_y, training=True),\n",
    "    steps=5000)"
   ]
  },
  {
   "cell_type": "markdown",
   "metadata": {
    "colab_type": "text",
    "id": "ybiTFDmlmes8"
   },
   "source": [
    "Note that you wrap up your `input_fn` call in a\n",
    "[`lambda`](https://docs.python.org/3/tutorial/controlflow.html)\n",
    "to capture the arguments while providing an input function that takes no\n",
    "arguments, as expected by the Estimator. The `steps` argument tells the method\n",
    "to stop training after a number of training steps.\n"
   ]
  },
  {
   "cell_type": "markdown",
   "metadata": {
    "colab_type": "text",
    "id": "HNvJLH8hmsdf"
   },
   "source": [
    "### Evaluate the trained model\n",
    "\n",
    "Now that the model has been trained, you can get some statistics on its\n",
    "performance. The following code block evaluates the accuracy of the trained\n",
    "model on the test data:\n"
   ]
  },
  {
   "cell_type": "code",
   "execution_count": 27,
   "metadata": {
    "colab": {
     "base_uri": "https://localhost:8080/",
     "height": 70
    },
    "colab_type": "code",
    "executionInfo": {
     "elapsed": 1393,
     "status": "ok",
     "timestamp": 1558979731315,
     "user": {
      "displayName": "Jan Boone",
      "photoUrl": "",
      "userId": "01680203205582182827"
     },
     "user_tz": -120
    },
    "id": "A169XuO4mKxF",
    "outputId": "8788688d-ef65-4e03-c70d-4fe22e46db8d"
   },
   "outputs": [
    {
     "name": "stderr",
     "output_type": "stream",
     "text": [
      "W0614 20:28:21.786128 140735602623360 deprecation.py:323] From /Users/boone/anaconda3/envs/tensorflow/lib/python3.7/site-packages/tensorflow/python/training/saver.py:1276: checkpoint_exists (from tensorflow.python.training.checkpoint_management) is deprecated and will be removed in a future version.\n",
      "Instructions for updating:\n",
      "Use standard file APIs to check for files with this prefix.\n"
     ]
    },
    {
     "name": "stdout",
     "output_type": "stream",
     "text": [
      "\n",
      "Test set accuracy: 0.973\n",
      "\n"
     ]
    }
   ],
   "source": [
    "eval_result = classifier.evaluate(\n",
    "    input_fn=lambda: input_fn(test, test_y, training=False))\n",
    "\n",
    "print('\\nTest set accuracy: {accuracy:0.3f}\\n'.format(**eval_result))"
   ]
  },
  {
   "cell_type": "markdown",
   "metadata": {
    "colab_type": "text",
    "id": "yz3UgZflbv4F"
   },
   "source": [
    "on the validation set:"
   ]
  },
  {
   "cell_type": "code",
   "execution_count": 28,
   "metadata": {
    "colab": {
     "base_uri": "https://localhost:8080/",
     "height": 70
    },
    "colab_type": "code",
    "executionInfo": {
     "elapsed": 2466,
     "status": "ok",
     "timestamp": 1558979830900,
     "user": {
      "displayName": "Jan Boone",
      "photoUrl": "",
      "userId": "01680203205582182827"
     },
     "user_tz": -120
    },
    "id": "GbMls6Cxbx0E",
    "outputId": "7f65be6d-95ce-4fdb-d728-dfca5d78cc29"
   },
   "outputs": [
    {
     "name": "stdout",
     "output_type": "stream",
     "text": [
      "\n",
      "Validation set accuracy: 0.947\n",
      "\n"
     ]
    }
   ],
   "source": [
    "eval_result = classifier.evaluate(\n",
    "    input_fn=lambda: input_fn(valid, valid_y, training=False))\n",
    "\n",
    "print('\\nValidation set accuracy: {accuracy:0.3f}\\n'.format(**eval_result))"
   ]
  },
  {
   "cell_type": "markdown",
   "metadata": {
    "colab_type": "text",
    "id": "VnPMP5EHph17"
   },
   "source": [
    "Unlike the call to the `train` method, you did not pass the `steps`\n",
    "argument to evaluate. The `input_fn` for eval only yields a single\n",
    "[epoch](https://developers.google.com/machine-learning/glossary/#epoch) of data.\n",
    "\n",
    "\n",
    "The `eval_result` dictionary also contains the `average_loss` (mean loss per sample), the `loss` (mean loss per mini-batch) and the value of the estimator's `global_step` (the number of training iterations it underwent).\n"
   ]
  },
  {
   "cell_type": "markdown",
   "metadata": {
    "colab_type": "text",
    "id": "ur624ibpp52X"
   },
   "source": [
    "### Making predictions (inferring) from the trained model\n",
    "\n",
    "You now have a trained model that produces good evaluation results.\n",
    "You can now use the trained model to predict the species of an Iris flower\n",
    "based on some unlabeled measurements. As with training and evaluation, you make\n",
    "predictions using a single function call:"
   ]
  },
  {
   "cell_type": "code",
   "execution_count": 29,
   "metadata": {
    "colab": {},
    "colab_type": "code",
    "id": "wltc0jpgng38"
   },
   "outputs": [],
   "source": [
    "# Generate predictions from the model\n",
    "expected = ['Setosa', 'Versicolor', 'Virginica']\n",
    "predict_x = {\n",
    "    'SepalLength': [5.1, 5.9, 6.9],\n",
    "    'SepalWidth': [3.3, 3.0, 3.1],\n",
    "    'PetalLength': [1.7, 4.2, 5.4],\n",
    "    'PetalWidth': [0.5, 1.5, 2.1],\n",
    "}\n",
    "\n",
    "def input_fn(features, batch_size=256):\n",
    "    \"\"\"An input function for prediction.\"\"\"\n",
    "    # Convert the inputs to a Dataset without labels.\n",
    "    return tf.data.Dataset.from_tensor_slices(dict(features)).batch(batch_size)\n",
    "\n",
    "predictions = classifier.predict(\n",
    "    input_fn=lambda: input_fn(valid))"
   ]
  },
  {
   "cell_type": "markdown",
   "metadata": {
    "colab_type": "text",
    "id": "JsETKQo0rHvi"
   },
   "source": [
    "The `predict` method returns a Python iterable, yielding a dictionary of\n",
    "prediction results for each example. The following code prints a few\n",
    "predictions and their probabilities:"
   ]
  },
  {
   "cell_type": "code",
   "execution_count": 30,
   "metadata": {
    "colab": {
     "base_uri": "https://localhost:8080/",
     "height": 239
    },
    "colab_type": "code",
    "executionInfo": {
     "elapsed": 437,
     "status": "error",
     "timestamp": 1558979910651,
     "user": {
      "displayName": "Jan Boone",
      "photoUrl": "",
      "userId": "01680203205582182827"
     },
     "user_tz": -120
    },
    "id": "Efm4mLzkrCxp",
    "outputId": "c2dfe0bd-cfbd-4ef8-a4cf-126956f6a9ed"
   },
   "outputs": [
    {
     "ename": "TypeError",
     "evalue": "string indices must be integers",
     "output_type": "error",
     "traceback": [
      "\u001b[0;31m---------------------------------------------------------------------------\u001b[0m",
      "\u001b[0;31mTypeError\u001b[0m                                 Traceback (most recent call last)",
      "\u001b[0;32m<ipython-input-30-31aeb22310c0>\u001b[0m in \u001b[0;36m<module>\u001b[0;34m\u001b[0m\n\u001b[1;32m      1\u001b[0m \u001b[0;32mfor\u001b[0m \u001b[0mpred_dict\u001b[0m\u001b[0;34m,\u001b[0m \u001b[0mexpec\u001b[0m \u001b[0;32min\u001b[0m \u001b[0mzip\u001b[0m\u001b[0;34m(\u001b[0m\u001b[0mvalid\u001b[0m\u001b[0;34m,\u001b[0m \u001b[0mexpected\u001b[0m\u001b[0;34m)\u001b[0m\u001b[0;34m:\u001b[0m\u001b[0;34m\u001b[0m\u001b[0;34m\u001b[0m\u001b[0m\n\u001b[0;32m----> 2\u001b[0;31m     \u001b[0mclass_id\u001b[0m \u001b[0;34m=\u001b[0m \u001b[0mpred_dict\u001b[0m\u001b[0;34m[\u001b[0m\u001b[0;34m'class_ids'\u001b[0m\u001b[0;34m]\u001b[0m\u001b[0;34m[\u001b[0m\u001b[0;36m0\u001b[0m\u001b[0;34m]\u001b[0m\u001b[0;34m\u001b[0m\u001b[0;34m\u001b[0m\u001b[0m\n\u001b[0m\u001b[1;32m      3\u001b[0m     \u001b[0mprobability\u001b[0m \u001b[0;34m=\u001b[0m \u001b[0mpred_dict\u001b[0m\u001b[0;34m[\u001b[0m\u001b[0;34m'probabilities'\u001b[0m\u001b[0;34m]\u001b[0m\u001b[0;34m[\u001b[0m\u001b[0mclass_id\u001b[0m\u001b[0;34m]\u001b[0m\u001b[0;34m\u001b[0m\u001b[0;34m\u001b[0m\u001b[0m\n\u001b[1;32m      4\u001b[0m \u001b[0;34m\u001b[0m\u001b[0m\n\u001b[1;32m      5\u001b[0m     print('Prediction is \"{}\" ({:.1f}%), expected \"{}\"'.format(\n",
      "\u001b[0;31mTypeError\u001b[0m: string indices must be integers"
     ]
    }
   ],
   "source": [
    "for pred_dict, expec in zip(valid, expected):\n",
    "    class_id = pred_dict['class_ids'][0]\n",
    "    probability = pred_dict['probabilities'][class_id]\n",
    "\n",
    "    print('Prediction is \"{}\" ({:.1f}%), expected \"{}\"'.format(\n",
    "        SPECIES[class_id], 100 * probability, expec))"
   ]
  },
  {
   "cell_type": "code",
   "execution_count": 0,
   "metadata": {
    "colab": {},
    "colab_type": "code",
    "id": "7nWvDdeBhyxt"
   },
   "outputs": [],
   "source": []
  },
  {
   "cell_type": "code",
   "execution_count": 0,
   "metadata": {
    "colab": {},
    "colab_type": "code",
    "id": "msqzofYyQPIl"
   },
   "outputs": [],
   "source": []
  },
  {
   "cell_type": "markdown",
   "metadata": {
    "colab_type": "text",
    "id": "KyDLbOdPORji"
   },
   "source": [
    "# Treatment effects\n",
    "\n",
    "Machine learning is about predicting outcomes. When the prediction is accurate (out-of-sample) we are happy, almost no matter what the model looks like.\n",
    "\n",
    "This is different when we are interested in policy advice. "
   ]
  },
  {
   "cell_type": "code",
   "execution_count": 0,
   "metadata": {
    "colab": {},
    "colab_type": "code",
    "id": "EugUUVOCfM3n"
   },
   "outputs": [],
   "source": []
  },
  {
   "cell_type": "markdown",
   "metadata": {
    "colab_type": "text",
    "id": "GsZ3XVXNOo3R"
   },
   "source": [
    "# IV\n",
    "\n",
    "What are instrumental variables again?\n",
    "\n",
    "We use the IV example in [Richard McElreath's lecture 18\n",
    "](https://www.youtube.com/watch?v=e5cgiAGBKzI) (starting around 28:00).\n",
    "\n",
    "An individual's education (`e`) affects her wage (`w`). We want to know how strong this effect is.\n",
    "\n",
    "`q` denotes fraction of the year that has elapsed when you were born.\n",
    "\n",
    "**TODO** add text\n",
    "\n",
    "\n",
    "\n",
    "\n"
   ]
  },
  {
   "cell_type": "code",
   "execution_count": 31,
   "metadata": {
    "colab": {},
    "colab_type": "code",
    "id": "YcYm0YSJvF-U"
   },
   "outputs": [],
   "source": [
    "N_observations=200\n",
    "alpha_w = 1.\n",
    "beta_ew = 0.\n",
    "alpha_e = 1.\n",
    "beta_qe = 2.\n",
    "q = tf.random.uniform([N_observations])\n",
    "u = tf.random.normal([N_observations])\n",
    "e = alpha_e + beta_qe*q + u + tf.random.normal([N_observations])\n",
    "w = alpha_w + beta_ew*e + u + tf.random.normal([N_observations])\n",
    "df = pd.DataFrame({'q':q,'e':e,'w':w})"
   ]
  },
  {
   "cell_type": "code",
   "execution_count": 32,
   "metadata": {
    "colab": {
     "base_uri": "https://localhost:8080/",
     "height": 462
    },
    "colab_type": "code",
    "executionInfo": {
     "elapsed": 500,
     "status": "ok",
     "timestamp": 1556370363732,
     "user": {
      "displayName": "Jan Boone",
      "photoUrl": "",
      "userId": "01680203205582182827"
     },
     "user_tz": -120
    },
    "id": "BQHnN4GKvr3Q",
    "outputId": "964e2164-d547-4e3f-bcaf-129b8b5f2ea1"
   },
   "outputs": [
    {
     "name": "stdout",
     "output_type": "stream",
     "text": [
      "                            OLS Regression Results                            \n",
      "==============================================================================\n",
      "Dep. Variable:                      w   R-squared:                       0.243\n",
      "Model:                            OLS   Adj. R-squared:                  0.239\n",
      "Method:                 Least Squares   F-statistic:                     63.43\n",
      "Date:                Fri, 14 Jun 2019   Prob (F-statistic):           1.28e-13\n",
      "Time:                        20:30:15   Log-Likelihood:                -321.08\n",
      "No. Observations:                 200   AIC:                             646.2\n",
      "Df Residuals:                     198   BIC:                             652.8\n",
      "Df Model:                           1                                         \n",
      "Covariance Type:            nonrobust                                         \n",
      "==============================================================================\n",
      "                 coef    std err          t      P>|t|      [0.025      0.975]\n",
      "------------------------------------------------------------------------------\n",
      "Intercept   4.152e-05      0.152      0.000      1.000      -0.299       0.299\n",
      "e              0.4858      0.061      7.964      0.000       0.366       0.606\n",
      "==============================================================================\n",
      "Omnibus:                        3.640   Durbin-Watson:                   1.986\n",
      "Prob(Omnibus):                  0.162   Jarque-Bera (JB):                2.372\n",
      "Skew:                           0.010   Prob(JB):                        0.305\n",
      "Kurtosis:                       2.467   Cond. No.                         4.90\n",
      "==============================================================================\n",
      "\n",
      "Warnings:\n",
      "[1] Standard Errors assume that the covariance matrix of the errors is correctly specified.\n"
     ]
    }
   ],
   "source": [
    "results = smf.ols('w ~ e', data=df).fit()\n",
    "print(results.summary())"
   ]
  },
  {
   "cell_type": "code",
   "execution_count": 33,
   "metadata": {
    "colab": {
     "base_uri": "https://localhost:8080/",
     "height": 374
    },
    "colab_type": "code",
    "executionInfo": {
     "elapsed": 509,
     "status": "ok",
     "timestamp": 1556370364979,
     "user": {
      "displayName": "Jan Boone",
      "photoUrl": "",
      "userId": "01680203205582182827"
     },
     "user_tz": -120
    },
    "id": "PDC_1QTB2772",
    "outputId": "5e48fc3f-d239-41f4-b3e1-577a08483d58"
   },
   "outputs": [
    {
     "data": {
      "text/html": [
       "<table class=\"simpletable\">\n",
       "<caption>IV-2SLS Estimation Summary</caption>\n",
       "<tr>\n",
       "  <th>Dep. Variable:</th>            <td>w</td>        <th>  R-squared:         </th> <td>-0.0333</td>\n",
       "</tr>\n",
       "<tr>\n",
       "  <th>Estimator:</th>             <td>IV-2SLS</td>     <th>  Adj. R-squared:    </th> <td>-0.0385</td>\n",
       "</tr>\n",
       "<tr>\n",
       "  <th>No. Observations:</th>        <td>200</td>       <th>  F-statistic:       </th> <td>0.0380</td> \n",
       "</tr>\n",
       "<tr>\n",
       "  <th>Date:</th>             <td>Fri, Jun 14 2019</td> <th>  P-value (F-stat)   </th> <td>0.8453</td> \n",
       "</tr>\n",
       "<tr>\n",
       "  <th>Time:</th>                 <td>20:30:16</td>     <th>  Distribution:      </th> <td>chi2(1)</td>\n",
       "</tr>\n",
       "<tr>\n",
       "  <th>Cov. Estimator:</th>        <td>robust</td>      <th>                     </th>    <td></td>    \n",
       "</tr>\n",
       "<tr>\n",
       "  <th></th>                          <td></td>         <th>                     </th>    <td></td>    \n",
       "</tr>\n",
       "</table>\n",
       "<table class=\"simpletable\">\n",
       "<caption>Parameter Estimates</caption>\n",
       "<tr>\n",
       "      <td></td>      <th>Parameter</th> <th>Std. Err.</th> <th>T-stat</th>  <th>P-value</th> <th>Lower CI</th> <th>Upper CI</th>\n",
       "</tr>\n",
       "<tr>\n",
       "  <th>Intercept</th>  <td>1.0620</td>    <td>0.3473</td>   <td>3.0581</td>  <td>0.0022</td>   <td>0.3814</td>   <td>1.7426</td> \n",
       "</tr>\n",
       "<tr>\n",
       "  <th>e</th>          <td>-0.0323</td>   <td>0.1655</td>   <td>-0.1951</td> <td>0.8453</td>   <td>-0.3568</td>  <td>0.2922</td> \n",
       "</tr>\n",
       "</table><br/><br/>Endogenous: e<br/>Instruments: q<br/>Robust Covariance (Heteroskedastic)<br/>Debiased: False<br/>id: 0x1c30dd1da0"
      ],
      "text/plain": [
       "                          IV-2SLS Estimation Summary                          \n",
       "==============================================================================\n",
       "Dep. Variable:                      w   R-squared:                     -0.0333\n",
       "Estimator:                    IV-2SLS   Adj. R-squared:                -0.0385\n",
       "No. Observations:                 200   F-statistic:                    0.0380\n",
       "Date:                Fri, Jun 14 2019   P-value (F-stat)                0.8453\n",
       "Time:                        20:30:16   Distribution:                  chi2(1)\n",
       "Cov. Estimator:                robust                                         \n",
       "                                                                              \n",
       "                             Parameter Estimates                              \n",
       "==============================================================================\n",
       "            Parameter  Std. Err.     T-stat    P-value    Lower CI    Upper CI\n",
       "------------------------------------------------------------------------------\n",
       "Intercept      1.0620     0.3473     3.0581     0.0022      0.3814      1.7426\n",
       "e             -0.0323     0.1655    -0.1951     0.8453     -0.3568      0.2922\n",
       "==============================================================================\n",
       "\n",
       "Endogenous: e\n",
       "Instruments: q\n",
       "Robust Covariance (Heteroskedastic)\n",
       "Debiased: False\n",
       "IVResults, id: 0x1c30dd1da0"
      ]
     },
     "execution_count": 33,
     "metadata": {},
     "output_type": "execute_result"
    }
   ],
   "source": [
    "\n",
    "mod = IV2SLS.from_formula('w ~ 1 + [e ~ q]', df)\n",
    "\n",
    "iv_res = mod.fit()\n",
    "iv_res"
   ]
  },
  {
   "cell_type": "code",
   "execution_count": 34,
   "metadata": {
    "colab": {
     "base_uri": "https://localhost:8080/",
     "height": 380
    },
    "colab_type": "code",
    "executionInfo": {
     "elapsed": 627,
     "status": "ok",
     "timestamp": 1556370366607,
     "user": {
      "displayName": "Jan Boone",
      "photoUrl": "",
      "userId": "01680203205582182827"
     },
     "user_tz": -120
    },
    "id": "2pa4d0D25lEG",
    "outputId": "5cde68e6-7b80-4132-e1c8-103646f2974d"
   },
   "outputs": [
    {
     "data": {
      "text/html": [
       "<table class=\"simpletable\">\n",
       "<caption>First Stage Estimation Results</caption>\n",
       "<tr>\n",
       "               <td></td>                   <th>e</th>     \n",
       "</tr>\n",
       "<tr>\n",
       "  <th>R-squared</th>                    <td>0.1886</td>   \n",
       "</tr>\n",
       "<tr>\n",
       "  <th>Partial R-squared</th>            <td>0.1886</td>   \n",
       "</tr>\n",
       "<tr>\n",
       "  <th>Shea's R-squared</th>             <td>0.1886</td>   \n",
       "</tr>\n",
       "<tr>\n",
       "  <th>Partial F-statistic</th>          <td>46.335</td>   \n",
       "</tr>\n",
       "<tr>\n",
       "  <th>P-value (Partial F-stat)</th>    <td>9.965e-12</td> \n",
       "</tr>\n",
       "<tr>\n",
       "  <th>Partial F-stat Distn</th>         <td>chi2(1)</td>  \n",
       "</tr>\n",
       "<tr>\n",
       "  <th>==========================</th> <td>===========</td>\n",
       "</tr>\n",
       "<tr>\n",
       "  <th>Intercept</th>                    <td>0.9643</td>   \n",
       "</tr>\n",
       "<tr>\n",
       "  <th></th>                            <td>(5.7549)</td>  \n",
       "</tr>\n",
       "<tr>\n",
       "  <th>q</th>                            <td>2.0857</td>   \n",
       "</tr>\n",
       "<tr>\n",
       "  <th></th>                            <td>(6.8070)</td>  \n",
       "</tr>\n",
       "</table><br/><br/>T-stats reported in parentheses<br/>T-stats use same covariance type as original model<br/>id: 0x1c30dd1f28"
      ],
      "text/plain": [
       "    First Stage Estimation Results    \n",
       "======================================\n",
       "                                     e\n",
       "--------------------------------------\n",
       "R-squared                       0.1886\n",
       "Partial R-squared               0.1886\n",
       "Shea's R-squared                0.1886\n",
       "Partial F-statistic             46.335\n",
       "P-value (Partial F-stat)     9.965e-12\n",
       "Partial F-stat Distn           chi2(1)\n",
       "========================== ===========\n",
       "Intercept                       0.9643\n",
       "                              (5.7549)\n",
       "q                               2.0857\n",
       "                              (6.8070)\n",
       "--------------------------------------\n",
       "\n",
       "T-stats reported in parentheses\n",
       "T-stats use same covariance type as original model\n",
       "FirstStageResults, id: 0x1c30dd1f28"
      ]
     },
     "execution_count": 34,
     "metadata": {},
     "output_type": "execute_result"
    }
   ],
   "source": [
    "iv_res.first_stage"
   ]
  },
  {
   "cell_type": "code",
   "execution_count": null,
   "metadata": {},
   "outputs": [],
   "source": []
  }
 ],
 "metadata": {
  "colab": {
   "collapsed_sections": [],
   "name": "Statistical_Hacking.ipynb",
   "provenance": [],
   "toc_visible": true,
   "version": "0.3.2"
  },
  "kernelspec": {
   "display_name": "Python (tensorflow)",
   "language": "python",
   "name": "tensorflow"
  },
  "language_info": {
   "codemirror_mode": {
    "name": "ipython",
    "version": 3
   },
   "file_extension": ".py",
   "mimetype": "text/x-python",
   "name": "python",
   "nbconvert_exporter": "python",
   "pygments_lexer": "ipython3",
   "version": "3.7.3"
  },
  "toc": {
   "base_numbering": 1,
   "nav_menu": {},
   "number_sections": true,
   "sideBar": true,
   "skip_h1_title": false,
   "title_cell": "Table of Contents",
   "title_sidebar": "Contents",
   "toc_cell": false,
   "toc_position": {},
   "toc_section_display": true,
   "toc_window_display": true
  }
 },
 "nbformat": 4,
 "nbformat_minor": 1
}
