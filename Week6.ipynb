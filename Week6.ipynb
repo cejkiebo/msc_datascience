{
 "cells": [
  {
   "cell_type": "code",
   "execution_count": 3,
   "metadata": {},
   "outputs": [],
   "source": [
    "import numpy as np\n",
    "import pandas as pd\n",
    "import tensorflow as tf\n",
    "import eurostat\n",
    "import altair as alt"
   ]
  },
  {
   "cell_type": "code",
   "execution_count": null,
   "metadata": {},
   "outputs": [],
   "source": [
    "df = pd.read_csv('./data/health_data.csv')\n",
    "df.rename({'year_x':'year'},inplace=True,axis=1)\n",
    "\n",
    "select_year = alt.selection_single(\n",
    "    name='Select', fields=['year'], init={'year': 2011},\n",
    "    bind=alt.binding_range(min=2011, max=2017, step=1)\n",
    ")\n",
    "\n",
    "df['log gdp'] = np.log(df['GDP per capita'])\n",
    "df['log mortality'] = np.log(df['Treatable mortality'])\n",
    "df['Gender'] = df['sex'].replace({'F':'Female','M':'Male'})\n",
    "\n",
    "figure = alt.Chart(df).mark_point(filled=True,size=50).encode(\n",
    "    alt.X('log gdp',title='GDP per captita(in logs)',scale=alt.Scale(domain=[9,12])),\n",
    "    alt.Y('log mortality',title='Treatable mortality (in logs)',scale=alt.Scale(domain=[4,6])),\n",
    "    color='country',\n",
    "    column='Gender',\n",
    "    tooltip=['country']\n",
    ").configure_axis(\n",
    "    grid=False\n",
    ").configure_view(\n",
    "    strokeWidth=0\n",
    ").add_selection(select_year).transform_filter(select_year).interactive()\n",
    "\n",
    "\n",
    "\n",
    "figure.save('./figures/gdp_mortality.html')\n"
   ]
  }
 ],
 "metadata": {
  "kernelspec": {
   "display_name": "uvt",
   "language": "python",
   "name": "python3"
  },
  "language_info": {
   "codemirror_mode": {
    "name": "ipython",
    "version": 3
   },
   "file_extension": ".py",
   "mimetype": "text/x-python",
   "name": "python",
   "nbconvert_exporter": "python",
   "pygments_lexer": "ipython3",
   "version": "3.9.15"
  }
 },
 "nbformat": 4,
 "nbformat_minor": 2
}
